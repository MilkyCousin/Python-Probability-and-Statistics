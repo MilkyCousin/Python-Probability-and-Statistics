{
 "cells": [
  {
   "cell_type": "markdown",
   "metadata": {},
   "source": [
    "## \"Горбунов Даніел і в'язень embedding'у\" \n",
    "## ... або процес виконання третьої лабораторної з предмету \"Статистичні алгоритми навчання\""
   ]
  },
  {
   "cell_type": "markdown",
   "metadata": {},
   "source": [
    "У рамках цієї роботи будемо працювати з відгуками користувачів на різні товари (книги, електроніка, музичний контент тощо). Датасет можна завантажити звідси: https://www.cs.jhu.edu/~mdredze/datasets/sentiment/. \n",
    "\n",
    "Перші кроки будуть присвячені підготовці даних до того вигляду з яким буде далі легше працювати. Зокрема серед 5 гігабайтів відшматованих, відмічених та несортованих відгуків про товари, вирішив працювати з текстами на користування електронними приладами.\n",
    "\n",
    "Конкретно, оберу два файли з папок electronics, camera & photo архіву з усіма даними (unprocessed.tar.gz): positive.review та negative.review. Ці файли містять по 1000 позитивних та негативних відгуків відповідно. Всередині, як буде ще раз зазначено, дані подано в XML-форматі. Задля уникнення можливих конфліктів, спеціальні символи (на кшталт \"&\") перевів до переварюваного XML-парсером вигляду (наприклад \"&amp;\") та додав кореневий вузол для кожного з \"дерев\". "
   ]
  },
  {
   "cell_type": "code",
   "execution_count": 1,
   "metadata": {},
   "outputs": [],
   "source": [
    "import os\n",
    "import xml.etree.ElementTree as ET"
   ]
  },
  {
   "cell_type": "code",
   "execution_count": 2,
   "metadata": {},
   "outputs": [
    {
     "data": {
      "text/plain": [
       "'/home/goodpenguin/PycharmProjects/pythonProject/univ/lab3'"
      ]
     },
     "execution_count": 2,
     "metadata": {},
     "output_type": "execute_result"
    }
   ],
   "source": [
    "base_dir = os.getcwd()\n",
    "base_dir"
   ]
  },
  {
   "cell_type": "code",
   "execution_count": 3,
   "metadata": {},
   "outputs": [
    {
     "data": {
      "text/plain": [
       "'/home/goodpenguin/PycharmProjects/pythonProject/univ/lab3/data/electronics'"
      ]
     },
     "execution_count": 3,
     "metadata": {},
     "output_type": "execute_result"
    }
   ],
   "source": [
    "data_dir = os.path.join(base_dir, 'data', 'electronics')\n",
    "data_dir"
   ]
  },
  {
   "cell_type": "code",
   "execution_count": 4,
   "metadata": {},
   "outputs": [
    {
     "data": {
      "text/plain": [
       "['texts.csv',\n",
       " '1. read data',\n",
       " 'positive.review',\n",
       " 'negative.review',\n",
       " 'unlabeled.review',\n",
       " 'іі']"
      ]
     },
     "execution_count": 4,
     "metadata": {},
     "output_type": "execute_result"
    }
   ],
   "source": [
    "os.listdir(data_dir)"
   ]
  },
  {
   "cell_type": "markdown",
   "metadata": {},
   "source": [
    "Проклинав я те, що дані збережено в XML-подібному форматі. Втім, не проблема перевести це в інший вигляд, більш зручний для роботи (принаймні мені)."
   ]
  },
  {
   "cell_type": "code",
   "execution_count": 5,
   "metadata": {},
   "outputs": [],
   "source": [
    "positive_reviews_path = os.path.join(data_dir, 'positive.review')\n",
    "negative_reviews_path = os.path.join(data_dir, 'negative.review')"
   ]
  },
  {
   "cell_type": "code",
   "execution_count": 6,
   "metadata": {},
   "outputs": [],
   "source": [
    "positive_tree = ET.parse(positive_reviews_path)"
   ]
  },
  {
   "cell_type": "code",
   "execution_count": 7,
   "metadata": {},
   "outputs": [],
   "source": [
    "negative_tree = ET.parse(negative_reviews_path)"
   ]
  },
  {
   "cell_type": "code",
   "execution_count": 8,
   "metadata": {},
   "outputs": [],
   "source": [
    "positive_tree_root = positive_tree.getroot()\n",
    "negative_tree_root = negative_tree.getroot()"
   ]
  },
  {
   "cell_type": "code",
   "execution_count": 9,
   "metadata": {},
   "outputs": [
    {
     "data": {
      "text/plain": [
       "2000"
      ]
     },
     "execution_count": 9,
     "metadata": {},
     "output_type": "execute_result"
    }
   ],
   "source": [
    "positive_reviews = positive_tree_root.findall('review')\n",
    "len(positive_reviews)"
   ]
  },
  {
   "cell_type": "code",
   "execution_count": 10,
   "metadata": {},
   "outputs": [
    {
     "data": {
      "text/plain": [
       "2000"
      ]
     },
     "execution_count": 10,
     "metadata": {},
     "output_type": "execute_result"
    }
   ],
   "source": [
    "negative_reviews = negative_tree_root.findall('review')\n",
    "len(negative_reviews)"
   ]
  },
  {
   "cell_type": "markdown",
   "metadata": {},
   "source": [
    "Нас цікавлять текстові дані, тому подивимося на перші з кожної підмножини."
   ]
  },
  {
   "cell_type": "code",
   "execution_count": 11,
   "metadata": {},
   "outputs": [
    {
     "data": {
      "text/plain": [
       "\"\\n This is a great back pack! If there is anything I would change it would be the logo on the front. It's brite and shinny, and I'd rather not advertise that I have a camera in there! I colored it in with a felt pen and it works great....... Overall, I love the backpack!!  \\n\""
      ]
     },
     "execution_count": 11,
     "metadata": {},
     "output_type": "execute_result"
    }
   ],
   "source": [
    "current_positive = positive_reviews[0]\n",
    "current_positive_text = current_positive.find('review_text').text\n",
    "current_positive_text"
   ]
  },
  {
   "cell_type": "code",
   "execution_count": 12,
   "metadata": {},
   "outputs": [
    {
     "data": {
      "text/plain": [
       "\"\\nthis backpack was very uncomfortable. the inserts are stiff. it doesn't represent canon quality (I hope)\\n\""
      ]
     },
     "execution_count": 12,
     "metadata": {},
     "output_type": "execute_result"
    }
   ],
   "source": [
    "current_negative = negative_reviews[0]\n",
    "current_negative_text = current_negative.find('review_text').text\n",
    "current_negative_text"
   ]
  },
  {
   "cell_type": "code",
   "execution_count": 13,
   "metadata": {},
   "outputs": [],
   "source": [
    "positive_texts = [\n",
    "    current_review.find('review_text').text \n",
    "    for current_review in positive_reviews\n",
    "]\n",
    "n_pos = len(positive_texts)"
   ]
  },
  {
   "cell_type": "code",
   "execution_count": 14,
   "metadata": {},
   "outputs": [],
   "source": [
    "negative_texts = [\n",
    "    current_review.find('review_text').text \n",
    "    for current_review in negative_reviews\n",
    "]\n",
    "n_neg = len(negative_texts)"
   ]
  },
  {
   "cell_type": "markdown",
   "metadata": {},
   "source": [
    "Тепер сформуємо таблицю з двох колонок: текст та його тональність (хороший чи поганий). Саму ж таблицю надалі збережемо в .csv форматі і збережемо там, де її можна знайти без лупи."
   ]
  },
  {
   "cell_type": "code",
   "execution_count": 15,
   "metadata": {},
   "outputs": [],
   "source": [
    "import pandas as pd\n",
    "pd.set_option('display.max_colwidth', None)"
   ]
  },
  {
   "cell_type": "code",
   "execution_count": 16,
   "metadata": {},
   "outputs": [
    {
     "data": {
      "text/plain": [
       "(2000, 2000)"
      ]
     },
     "execution_count": 16,
     "metadata": {},
     "output_type": "execute_result"
    }
   ],
   "source": [
    "(n_pos, n_neg)"
   ]
  },
  {
   "cell_type": "code",
   "execution_count": 17,
   "metadata": {},
   "outputs": [],
   "source": [
    "df_texts = pd.DataFrame(\n",
    "    data={\n",
    "        \"text\": positive_texts + negative_texts,\n",
    "        \"rating\": ([1] * n_pos) + ([0] * n_neg)\n",
    "    }\n",
    ")"
   ]
  },
  {
   "cell_type": "code",
   "execution_count": 18,
   "metadata": {},
   "outputs": [],
   "source": [
    "df_texts_path = os.path.join(data_dir, \"texts.csv\")"
   ]
  },
  {
   "cell_type": "code",
   "execution_count": 19,
   "metadata": {},
   "outputs": [],
   "source": [
    "df_texts.to_csv(path_or_buf=df_texts_path)"
   ]
  },
  {
   "cell_type": "markdown",
   "metadata": {},
   "source": [
    "Тепер потрібно звести текстові дані до переварюваного моделями вигляду на основі embedding'у."
   ]
  },
  {
   "cell_type": "code",
   "execution_count": 20,
   "metadata": {
    "scrolled": false
   },
   "outputs": [
    {
     "data": {
      "text/html": [
       "<div>\n",
       "<style scoped>\n",
       "    .dataframe tbody tr th:only-of-type {\n",
       "        vertical-align: middle;\n",
       "    }\n",
       "\n",
       "    .dataframe tbody tr th {\n",
       "        vertical-align: top;\n",
       "    }\n",
       "\n",
       "    .dataframe thead th {\n",
       "        text-align: right;\n",
       "    }\n",
       "</style>\n",
       "<table border=\"1\" class=\"dataframe\">\n",
       "  <thead>\n",
       "    <tr style=\"text-align: right;\">\n",
       "      <th></th>\n",
       "      <th>text</th>\n",
       "      <th>rating</th>\n",
       "    </tr>\n",
       "  </thead>\n",
       "  <tbody>\n",
       "    <tr>\n",
       "      <th>0</th>\n",
       "      <td>\\n This is a great back pack! If there is anything I would change it would be the logo on the front. It's brite and shinny, and I'd rather not advertise that I have a camera in there! I colored it in with a felt pen and it works great....... Overall, I love the backpack!!  \\n</td>\n",
       "      <td>1</td>\n",
       "    </tr>\n",
       "    <tr>\n",
       "      <th>1</th>\n",
       "      <td>\\nI love this backpack!  It is just what I needed to safely carry my camera gear and keep it organized\\n</td>\n",
       "      <td>1</td>\n",
       "    </tr>\n",
       "    <tr>\n",
       "      <th>2</th>\n",
       "      <td>\\nThis was the best item I ever bought for my camera. I do a lot of walking with my camera, and thought I would use it as a walking stick, which I do, but the best part of this monopod is what I never thought would happen. My pictures are NEVER fuzzy! I can take low light photos and have they come out clear. I paid very little for this item and would never be caught without it and my camera. The three levers on the bottom allow for quick expansion at all different lengths. The carrying case allows for this item to be packed next to my camera without it getting scratched\\n</td>\n",
       "      <td>1</td>\n",
       "    </tr>\n",
       "    <tr>\n",
       "      <th>3</th>\n",
       "      <td>\\nPrice went up!!! Great value for money spent. Will be buying a \"Ball\" attachment for better adjustability. Got some great steady shots with 48x digital zoom with the Canon S2 I\\n</td>\n",
       "      <td>1</td>\n",
       "    </tr>\n",
       "    <tr>\n",
       "      <th>4</th>\n",
       "      <td>\\nI've had this lens for 2 months now, and love it. It was my first \"L\" lens and I can see the quality difference in this line. First, I tried the 28-135 IS-pretty good. But I wasn't totally happy, so returned it and ordered the 24-105 L. Now I'm happy. Contrast, sharpness, &amp; CA are much better. Build quality &amp; feel are superior as well. Plus the IS really works. I will try &amp; get all IS lens in the future, I believe it is worth the extra cost. Focusing is very quick and zoom action is smooth &amp; steady. If you're on a budget, the 28-135 is real nice. But to go all the way, I recommend this lens. The IS on the 24-105 L is quieter I found. The price is a bit steep, but optical quality is there, resale value will remain good, and weather sealing should hopefully keep dust and junk from getting inside this lens.\\n</td>\n",
       "      <td>1</td>\n",
       "    </tr>\n",
       "    <tr>\n",
       "      <th>...</th>\n",
       "      <td>...</td>\n",
       "      <td>...</td>\n",
       "    </tr>\n",
       "    <tr>\n",
       "      <th>3995</th>\n",
       "      <td>\\nJust a heads-up for people looking to use this scanner to scan slides. You will have to unmount the slides in order to be able to scan them. Given the verbiage on the box, it caught me as enough of a surprise that I returned the scanner. I'm not OK with deception like that\\n</td>\n",
       "      <td>0</td>\n",
       "    </tr>\n",
       "    <tr>\n",
       "      <th>3996</th>\n",
       "      <td>\\nThese blank discs are defective. I was never able to record any pictures or audio data to them.\\n\\nThe Maxell blank discs that I have did the job fine.\\n</td>\n",
       "      <td>0</td>\n",
       "    </tr>\n",
       "    <tr>\n",
       "      <th>3997</th>\n",
       "      <td>\\nI ordered this item thinking that it would be useful when on the road in hotel rooms to light up my work area.  WRONG !!  The light is so DIM, the only thing it might be good for is a night light! This lamp is a good idea, but much too weak to be of any help\\n</td>\n",
       "      <td>0</td>\n",
       "    </tr>\n",
       "    <tr>\n",
       "      <th>3998</th>\n",
       "      <td>\\nI was looking for a small cheap Mp3 player and I didn't care how much memory it had so this seemed perfect for me. I saw that many people had rated this 4 and 5 stars so I decided to buy it. When I got the Creative nano I was really happy with its preformance until I tried to put my subscription music onto it. Thats when I learned that it wouldn't hold any subscription music forcing me to buy my music one by one which is costing a lot of money.\\n\\nAfter that I started realising all of its imperfections. You can't use the FM radio in the car without hearing mostly static. You can't search through songs without actually changing the song you are listening to. Don't get me wrong, there are some good sides to this Mp3 player but I still would definately not recommend it\\n</td>\n",
       "      <td>0</td>\n",
       "    </tr>\n",
       "    <tr>\n",
       "      <th>3999</th>\n",
       "      <td>\\nI AM VERY UNHAPPY WITH THE PRODUCT I RECEIVED FROM TIGER.\\nIT WAS NOT WHAT I WANTED AND TO RETURN IT WOULD COST ME MORE THAN I PAID FOR IT.\\nTHE COMPANY CHARGES TOOOOO MANY FEES.\\nI AM VERY UNHAPPY &amp; NOW I HAVE A PRODUCT THAT I CAN'T USE OR RETURN\\n</td>\n",
       "      <td>0</td>\n",
       "    </tr>\n",
       "  </tbody>\n",
       "</table>\n",
       "<p>4000 rows × 2 columns</p>\n",
       "</div>"
      ],
      "text/plain": [
       "                                                                                                                                                                                                                                                                                                                                                                                                                                                                                                                                                                                                                                                                                                                                                                                                                                                     text  \\\n",
       "0                                                                                                                                                                                                                                                                                                                                                                                                                                                                                                                                                                    \\n This is a great back pack! If there is anything I would change it would be the logo on the front. It's brite and shinny, and I'd rather not advertise that I have a camera in there! I colored it in with a felt pen and it works great....... Overall, I love the backpack!!  \\n   \n",
       "1                                                                                                                                                                                                                                                                                                                                                                                                                                                                                                                                                                                                                                                                                                                                                \\nI love this backpack!  It is just what I needed to safely carry my camera gear and keep it organized\\n   \n",
       "2                                                                                                                                                                                                                                                      \\nThis was the best item I ever bought for my camera. I do a lot of walking with my camera, and thought I would use it as a walking stick, which I do, but the best part of this monopod is what I never thought would happen. My pictures are NEVER fuzzy! I can take low light photos and have they come out clear. I paid very little for this item and would never be caught without it and my camera. The three levers on the bottom allow for quick expansion at all different lengths. The carrying case allows for this item to be packed next to my camera without it getting scratched\\n   \n",
       "3                                                                                                                                                                                                                                                                                                                                                                                                                                                                                                                                                                                                                                                                    \\nPrice went up!!! Great value for money spent. Will be buying a \"Ball\" attachment for better adjustability. Got some great steady shots with 48x digital zoom with the Canon S2 I\\n   \n",
       "4     \\nI've had this lens for 2 months now, and love it. It was my first \"L\" lens and I can see the quality difference in this line. First, I tried the 28-135 IS-pretty good. But I wasn't totally happy, so returned it and ordered the 24-105 L. Now I'm happy. Contrast, sharpness, & CA are much better. Build quality & feel are superior as well. Plus the IS really works. I will try & get all IS lens in the future, I believe it is worth the extra cost. Focusing is very quick and zoom action is smooth & steady. If you're on a budget, the 28-135 is real nice. But to go all the way, I recommend this lens. The IS on the 24-105 L is quieter I found. The price is a bit steep, but optical quality is there, resale value will remain good, and weather sealing should hopefully keep dust and junk from getting inside this lens.\\n   \n",
       "...                                                                                                                                                                                                                                                                                                                                                                                                                                                                                                                                                                                                                                                                                                                                                                                                                                                   ...   \n",
       "3995                                                                                                                                                                                                                                                                                                                                                                                                                                                                                                                                                                \\nJust a heads-up for people looking to use this scanner to scan slides. You will have to unmount the slides in order to be able to scan them. Given the verbiage on the box, it caught me as enough of a surprise that I returned the scanner. I'm not OK with deception like that\\n   \n",
       "3996                                                                                                                                                                                                                                                                                                                                                                                                                                                                                                                                                                                                                                                                                          \\nThese blank discs are defective. I was never able to record any pictures or audio data to them.\\n\\nThe Maxell blank discs that I have did the job fine.\\n   \n",
       "3997                                                                                                                                                                                                                                                                                                                                                                                                                                                                                                                                                                               \\nI ordered this item thinking that it would be useful when on the road in hotel rooms to light up my work area.  WRONG !!  The light is so DIM, the only thing it might be good for is a night light! This lamp is a good idea, but much too weak to be of any help\\n   \n",
       "3998                                         \\nI was looking for a small cheap Mp3 player and I didn't care how much memory it had so this seemed perfect for me. I saw that many people had rated this 4 and 5 stars so I decided to buy it. When I got the Creative nano I was really happy with its preformance until I tried to put my subscription music onto it. Thats when I learned that it wouldn't hold any subscription music forcing me to buy my music one by one which is costing a lot of money.\\n\\nAfter that I started realising all of its imperfections. You can't use the FM radio in the car without hearing mostly static. You can't search through songs without actually changing the song you are listening to. Don't get me wrong, there are some good sides to this Mp3 player but I still would definately not recommend it\\n   \n",
       "3999                                                                                                                                                                                                                                                                                                                                                                                                                                                                                                                                                                                          \\nI AM VERY UNHAPPY WITH THE PRODUCT I RECEIVED FROM TIGER.\\nIT WAS NOT WHAT I WANTED AND TO RETURN IT WOULD COST ME MORE THAN I PAID FOR IT.\\nTHE COMPANY CHARGES TOOOOO MANY FEES.\\nI AM VERY UNHAPPY & NOW I HAVE A PRODUCT THAT I CAN'T USE OR RETURN\\n   \n",
       "\n",
       "      rating  \n",
       "0          1  \n",
       "1          1  \n",
       "2          1  \n",
       "3          1  \n",
       "4          1  \n",
       "...      ...  \n",
       "3995       0  \n",
       "3996       0  \n",
       "3997       0  \n",
       "3998       0  \n",
       "3999       0  \n",
       "\n",
       "[4000 rows x 2 columns]"
      ]
     },
     "execution_count": 20,
     "metadata": {},
     "output_type": "execute_result"
    }
   ],
   "source": [
    "df_texts"
   ]
  },
  {
   "cell_type": "markdown",
   "metadata": {},
   "source": [
    "Зведемо кожен з текстів до масивів зі слів, порядок яких узгоджений з порядком у віпдовідному тексті. Спробуємо вилучити \"невпливові\" слова, позбудемося пунткації."
   ]
  },
  {
   "cell_type": "code",
   "execution_count": 21,
   "metadata": {},
   "outputs": [
    {
     "name": "stderr",
     "output_type": "stream",
     "text": [
      "[nltk_data] Downloading package omw-1.4 to\n",
      "[nltk_data]     /home/goodpenguin/nltk_data...\n",
      "[nltk_data]   Package omw-1.4 is already up-to-date!\n",
      "[nltk_data] Downloading package punkt to\n",
      "[nltk_data]     /home/goodpenguin/nltk_data...\n",
      "[nltk_data]   Package punkt is already up-to-date!\n",
      "[nltk_data] Downloading package stopwords to\n",
      "[nltk_data]     /home/goodpenguin/nltk_data...\n",
      "[nltk_data]   Package stopwords is already up-to-date!\n",
      "[nltk_data] Downloading package wordnet to\n",
      "[nltk_data]     /home/goodpenguin/nltk_data...\n",
      "[nltk_data]   Package wordnet is already up-to-date!\n"
     ]
    }
   ],
   "source": [
    "from nltk import download\n",
    "\n",
    "for pkg in ['omw-1.4', 'punkt', 'stopwords', 'wordnet']:\n",
    "    download(pkg)"
   ]
  },
  {
   "cell_type": "code",
   "execution_count": 22,
   "metadata": {},
   "outputs": [],
   "source": [
    "from string import punctuation\n",
    "\n",
    "from nltk.tokenize import word_tokenize\n",
    "from nltk.corpus import stopwords\n",
    "from nltk.stem import WordNetLemmatizer \n",
    "\n",
    "lemmatizer = WordNetLemmatizer() \n",
    "stop_words = set(stopwords.words('english'))"
   ]
  },
  {
   "cell_type": "code",
   "execution_count": 23,
   "metadata": {},
   "outputs": [],
   "source": [
    "def preprocess_text(tokenizer, lemmatizer, stop_words, punctuation, text): \n",
    "    tokens = tokenizer(text.lower())\n",
    "    lemmas = [lemmatizer.lemmatize(token) for token in tokens]\n",
    "    return [token for token in lemmas if token not in stop_words and token not in punctuation]\n",
    "\n",
    "df_texts['cleaned'] = df_texts['text'].apply(\n",
    "    lambda x: preprocess_text(word_tokenize, lemmatizer, stop_words, punctuation, x)\n",
    ")"
   ]
  },
  {
   "cell_type": "code",
   "execution_count": 24,
   "metadata": {},
   "outputs": [
    {
     "data": {
      "text/html": [
       "<div>\n",
       "<style scoped>\n",
       "    .dataframe tbody tr th:only-of-type {\n",
       "        vertical-align: middle;\n",
       "    }\n",
       "\n",
       "    .dataframe tbody tr th {\n",
       "        vertical-align: top;\n",
       "    }\n",
       "\n",
       "    .dataframe thead th {\n",
       "        text-align: right;\n",
       "    }\n",
       "</style>\n",
       "<table border=\"1\" class=\"dataframe\">\n",
       "  <thead>\n",
       "    <tr style=\"text-align: right;\">\n",
       "      <th></th>\n",
       "      <th>text</th>\n",
       "      <th>rating</th>\n",
       "      <th>cleaned</th>\n",
       "    </tr>\n",
       "  </thead>\n",
       "  <tbody>\n",
       "    <tr>\n",
       "      <th>0</th>\n",
       "      <td>\\n This is a great back pack! If there is anything I would change it would be the logo on the front. It's brite and shinny, and I'd rather not advertise that I have a camera in there! I colored it in with a felt pen and it works great....... Overall, I love the backpack!!  \\n</td>\n",
       "      <td>1</td>\n",
       "      <td>[great, back, pack, anything, would, change, would, logo, front, 's, brite, shinny, 'd, rather, advertise, camera, colored, felt, pen, work, great, ......., overall, love, backpack]</td>\n",
       "    </tr>\n",
       "    <tr>\n",
       "      <th>1</th>\n",
       "      <td>\\nI love this backpack!  It is just what I needed to safely carry my camera gear and keep it organized\\n</td>\n",
       "      <td>1</td>\n",
       "      <td>[love, backpack, needed, safely, carry, camera, gear, keep, organized]</td>\n",
       "    </tr>\n",
       "    <tr>\n",
       "      <th>2</th>\n",
       "      <td>\\nThis was the best item I ever bought for my camera. I do a lot of walking with my camera, and thought I would use it as a walking stick, which I do, but the best part of this monopod is what I never thought would happen. My pictures are NEVER fuzzy! I can take low light photos and have they come out clear. I paid very little for this item and would never be caught without it and my camera. The three levers on the bottom allow for quick expansion at all different lengths. The carrying case allows for this item to be packed next to my camera without it getting scratched\\n</td>\n",
       "      <td>1</td>\n",
       "      <td>[wa, best, item, ever, bought, camera, lot, walking, camera, thought, would, use, walking, stick, best, part, monopod, never, thought, would, happen, picture, never, fuzzy, take, low, light, photo, come, clear, paid, little, item, would, never, caught, without, camera, three, lever, bottom, allow, quick, expansion, different, length, carrying, case, allows, item, packed, next, camera, without, getting, scratched]</td>\n",
       "    </tr>\n",
       "    <tr>\n",
       "      <th>3</th>\n",
       "      <td>\\nPrice went up!!! Great value for money spent. Will be buying a \"Ball\" attachment for better adjustability. Got some great steady shots with 48x digital zoom with the Canon S2 I\\n</td>\n",
       "      <td>1</td>\n",
       "      <td>[price, went, great, value, money, spent, buying, ``, ball, '', attachment, better, adjustability, got, great, steady, shot, 48x, digital, zoom, canon, s2]</td>\n",
       "    </tr>\n",
       "    <tr>\n",
       "      <th>4</th>\n",
       "      <td>\\nI've had this lens for 2 months now, and love it. It was my first \"L\" lens and I can see the quality difference in this line. First, I tried the 28-135 IS-pretty good. But I wasn't totally happy, so returned it and ordered the 24-105 L. Now I'm happy. Contrast, sharpness, &amp; CA are much better. Build quality &amp; feel are superior as well. Plus the IS really works. I will try &amp; get all IS lens in the future, I believe it is worth the extra cost. Focusing is very quick and zoom action is smooth &amp; steady. If you're on a budget, the 28-135 is real nice. But to go all the way, I recommend this lens. The IS on the 24-105 L is quieter I found. The price is a bit steep, but optical quality is there, resale value will remain good, and weather sealing should hopefully keep dust and junk from getting inside this lens.\\n</td>\n",
       "      <td>1</td>\n",
       "      <td>['ve, lens, 2, month, love, wa, first, ``, l, '', lens, see, quality, difference, line, first, tried, 28-135, is-pretty, good, wa, n't, totally, happy, returned, ordered, 24-105, l., 'm, happy, contrast, sharpness, ca, much, better, build, quality, feel, superior, well, plus, really, work, try, get, lens, future, believe, worth, extra, cost, focusing, quick, zoom, action, smooth, steady, 're, budget, 28-135, real, nice, go, way, recommend, lens, 24-105, l, quieter, found, price, bit, steep, optical, quality, resale, value, remain, good, weather, sealing, hopefully, keep, dust, junk, getting, inside, lens]</td>\n",
       "    </tr>\n",
       "    <tr>\n",
       "      <th>...</th>\n",
       "      <td>...</td>\n",
       "      <td>...</td>\n",
       "      <td>...</td>\n",
       "    </tr>\n",
       "    <tr>\n",
       "      <th>3995</th>\n",
       "      <td>\\nJust a heads-up for people looking to use this scanner to scan slides. You will have to unmount the slides in order to be able to scan them. Given the verbiage on the box, it caught me as enough of a surprise that I returned the scanner. I'm not OK with deception like that\\n</td>\n",
       "      <td>0</td>\n",
       "      <td>[heads-up, people, looking, use, scanner, scan, slide, unmount, slide, order, able, scan, given, verbiage, box, caught, enough, surprise, returned, scanner, 'm, ok, deception, like]</td>\n",
       "    </tr>\n",
       "    <tr>\n",
       "      <th>3996</th>\n",
       "      <td>\\nThese blank discs are defective. I was never able to record any pictures or audio data to them.\\n\\nThe Maxell blank discs that I have did the job fine.\\n</td>\n",
       "      <td>0</td>\n",
       "      <td>[blank, disc, defective, wa, never, able, record, picture, audio, data, maxell, blank, disc, job, fine]</td>\n",
       "    </tr>\n",
       "    <tr>\n",
       "      <th>3997</th>\n",
       "      <td>\\nI ordered this item thinking that it would be useful when on the road in hotel rooms to light up my work area.  WRONG !!  The light is so DIM, the only thing it might be good for is a night light! This lamp is a good idea, but much too weak to be of any help\\n</td>\n",
       "      <td>0</td>\n",
       "      <td>[ordered, item, thinking, would, useful, road, hotel, room, light, work, area, wrong, light, dim, thing, might, good, night, light, lamp, good, idea, much, weak, help]</td>\n",
       "    </tr>\n",
       "    <tr>\n",
       "      <th>3998</th>\n",
       "      <td>\\nI was looking for a small cheap Mp3 player and I didn't care how much memory it had so this seemed perfect for me. I saw that many people had rated this 4 and 5 stars so I decided to buy it. When I got the Creative nano I was really happy with its preformance until I tried to put my subscription music onto it. Thats when I learned that it wouldn't hold any subscription music forcing me to buy my music one by one which is costing a lot of money.\\n\\nAfter that I started realising all of its imperfections. You can't use the FM radio in the car without hearing mostly static. You can't search through songs without actually changing the song you are listening to. Don't get me wrong, there are some good sides to this Mp3 player but I still would definately not recommend it\\n</td>\n",
       "      <td>0</td>\n",
       "      <td>[wa, looking, small, cheap, mp3, player, n't, care, much, memory, seemed, perfect, saw, many, people, rated, 4, 5, star, decided, buy, got, creative, nano, wa, really, happy, preformance, tried, put, subscription, music, onto, thats, learned, would, n't, hold, subscription, music, forcing, buy, music, one, one, costing, lot, money, started, realising, imperfection, ca, n't, use, fm, radio, car, without, hearing, mostly, static, ca, n't, search, song, without, actually, changing, song, listening, n't, get, wrong, good, side, mp3, player, still, would, definately, recommend]</td>\n",
       "    </tr>\n",
       "    <tr>\n",
       "      <th>3999</th>\n",
       "      <td>\\nI AM VERY UNHAPPY WITH THE PRODUCT I RECEIVED FROM TIGER.\\nIT WAS NOT WHAT I WANTED AND TO RETURN IT WOULD COST ME MORE THAN I PAID FOR IT.\\nTHE COMPANY CHARGES TOOOOO MANY FEES.\\nI AM VERY UNHAPPY &amp; NOW I HAVE A PRODUCT THAT I CAN'T USE OR RETURN\\n</td>\n",
       "      <td>0</td>\n",
       "      <td>[unhappy, product, received, tiger, wa, wanted, return, would, cost, paid, company, charge, tooooo, many, fee, unhappy, product, ca, n't, use, return]</td>\n",
       "    </tr>\n",
       "  </tbody>\n",
       "</table>\n",
       "<p>4000 rows × 3 columns</p>\n",
       "</div>"
      ],
      "text/plain": [
       "                                                                                                                                                                                                                                                                                                                                                                                                                                                                                                                                                                                                                                                                                                                                                                                                                                                     text  \\\n",
       "0                                                                                                                                                                                                                                                                                                                                                                                                                                                                                                                                                                    \\n This is a great back pack! If there is anything I would change it would be the logo on the front. It's brite and shinny, and I'd rather not advertise that I have a camera in there! I colored it in with a felt pen and it works great....... Overall, I love the backpack!!  \\n   \n",
       "1                                                                                                                                                                                                                                                                                                                                                                                                                                                                                                                                                                                                                                                                                                                                                \\nI love this backpack!  It is just what I needed to safely carry my camera gear and keep it organized\\n   \n",
       "2                                                                                                                                                                                                                                                      \\nThis was the best item I ever bought for my camera. I do a lot of walking with my camera, and thought I would use it as a walking stick, which I do, but the best part of this monopod is what I never thought would happen. My pictures are NEVER fuzzy! I can take low light photos and have they come out clear. I paid very little for this item and would never be caught without it and my camera. The three levers on the bottom allow for quick expansion at all different lengths. The carrying case allows for this item to be packed next to my camera without it getting scratched\\n   \n",
       "3                                                                                                                                                                                                                                                                                                                                                                                                                                                                                                                                                                                                                                                                    \\nPrice went up!!! Great value for money spent. Will be buying a \"Ball\" attachment for better adjustability. Got some great steady shots with 48x digital zoom with the Canon S2 I\\n   \n",
       "4     \\nI've had this lens for 2 months now, and love it. It was my first \"L\" lens and I can see the quality difference in this line. First, I tried the 28-135 IS-pretty good. But I wasn't totally happy, so returned it and ordered the 24-105 L. Now I'm happy. Contrast, sharpness, & CA are much better. Build quality & feel are superior as well. Plus the IS really works. I will try & get all IS lens in the future, I believe it is worth the extra cost. Focusing is very quick and zoom action is smooth & steady. If you're on a budget, the 28-135 is real nice. But to go all the way, I recommend this lens. The IS on the 24-105 L is quieter I found. The price is a bit steep, but optical quality is there, resale value will remain good, and weather sealing should hopefully keep dust and junk from getting inside this lens.\\n   \n",
       "...                                                                                                                                                                                                                                                                                                                                                                                                                                                                                                                                                                                                                                                                                                                                                                                                                                                   ...   \n",
       "3995                                                                                                                                                                                                                                                                                                                                                                                                                                                                                                                                                                \\nJust a heads-up for people looking to use this scanner to scan slides. You will have to unmount the slides in order to be able to scan them. Given the verbiage on the box, it caught me as enough of a surprise that I returned the scanner. I'm not OK with deception like that\\n   \n",
       "3996                                                                                                                                                                                                                                                                                                                                                                                                                                                                                                                                                                                                                                                                                          \\nThese blank discs are defective. I was never able to record any pictures or audio data to them.\\n\\nThe Maxell blank discs that I have did the job fine.\\n   \n",
       "3997                                                                                                                                                                                                                                                                                                                                                                                                                                                                                                                                                                               \\nI ordered this item thinking that it would be useful when on the road in hotel rooms to light up my work area.  WRONG !!  The light is so DIM, the only thing it might be good for is a night light! This lamp is a good idea, but much too weak to be of any help\\n   \n",
       "3998                                         \\nI was looking for a small cheap Mp3 player and I didn't care how much memory it had so this seemed perfect for me. I saw that many people had rated this 4 and 5 stars so I decided to buy it. When I got the Creative nano I was really happy with its preformance until I tried to put my subscription music onto it. Thats when I learned that it wouldn't hold any subscription music forcing me to buy my music one by one which is costing a lot of money.\\n\\nAfter that I started realising all of its imperfections. You can't use the FM radio in the car without hearing mostly static. You can't search through songs without actually changing the song you are listening to. Don't get me wrong, there are some good sides to this Mp3 player but I still would definately not recommend it\\n   \n",
       "3999                                                                                                                                                                                                                                                                                                                                                                                                                                                                                                                                                                                          \\nI AM VERY UNHAPPY WITH THE PRODUCT I RECEIVED FROM TIGER.\\nIT WAS NOT WHAT I WANTED AND TO RETURN IT WOULD COST ME MORE THAN I PAID FOR IT.\\nTHE COMPANY CHARGES TOOOOO MANY FEES.\\nI AM VERY UNHAPPY & NOW I HAVE A PRODUCT THAT I CAN'T USE OR RETURN\\n   \n",
       "\n",
       "      rating  \\\n",
       "0          1   \n",
       "1          1   \n",
       "2          1   \n",
       "3          1   \n",
       "4          1   \n",
       "...      ...   \n",
       "3995       0   \n",
       "3996       0   \n",
       "3997       0   \n",
       "3998       0   \n",
       "3999       0   \n",
       "\n",
       "                                                                                                                                                                                                                                                                                                                                                                                                                                                                                                                                                                                                                                   cleaned  \n",
       "0                                                                                                                                                                                                                                                                                                                                                                                                                                                    [great, back, pack, anything, would, change, would, logo, front, 's, brite, shinny, 'd, rather, advertise, camera, colored, felt, pen, work, great, ......., overall, love, backpack]  \n",
       "1                                                                                                                                                                                                                                                                                                                                                                                                                                                                                                                                                                   [love, backpack, needed, safely, carry, camera, gear, keep, organized]  \n",
       "2                                                                                                                                                                                                         [wa, best, item, ever, bought, camera, lot, walking, camera, thought, would, use, walking, stick, best, part, monopod, never, thought, would, happen, picture, never, fuzzy, take, low, light, photo, come, clear, paid, little, item, would, never, caught, without, camera, three, lever, bottom, allow, quick, expansion, different, length, carrying, case, allows, item, packed, next, camera, without, getting, scratched]  \n",
       "3                                                                                                                                                                                                                                                                                                                                                                                                                                                                              [price, went, great, value, money, spent, buying, ``, ball, '', attachment, better, adjustability, got, great, steady, shot, 48x, digital, zoom, canon, s2]  \n",
       "4     ['ve, lens, 2, month, love, wa, first, ``, l, '', lens, see, quality, difference, line, first, tried, 28-135, is-pretty, good, wa, n't, totally, happy, returned, ordered, 24-105, l., 'm, happy, contrast, sharpness, ca, much, better, build, quality, feel, superior, well, plus, really, work, try, get, lens, future, believe, worth, extra, cost, focusing, quick, zoom, action, smooth, steady, 're, budget, 28-135, real, nice, go, way, recommend, lens, 24-105, l, quieter, found, price, bit, steep, optical, quality, resale, value, remain, good, weather, sealing, hopefully, keep, dust, junk, getting, inside, lens]  \n",
       "...                                                                                                                                                                                                                                                                                                                                                                                                                                                                                                                                                                                                                                    ...  \n",
       "3995                                                                                                                                                                                                                                                                                                                                                                                                                                                 [heads-up, people, looking, use, scanner, scan, slide, unmount, slide, order, able, scan, given, verbiage, box, caught, enough, surprise, returned, scanner, 'm, ok, deception, like]  \n",
       "3996                                                                                                                                                                                                                                                                                                                                                                                                                                                                                                                               [blank, disc, defective, wa, never, able, record, picture, audio, data, maxell, blank, disc, job, fine]  \n",
       "3997                                                                                                                                                                                                                                                                                                                                                                                                                                                               [ordered, item, thinking, would, useful, road, hotel, room, light, work, area, wrong, light, dim, thing, might, good, night, light, lamp, good, idea, much, weak, help]  \n",
       "3998                                   [wa, looking, small, cheap, mp3, player, n't, care, much, memory, seemed, perfect, saw, many, people, rated, 4, 5, star, decided, buy, got, creative, nano, wa, really, happy, preformance, tried, put, subscription, music, onto, thats, learned, would, n't, hold, subscription, music, forcing, buy, music, one, one, costing, lot, money, started, realising, imperfection, ca, n't, use, fm, radio, car, without, hearing, mostly, static, ca, n't, search, song, without, actually, changing, song, listening, n't, get, wrong, good, side, mp3, player, still, would, definately, recommend]  \n",
       "3999                                                                                                                                                                                                                                                                                                                                                                                                                                                                                [unhappy, product, received, tiger, wa, wanted, return, would, cost, paid, company, charge, tooooo, many, fee, unhappy, product, ca, n't, use, return]  \n",
       "\n",
       "[4000 rows x 3 columns]"
      ]
     },
     "execution_count": 24,
     "metadata": {},
     "output_type": "execute_result"
    }
   ],
   "source": [
    "df_texts"
   ]
  },
  {
   "cell_type": "markdown",
   "metadata": {},
   "source": [
    "До речі, час зробити тренувальну та тестову вибірки. Проведемо стратифікований відбір, тобто кількість об'єктів не залежатиме від вибору класу (чи то хороший кометар, чи ні)."
   ]
  },
  {
   "cell_type": "code",
   "execution_count": 25,
   "metadata": {},
   "outputs": [
    {
     "data": {
      "text/plain": [
       "200"
      ]
     },
     "execution_count": 25,
     "metadata": {},
     "output_type": "execute_result"
    }
   ],
   "source": [
    "import numpy as np\n",
    "np.random.seed(0)\n",
    "\n",
    "n = n_pos\n",
    "n_test = n // 10\n",
    "n_test"
   ]
  },
  {
   "cell_type": "code",
   "execution_count": 26,
   "metadata": {},
   "outputs": [],
   "source": [
    "idx_test_pos = np.random.choice(\n",
    "    np.arange(0, n_pos), size=(n_test // 2), replace=False\n",
    ")\n",
    "idx_test_neg = np.random.choice(\n",
    "    n_pos + np.arange(0, n_neg), size=(n_test // 2), replace=False\n",
    ")"
   ]
  },
  {
   "cell_type": "code",
   "execution_count": 27,
   "metadata": {},
   "outputs": [
    {
     "data": {
      "text/html": [
       "<div>\n",
       "<style scoped>\n",
       "    .dataframe tbody tr th:only-of-type {\n",
       "        vertical-align: middle;\n",
       "    }\n",
       "\n",
       "    .dataframe tbody tr th {\n",
       "        vertical-align: top;\n",
       "    }\n",
       "\n",
       "    .dataframe thead th {\n",
       "        text-align: right;\n",
       "    }\n",
       "</style>\n",
       "<table border=\"1\" class=\"dataframe\">\n",
       "  <thead>\n",
       "    <tr style=\"text-align: right;\">\n",
       "      <th></th>\n",
       "      <th>cleaned</th>\n",
       "      <th>rating</th>\n",
       "    </tr>\n",
       "  </thead>\n",
       "  <tbody>\n",
       "    <tr>\n",
       "      <th>405</th>\n",
       "      <td>[canoe/kayak, various, river, creek, wanted, way, take, 1500, camera, water, without, fear, damaging, sport, pack, completely, water, proof, 7m, 've, submersed, case, test, real-life, situation, camera, stayed, dry, case, doe, cause, noticeable, reduction, picture, quality, relatively, simple, operate, assemble, basic, function, camera, case, need, change, setting, camera, putting, case, advanced, camera, feature, able, used, concern, scratch, resistance, plastic, lens, area, far, n't, problem, 've, taken, river, 30, hr, told, 'm, pleased, plan, filming, near, water, would, recommend, case]</td>\n",
       "      <td>1</td>\n",
       "    </tr>\n",
       "    <tr>\n",
       "      <th>1190</th>\n",
       "      <td>['m, using, monster, cable, connect, ipod, receiver, via, ipod, dock, work, flawlessly, sound, crisp, clear, plus, 's, lot, cheaper, getting, actual, monster, ipod, av, cable, length, cable, make, convenient, cumbersome, 's, great, way, increase, functionality, ipod]</td>\n",
       "      <td>1</td>\n",
       "    </tr>\n",
       "    <tr>\n",
       "      <th>1132</th>\n",
       "      <td>[wanted, non-ipod, digital, music, player, found, terrific, option, play, number, different, format, includes, lanyard, nice, commuting, train, plane, travel, used, alkaline, battery, far, excellent, battery, life, menu, take, hour, 2, playing, learn, get, familiar, button, menu, 's, pretty, easy, also, enjoyed, built, fm, tuner, trouble, reception, even, moving, commuter, train, sound, quality, good, 've, using, 128, bitrate, mp3, song, far, software, transferring, music, pretty, easy, use, although, little, trouble, getting, player, recognized, connected, seemed, kind, order, connection, issue, included, earbuds, n't, comfortable, especially, since, already, lost, foam, padding, probably, get, better, pair, anyway, sound, good, though, also, included, case, pretty, ...]</td>\n",
       "      <td>1</td>\n",
       "    </tr>\n",
       "    <tr>\n",
       "      <th>731</th>\n",
       "      <td>[white, one, black, wa, unavailable, time, purchase, 1., camera, slide, even, though, clasp, magnet, made, snug, enough, felt, hold, case, even, shake, jostle, 2., durable, scrape, scratch, 7, month, 3., n't, missed, belt, clip, option, small, enough, fit, pocket, 4., well, constructed/durable, people, think, sort, ipod, case/holder]</td>\n",
       "      <td>1</td>\n",
       "    </tr>\n",
       "    <tr>\n",
       "      <th>1754</th>\n",
       "      <td>[wall, mount, work, hold, 's, great, used, olevia, 542i, lcd, flat, panel, problem, instruction, clear, hard, figure, instal]</td>\n",
       "      <td>1</td>\n",
       "    </tr>\n",
       "    <tr>\n",
       "      <th>...</th>\n",
       "      <td>...</td>\n",
       "      <td>...</td>\n",
       "    </tr>\n",
       "    <tr>\n",
       "      <th>1999</th>\n",
       "      <td>[mouse, ha, never, let, really, work, surface]</td>\n",
       "      <td>1</td>\n",
       "    </tr>\n",
       "    <tr>\n",
       "      <th>1927</th>\n",
       "      <td>[map, good, enough, navigation, street, outdoor, adventure, allows, downloading, track, waypoints, gps, editing, saving, file, gps, annoying, put, last, cd, drive, use, program]</td>\n",
       "      <td>1</td>\n",
       "    </tr>\n",
       "    <tr>\n",
       "      <th>80</th>\n",
       "      <td>[great, camera, take, place, earlier, canon, digital, elph, lost, several, year, ago, 7.1, megapixels, ensures, great, quality, 3x, zoom, provides, crisp, clear, picture, fact, digital, zoom, also, work, great, make, sure, camera, steady, purchased, nice, compact, monopod, result, awesome, although, image, stabilization, feature, newer, model, would, great, ca, n't, beat, price, overall, quality, camera, picture, take, canon, sd500, great, little, camera]</td>\n",
       "      <td>1</td>\n",
       "    </tr>\n",
       "    <tr>\n",
       "      <th>1854</th>\n",
       "      <td>[elegant, design, sturdy, construction, support, yamaha, sy35, securely, reading, forbidding, review, decided, assemble, without, first, reading, direction, took, 10, min]</td>\n",
       "      <td>1</td>\n",
       "    </tr>\n",
       "    <tr>\n",
       "      <th>264</th>\n",
       "      <td>[bought, remote, month, ago, doe, say, even, use, behind, great, little, device, price]</td>\n",
       "      <td>1</td>\n",
       "    </tr>\n",
       "  </tbody>\n",
       "</table>\n",
       "<p>100 rows × 2 columns</p>\n",
       "</div>"
      ],
      "text/plain": [
       "                                                                                                                                                                                                                                                                                                                                                                                                                                                                                                                                                                                                                                                                                                                                                                                                             cleaned  \\\n",
       "405                                                                                                                                                                                            [canoe/kayak, various, river, creek, wanted, way, take, 1500, camera, water, without, fear, damaging, sport, pack, completely, water, proof, 7m, 've, submersed, case, test, real-life, situation, camera, stayed, dry, case, doe, cause, noticeable, reduction, picture, quality, relatively, simple, operate, assemble, basic, function, camera, case, need, change, setting, camera, putting, case, advanced, camera, feature, able, used, concern, scratch, resistance, plastic, lens, area, far, n't, problem, 've, taken, river, 30, hr, told, 'm, pleased, plan, filming, near, water, would, recommend, case]   \n",
       "1190                                                                                                                                                                                                                                                                                                                                                                                                                                                                                                                                     ['m, using, monster, cable, connect, ipod, receiver, via, ipod, dock, work, flawlessly, sound, crisp, clear, plus, 's, lot, cheaper, getting, actual, monster, ipod, av, cable, length, cable, make, convenient, cumbersome, 's, great, way, increase, functionality, ipod]   \n",
       "1132  [wanted, non-ipod, digital, music, player, found, terrific, option, play, number, different, format, includes, lanyard, nice, commuting, train, plane, travel, used, alkaline, battery, far, excellent, battery, life, menu, take, hour, 2, playing, learn, get, familiar, button, menu, 's, pretty, easy, also, enjoyed, built, fm, tuner, trouble, reception, even, moving, commuter, train, sound, quality, good, 've, using, 128, bitrate, mp3, song, far, software, transferring, music, pretty, easy, use, although, little, trouble, getting, player, recognized, connected, seemed, kind, order, connection, issue, included, earbuds, n't, comfortable, especially, since, already, lost, foam, padding, probably, get, better, pair, anyway, sound, good, though, also, included, case, pretty, ...]   \n",
       "731                                                                                                                                                                                                                                                                                                                                                                                                                                                                  [white, one, black, wa, unavailable, time, purchase, 1., camera, slide, even, though, clasp, magnet, made, snug, enough, felt, hold, case, even, shake, jostle, 2., durable, scrape, scratch, 7, month, 3., n't, missed, belt, clip, option, small, enough, fit, pocket, 4., well, constructed/durable, people, think, sort, ipod, case/holder]   \n",
       "1754                                                                                                                                                                                                                                                                                                                                                                                                                                                                                                                                                                                                                                                                                   [wall, mount, work, hold, 's, great, used, olevia, 542i, lcd, flat, panel, problem, instruction, clear, hard, figure, instal]   \n",
       "...                                                                                                                                                                                                                                                                                                                                                                                                                                                                                                                                                                                                                                                                                                                                                                                                              ...   \n",
       "1999                                                                                                                                                                                                                                                                                                                                                                                                                                                                                                                                                                                                                                                                                                                                                                  [mouse, ha, never, let, really, work, surface]   \n",
       "1927                                                                                                                                                                                                                                                                                                                                                                                                                                                                                                                                                                                                                               [map, good, enough, navigation, street, outdoor, adventure, allows, downloading, track, waypoints, gps, editing, saving, file, gps, annoying, put, last, cd, drive, use, program]   \n",
       "80                                                                                                                                                                                                                                                                                                                                       [great, camera, take, place, earlier, canon, digital, elph, lost, several, year, ago, 7.1, megapixels, ensures, great, quality, 3x, zoom, provides, crisp, clear, picture, fact, digital, zoom, also, work, great, make, sure, camera, steady, purchased, nice, compact, monopod, result, awesome, although, image, stabilization, feature, newer, model, would, great, ca, n't, beat, price, overall, quality, camera, picture, take, canon, sd500, great, little, camera]   \n",
       "1854                                                                                                                                                                                                                                                                                                                                                                                                                                                                                                                                                                                                                                     [elegant, design, sturdy, construction, support, yamaha, sy35, securely, reading, forbidding, review, decided, assemble, without, first, reading, direction, took, 10, min]   \n",
       "264                                                                                                                                                                                                                                                                                                                                                                                                                                                                                                                                                                                                                                                                                                                          [bought, remote, month, ago, doe, say, even, use, behind, great, little, device, price]   \n",
       "\n",
       "      rating  \n",
       "405        1  \n",
       "1190       1  \n",
       "1132       1  \n",
       "731        1  \n",
       "1754       1  \n",
       "...      ...  \n",
       "1999       1  \n",
       "1927       1  \n",
       "80         1  \n",
       "1854       1  \n",
       "264        1  \n",
       "\n",
       "[100 rows x 2 columns]"
      ]
     },
     "execution_count": 27,
     "metadata": {},
     "output_type": "execute_result"
    }
   ],
   "source": [
    "df_texts.iloc[idx_test_pos][['cleaned', 'rating']]"
   ]
  },
  {
   "cell_type": "code",
   "execution_count": 28,
   "metadata": {},
   "outputs": [
    {
     "data": {
      "text/html": [
       "<div>\n",
       "<style scoped>\n",
       "    .dataframe tbody tr th:only-of-type {\n",
       "        vertical-align: middle;\n",
       "    }\n",
       "\n",
       "    .dataframe tbody tr th {\n",
       "        vertical-align: top;\n",
       "    }\n",
       "\n",
       "    .dataframe thead th {\n",
       "        text-align: right;\n",
       "    }\n",
       "</style>\n",
       "<table border=\"1\" class=\"dataframe\">\n",
       "  <thead>\n",
       "    <tr style=\"text-align: right;\">\n",
       "      <th></th>\n",
       "      <th>cleaned</th>\n",
       "      <th>rating</th>\n",
       "    </tr>\n",
       "  </thead>\n",
       "  <tbody>\n",
       "    <tr>\n",
       "      <th>3162</th>\n",
       "      <td>[sound, wa, great, dvd, would, lag, every, 10-15, second, movie, drove, nut, return]</td>\n",
       "      <td>0</td>\n",
       "    </tr>\n",
       "    <tr>\n",
       "      <th>2142</th>\n",
       "      <td>[bag, small, canon, 20d, fit, nicely, small, lens, fit, one, lens, camera, body, kept, bag, informal, use, need, body, one, lens, avoid, always, carry, bulky, bag]</td>\n",
       "      <td>0</td>\n",
       "    </tr>\n",
       "    <tr>\n",
       "      <th>3848</th>\n",
       "      <td>[agree, poster, complained, driver, available, download, day, age, excuse, company, making, thing, available, customer, voice, recorder, tool, go, carry, cd, u, well, case, want, plug, recorder, different, machine, case, wanton, disrespect, customer, big, company]</td>\n",
       "      <td>0</td>\n",
       "    </tr>\n",
       "    <tr>\n",
       "      <th>3189</th>\n",
       "      <td>[drive, fail, one, year, half, ..., company, really, suck, big, time, ...., lost, data, ..., ..., third, one, fail, four, purchased, last, year, total, junk, ..., never, buy, lacie, sure, ...., maxtor, external, best]</td>\n",
       "      <td>0</td>\n",
       "    </tr>\n",
       "    <tr>\n",
       "      <th>3561</th>\n",
       "      <td>[piece, junk, radio, reception, terrible, fm, marginal, almost, nonexistent]</td>\n",
       "      <td>0</td>\n",
       "    </tr>\n",
       "    <tr>\n",
       "      <th>...</th>\n",
       "      <td>...</td>\n",
       "      <td>...</td>\n",
       "    </tr>\n",
       "    <tr>\n",
       "      <th>2499</th>\n",
       "      <td>[paid, 99.00, little, camcorder, thought, would, ideal, action, sport, hero, house, could, n't, get, video, transfer, pc, menu, button, would, bring, anything, overall, could, n't, get, thing, work, bummer, christmas, present]</td>\n",
       "      <td>0</td>\n",
       "    </tr>\n",
       "    <tr>\n",
       "      <th>3044</th>\n",
       "      <td>[problem, burning, disc, went, back, month, later, disc, found, none, work, anymore, research, found, memorex, us, cheapest, dye, available, thus, dvd, absolutelly, life, disc, started, dying, month, addition, physically, hold, disc, hand, feel, warped, physically, ha, become, true, disc, 150, recommend, product, stronly, enough]</td>\n",
       "      <td>0</td>\n",
       "    </tr>\n",
       "    <tr>\n",
       "      <th>3750</th>\n",
       "      <td>[work, palm, t|c, right, away, 've, used, purpose, expect, either, palm, sd, release, proper, software, work, palm, t|c]</td>\n",
       "      <td>0</td>\n",
       "    </tr>\n",
       "    <tr>\n",
       "      <th>3672</th>\n",
       "      <td>[battery, pack, walkie, talkie, last, hour, only-, disappointed, quality, need, emergency, throughout, day-, farmed, animal, sanctuary-, non-profit, afford, purchase, new, battery, paying, already, willing, change, review, get, new, battery, came, time-, good, quality-, batterie]</td>\n",
       "      <td>0</td>\n",
       "    </tr>\n",
       "    <tr>\n",
       "      <th>3671</th>\n",
       "      <td>[n't, want, rate, product, since, n't, used, though, ..., wanted, share, everybody, product, still, doe, come, charger, received, left, unopened, upon, seeing, charger, called, customer, service, n't, anything, posting, sent, back, waste, time, effort, extra, hassle, waiting, get, money, back, get, mislead, picture, description]</td>\n",
       "      <td>0</td>\n",
       "    </tr>\n",
       "  </tbody>\n",
       "</table>\n",
       "<p>100 rows × 2 columns</p>\n",
       "</div>"
      ],
      "text/plain": [
       "                                                                                                                                                                                                                                                                                                                                          cleaned  \\\n",
       "3162                                                                                                                                                                                                                                                         [sound, wa, great, dvd, would, lag, every, 10-15, second, movie, drove, nut, return]   \n",
       "2142                                                                                                                                                                          [bag, small, canon, 20d, fit, nicely, small, lens, fit, one, lens, camera, body, kept, bag, informal, use, need, body, one, lens, avoid, always, carry, bulky, bag]   \n",
       "3848                                                                     [agree, poster, complained, driver, available, download, day, age, excuse, company, making, thing, available, customer, voice, recorder, tool, go, carry, cd, u, well, case, want, plug, recorder, different, machine, case, wanton, disrespect, customer, big, company]   \n",
       "3189                                                                                                                    [drive, fail, one, year, half, ..., company, really, suck, big, time, ...., lost, data, ..., ..., third, one, fail, four, purchased, last, year, total, junk, ..., never, buy, lacie, sure, ...., maxtor, external, best]   \n",
       "3561                                                                                                                                                                                                                                                                 [piece, junk, radio, reception, terrible, fm, marginal, almost, nonexistent]   \n",
       "...                                                                                                                                                                                                                                                                                                                                           ...   \n",
       "2499                                                                                                           [paid, 99.00, little, camcorder, thought, would, ideal, action, sport, hero, house, could, n't, get, video, transfer, pc, menu, button, would, bring, anything, overall, could, n't, get, thing, work, bummer, christmas, present]   \n",
       "3044  [problem, burning, disc, went, back, month, later, disc, found, none, work, anymore, research, found, memorex, us, cheapest, dye, available, thus, dvd, absolutelly, life, disc, started, dying, month, addition, physically, hold, disc, hand, feel, warped, physically, ha, become, true, disc, 150, recommend, product, stronly, enough]   \n",
       "3750                                                                                                                                                                                                                     [work, palm, t|c, right, away, 've, used, purpose, expect, either, palm, sd, release, proper, software, work, palm, t|c]   \n",
       "3672                                                     [battery, pack, walkie, talkie, last, hour, only-, disappointed, quality, need, emergency, throughout, day-, farmed, animal, sanctuary-, non-profit, afford, purchase, new, battery, paying, already, willing, change, review, get, new, battery, came, time-, good, quality-, batterie]   \n",
       "3671   [n't, want, rate, product, since, n't, used, though, ..., wanted, share, everybody, product, still, doe, come, charger, received, left, unopened, upon, seeing, charger, called, customer, service, n't, anything, posting, sent, back, waste, time, effort, extra, hassle, waiting, get, money, back, get, mislead, picture, description]   \n",
       "\n",
       "      rating  \n",
       "3162       0  \n",
       "2142       0  \n",
       "3848       0  \n",
       "3189       0  \n",
       "3561       0  \n",
       "...      ...  \n",
       "2499       0  \n",
       "3044       0  \n",
       "3750       0  \n",
       "3672       0  \n",
       "3671       0  \n",
       "\n",
       "[100 rows x 2 columns]"
      ]
     },
     "execution_count": 28,
     "metadata": {},
     "output_type": "execute_result"
    }
   ],
   "source": [
    "df_texts.iloc[idx_test_neg][['cleaned', 'rating']]"
   ]
  },
  {
   "cell_type": "code",
   "execution_count": 29,
   "metadata": {},
   "outputs": [],
   "source": [
    "# Для відтворення результатів\n",
    "np.random.seed(12345)\n",
    "\n",
    "idx_test = np.append(idx_test_pos, idx_test_neg)\n",
    "np.random.shuffle(idx_test)\n",
    "# idx_test"
   ]
  },
  {
   "cell_type": "code",
   "execution_count": 30,
   "metadata": {},
   "outputs": [],
   "source": [
    "df_train = df_texts.drop(index=idx_test, axis=0).sample(frac=1)\n",
    "df_test = df_texts.iloc[idx_test]"
   ]
  },
  {
   "cell_type": "code",
   "execution_count": 31,
   "metadata": {},
   "outputs": [
    {
     "data": {
      "text/html": [
       "<div>\n",
       "<style scoped>\n",
       "    .dataframe tbody tr th:only-of-type {\n",
       "        vertical-align: middle;\n",
       "    }\n",
       "\n",
       "    .dataframe tbody tr th {\n",
       "        vertical-align: top;\n",
       "    }\n",
       "\n",
       "    .dataframe thead th {\n",
       "        text-align: right;\n",
       "    }\n",
       "</style>\n",
       "<table border=\"1\" class=\"dataframe\">\n",
       "  <thead>\n",
       "    <tr style=\"text-align: right;\">\n",
       "      <th></th>\n",
       "      <th>cleaned</th>\n",
       "      <th>rating</th>\n",
       "    </tr>\n",
       "  </thead>\n",
       "  <tbody>\n",
       "    <tr>\n",
       "      <th>3720</th>\n",
       "      <td>[software, terrible, slow, glitchy, start, close, multiple, time, get, find, player, operator, manual, 100, page, fun, learning, intricacy, control, granted, hardware, cute, variety, function, impressive, --, assuming, sufficient, spare, time, study, manual]</td>\n",
       "      <td>0</td>\n",
       "    </tr>\n",
       "    <tr>\n",
       "      <th>3310</th>\n",
       "      <td>[1gb, titanium, sandisk, cruzer, work, fail, tried, several, time, contact, sandisk, including, selling, vendor, absolutely, response, wife, 's, cruzer, failed, well, power, light, come, recognized, xp, light, go, system, ca, n't, id, device, 's, useless, doe, thing, xp, system, house, 've, tried, front, side, usb, connection, rear, connection, hub, connection, dice, 'll, never, buy, another, sandisk, cruzer, wa, going, order, another, 100, office, loss]</td>\n",
       "      <td>0</td>\n",
       "    </tr>\n",
       "    <tr>\n",
       "      <th>3219</th>\n",
       "      <td>[ordered, product, june, 21st, told, receive, oct, 28th, would, n't, waste, time, ordering, product, amazon]</td>\n",
       "      <td>0</td>\n",
       "    </tr>\n",
       "    <tr>\n",
       "      <th>528</th>\n",
       "      <td>[bought, battery, charger, going, overseas, trip, n't, want, bothered, frequently, changing, aa, battery, seemed, last, day, heavy, use, wa, quite, pleased, performance, rechargeables, lasted, several, day, heavy, use, needing, charged, re-charged, hour, big, bonus, n't, expect, recharger, compatible, european, 240, voltage, n't, use, electric, converter]</td>\n",
       "      <td>1</td>\n",
       "    </tr>\n",
       "    <tr>\n",
       "      <th>3809</th>\n",
       "      <td>[terrible, user, interface, must, page, ton, cryptic, menu, set, basic, feature, pull, multiple, paper, must, start, g3, would, think, would, compatible, earlier, non-g3, fax, machine, wrong, ca, n't, fax, 75, community, ha, non, g3, unit, thought, wa, buying, quality, canon, paid, 250, hunk, junk, cheap, brother, hp, 's, work, never, problem, easier, use, much, le, expensive, save, money, save, headache, sorry, canon, product, wa, disaster]</td>\n",
       "      <td>0</td>\n",
       "    </tr>\n",
       "  </tbody>\n",
       "</table>\n",
       "</div>"
      ],
      "text/plain": [
       "                                                                                                                                                                                                                                                                                                                                                                                                                                                                         cleaned  \\\n",
       "3720                                                                                                                                                                                                          [software, terrible, slow, glitchy, start, close, multiple, time, get, find, player, operator, manual, 100, page, fun, learning, intricacy, control, granted, hardware, cute, variety, function, impressive, --, assuming, sufficient, spare, time, study, manual]   \n",
       "3310  [1gb, titanium, sandisk, cruzer, work, fail, tried, several, time, contact, sandisk, including, selling, vendor, absolutely, response, wife, 's, cruzer, failed, well, power, light, come, recognized, xp, light, go, system, ca, n't, id, device, 's, useless, doe, thing, xp, system, house, 've, tried, front, side, usb, connection, rear, connection, hub, connection, dice, 'll, never, buy, another, sandisk, cruzer, wa, going, order, another, 100, office, loss]   \n",
       "3219                                                                                                                                                                                                                                                                                                                                                                [ordered, product, june, 21st, told, receive, oct, 28th, would, n't, waste, time, ordering, product, amazon]   \n",
       "528                                                                                                        [bought, battery, charger, going, overseas, trip, n't, want, bothered, frequently, changing, aa, battery, seemed, last, day, heavy, use, wa, quite, pleased, performance, rechargeables, lasted, several, day, heavy, use, needing, charged, re-charged, hour, big, bonus, n't, expect, recharger, compatible, european, 240, voltage, n't, use, electric, converter]   \n",
       "3809               [terrible, user, interface, must, page, ton, cryptic, menu, set, basic, feature, pull, multiple, paper, must, start, g3, would, think, would, compatible, earlier, non-g3, fax, machine, wrong, ca, n't, fax, 75, community, ha, non, g3, unit, thought, wa, buying, quality, canon, paid, 250, hunk, junk, cheap, brother, hp, 's, work, never, problem, easier, use, much, le, expensive, save, money, save, headache, sorry, canon, product, wa, disaster]   \n",
       "\n",
       "      rating  \n",
       "3720       0  \n",
       "3310       0  \n",
       "3219       0  \n",
       "528        1  \n",
       "3809       0  "
      ]
     },
     "execution_count": 31,
     "metadata": {},
     "output_type": "execute_result"
    }
   ],
   "source": [
    "df_train[['cleaned', 'rating']].head()"
   ]
  },
  {
   "cell_type": "code",
   "execution_count": 32,
   "metadata": {},
   "outputs": [
    {
     "data": {
      "text/plain": [
       "(3800, 3)"
      ]
     },
     "execution_count": 32,
     "metadata": {},
     "output_type": "execute_result"
    }
   ],
   "source": [
    "df_train.shape"
   ]
  },
  {
   "cell_type": "code",
   "execution_count": 33,
   "metadata": {},
   "outputs": [
    {
     "data": {
      "text/html": [
       "<div>\n",
       "<style scoped>\n",
       "    .dataframe tbody tr th:only-of-type {\n",
       "        vertical-align: middle;\n",
       "    }\n",
       "\n",
       "    .dataframe tbody tr th {\n",
       "        vertical-align: top;\n",
       "    }\n",
       "\n",
       "    .dataframe thead th {\n",
       "        text-align: right;\n",
       "    }\n",
       "</style>\n",
       "<table border=\"1\" class=\"dataframe\">\n",
       "  <thead>\n",
       "    <tr style=\"text-align: right;\">\n",
       "      <th></th>\n",
       "      <th>cleaned</th>\n",
       "      <th>rating</th>\n",
       "    </tr>\n",
       "  </thead>\n",
       "  <tbody>\n",
       "    <tr>\n",
       "      <th>76</th>\n",
       "      <td>[original, equipment, battery, charger, manufactered, canon, performance, charger, excellent, canon, product, price, paid, wa, comparible, non-sale, priced, item, puchased, via, internet, site, item, wa, recieved, original, packaging, 3, day, placing, order, wa, new, reconditioned, new, appearance, extremely, pleased, entire, purchase, process, experienced, information, given, site, ease, ordering, fast, shipping]</td>\n",
       "      <td>1</td>\n",
       "    </tr>\n",
       "    <tr>\n",
       "      <th>3273</th>\n",
       "      <td>[using, radio, two, month, say, battery, life, poor.a, full, charge, doe, n't, hold, three, hours.perhaps, battery, n't, come, good, condition, n't, use, aaa, yet, ..., 10, mile, range, true, normal, environment, open, sea, desert, perhaps.product, work, fine, battery, la]</td>\n",
       "      <td>0</td>\n",
       "    </tr>\n",
       "    <tr>\n",
       "      <th>2460</th>\n",
       "      <td>[bought, year, ago, ha, lens, cap, error, appears, like, shutter, never, open, record, video, spoke, jvc, seemed, know, problem, send, update, rating, see, wrong, fix, stand, behind, product, watch, detail, failed, complaint, wa, wa, little, flakey, lighting, otherwise, worked, okay, price]</td>\n",
       "      <td>0</td>\n",
       "    </tr>\n",
       "    <tr>\n",
       "      <th>3935</th>\n",
       "      <td>[bought, c., crane, fm, transmitter, expecting, broadcast, computer, listen, fm, tuner, headset, worked, around, house, yard, broadcast, 5, 6, foot, max, box, performed, power, boosting, ``, fix, '', broadcast, 10-20, foot, 'm, lucky, static, overpowers, signal, wa, disappointing, purchase, directly, c., crane, way, met, expectation, requires, setting, transmitter, grounded, metal, plate, lengthening, antenna, order, bring, transmission, whole, house, yard, capability, build, way, get-go, state, limitation, transmitter, forthrightly, kept, transmitter, wanted, one, car, 's, physically, well, built, work, fine, also, use, play, ipod, radio, ..., understand, radio, sitting, right, next, transmitter, want, transmit, throughout, house, yard, look, elsewhere]</td>\n",
       "      <td>0</td>\n",
       "    </tr>\n",
       "    <tr>\n",
       "      <th>475</th>\n",
       "      <td>[carrying, case, made, either, fake, leather, kind, neoprene, material, one, really, different, rigid, structure, also, seem, great, job, protect, camera, also, belt, loop, d-ring, feature, great]</td>\n",
       "      <td>1</td>\n",
       "    </tr>\n",
       "  </tbody>\n",
       "</table>\n",
       "</div>"
      ],
      "text/plain": [
       "                                                                                                                                                                                                                                                                                                                                                                                                                                                                                                                                                                                                                                                                                                                                                                                           cleaned  \\\n",
       "76                                                                                                                                                                                                                                                                                                                                                               [original, equipment, battery, charger, manufactered, canon, performance, charger, excellent, canon, product, price, paid, wa, comparible, non-sale, priced, item, puchased, via, internet, site, item, wa, recieved, original, packaging, 3, day, placing, order, wa, new, reconditioned, new, appearance, extremely, pleased, entire, purchase, process, experienced, information, given, site, ease, ordering, fast, shipping]   \n",
       "3273                                                                                                                                                                                                                                                                                                                                                                                                                                                                                                             [using, radio, two, month, say, battery, life, poor.a, full, charge, doe, n't, hold, three, hours.perhaps, battery, n't, come, good, condition, n't, use, aaa, yet, ..., 10, mile, range, true, normal, environment, open, sea, desert, perhaps.product, work, fine, battery, la]   \n",
       "2460                                                                                                                                                                                                                                                                                                                                                                                                                                                                                           [bought, year, ago, ha, lens, cap, error, appears, like, shutter, never, open, record, video, spoke, jvc, seemed, know, problem, send, update, rating, see, wrong, fix, stand, behind, product, watch, detail, failed, complaint, wa, wa, little, flakey, lighting, otherwise, worked, okay, price]   \n",
       "3935  [bought, c., crane, fm, transmitter, expecting, broadcast, computer, listen, fm, tuner, headset, worked, around, house, yard, broadcast, 5, 6, foot, max, box, performed, power, boosting, ``, fix, '', broadcast, 10-20, foot, 'm, lucky, static, overpowers, signal, wa, disappointing, purchase, directly, c., crane, way, met, expectation, requires, setting, transmitter, grounded, metal, plate, lengthening, antenna, order, bring, transmission, whole, house, yard, capability, build, way, get-go, state, limitation, transmitter, forthrightly, kept, transmitter, wanted, one, car, 's, physically, well, built, work, fine, also, use, play, ipod, radio, ..., understand, radio, sitting, right, next, transmitter, want, transmit, throughout, house, yard, look, elsewhere]   \n",
       "475                                                                                                                                                                                                                                                                                                                                                                                                                                                                                                                                                                                           [carrying, case, made, either, fake, leather, kind, neoprene, material, one, really, different, rigid, structure, also, seem, great, job, protect, camera, also, belt, loop, d-ring, feature, great]   \n",
       "\n",
       "      rating  \n",
       "76         1  \n",
       "3273       0  \n",
       "2460       0  \n",
       "3935       0  \n",
       "475        1  "
      ]
     },
     "execution_count": 33,
     "metadata": {},
     "output_type": "execute_result"
    }
   ],
   "source": [
    "df_test[['cleaned', 'rating']].head()"
   ]
  },
  {
   "cell_type": "code",
   "execution_count": 34,
   "metadata": {},
   "outputs": [
    {
     "data": {
      "text/plain": [
       "(200, 3)"
      ]
     },
     "execution_count": 34,
     "metadata": {},
     "output_type": "execute_result"
    }
   ],
   "source": [
    "df_test.shape"
   ]
  },
  {
   "cell_type": "markdown",
   "metadata": {},
   "source": [
    "Створення словника на основі трансформацій:"
   ]
  },
  {
   "cell_type": "code",
   "execution_count": 35,
   "metadata": {},
   "outputs": [],
   "source": [
    "def flat_nested(nested):\n",
    "    flatten = []\n",
    "    for item in nested:\n",
    "        if isinstance(item, list):\n",
    "            flatten.extend(item)\n",
    "        else:\n",
    "            flatten.append(item)\n",
    "    return flatten"
   ]
  },
  {
   "cell_type": "markdown",
   "metadata": {},
   "source": [
    "Чому словник на основі тренувальної вибірки? Бо наперед ми не знаємо що ж то за відгуки ще будуть з \"розподілу\" відгуків про електроніку."
   ]
  },
  {
   "cell_type": "code",
   "execution_count": 36,
   "metadata": {},
   "outputs": [],
   "source": [
    "vocab = set(flat_nested(df_train['cleaned'].tolist()))"
   ]
  },
  {
   "cell_type": "code",
   "execution_count": 37,
   "metadata": {},
   "outputs": [
    {
     "data": {
      "text/plain": [
       "15958"
      ]
     },
     "execution_count": 37,
     "metadata": {},
     "output_type": "execute_result"
    }
   ],
   "source": [
    "len(vocab)"
   ]
  },
  {
   "cell_type": "markdown",
   "metadata": {},
   "source": [
    "А шо в тому словнику то коїться? Давайте подивимося на найбільш розповсюджені вирази."
   ]
  },
  {
   "cell_type": "code",
   "execution_count": 38,
   "metadata": {},
   "outputs": [],
   "source": [
    "from collections import Counter, defaultdict \n",
    "\n",
    "cnt_vocab = Counter(flat_nested(df_train['cleaned'].tolist()))"
   ]
  },
  {
   "cell_type": "code",
   "execution_count": 39,
   "metadata": {},
   "outputs": [
    {
     "data": {
      "text/plain": [
       "[('camera', 3668),\n",
       " ('wa', 3022),\n",
       " (\"n't\", 2654),\n",
       " (\"'s\", 2128),\n",
       " ('one', 1877),\n",
       " ('use', 1469),\n",
       " ('would', 1459),\n",
       " ('picture', 1412),\n",
       " ('lens', 1329),\n",
       " ('good', 1325),\n",
       " ('get', 1250),\n",
       " ('great', 1250),\n",
       " ('ha', 1207),\n",
       " ('work', 1194),\n",
       " ('time', 1182),\n",
       " (\"''\", 1121),\n",
       " ('battery', 1087),\n",
       " ('like', 1040),\n",
       " ('product', 1016),\n",
       " ('quality', 1012)]"
      ]
     },
     "execution_count": 39,
     "metadata": {},
     "output_type": "execute_result"
    }
   ],
   "source": [
    "cnt_vocab.most_common(20)"
   ]
  },
  {
   "cell_type": "markdown",
   "metadata": {},
   "source": [
    "Загалом трапляються на очі нормальні слова, але видно що в словнику є частки до займенників, лапки від назв та інше, які не були оброблені текстовим процесором."
   ]
  },
  {
   "cell_type": "code",
   "execution_count": 40,
   "metadata": {},
   "outputs": [
    {
     "data": {
      "text/plain": [
       "[('weakly', 1),\n",
       " ('selectivity', 1),\n",
       " ('broadcaster', 1),\n",
       " ('enormously', 1),\n",
       " ('defying', 1),\n",
       " ('consigned', 1),\n",
       " ('province', 1),\n",
       " ('ascertaining', 1),\n",
       " ('dalai', 1),\n",
       " ('lama', 1),\n",
       " ('5,000', 1),\n",
       " ('150,000', 1),\n",
       " ('conventiona', 1),\n",
       " ('australian', 1),\n",
       " ('havana', 1),\n",
       " ('serbia', 1),\n",
       " ('croatia', 1),\n",
       " ('netherlands', 1),\n",
       " ('israel', 1),\n",
       " ('seaboard', 1),\n",
       " ('easy-to-read', 1),\n",
       " ('knowlege', 1),\n",
       " ('equipped', 1),\n",
       " ('investigator', 1),\n",
       " ('ir-sensitive', 1),\n",
       " ('cheeseygreen', 1),\n",
       " ('time/date', 1),\n",
       " ('xfer', 1),\n",
       " ('sleepmode', 1),\n",
       " ('alloy', 1),\n",
       " ('close-proximity', 1),\n",
       " ('print/siloutte', 1),\n",
       " ('97.00', 1),\n",
       " ('impacted', 1),\n",
       " ('100.00/yr', 1),\n",
       " ('maintaining', 1),\n",
       " ('hallmark', 1),\n",
       " ('6db', 1),\n",
       " ('2db', 1),\n",
       " ('cd543rm', 1),\n",
       " ('543', 1),\n",
       " ('543.', 1),\n",
       " ('clicky', 1),\n",
       " ('ihome', 1),\n",
       " ('caselogic', 1),\n",
       " ('discontinuing', 1),\n",
       " ('lowdown', 1),\n",
       " ('16x20', 1),\n",
       " ('chorus', 1)]"
      ]
     },
     "execution_count": 40,
     "metadata": {},
     "output_type": "execute_result"
    }
   ],
   "source": [
    "cnt_vocab.most_common()[-50:-1]"
   ]
  },
  {
   "cell_type": "markdown",
   "metadata": {},
   "source": [
    "Серед найменш застосовних слів використовуються наче нормальні слова, більша частка яких може бути синонімами більш розповсюджених слів. Поки побудуємо словник без слів-часток та подібного."
   ]
  },
  {
   "cell_type": "code",
   "execution_count": 41,
   "metadata": {},
   "outputs": [],
   "source": [
    "threshold_count = 1\n",
    "threshold_len = 2\n",
    "cleaned_vocab = list()\n",
    "for token, count in cnt_vocab.items():\n",
    "    if count > threshold_count and len(token) > threshold_len:\n",
    "        cond_digit = not any(c.isdigit() for c in token)\n",
    "        cond_punct = token[0] not in punctuation\n",
    "        \n",
    "        if cond_digit and cond_punct:\n",
    "            cleaned_vocab.append(token)"
   ]
  },
  {
   "cell_type": "code",
   "execution_count": 42,
   "metadata": {},
   "outputs": [
    {
     "data": {
      "text/plain": [
       "7042"
      ]
     },
     "execution_count": 42,
     "metadata": {},
     "output_type": "execute_result"
    }
   ],
   "source": [
    "len(cleaned_vocab)"
   ]
  },
  {
   "cell_type": "code",
   "execution_count": 127,
   "metadata": {},
   "outputs": [
    {
     "name": "stderr",
     "output_type": "stream",
     "text": [
      "/tmp/ipykernel_3938/3297121535.py:7: SettingWithCopyWarning: \n",
      "A value is trying to be set on a copy of a slice from a DataFrame.\n",
      "Try using .loc[row_indexer,col_indexer] = value instead\n",
      "\n",
      "See the caveats in the documentation: https://pandas.pydata.org/pandas-docs/stable/user_guide/indexing.html#returning-a-view-versus-a-copy\n",
      "  df_test['filtered'] = df_test['cleaned'].apply(lambda u: sequence_cleaner(u, cleaned_vocab))\n"
     ]
    }
   ],
   "source": [
    "# Фільтрування на основі нового словника\n",
    "def sequence_cleaner(s, voc):\n",
    "    res = [sj for sj in s if sj in voc]\n",
    "    return res\n",
    "\n",
    "df_train['filtered'] = df_train['cleaned'].apply(lambda u: sequence_cleaner(u, cleaned_vocab))\n",
    "df_test['filtered'] = df_test['cleaned'].apply(lambda u: sequence_cleaner(u, cleaned_vocab))"
   ]
  },
  {
   "cell_type": "code",
   "execution_count": 128,
   "metadata": {},
   "outputs": [
    {
     "data": {
      "text/html": [
       "<div>\n",
       "<style scoped>\n",
       "    .dataframe tbody tr th:only-of-type {\n",
       "        vertical-align: middle;\n",
       "    }\n",
       "\n",
       "    .dataframe tbody tr th {\n",
       "        vertical-align: top;\n",
       "    }\n",
       "\n",
       "    .dataframe thead th {\n",
       "        text-align: right;\n",
       "    }\n",
       "</style>\n",
       "<table border=\"1\" class=\"dataframe\">\n",
       "  <thead>\n",
       "    <tr style=\"text-align: right;\">\n",
       "      <th></th>\n",
       "      <th>cleaned</th>\n",
       "      <th>filtered</th>\n",
       "      <th>rating</th>\n",
       "    </tr>\n",
       "  </thead>\n",
       "  <tbody>\n",
       "    <tr>\n",
       "      <th>3720</th>\n",
       "      <td>[software, terrible, slow, glitchy, start, close, multiple, time, get, find, player, operator, manual, 100, page, fun, learning, intricacy, control, granted, hardware, cute, variety, function, impressive, --, assuming, sufficient, spare, time, study, manual]</td>\n",
       "      <td>[software, terrible, slow, glitchy, start, close, multiple, time, get, find, player, operator, manual, page, fun, learning, control, granted, hardware, cute, variety, function, impressive, assuming, sufficient, spare, time, study, manual]</td>\n",
       "      <td>0</td>\n",
       "    </tr>\n",
       "    <tr>\n",
       "      <th>3310</th>\n",
       "      <td>[1gb, titanium, sandisk, cruzer, work, fail, tried, several, time, contact, sandisk, including, selling, vendor, absolutely, response, wife, 's, cruzer, failed, well, power, light, come, recognized, xp, light, go, system, ca, n't, id, device, 's, useless, doe, thing, xp, system, house, 've, tried, front, side, usb, connection, rear, connection, hub, connection, dice, 'll, never, buy, another, sandisk, cruzer, wa, going, order, another, 100, office, loss]</td>\n",
       "      <td>[titanium, sandisk, cruzer, work, fail, tried, several, time, contact, sandisk, including, selling, vendor, absolutely, response, wife, cruzer, failed, well, power, light, come, recognized, light, system, n't, device, useless, doe, thing, system, house, tried, front, side, usb, connection, rear, connection, hub, connection, dice, never, buy, another, sandisk, cruzer, going, order, another, office, loss]</td>\n",
       "      <td>0</td>\n",
       "    </tr>\n",
       "    <tr>\n",
       "      <th>3219</th>\n",
       "      <td>[ordered, product, june, 21st, told, receive, oct, 28th, would, n't, waste, time, ordering, product, amazon]</td>\n",
       "      <td>[ordered, product, june, told, receive, oct, would, n't, waste, time, ordering, product, amazon]</td>\n",
       "      <td>0</td>\n",
       "    </tr>\n",
       "    <tr>\n",
       "      <th>528</th>\n",
       "      <td>[bought, battery, charger, going, overseas, trip, n't, want, bothered, frequently, changing, aa, battery, seemed, last, day, heavy, use, wa, quite, pleased, performance, rechargeables, lasted, several, day, heavy, use, needing, charged, re-charged, hour, big, bonus, n't, expect, recharger, compatible, european, 240, voltage, n't, use, electric, converter]</td>\n",
       "      <td>[bought, battery, charger, going, overseas, trip, n't, want, bothered, frequently, changing, battery, seemed, last, day, heavy, use, quite, pleased, performance, rechargeables, lasted, several, day, heavy, use, needing, charged, re-charged, hour, big, bonus, n't, expect, recharger, compatible, european, voltage, n't, use, electric, converter]</td>\n",
       "      <td>1</td>\n",
       "    </tr>\n",
       "    <tr>\n",
       "      <th>3809</th>\n",
       "      <td>[terrible, user, interface, must, page, ton, cryptic, menu, set, basic, feature, pull, multiple, paper, must, start, g3, would, think, would, compatible, earlier, non-g3, fax, machine, wrong, ca, n't, fax, 75, community, ha, non, g3, unit, thought, wa, buying, quality, canon, paid, 250, hunk, junk, cheap, brother, hp, 's, work, never, problem, easier, use, much, le, expensive, save, money, save, headache, sorry, canon, product, wa, disaster]</td>\n",
       "      <td>[terrible, user, interface, must, page, ton, menu, set, basic, feature, pull, multiple, paper, must, start, would, think, would, compatible, earlier, fax, machine, wrong, n't, fax, non, unit, thought, buying, quality, canon, paid, hunk, junk, cheap, brother, work, never, problem, easier, use, much, expensive, save, money, save, headache, sorry, canon, product, disaster]</td>\n",
       "      <td>0</td>\n",
       "    </tr>\n",
       "  </tbody>\n",
       "</table>\n",
       "</div>"
      ],
      "text/plain": [
       "                                                                                                                                                                                                                                                                                                                                                                                                                                                                         cleaned  \\\n",
       "3720                                                                                                                                                                                                          [software, terrible, slow, glitchy, start, close, multiple, time, get, find, player, operator, manual, 100, page, fun, learning, intricacy, control, granted, hardware, cute, variety, function, impressive, --, assuming, sufficient, spare, time, study, manual]   \n",
       "3310  [1gb, titanium, sandisk, cruzer, work, fail, tried, several, time, contact, sandisk, including, selling, vendor, absolutely, response, wife, 's, cruzer, failed, well, power, light, come, recognized, xp, light, go, system, ca, n't, id, device, 's, useless, doe, thing, xp, system, house, 've, tried, front, side, usb, connection, rear, connection, hub, connection, dice, 'll, never, buy, another, sandisk, cruzer, wa, going, order, another, 100, office, loss]   \n",
       "3219                                                                                                                                                                                                                                                                                                                                                                [ordered, product, june, 21st, told, receive, oct, 28th, would, n't, waste, time, ordering, product, amazon]   \n",
       "528                                                                                                        [bought, battery, charger, going, overseas, trip, n't, want, bothered, frequently, changing, aa, battery, seemed, last, day, heavy, use, wa, quite, pleased, performance, rechargeables, lasted, several, day, heavy, use, needing, charged, re-charged, hour, big, bonus, n't, expect, recharger, compatible, european, 240, voltage, n't, use, electric, converter]   \n",
       "3809               [terrible, user, interface, must, page, ton, cryptic, menu, set, basic, feature, pull, multiple, paper, must, start, g3, would, think, would, compatible, earlier, non-g3, fax, machine, wrong, ca, n't, fax, 75, community, ha, non, g3, unit, thought, wa, buying, quality, canon, paid, 250, hunk, junk, cheap, brother, hp, 's, work, never, problem, easier, use, much, le, expensive, save, money, save, headache, sorry, canon, product, wa, disaster]   \n",
       "\n",
       "                                                                                                                                                                                                                                                                                                                                                                                                                    filtered  \\\n",
       "3720                                                                                                                                                                          [software, terrible, slow, glitchy, start, close, multiple, time, get, find, player, operator, manual, page, fun, learning, control, granted, hardware, cute, variety, function, impressive, assuming, sufficient, spare, time, study, manual]   \n",
       "3310  [titanium, sandisk, cruzer, work, fail, tried, several, time, contact, sandisk, including, selling, vendor, absolutely, response, wife, cruzer, failed, well, power, light, come, recognized, light, system, n't, device, useless, doe, thing, system, house, tried, front, side, usb, connection, rear, connection, hub, connection, dice, never, buy, another, sandisk, cruzer, going, order, another, office, loss]   \n",
       "3219                                                                                                                                                                                                                                                                                                                        [ordered, product, june, told, receive, oct, would, n't, waste, time, ordering, product, amazon]   \n",
       "528                                                                 [bought, battery, charger, going, overseas, trip, n't, want, bothered, frequently, changing, battery, seemed, last, day, heavy, use, quite, pleased, performance, rechargeables, lasted, several, day, heavy, use, needing, charged, re-charged, hour, big, bonus, n't, expect, recharger, compatible, european, voltage, n't, use, electric, converter]   \n",
       "3809                                    [terrible, user, interface, must, page, ton, menu, set, basic, feature, pull, multiple, paper, must, start, would, think, would, compatible, earlier, fax, machine, wrong, n't, fax, non, unit, thought, buying, quality, canon, paid, hunk, junk, cheap, brother, work, never, problem, easier, use, much, expensive, save, money, save, headache, sorry, canon, product, disaster]   \n",
       "\n",
       "      rating  \n",
       "3720       0  \n",
       "3310       0  \n",
       "3219       0  \n",
       "528        1  \n",
       "3809       0  "
      ]
     },
     "execution_count": 128,
     "metadata": {},
     "output_type": "execute_result"
    }
   ],
   "source": [
    "df_train[['cleaned', 'filtered', 'rating']].head()"
   ]
  },
  {
   "cell_type": "code",
   "execution_count": 45,
   "metadata": {},
   "outputs": [
    {
     "data": {
      "text/html": [
       "<div>\n",
       "<style scoped>\n",
       "    .dataframe tbody tr th:only-of-type {\n",
       "        vertical-align: middle;\n",
       "    }\n",
       "\n",
       "    .dataframe tbody tr th {\n",
       "        vertical-align: top;\n",
       "    }\n",
       "\n",
       "    .dataframe thead th {\n",
       "        text-align: right;\n",
       "    }\n",
       "</style>\n",
       "<table border=\"1\" class=\"dataframe\">\n",
       "  <thead>\n",
       "    <tr style=\"text-align: right;\">\n",
       "      <th></th>\n",
       "      <th>cleaned</th>\n",
       "      <th>filtered</th>\n",
       "      <th>rating</th>\n",
       "    </tr>\n",
       "  </thead>\n",
       "  <tbody>\n",
       "    <tr>\n",
       "      <th>76</th>\n",
       "      <td>[original, equipment, battery, charger, manufactered, canon, performance, charger, excellent, canon, product, price, paid, wa, comparible, non-sale, priced, item, puchased, via, internet, site, item, wa, recieved, original, packaging, 3, day, placing, order, wa, new, reconditioned, new, appearance, extremely, pleased, entire, purchase, process, experienced, information, given, site, ease, ordering, fast, shipping]</td>\n",
       "      <td>[original, equipment, battery, charger, canon, performance, charger, excellent, canon, product, price, paid, priced, item, puchased, via, internet, site, item, recieved, original, packaging, day, placing, order, new, reconditioned, new, appearance, extremely, pleased, entire, purchase, process, experienced, information, given, site, ease, ordering, fast, shipping]</td>\n",
       "      <td>1</td>\n",
       "    </tr>\n",
       "    <tr>\n",
       "      <th>3273</th>\n",
       "      <td>[using, radio, two, month, say, battery, life, poor.a, full, charge, doe, n't, hold, three, hours.perhaps, battery, n't, come, good, condition, n't, use, aaa, yet, ..., 10, mile, range, true, normal, environment, open, sea, desert, perhaps.product, work, fine, battery, la]</td>\n",
       "      <td>[using, radio, two, month, say, battery, life, full, charge, doe, n't, hold, three, battery, n't, come, good, condition, n't, use, aaa, yet, mile, range, true, normal, environment, open, sea, work, fine, battery]</td>\n",
       "      <td>0</td>\n",
       "    </tr>\n",
       "    <tr>\n",
       "      <th>2460</th>\n",
       "      <td>[bought, year, ago, ha, lens, cap, error, appears, like, shutter, never, open, record, video, spoke, jvc, seemed, know, problem, send, update, rating, see, wrong, fix, stand, behind, product, watch, detail, failed, complaint, wa, wa, little, flakey, lighting, otherwise, worked, okay, price]</td>\n",
       "      <td>[bought, year, ago, lens, cap, error, appears, like, shutter, never, open, record, video, spoke, jvc, seemed, know, problem, send, update, rating, see, wrong, fix, stand, behind, product, watch, detail, failed, complaint, little, lighting, otherwise, worked, okay, price]</td>\n",
       "      <td>0</td>\n",
       "    </tr>\n",
       "    <tr>\n",
       "      <th>3935</th>\n",
       "      <td>[bought, c., crane, fm, transmitter, expecting, broadcast, computer, listen, fm, tuner, headset, worked, around, house, yard, broadcast, 5, 6, foot, max, box, performed, power, boosting, ``, fix, '', broadcast, 10-20, foot, 'm, lucky, static, overpowers, signal, wa, disappointing, purchase, directly, c., crane, way, met, expectation, requires, setting, transmitter, grounded, metal, plate, lengthening, antenna, order, bring, transmission, whole, house, yard, capability, build, way, get-go, state, limitation, transmitter, forthrightly, kept, transmitter, wanted, one, car, 's, physically, well, built, work, fine, also, use, play, ipod, radio, ..., understand, radio, sitting, right, next, transmitter, want, transmit, throughout, house, yard, look, elsewhere]</td>\n",
       "      <td>[bought, transmitter, expecting, broadcast, computer, listen, tuner, headset, worked, around, house, yard, broadcast, foot, max, box, performed, power, fix, broadcast, foot, lucky, static, signal, disappointing, purchase, directly, way, met, expectation, requires, setting, transmitter, metal, plate, antenna, order, bring, whole, house, yard, capability, build, way, state, limitation, transmitter, kept, transmitter, wanted, one, car, physically, well, built, work, fine, also, use, play, ipod, radio, understand, radio, sitting, right, next, transmitter, want, transmit, throughout, house, yard, look, elsewhere]</td>\n",
       "      <td>0</td>\n",
       "    </tr>\n",
       "    <tr>\n",
       "      <th>475</th>\n",
       "      <td>[carrying, case, made, either, fake, leather, kind, neoprene, material, one, really, different, rigid, structure, also, seem, great, job, protect, camera, also, belt, loop, d-ring, feature, great]</td>\n",
       "      <td>[carrying, case, made, either, fake, leather, kind, neoprene, material, one, really, different, rigid, also, seem, great, job, protect, camera, also, belt, loop, feature, great]</td>\n",
       "      <td>1</td>\n",
       "    </tr>\n",
       "  </tbody>\n",
       "</table>\n",
       "</div>"
      ],
      "text/plain": [
       "                                                                                                                                                                                                                                                                                                                                                                                                                                                                                                                                                                                                                                                                                                                                                                                           cleaned  \\\n",
       "76                                                                                                                                                                                                                                                                                                                                                               [original, equipment, battery, charger, manufactered, canon, performance, charger, excellent, canon, product, price, paid, wa, comparible, non-sale, priced, item, puchased, via, internet, site, item, wa, recieved, original, packaging, 3, day, placing, order, wa, new, reconditioned, new, appearance, extremely, pleased, entire, purchase, process, experienced, information, given, site, ease, ordering, fast, shipping]   \n",
       "3273                                                                                                                                                                                                                                                                                                                                                                                                                                                                                                             [using, radio, two, month, say, battery, life, poor.a, full, charge, doe, n't, hold, three, hours.perhaps, battery, n't, come, good, condition, n't, use, aaa, yet, ..., 10, mile, range, true, normal, environment, open, sea, desert, perhaps.product, work, fine, battery, la]   \n",
       "2460                                                                                                                                                                                                                                                                                                                                                                                                                                                                                           [bought, year, ago, ha, lens, cap, error, appears, like, shutter, never, open, record, video, spoke, jvc, seemed, know, problem, send, update, rating, see, wrong, fix, stand, behind, product, watch, detail, failed, complaint, wa, wa, little, flakey, lighting, otherwise, worked, okay, price]   \n",
       "3935  [bought, c., crane, fm, transmitter, expecting, broadcast, computer, listen, fm, tuner, headset, worked, around, house, yard, broadcast, 5, 6, foot, max, box, performed, power, boosting, ``, fix, '', broadcast, 10-20, foot, 'm, lucky, static, overpowers, signal, wa, disappointing, purchase, directly, c., crane, way, met, expectation, requires, setting, transmitter, grounded, metal, plate, lengthening, antenna, order, bring, transmission, whole, house, yard, capability, build, way, get-go, state, limitation, transmitter, forthrightly, kept, transmitter, wanted, one, car, 's, physically, well, built, work, fine, also, use, play, ipod, radio, ..., understand, radio, sitting, right, next, transmitter, want, transmit, throughout, house, yard, look, elsewhere]   \n",
       "475                                                                                                                                                                                                                                                                                                                                                                                                                                                                                                                                                                                           [carrying, case, made, either, fake, leather, kind, neoprene, material, one, really, different, rigid, structure, also, seem, great, job, protect, camera, also, belt, loop, d-ring, feature, great]   \n",
       "\n",
       "                                                                                                                                                                                                                                                                                                                                                                                                                                                                                                                                                                                                                                     filtered  \\\n",
       "76                                                                                                                                                                                                                                                             [original, equipment, battery, charger, canon, performance, charger, excellent, canon, product, price, paid, priced, item, puchased, via, internet, site, item, recieved, original, packaging, day, placing, order, new, reconditioned, new, appearance, extremely, pleased, entire, purchase, process, experienced, information, given, site, ease, ordering, fast, shipping]   \n",
       "3273                                                                                                                                                                                                                                                                                                                                                                                                                     [using, radio, two, month, say, battery, life, full, charge, doe, n't, hold, three, battery, n't, come, good, condition, n't, use, aaa, yet, mile, range, true, normal, environment, open, sea, work, fine, battery]   \n",
       "2460                                                                                                                                                                                                                                                                                                                                                          [bought, year, ago, lens, cap, error, appears, like, shutter, never, open, record, video, spoke, jvc, seemed, know, problem, send, update, rating, see, wrong, fix, stand, behind, product, watch, detail, failed, complaint, little, lighting, otherwise, worked, okay, price]   \n",
       "3935  [bought, transmitter, expecting, broadcast, computer, listen, tuner, headset, worked, around, house, yard, broadcast, foot, max, box, performed, power, fix, broadcast, foot, lucky, static, signal, disappointing, purchase, directly, way, met, expectation, requires, setting, transmitter, metal, plate, antenna, order, bring, whole, house, yard, capability, build, way, state, limitation, transmitter, kept, transmitter, wanted, one, car, physically, well, built, work, fine, also, use, play, ipod, radio, understand, radio, sitting, right, next, transmitter, want, transmit, throughout, house, yard, look, elsewhere]   \n",
       "475                                                                                                                                                                                                                                                                                                                                                                                                                                                         [carrying, case, made, either, fake, leather, kind, neoprene, material, one, really, different, rigid, also, seem, great, job, protect, camera, also, belt, loop, feature, great]   \n",
       "\n",
       "      rating  \n",
       "76         1  \n",
       "3273       0  \n",
       "2460       0  \n",
       "3935       0  \n",
       "475        1  "
      ]
     },
     "execution_count": 45,
     "metadata": {},
     "output_type": "execute_result"
    }
   ],
   "source": [
    "df_test[['cleaned', 'filtered', 'rating']].head()"
   ]
  },
  {
   "cell_type": "markdown",
   "metadata": {},
   "source": [
    "Як то кажуть, ''much better''. Хоча наврядчи вибування деяких часток типу was, does, ... було розумною ідеєю. Маю на увазі, що запропонований підхід до перетворення речення на токени є дещо грубим, бо ріже зв'язки, які частково базуються на тих самих частках."
   ]
  },
  {
   "cell_type": "markdown",
   "metadata": {},
   "source": [
    "Тепер будую рекурентну нейронну мережу з власним шаром вкладення слів."
   ]
  },
  {
   "cell_type": "code",
   "execution_count": 46,
   "metadata": {},
   "outputs": [
    {
     "data": {
      "text/plain": [
       "<torch._C.Generator at 0x7f917e1da8b0>"
      ]
     },
     "execution_count": 46,
     "metadata": {},
     "output_type": "execute_result"
    }
   ],
   "source": [
    "import torch\n",
    "import torch.nn as nn\n",
    "import torch.nn.functional as F\n",
    "import torch.optim as optim\n",
    "\n",
    "# Для відтворення результатів\n",
    "torch.manual_seed(12345)"
   ]
  },
  {
   "cell_type": "code",
   "execution_count": 47,
   "metadata": {},
   "outputs": [
    {
     "data": {
      "text/plain": [
       "device(type='cuda')"
      ]
     },
     "execution_count": 47,
     "metadata": {},
     "output_type": "execute_result"
    }
   ],
   "source": [
    "device = torch.device('cuda' if torch.cuda.is_available() else 'cpu')\n",
    "device"
   ]
  },
  {
   "cell_type": "code",
   "execution_count": 122,
   "metadata": {},
   "outputs": [],
   "source": [
    "# Аби не плутатися в позначеннях\n",
    "VOCAB = cleaned_vocab.copy()\n",
    "VOCAB.append(' ')\n",
    "\n",
    "WORD_TO_IDX = {WORD: IDX for IDX, WORD in enumerate(VOCAB)}\n",
    "\n",
    "def vectorize(s, word_map):\n",
    "    sequence_lengths = list(map(len, s))\n",
    "    max_length = max(sequence_lengths)\n",
    "    \n",
    "    s_idx = np.zeros([len(s), max_length]) + word_map.get(' ', 0)\n",
    "\n",
    "    for j in range(len(s)):\n",
    "        line_idx = [word_map[w] for w in s[j]]\n",
    "        s_idx[j, :len(line_idx)] = line_idx\n",
    "\n",
    "    return s_idx, sequence_lengths"
   ]
  },
  {
   "cell_type": "code",
   "execution_count": 49,
   "metadata": {},
   "outputs": [],
   "source": [
    "class BaseRNN(nn.Module):\n",
    "    \n",
    "    def __init__(self, vocab_size, embedding_size, hidden_size):\n",
    "        super(self.__class__, self).__init__()\n",
    "        # Тренуємо власний шар вкладення слів\n",
    "        self.embedding = nn.Embedding(vocab_size, embedding_size)\n",
    "        # Інші компоненти RNN\n",
    "        self.rnn = nn.RNN(embedding_size, hidden_size, batch_first=True)\n",
    "        self.linear = nn.Linear(hidden_size, 1)      \n",
    "        self.sigmoid = nn.Sigmoid()\n",
    "        \n",
    "    def forward(self, x, sequences_lengths):\n",
    "        # Вкладаємо текст (-ову послідовність) \n",
    "        embedding = self.embedding(x)\n",
    "        pack = torch.nn.utils.rnn.pack_padded_sequence(\n",
    "            embedding, sequences_lengths, \n",
    "            batch_first=True, enforce_sorted=False\n",
    "        )\n",
    "        # Долучаємо рекурентну компоненту\n",
    "        all_hidden_states, hidden = self.rnn(pack)\n",
    "        # Витягуємо з RNN-компоненти дані у класичний шар мережі\n",
    "        from_linear = self.linear(hidden)\n",
    "        # Прогнозуємо тональність текстів\n",
    "        output = self.sigmoid(from_linear)\n",
    "        return output"
   ]
  },
  {
   "cell_type": "code",
   "execution_count": 50,
   "metadata": {},
   "outputs": [
    {
     "data": {
      "text/plain": [
       "BaseRNN(\n",
       "  (embedding): Embedding(7043, 500)\n",
       "  (rnn): RNN(500, 200, batch_first=True)\n",
       "  (linear): Linear(in_features=200, out_features=1, bias=True)\n",
       "  (sigmoid): Sigmoid()\n",
       ")"
      ]
     },
     "execution_count": 50,
     "metadata": {},
     "output_type": "execute_result"
    }
   ],
   "source": [
    "# Ініціалізація моделі\n",
    "model = BaseRNN(\n",
    "    vocab_size=len(VOCAB), embedding_size=500, hidden_size=200\n",
    ")\n",
    "model.to(device)"
   ]
  },
  {
   "cell_type": "code",
   "execution_count": 51,
   "metadata": {},
   "outputs": [],
   "source": [
    "epoch_loss_values = []\n",
    "step_loss_values = []"
   ]
  },
  {
   "cell_type": "code",
   "execution_count": 52,
   "metadata": {},
   "outputs": [],
   "source": [
    "# Функція вартості -- \"бінарна ентропія\" \n",
    "loss_function = nn.BCELoss()\n",
    "# Використаємо ADAM в якості оптимізатора\n",
    "optimizer = torch.optim.Adam(model.parameters(), lr=0.005)"
   ]
  },
  {
   "cell_type": "code",
   "execution_count": 53,
   "metadata": {
    "scrolled": true
   },
   "outputs": [
    {
     "name": "stdout",
     "output_type": "stream",
     "text": [
      "Кількість ітерацій за одну епоху: 76\n",
      "Епоха  1: сумарні втрати: 0.6145652038486379\n",
      "Епоха  2: сумарні втрати: 0.4648618572636653\n",
      "Епоха  3: сумарні втрати: 0.3304756199450869\n",
      "Епоха  4: сумарні втрати: 0.2211702847363133\n",
      "Епоха  5: сумарні втрати: 0.13517543599989856\n",
      "Епоха  6: сумарні втрати: 0.09633684391155835\n",
      "Епоха  7: сумарні втрати: 0.05653760414325485\n",
      "Епоха  8: сумарні втрати: 0.05443794533953463\n",
      "Епоха  9: сумарні втрати: 0.04736822396884429\n",
      "Епоха 10: сумарні втрати: 0.0308934936244776\n",
      "Епоха 11: сумарні втрати: 0.016982377278557247\n",
      "Епоха 12: сумарні втрати: 0.018950549139653487\n",
      "Епоха 13: сумарні втрати: 0.012787211602890727\n",
      "Епоха 14: сумарні втрати: 0.012257474960183333\n",
      "Епоха 15: сумарні втрати: 0.012218830628147484\n",
      "Епоха 16: сумарні втрати: 0.06308820095421795\n",
      "Епоха 17: сумарні втрати: 0.04525535713305305\n",
      "Епоха 18: сумарні втрати: 0.025748887708974315\n",
      "Епоха 19: сумарні втрати: 0.019830201626111946\n",
      "Епоха 20: сумарні втрати: 0.016549514570598195\n"
     ]
    }
   ],
   "source": [
    "batch_size = 50 # => 3800 / 50 = 76 міні-пакетів\n",
    "n_epochs = 20\n",
    "n_train = df_train.shape[0]\n",
    "n_iters = n_train // batch_size\n",
    "print(\"Кількість ітерацій за одну епоху: {}\".format(n_iters))\n",
    "\n",
    "n_tab = str(len(str(n_epochs)))\n",
    "\n",
    "# Аби не ускладнювати код, припустимо, що n_train ділиться на n_iters * batch_size\n",
    "\n",
    "for epoch in range(n_epochs):\n",
    "    epoch_loss = 0 \n",
    "    \n",
    "    df_train_c = df_train.copy().sample(n_train).reset_index(drop=True)\n",
    "    \n",
    "    for step in range(n_iters):\n",
    "\n",
    "        optimizer.zero_grad()\n",
    "        # Випадковий міні-пакет\n",
    "        #current_batch = df_train.sample(batch_size)\n",
    "        # Детермінований міні-пакет\n",
    "        idx = np.arange(0, batch_size, 1) + batch_size * step\n",
    "        current_batch = df_train_c.iloc[idx]\n",
    "\n",
    "        # Векторизація поточного міні-пакета\n",
    "        batch_idx, seq_lengths = vectorize(current_batch['filtered'].tolist(), WORD_TO_IDX)\n",
    "        seq_lengths = np.array(seq_lengths)\n",
    "        # Перетворення векторизованого міні-пакета у тензор\n",
    "        batch_idx = torch.tensor(batch_idx, dtype=torch.int64).to(device)\n",
    "\n",
    "        # Обираємо справжні рейтинги та переводимо у тензор\n",
    "        y_true = current_batch['rating'].tolist() \n",
    "        y_true = torch.tensor(y_true, dtype=torch.float).to(device)\n",
    "\n",
    "        # Прогнозування\n",
    "        y_pred = model(batch_idx, seq_lengths)\n",
    "\n",
    "        loss = loss_function(y_pred.squeeze(), y_true)\n",
    "        \n",
    "        step_loss_values.append(loss)\n",
    "\n",
    "        epoch_loss += loss.item() / n_iters\n",
    "        loss.backward()\n",
    "        optimizer.step()\n",
    "    \n",
    "    epoch_loss_values.append(epoch_loss)\n",
    "            \n",
    "    print(('Епоха {:' + n_tab + '}: сумарні втрати: {}').format(epoch+1, epoch_loss))    "
   ]
  },
  {
   "cell_type": "code",
   "execution_count": 54,
   "metadata": {},
   "outputs": [],
   "source": [
    "import matplotlib.pyplot as plt\n",
    "%matplotlib inline"
   ]
  },
  {
   "cell_type": "code",
   "execution_count": 55,
   "metadata": {},
   "outputs": [
    {
     "data": {
      "image/png": "[encoded data removed]",
      "text/plain": [
       "<Figure size 640x480 with 1 Axes>"
      ]
     },
     "metadata": {},
     "output_type": "display_data"
    }
   ],
   "source": [
    "plt.plot(np.arange(1, n_epochs + 1), epoch_loss_values)\n",
    "plt.show()"
   ]
  },
  {
   "cell_type": "code",
   "execution_count": 56,
   "metadata": {},
   "outputs": [
    {
     "data": {
      "image/png": "[encoded data removed]",
      "text/plain": [
       "<Figure size 640x480 with 1 Axes>"
      ]
     },
     "metadata": {},
     "output_type": "display_data"
    }
   ],
   "source": [
    "plt.plot(\n",
    "    np.arange(1, n_iters * n_epochs + 1), \n",
    "    [v.cpu().detach().numpy() for v in step_loss_values]\n",
    ")\n",
    "plt.show()"
   ]
  },
  {
   "cell_type": "code",
   "execution_count": 57,
   "metadata": {},
   "outputs": [],
   "source": [
    "# Декілька функцій для прогнозування на тестових даних\n",
    "\n",
    "def index_marks(nrows, chunk_size):\n",
    "    return range(1 * chunk_size, (nrows // chunk_size + 1) * chunk_size, chunk_size)\n",
    "\n",
    "def split(df, chunk_size):\n",
    "    indices = index_marks(df.shape[0], chunk_size)\n",
    "    s = np.split(df, indices)\n",
    "    if s[-1].empty:\n",
    "        return s[:-1]\n",
    "    return s"
   ]
  },
  {
   "cell_type": "code",
   "execution_count": 58,
   "metadata": {},
   "outputs": [],
   "source": [
    "def make_predictions(model, df_test, batch_size, threshold, prints_b = True): \n",
    "    n_prints = 0\n",
    "    predictions = []\n",
    "    true_labels = []\n",
    "    # Розбиття даних на міні-пакети\n",
    "    test_batches = split(df_test, batch_size)\n",
    "    \n",
    "    for batch in test_batches:\n",
    "        # Векторизація міні-пакетів\n",
    "        batch_ix, seq_lengths = vectorize(batch['filtered'].tolist(), WORD_TO_IDX)\n",
    "        seq_lengths = np.array(seq_lengths)\n",
    "        # Перетворення міні-пакетів у тензор \n",
    "        batch_ix = torch.tensor(batch_ix, dtype=torch.int64).to(device)\n",
    "\n",
    "        # Обираємо справжні рейтинги\n",
    "        y_true = batch['rating'].tolist()\n",
    "\n",
    "        # Прогнозування\n",
    "        y_pred = model(batch_ix, seq_lengths).cpu().detach().squeeze().numpy()\n",
    "        # Переводимо \"ймовірності\" у прогнози рейтингів\n",
    "        y_pred = [int(pred.item() > threshold) for pred in y_pred]\n",
    "        \n",
    "        # Додаємо до векторів справжніх значень та прогнозів відповідно\n",
    "        predictions.extend(y_pred)\n",
    "        true_labels.extend(y_true)\n",
    "        \n",
    "        # Щось час від часу виводимо: як вдалий, так і невдалий прогноз \n",
    "        if prints_b:\n",
    "            for true, pred, document in zip(y_true, y_pred, batch['text']):\n",
    "                if true == 1.0 and n_prints < 10:\n",
    "                    print(\"Прогноз: {}\".format(pred))\n",
    "                    print(\"Істина: {}\".format(true))\n",
    "                    print(\"Відгук: {}\".format(document))\n",
    "                    print(\"\\n\" + \"\\=\\=\"*20 + \"\\n\")\n",
    "                    n_prints += 1\n",
    "        \n",
    "    return true_labels, predictions"
   ]
  },
  {
   "cell_type": "code",
   "execution_count": 59,
   "metadata": {},
   "outputs": [
    {
     "name": "stdout",
     "output_type": "stream",
     "text": [
      "Прогноз: 1\n",
      "Істина: 1\n",
      "Відгук: \n",
      "This is original equipment battery charger manufactered by Canon. The performance of the charger is excellent as are most Canon products. The price paid was comparible to non-sale priced items puchased via internet sites. The item was recieved in original packaging, 3 days after placing the order, was new (not reconditioned with a new appearance). I am extremely pleased with the entire purchase process experienced, from the information given at the site to ease of ordering and fast shipping\n",
      "\n",
      "\n",
      "\\=\\=\\=\\=\\=\\=\\=\\=\\=\\=\\=\\=\\=\\=\\=\\=\\=\\=\\=\\=\\=\\=\\=\\=\\=\\=\\=\\=\\=\\=\\=\\=\\=\\=\\=\\=\\=\\=\\=\\=\n",
      "\n",
      "Прогноз: 1\n",
      "Істина: 1\n",
      "Відгук: \n",
      "With most of the carrying case made of either fake leather or some kind of neoprene material, this one is really different.  The rigid structure also seem to do a great job to protect the camera.  There is also a belt loop and D-ring feature which is great.\n",
      "\n",
      "\n",
      "\n",
      "\\=\\=\\=\\=\\=\\=\\=\\=\\=\\=\\=\\=\\=\\=\\=\\=\\=\\=\\=\\=\\=\\=\\=\\=\\=\\=\\=\\=\\=\\=\\=\\=\\=\\=\\=\\=\\=\\=\\=\\=\n",
      "\n",
      "Прогноз: 0\n",
      "Істина: 1\n",
      "Відгук: \n",
      "This mouse has never let me down. Really works on most of the surfaces\n",
      "\n",
      "\n",
      "\\=\\=\\=\\=\\=\\=\\=\\=\\=\\=\\=\\=\\=\\=\\=\\=\\=\\=\\=\\=\\=\\=\\=\\=\\=\\=\\=\\=\\=\\=\\=\\=\\=\\=\\=\\=\\=\\=\\=\\=\n",
      "\n",
      "Прогноз: 1\n",
      "Істина: 1\n",
      "Відгук: \n",
      "I wanted to buy a compact slim d-camera. Those with larger zoom are quite bulky, you can't carry around all the time. I think a slim camera is a better choice. I slip into my pocket while wondering around and come across something nice and take a picture of it. You can't do it with a huge camera. \n",
      "After I made up mind about a slim camera, my choices were either Casio Exilim or Sony DSCW series. Casio Exilims are very sexy. They have a lot of mode scenes. They also function as voice recorder. You can take pictures of book pages etc. They have anti-shake capability which is said to reduce blurred images. I was almost buying a Casio Exilim. Being a diligent person I wanted to search more and more. \n",
      "I found out that the so-called anti-shake feature is a bogus. Many people found it useless. That was a good reason to choose Casio. Then I found the picture quality of Exilim is not really good.I found some pictures taken with Exilim. They were soft, not crisp colors. Search the web reviews made by photo professionals. Casio Exilim is rated significantly less than Sony in picture quality. With ISO 200 noise was still detectable in most reviews . Those same reviewers however found Sony DSCW doing a better job . There was no noise with ISO 400 which means even in lower light condition Sony did a better job (less granularity in pictures with low light). Big difference!.\n",
      "One feature of Sony that made it very attractive was its strong macro. It is 0.74 inch which means you can bring your camera 0.74 inch (2 mm) close to an object (say a bug) and still take a brilliant picture of it. \n",
      "Now comparison of Exilim and Sony to summarize:\n",
      "Casio Exilim\n",
      "Anti-shake (it's a bogus)\n",
      "Slim   \n",
      "Lower macro (2.5 inches)\n",
      "Lower picture quality (detectable noise at ISO 200)\n",
      "A lot of scene modes\n",
      "Quick shutter\n",
      "Sony DSCW Series\n",
      "Slim (in fact it is slimmer)\n",
      "Higher macro (0.74 inches)\n",
      "Higher picture quality (No noise in ISO 400)\n",
      "Not a lot of scene modes\n",
      "Quick shutter\n",
      "So.....I purchased a Sony DSCW 7 Mp. I took lots of pictures.\n",
      "They are all brilliant, detailed and crisp, true colors.\n",
      "I tried macro and took pictures of bugs. You can see the hairs on the legs of bugs. Absolutely no noise whatsoever, no blurry.\n",
      "It's a marvel of technology. I took pictures of fireworks in July 4th using high ISO setting. They came out brialliantly like professional pictures.\n",
      "It also uses a different kind of battery that you can't buy at your grocery which can leave you vulnerable. So you may wanna buy a spare one (about 40 bucks). But you can always recharge it. And it lasts much much longer than AAA or Nimh batteries. \n",
      "It was a perfect choice. I highly recommend it.\n",
      "\n",
      "\n",
      "\\=\\=\\=\\=\\=\\=\\=\\=\\=\\=\\=\\=\\=\\=\\=\\=\\=\\=\\=\\=\\=\\=\\=\\=\\=\\=\\=\\=\\=\\=\\=\\=\\=\\=\\=\\=\\=\\=\\=\\=\n",
      "\n",
      "Прогноз: 1\n",
      "Істина: 1\n",
      "Відгук: \n",
      "Excellent product - very ergonomic, easy to set up and use! Wireless works great.\n",
      "I would recommend this product\n",
      "\n",
      "\n",
      "\\=\\=\\=\\=\\=\\=\\=\\=\\=\\=\\=\\=\\=\\=\\=\\=\\=\\=\\=\\=\\=\\=\\=\\=\\=\\=\\=\\=\\=\\=\\=\\=\\=\\=\\=\\=\\=\\=\\=\\=\n",
      "\n",
      "Прогноз: 1\n",
      "Істина: 1\n",
      "Відгук: \n",
      "I'm not a serious piano player, just casual.  Don't have room for a piano, so this serves my purposes.  I just want to entertain myself.  If I were a professional who played in public, not sure if this would be the ultimate keyboard, because it doesn't have a fullsize keyboard.  But for practicing and casual playing it's great!  It has more features than I will ever use\n",
      "\n",
      "\n",
      "\\=\\=\\=\\=\\=\\=\\=\\=\\=\\=\\=\\=\\=\\=\\=\\=\\=\\=\\=\\=\\=\\=\\=\\=\\=\\=\\=\\=\\=\\=\\=\\=\\=\\=\\=\\=\\=\\=\\=\\=\n",
      "\n",
      "Прогноз: 1\n",
      "Істина: 1\n",
      "Відгук: \n",
      "This cable came in a cheap packing and it does not have any logo on it so you can't say which company it belongs to. I have used a lot of sony products and I feel it is not up to the standard of sony. \n",
      "It works great had no problems so far. It is flexible kinds so you don't have to worry about positioning your laptop according to your TV.\n",
      "\n",
      "\n",
      "\\=\\=\\=\\=\\=\\=\\=\\=\\=\\=\\=\\=\\=\\=\\=\\=\\=\\=\\=\\=\\=\\=\\=\\=\\=\\=\\=\\=\\=\\=\\=\\=\\=\\=\\=\\=\\=\\=\\=\\=\n",
      "\n",
      "Прогноз: 0\n",
      "Істина: 1\n",
      "Відгук: \n",
      "These fit over everything very well, and they stayed put without stretching out, which is why my original pads fell off.  I guess it's one of those products that you can't do much better than $10 for, but maybe they could give you double the number of pads or something..\n",
      "\n",
      "\n",
      "\\=\\=\\=\\=\\=\\=\\=\\=\\=\\=\\=\\=\\=\\=\\=\\=\\=\\=\\=\\=\\=\\=\\=\\=\\=\\=\\=\\=\\=\\=\\=\\=\\=\\=\\=\\=\\=\\=\\=\\=\n",
      "\n",
      "Прогноз: 1\n",
      "Істина: 1\n",
      "Відгук: \n",
      "I have been putting this television through its paces since I got it a few weeks ago, and it is by far the best TV I have ever owned, and very difficult to beat.  The image quality is really good, with bright, vivid colors and wonderful detail, especially for 1080i/p content, but even lower-resolution 720p content, which is what's more commonly-available on OTA HD broadcast, looks phenomenal.  I also have an Apple TV hooked up to it, and even though most of my content is encoded at either 360p, 480p, or 720p, it still looks quite good.\n",
      "\n",
      "It does take some time to get the image tuned to perfection, and the default settings are way too bright with too much color saturation boost, and the DNIe processing system actually seems to make some motion effects worse.  However, it's very easy to change the settings and see immediately what effect they have.\n",
      "\n",
      "Like all LCDs it does have some slight black point problems; these aren't noticeable for fullscreen 16:9 content, but for older 4:3 content it's pretty obvious that the black isn't pure black.  However, this is again tunable.\n",
      "\n",
      "The only thing I really notice which is pretty annoying is that it doesn't do a very good job of upscaling 480i content, such as the output from most video game systems, and for DVDs to look good you really need an upconverting player since even with a progressive-scan player there is a lot of visible pixelation when the 480p content is scaled up.  It's really more a sad reflection on how the previous \"next-generation\" video looks downright primitive by today's standards.\n",
      "\n",
      "The other noticeable issue is that unlike many televisions with digital tuners, it doesn't have an on-screen program guide.  My previous TV (also a Samsung) had an on-screen program guide, but it was rather cumbersome to use and took several minutes of scanning every channel to see what was on, and most local channels are pretty inconsistent about providing the EPG information anyway, so it's not really that big of a deal.  You can still see the detailed information for the program that's currently showing, so it makes use of EPG, just not as much as it could.\n",
      "\n",
      "This television's tuner is also quite phenomenal.  My previous TV required a very carefully-positioned powered antenna which was very sensitive to every little nearby fluctuation, while with this one I only have a piece of wire jammed into the antenna port and I get perfect reception of every local digital station.\n",
      "\n",
      "Another nice improvement over Samsung's older HDTVs is that it has a wide variety of zoom modes which allow you to counteract some of the stupider things that TV stations do (for example, pillboxing a letterboxed 16:9 show, which is very common for widescreen non-HD programming).  Also, analog TV stations and source inputs get their audio signals upconverted to digital, so you only need to run a single optical audio connection to your stereo (while previous Samsungs required running both analog and digital cables and switching between the two inputs based on source material).\n",
      "\n",
      "As a PC monitor this is also quite nice.  I have a Mac mini hooked up via SVGA cable, and even with an analog signal it looks perfectly sharp and crystal-clear, and of course you can hook it up via HDMI (with a DVI to HDMI adaptor) as well.  The only gripe there is that the supported resolutions are a bit quaint - at least on analog SVGA the only 16:9 resolution it supports is 1920x1080, which can be difficult for some older systems to handle.  However, on HDMI it should support all the standard HD resolutions.\n",
      "\n",
      "This television may be more expensive than others in its size class, but it also far outshines every other TV I have seen, aside from the newer LN-T4065, which is nearly identical aside from providing a higher dynamic contrast ratio.  If you want to only buy one TV which will last for a long time, it would be hard to go wrong with this one\n",
      "\n",
      "\n",
      "\\=\\=\\=\\=\\=\\=\\=\\=\\=\\=\\=\\=\\=\\=\\=\\=\\=\\=\\=\\=\\=\\=\\=\\=\\=\\=\\=\\=\\=\\=\\=\\=\\=\\=\\=\\=\\=\\=\\=\\=\n",
      "\n",
      "Прогноз: 1\n",
      "Істина: 1\n",
      "Відгук: \n",
      "I have to say this mouse pad has far exceeded anything I hoped for. When I first opened the box it was shipped in I was very put off. There was a Very, Very strong chemical smell. I chalked it up to something in the packaging material. It turns out that was not where the smell was coming from. It was the mouse pad itself. Having worked in a shoe factory years ago I was able to identify the smell as an industrial glue. The smell hung around for a couple of days. Now, 1 week after having received my purchase if I put my nose close to the pad, it still carries the faint smell of industrial glue. I would caution those with allergies and/or asthma to consider this prior to purchase. As an asthmatic I can say it did affect my breathing some what. That seems to have gotten better as the smelled has lessened. I have finished with my public health warning. On to the mouse pad. \n",
      "     It is simply the best mouse pad I have ever used. I have had wrist problems for over 4 years now. I have had swelling and pain from my right pinkie finger to my elbow as a result of console gaming and lots of keyboarding work. In the past week my swelling has greatly reduced. My pain is almost gone. My wrist sits perfectly on  the wrist rest. The pad actually cradles my wrist. The wrist rest moves with my hand, so well and with so much support, it seems to be an extension of my body. A new improved appendage. I have found myself resting my wrist on the pad even while not computing but just sitting at my desk. It truly is that comfortable. I already have plans to purchase two more for friends as Christmas gifts. Worth Every Cent! Go For It! You Will Not Be Disappointed! \n",
      "\n",
      "\n",
      "\\=\\=\\=\\=\\=\\=\\=\\=\\=\\=\\=\\=\\=\\=\\=\\=\\=\\=\\=\\=\\=\\=\\=\\=\\=\\=\\=\\=\\=\\=\\=\\=\\=\\=\\=\\=\\=\\=\\=\\=\n",
      "\n"
     ]
    }
   ],
   "source": [
    "true_labels, predictions = make_predictions(model, df_test, batch_size=batch_size, threshold=0.5)"
   ]
  },
  {
   "cell_type": "code",
   "execution_count": 60,
   "metadata": {},
   "outputs": [],
   "source": [
    "from sklearn.metrics import classification_report\n",
    "from sklearn.metrics import accuracy_score"
   ]
  },
  {
   "cell_type": "markdown",
   "metadata": {},
   "source": [
    "Матриця якості класифікації на тестових даних:"
   ]
  },
  {
   "cell_type": "code",
   "execution_count": 61,
   "metadata": {
    "scrolled": true
   },
   "outputs": [
    {
     "name": "stdout",
     "output_type": "stream",
     "text": [
      "              precision    recall  f1-score   support\n",
      "\n",
      "           0       0.70      0.78      0.74       100\n",
      "           1       0.75      0.66      0.70       100\n",
      "\n",
      "    accuracy                           0.72       200\n",
      "   macro avg       0.72      0.72      0.72       200\n",
      "weighted avg       0.72      0.72      0.72       200\n",
      "\n",
      "0.72\n"
     ]
    }
   ],
   "source": [
    "print(classification_report(true_labels, predictions))\n",
    "print(accuracy_score(true_labels, predictions))"
   ]
  },
  {
   "cell_type": "code",
   "execution_count": 62,
   "metadata": {
    "scrolled": true
   },
   "outputs": [
    {
     "name": "stdout",
     "output_type": "stream",
     "text": [
      "Прогноз: 1\n",
      "Істина: 1\n",
      "Відгук: \n",
      "Bought these batteries & charger just before going on an overseas trip.  I didn't want to be bothered with frequently changing AA batteries, which seemed to last only a day or so of heavy use.  I was quite pleased with the performance of these rechargeables.  They lasted several days of heavy use before needing to be charged and they re-charged in only a few hours.  A big bonus that I didn't expect:  the recharger is compatible with European 240 voltage so I didn't have to use an electric converter! \n",
      "\n",
      "\n",
      "\\=\\=\\=\\=\\=\\=\\=\\=\\=\\=\\=\\=\\=\\=\\=\\=\\=\\=\\=\\=\\=\\=\\=\\=\\=\\=\\=\\=\\=\\=\\=\\=\\=\\=\\=\\=\\=\\=\\=\\=\n",
      "\n",
      "Прогноз: 1\n",
      "Істина: 1\n",
      "Відгук: \n",
      "This is our first LCD TV.  Our tube TV finally died.  My wife actually picked out this unit and Consumer Reports also recommended this unit.  We purchased it directly from AMAZON on January 23, 2007.  I wanted to wait a couple of months before I write my review to see if anything happens. But to my surprise the TV is still running and there have been no problems.  We have digital HD and the pictures are great.  It took me a couple of weeks to get use to watching tv with such sharp color and contrast.  However, if you are watching normal digital programming you may not be too happy as it is flat.  But overall its a good buy for us\n",
      "\n",
      "\n",
      "\\=\\=\\=\\=\\=\\=\\=\\=\\=\\=\\=\\=\\=\\=\\=\\=\\=\\=\\=\\=\\=\\=\\=\\=\\=\\=\\=\\=\\=\\=\\=\\=\\=\\=\\=\\=\\=\\=\\=\\=\n",
      "\n",
      "Прогноз: 1\n",
      "Істина: 1\n",
      "Відгук: \n",
      "I only have a couple of problems with this remote. You have to keep pressing the buttons for dvd, vcr, audio, sat, etc. to change the setting. That sounds like I'm complaining a lot, and I am. (sue me. ha ha) The other is this. I bought this as a replacement for a remote that quit working. I can't teach it the functions that I need through the \"learn\" command since the orginal remote quit. Which kind of defeats the purpose of having a new remote. I have one of those all in in one home theater units and the remote wouldn't allow me to set the VCR clock and local channels after a power outage. \n",
      "Other than that, I have no problem with it\n",
      "\n",
      "\n",
      "\\=\\=\\=\\=\\=\\=\\=\\=\\=\\=\\=\\=\\=\\=\\=\\=\\=\\=\\=\\=\\=\\=\\=\\=\\=\\=\\=\\=\\=\\=\\=\\=\\=\\=\\=\\=\\=\\=\\=\\=\n",
      "\n",
      "Прогноз: 1\n",
      "Істина: 1\n",
      "Відгук: \n",
      "I purchased the Adorama Slinger Bag after first purchasing the Tamrac Velocity 5.  The Tamrac bag is a nice bag and can be worn as either a shoulder bag or a waist bag. Unfotunately, it lacked sufficient support when worn as waist bag and did not have an attached pouch to carry a water bottle.  The Slinger Bag addressed both of these deficiencies.  When worn as a waist bag, it also uses the shoulder strap to keep the bag firmly in place which also helps to balance the weight of the bag.  There are two water pouches on the Slinger Bag (which is a real requirement as I live in Arizona).\n",
      "\n",
      "The Adorama Slinger Bag is a great travel bag. It is light weight and has great utility.  I highly recommend it.\n",
      "\n",
      "\n",
      "\\=\\=\\=\\=\\=\\=\\=\\=\\=\\=\\=\\=\\=\\=\\=\\=\\=\\=\\=\\=\\=\\=\\=\\=\\=\\=\\=\\=\\=\\=\\=\\=\\=\\=\\=\\=\\=\\=\\=\\=\n",
      "\n",
      "Прогноз: 1\n",
      "Істина: 1\n",
      "Відгук: \n",
      "Great headphones for running! They fit my ears perfectly and I don't have to worry about foam anymore.\n",
      "\n",
      "\n",
      "\\=\\=\\=\\=\\=\\=\\=\\=\\=\\=\\=\\=\\=\\=\\=\\=\\=\\=\\=\\=\\=\\=\\=\\=\\=\\=\\=\\=\\=\\=\\=\\=\\=\\=\\=\\=\\=\\=\\=\\=\n",
      "\n",
      "Прогноз: 1\n",
      "Істина: 1\n",
      "Відгук: \n",
      "The CF card works fine but it's response is kind of slow compaired to the 32MB CF card came with my Canon Powershot A95. I got this card 3 weeks ago and so far their hasn't been any problems.\n",
      "\n",
      "\n",
      "\\=\\=\\=\\=\\=\\=\\=\\=\\=\\=\\=\\=\\=\\=\\=\\=\\=\\=\\=\\=\\=\\=\\=\\=\\=\\=\\=\\=\\=\\=\\=\\=\\=\\=\\=\\=\\=\\=\\=\\=\n",
      "\n",
      "Прогноз: 1\n",
      "Істина: 1\n",
      "Відгук: \n",
      "What an amazing product for such a small price.  It works right out of the box, but to get full functionality you need to install the encolsed drivers.  The option of mouse or pen makes it useful for everyday PC work as well using the pen for graphics.  I use it mainly for teaching via phone and use the whiteboard in messenger to communicate in words and pictures.  It really makes a difference.\n",
      "The unit seems well made and I like the fact you can personalise the tablet to add a picture of your choice.  I opted for the smallest in the range for value, and was not disappointed, but I am sure for more commerical use or for artwork a much bigger screen would be better, but at cost.\n",
      "The software bundle is ok too if you don't already have photoshop tools.\n",
      "The one quibble is that at home when I installed the drivers it continued to crash my PC with my wireless keyboard installed.  Not ideal, but as I dont use it at home any longer it is not a problem for me, but be careful, I am sure there will be a fix somewher\n",
      "\n",
      "\n",
      "\\=\\=\\=\\=\\=\\=\\=\\=\\=\\=\\=\\=\\=\\=\\=\\=\\=\\=\\=\\=\\=\\=\\=\\=\\=\\=\\=\\=\\=\\=\\=\\=\\=\\=\\=\\=\\=\\=\\=\\=\n",
      "\n",
      "Прогноз: 1\n",
      "Істина: 1\n",
      "Відгук: \n",
      "I bought this for my new HDV FX1 Camcorder, and it works great.  Unlike the Century wide-angle lens, this is fully zoom-through.  Lens is .8x, which is less than the Century and others, but just about right for HD--since the FX1 already can do a pretty decent wide shot when the zoom is fully backed out, this just gives it an extra boost, converting the camera view from roughly a 35mm lens on a 35mm camera to about a 28mm.  Also, very little barrel distortion.\n",
      "\n",
      "In all a great lens.  Only drawback is that it's a big (heavy) lens, but then, hey, it's for a serious prosumer camcorder\n",
      "\n",
      "\n",
      "\\=\\=\\=\\=\\=\\=\\=\\=\\=\\=\\=\\=\\=\\=\\=\\=\\=\\=\\=\\=\\=\\=\\=\\=\\=\\=\\=\\=\\=\\=\\=\\=\\=\\=\\=\\=\\=\\=\\=\\=\n",
      "\n",
      "Прогноз: 1\n",
      "Істина: 1\n",
      "Відгук: \n",
      "Basically, This backpack is all that I need in a back pack. Very well padded, very roomy, fits an HP Pavillion dv8000 17\" laptop. Its very attractive and after a month on use shows no signs of ware and tear. Definately worth the $. Unlike my previous packpacks The straps adjust so quickly and easily that I adjust them every time I put the pack on or take it off. Great Product!!!\n",
      "\n",
      "\n",
      "\\=\\=\\=\\=\\=\\=\\=\\=\\=\\=\\=\\=\\=\\=\\=\\=\\=\\=\\=\\=\\=\\=\\=\\=\\=\\=\\=\\=\\=\\=\\=\\=\\=\\=\\=\\=\\=\\=\\=\\=\n",
      "\n",
      "Прогноз: 1\n",
      "Істина: 1\n",
      "Відгук: \n",
      "I needed something to hold my iPod while I skateboard, and this works like a charm. Never moves an inch. Can get a litle uncomfortable if sweating a lot\n",
      "\n",
      "\n",
      "\\=\\=\\=\\=\\=\\=\\=\\=\\=\\=\\=\\=\\=\\=\\=\\=\\=\\=\\=\\=\\=\\=\\=\\=\\=\\=\\=\\=\\=\\=\\=\\=\\=\\=\\=\\=\\=\\=\\=\\=\n",
      "\n"
     ]
    }
   ],
   "source": [
    "true_labels, predictions = make_predictions(model, df_train, batch_size=batch_size, threshold=0.5)"
   ]
  },
  {
   "cell_type": "markdown",
   "metadata": {},
   "source": [
    "Матриця якості класифікації на тренувальних даних:"
   ]
  },
  {
   "cell_type": "code",
   "execution_count": 63,
   "metadata": {
    "scrolled": true
   },
   "outputs": [
    {
     "name": "stdout",
     "output_type": "stream",
     "text": [
      "              precision    recall  f1-score   support\n",
      "\n",
      "           0       1.00      1.00      1.00      1900\n",
      "           1       1.00      1.00      1.00      1900\n",
      "\n",
      "    accuracy                           1.00      3800\n",
      "   macro avg       1.00      1.00      1.00      3800\n",
      "weighted avg       1.00      1.00      1.00      3800\n",
      "\n",
      "0.9976315789473684\n"
     ]
    }
   ],
   "source": [
    "print(classification_report(true_labels, predictions))\n",
    "print(accuracy_score(true_labels, predictions))"
   ]
  },
  {
   "cell_type": "markdown",
   "metadata": {},
   "source": [
    "Паршиво. Зауважимо, що в нас довгасті такі собі послідовності, тому, можливо, варто додати у модель компоненту довготривалої пам'яті. Наприклад, LSTM-компоненту."
   ]
  },
  {
   "cell_type": "code",
   "execution_count": 64,
   "metadata": {},
   "outputs": [],
   "source": [
    "class BaseLSTM(nn.Module):\n",
    "    \n",
    "    def __init__(self, vocab_size, embedding_size, hidden_size):\n",
    "        super(self.__class__, self).__init__()\n",
    "        # Тренуємо власний шар вкладення слів\n",
    "        self.embedding = nn.Embedding(vocab_size, embedding_size)\n",
    "        # Інші компоненти LSTM\n",
    "        self.lstm = nn.LSTM(input_size=embedding_size, \n",
    "                            hidden_size=hidden_size, \n",
    "                            num_layers=1, \n",
    "                            batch_first=True,\n",
    "                            bidirectional=True)\n",
    "        self.linear = nn.Linear(2 * hidden_size, 1)      \n",
    "        self.sigmoid = nn.Sigmoid()\n",
    "        \n",
    "        self.hidden_size = hidden_size\n",
    "        \n",
    "    def forward(self, x, sequences_lengths):\n",
    "        # Вкладаємо текст (-ову послідовність) \n",
    "        embedding = self.embedding(x)\n",
    "\n",
    "        pack = torch.nn.utils.rnn.pack_padded_sequence(\n",
    "            embedding, sequences_lengths, \n",
    "            batch_first=True, enforce_sorted=False\n",
    "        )\n",
    "        # Долучаємо рекурентну компоненту        \n",
    "        packed_out, _ = self.lstm(pack)\n",
    "        out, _ = torch.nn.utils.rnn.pad_packed_sequence(\n",
    "            packed_out, batch_first=True\n",
    "        )\n",
    "        out_fwd = out[range(len(out)), sequences_lengths - 1, :self.hidden_size]\n",
    "        out_rev = out[:, 0, self.hidden_size:]\n",
    "        out_red = torch.cat((out_fwd, out_rev), 1)\n",
    "        # Витягуємо з LSTM-компоненти дані у класичний шар мережі\n",
    "        from_linear = self.linear(out_red)\n",
    "        # Прогнозуємо тональність текстів\n",
    "        output = self.sigmoid(from_linear)\n",
    "        return output"
   ]
  },
  {
   "cell_type": "code",
   "execution_count": 65,
   "metadata": {},
   "outputs": [
    {
     "data": {
      "text/plain": [
       "BaseLSTM(\n",
       "  (embedding): Embedding(7043, 250)\n",
       "  (lstm): LSTM(250, 100, batch_first=True, bidirectional=True)\n",
       "  (linear): Linear(in_features=200, out_features=1, bias=True)\n",
       "  (sigmoid): Sigmoid()\n",
       ")"
      ]
     },
     "execution_count": 65,
     "metadata": {},
     "output_type": "execute_result"
    }
   ],
   "source": [
    "# Ініціалізація моделі\n",
    "model = BaseLSTM(\n",
    "    vocab_size=len(VOCAB), embedding_size=250, hidden_size=100\n",
    ")\n",
    "model.to(device)"
   ]
  },
  {
   "cell_type": "code",
   "execution_count": 66,
   "metadata": {},
   "outputs": [],
   "source": [
    "epoch_loss_values = []\n",
    "step_loss_values = []"
   ]
  },
  {
   "cell_type": "code",
   "execution_count": 67,
   "metadata": {},
   "outputs": [],
   "source": [
    "# Функція вартості -- \"бінарна ентропія\" \n",
    "loss_function = nn.BCELoss()\n",
    "# Використаємо ADAM в якості оптимізатора\n",
    "optimizer = torch.optim.Adam(model.parameters(), lr=0.005)"
   ]
  },
  {
   "cell_type": "code",
   "execution_count": 68,
   "metadata": {
    "scrolled": true
   },
   "outputs": [
    {
     "name": "stdout",
     "output_type": "stream",
     "text": [
      "Кількість ітерацій за одну епоху: 76\n",
      "Епоха  1: сумарні втрати: 0.5211580207473354\n",
      "Епоха  2: сумарні втрати: 0.2009951407579999\n",
      "Епоха  3: сумарні втрати: 0.05979312011530917\n",
      "Епоха  4: сумарні втрати: 0.01650638703722506\n",
      "Епоха  5: сумарні втрати: 0.006971330051831167\n",
      "Епоха  6: сумарні втрати: 0.002884648078562398\n",
      "Епоха  7: сумарні втрати: 0.0008215520318021604\n",
      "Епоха  8: сумарні втрати: 0.00036018756987974283\n",
      "Епоха  9: сумарні втрати: 0.0002535966171930533\n",
      "Епоха 10: сумарні втрати: 0.0001966865487415098\n",
      "Епоха 11: сумарні втрати: 0.0001584107668876593\n",
      "Епоха 12: сумарні втрати: 0.00013117389181915268\n",
      "Епоха 13: сумарні втрати: 0.00011047286424352356\n",
      "Епоха 14: сумарні втрати: 9.449363900976575e-05\n",
      "Епоха 15: сумарні втрати: 8.17813245607555e-05\n",
      "Епоха 16: сумарні втрати: 7.147565479738804e-05\n",
      "Епоха 17: сумарні втрати: 6.300783692686787e-05\n",
      "Епоха 18: сумарні втрати: 5.589951342699352e-05\n",
      "Епоха 19: сумарні втрати: 4.988481601972842e-05\n",
      "Епоха 20: сумарні втрати: 4.476000917987364e-05\n",
      "Епоха 21: сумарні втрати: 4.034878494214929e-05\n",
      "Епоха 22: сумарні втрати: 3.6539413360371414e-05\n",
      "Епоха 23: сумарні втрати: 3.318586096898606e-05\n",
      "Епоха 24: сумарні втрати: 3.0280149758254986e-05\n",
      "Епоха 25: сумарні втрати: 2.7694470514018727e-05\n",
      "Епоха 26: сумарні втрати: 2.5406755723547818e-05\n",
      "Епоха 27: сумарні втрати: 2.3382427535149245e-05\n",
      "Епоха 28: сумарні втрати: 2.1575199908559293e-05\n",
      "Епоха 29: сумарні втрати: 1.995196323366001e-05\n",
      "Епоха 30: сумарні втрати: 1.8474330617161625e-05\n",
      "Епоха 31: сумарні втрати: 1.7156539534449913e-05\n",
      "Епоха 32: сумарні втрати: 1.5941172406248947e-05\n",
      "Епоха 33: сумарні втрати: 1.4841320104383878e-05\n",
      "Епоха 34: сумарні втрати: 1.384655925712171e-05\n",
      "Епоха 35: сумарні втрати: 1.2928184290965301e-05\n",
      "Епоха 36: сумарні втрати: 1.2094923417144426e-05\n",
      "Епоха 37: сумарні втрати: 1.1329875094720355e-05\n",
      "Епоха 38: сумарні втрати: 1.0615986025784777e-05\n",
      "Епоха 39: сумарні втрати: 9.965619896272414e-06\n",
      "Епоха 40: сумарні втрати: 9.362818921569045e-06\n",
      "Епоха 41: сумарні втрати: 8.800290216688731e-06\n",
      "Епоха 42: сумарні втрати: 8.284416926591422e-06\n",
      "Епоха 43: сумарні втрати: 7.804421200992357e-06\n",
      "Епоха 44: сумарні втрати: 7.358937001287671e-06\n",
      "Епоха 45: сумарні втрати: 6.94285344294306e-06\n",
      "Епоха 46: сумарні втрати: 6.55224298677575e-06\n",
      "Епоха 47: сумарні втрати: 6.193855597302902e-06\n",
      "Епоха 48: сумарні втрати: 5.852645865675901e-06\n",
      "Епоха 49: сумарні втрати: 5.539264674924102e-06\n",
      "Епоха 50: сумарні втрати: 5.24080147101813e-06\n"
     ]
    }
   ],
   "source": [
    "batch_size = 50 # => 3800 / 50 = 76 міні-пакетів\n",
    "n_epochs = 50\n",
    "n_train = df_train.shape[0]\n",
    "n_iters = n_train // batch_size\n",
    "print(\"Кількість ітерацій за одну епоху: {}\".format(n_iters))\n",
    "\n",
    "n_tab = str(len(str(n_epochs)))\n",
    "\n",
    "# Аби не ускладнювати код, припустимо, що n_train ділиться на n_iters * batch_size\n",
    "\n",
    "for epoch in range(n_epochs):\n",
    "    epoch_loss = 0 \n",
    "    \n",
    "    df_train_c = df_train.copy().sample(n_train).reset_index(drop=True)\n",
    "    \n",
    "    for step in range(n_iters):\n",
    "\n",
    "        optimizer.zero_grad()\n",
    "        # Випадкових пакет\n",
    "        #current_batch = df_train.sample(batch_size)\n",
    "        # Детермінований пакет\n",
    "        idx = np.arange(0, batch_size, 1) + batch_size * step\n",
    "        current_batch = df_train_c.iloc[idx]\n",
    "\n",
    "        # Векторизація поточного пакета\n",
    "        batch_idx, seq_lengths = vectorize(current_batch['filtered'].tolist(), WORD_TO_IDX)\n",
    "        seq_lengths = np.array(seq_lengths)\n",
    "        # Переводимо міні-пакет у тензор\n",
    "        batch_idx = torch.tensor(batch_idx, dtype=torch.int64).to(device)\n",
    "        \n",
    "        # Обираємо справжні рейтинги та переводимо у тензор\n",
    "        y_true = current_batch['rating'].tolist() \n",
    "        y_true = torch.tensor(y_true, dtype=torch.float).to(device)\n",
    "\n",
    "        # Прогноз\n",
    "        y_pred = model(batch_idx, seq_lengths)\n",
    "        \n",
    "        loss = loss_function(y_pred.squeeze(), y_true)\n",
    "        \n",
    "        step_loss_values.append(loss)\n",
    "\n",
    "        epoch_loss += loss.item() / n_iters\n",
    "        loss.backward()\n",
    "        optimizer.step()\n",
    "    \n",
    "    epoch_loss_values.append(epoch_loss)\n",
    "            \n",
    "    print(('Епоха {:' + n_tab + '}: сумарні втрати: {}').format(epoch+1, epoch_loss))    "
   ]
  },
  {
   "cell_type": "code",
   "execution_count": 69,
   "metadata": {},
   "outputs": [
    {
     "data": {
      "image/png": "[encoded data removed]",
      "text/plain": [
       "<Figure size 640x480 with 1 Axes>"
      ]
     },
     "metadata": {},
     "output_type": "display_data"
    }
   ],
   "source": [
    "plt.plot(np.arange(1, n_epochs + 1), epoch_loss_values)\n",
    "plt.show()"
   ]
  },
  {
   "cell_type": "code",
   "execution_count": 70,
   "metadata": {},
   "outputs": [
    {
     "data": {
      "image/png": "[encoded data removed]",
      "text/plain": [
       "<Figure size 640x480 with 1 Axes>"
      ]
     },
     "metadata": {},
     "output_type": "display_data"
    }
   ],
   "source": [
    "plt.plot(\n",
    "    np.arange(1, n_iters * n_epochs + 1), \n",
    "    [v.cpu().detach().numpy() for v in step_loss_values]\n",
    ")\n",
    "plt.show()"
   ]
  },
  {
   "cell_type": "code",
   "execution_count": 71,
   "metadata": {},
   "outputs": [
    {
     "name": "stdout",
     "output_type": "stream",
     "text": [
      "Прогноз: 0\n",
      "Істина: 1\n",
      "Відгук: \n",
      "This is original equipment battery charger manufactered by Canon. The performance of the charger is excellent as are most Canon products. The price paid was comparible to non-sale priced items puchased via internet sites. The item was recieved in original packaging, 3 days after placing the order, was new (not reconditioned with a new appearance). I am extremely pleased with the entire purchase process experienced, from the information given at the site to ease of ordering and fast shipping\n",
      "\n",
      "\n",
      "\\=\\=\\=\\=\\=\\=\\=\\=\\=\\=\\=\\=\\=\\=\\=\\=\\=\\=\\=\\=\\=\\=\\=\\=\\=\\=\\=\\=\\=\\=\\=\\=\\=\\=\\=\\=\\=\\=\\=\\=\n",
      "\n",
      "Прогноз: 1\n",
      "Істина: 1\n",
      "Відгук: \n",
      "With most of the carrying case made of either fake leather or some kind of neoprene material, this one is really different.  The rigid structure also seem to do a great job to protect the camera.  There is also a belt loop and D-ring feature which is great.\n",
      "\n",
      "\n",
      "\n",
      "\\=\\=\\=\\=\\=\\=\\=\\=\\=\\=\\=\\=\\=\\=\\=\\=\\=\\=\\=\\=\\=\\=\\=\\=\\=\\=\\=\\=\\=\\=\\=\\=\\=\\=\\=\\=\\=\\=\\=\\=\n",
      "\n",
      "Прогноз: 1\n",
      "Істина: 1\n",
      "Відгук: \n",
      "This mouse has never let me down. Really works on most of the surfaces\n",
      "\n",
      "\n",
      "\\=\\=\\=\\=\\=\\=\\=\\=\\=\\=\\=\\=\\=\\=\\=\\=\\=\\=\\=\\=\\=\\=\\=\\=\\=\\=\\=\\=\\=\\=\\=\\=\\=\\=\\=\\=\\=\\=\\=\\=\n",
      "\n",
      "Прогноз: 1\n",
      "Істина: 1\n",
      "Відгук: \n",
      "I wanted to buy a compact slim d-camera. Those with larger zoom are quite bulky, you can't carry around all the time. I think a slim camera is a better choice. I slip into my pocket while wondering around and come across something nice and take a picture of it. You can't do it with a huge camera. \n",
      "After I made up mind about a slim camera, my choices were either Casio Exilim or Sony DSCW series. Casio Exilims are very sexy. They have a lot of mode scenes. They also function as voice recorder. You can take pictures of book pages etc. They have anti-shake capability which is said to reduce blurred images. I was almost buying a Casio Exilim. Being a diligent person I wanted to search more and more. \n",
      "I found out that the so-called anti-shake feature is a bogus. Many people found it useless. That was a good reason to choose Casio. Then I found the picture quality of Exilim is not really good.I found some pictures taken with Exilim. They were soft, not crisp colors. Search the web reviews made by photo professionals. Casio Exilim is rated significantly less than Sony in picture quality. With ISO 200 noise was still detectable in most reviews . Those same reviewers however found Sony DSCW doing a better job . There was no noise with ISO 400 which means even in lower light condition Sony did a better job (less granularity in pictures with low light). Big difference!.\n",
      "One feature of Sony that made it very attractive was its strong macro. It is 0.74 inch which means you can bring your camera 0.74 inch (2 mm) close to an object (say a bug) and still take a brilliant picture of it. \n",
      "Now comparison of Exilim and Sony to summarize:\n",
      "Casio Exilim\n",
      "Anti-shake (it's a bogus)\n",
      "Slim   \n",
      "Lower macro (2.5 inches)\n",
      "Lower picture quality (detectable noise at ISO 200)\n",
      "A lot of scene modes\n",
      "Quick shutter\n",
      "Sony DSCW Series\n",
      "Slim (in fact it is slimmer)\n",
      "Higher macro (0.74 inches)\n",
      "Higher picture quality (No noise in ISO 400)\n",
      "Not a lot of scene modes\n",
      "Quick shutter\n",
      "So.....I purchased a Sony DSCW 7 Mp. I took lots of pictures.\n",
      "They are all brilliant, detailed and crisp, true colors.\n",
      "I tried macro and took pictures of bugs. You can see the hairs on the legs of bugs. Absolutely no noise whatsoever, no blurry.\n",
      "It's a marvel of technology. I took pictures of fireworks in July 4th using high ISO setting. They came out brialliantly like professional pictures.\n",
      "It also uses a different kind of battery that you can't buy at your grocery which can leave you vulnerable. So you may wanna buy a spare one (about 40 bucks). But you can always recharge it. And it lasts much much longer than AAA or Nimh batteries. \n",
      "It was a perfect choice. I highly recommend it.\n",
      "\n",
      "\n",
      "\\=\\=\\=\\=\\=\\=\\=\\=\\=\\=\\=\\=\\=\\=\\=\\=\\=\\=\\=\\=\\=\\=\\=\\=\\=\\=\\=\\=\\=\\=\\=\\=\\=\\=\\=\\=\\=\\=\\=\\=\n",
      "\n",
      "Прогноз: 1\n",
      "Істина: 1\n",
      "Відгук: \n",
      "Excellent product - very ergonomic, easy to set up and use! Wireless works great.\n",
      "I would recommend this product\n",
      "\n",
      "\n",
      "\\=\\=\\=\\=\\=\\=\\=\\=\\=\\=\\=\\=\\=\\=\\=\\=\\=\\=\\=\\=\\=\\=\\=\\=\\=\\=\\=\\=\\=\\=\\=\\=\\=\\=\\=\\=\\=\\=\\=\\=\n",
      "\n",
      "Прогноз: 1\n",
      "Істина: 1\n",
      "Відгук: \n",
      "I'm not a serious piano player, just casual.  Don't have room for a piano, so this serves my purposes.  I just want to entertain myself.  If I were a professional who played in public, not sure if this would be the ultimate keyboard, because it doesn't have a fullsize keyboard.  But for practicing and casual playing it's great!  It has more features than I will ever use\n",
      "\n",
      "\n",
      "\\=\\=\\=\\=\\=\\=\\=\\=\\=\\=\\=\\=\\=\\=\\=\\=\\=\\=\\=\\=\\=\\=\\=\\=\\=\\=\\=\\=\\=\\=\\=\\=\\=\\=\\=\\=\\=\\=\\=\\=\n",
      "\n",
      "Прогноз: 1\n",
      "Істина: 1\n",
      "Відгук: \n",
      "This cable came in a cheap packing and it does not have any logo on it so you can't say which company it belongs to. I have used a lot of sony products and I feel it is not up to the standard of sony. \n",
      "It works great had no problems so far. It is flexible kinds so you don't have to worry about positioning your laptop according to your TV.\n",
      "\n",
      "\n",
      "\\=\\=\\=\\=\\=\\=\\=\\=\\=\\=\\=\\=\\=\\=\\=\\=\\=\\=\\=\\=\\=\\=\\=\\=\\=\\=\\=\\=\\=\\=\\=\\=\\=\\=\\=\\=\\=\\=\\=\\=\n",
      "\n",
      "Прогноз: 1\n",
      "Істина: 1\n",
      "Відгук: \n",
      "These fit over everything very well, and they stayed put without stretching out, which is why my original pads fell off.  I guess it's one of those products that you can't do much better than $10 for, but maybe they could give you double the number of pads or something..\n",
      "\n",
      "\n",
      "\\=\\=\\=\\=\\=\\=\\=\\=\\=\\=\\=\\=\\=\\=\\=\\=\\=\\=\\=\\=\\=\\=\\=\\=\\=\\=\\=\\=\\=\\=\\=\\=\\=\\=\\=\\=\\=\\=\\=\\=\n",
      "\n",
      "Прогноз: 1\n",
      "Істина: 1\n",
      "Відгук: \n",
      "I have been putting this television through its paces since I got it a few weeks ago, and it is by far the best TV I have ever owned, and very difficult to beat.  The image quality is really good, with bright, vivid colors and wonderful detail, especially for 1080i/p content, but even lower-resolution 720p content, which is what's more commonly-available on OTA HD broadcast, looks phenomenal.  I also have an Apple TV hooked up to it, and even though most of my content is encoded at either 360p, 480p, or 720p, it still looks quite good.\n",
      "\n",
      "It does take some time to get the image tuned to perfection, and the default settings are way too bright with too much color saturation boost, and the DNIe processing system actually seems to make some motion effects worse.  However, it's very easy to change the settings and see immediately what effect they have.\n",
      "\n",
      "Like all LCDs it does have some slight black point problems; these aren't noticeable for fullscreen 16:9 content, but for older 4:3 content it's pretty obvious that the black isn't pure black.  However, this is again tunable.\n",
      "\n",
      "The only thing I really notice which is pretty annoying is that it doesn't do a very good job of upscaling 480i content, such as the output from most video game systems, and for DVDs to look good you really need an upconverting player since even with a progressive-scan player there is a lot of visible pixelation when the 480p content is scaled up.  It's really more a sad reflection on how the previous \"next-generation\" video looks downright primitive by today's standards.\n",
      "\n",
      "The other noticeable issue is that unlike many televisions with digital tuners, it doesn't have an on-screen program guide.  My previous TV (also a Samsung) had an on-screen program guide, but it was rather cumbersome to use and took several minutes of scanning every channel to see what was on, and most local channels are pretty inconsistent about providing the EPG information anyway, so it's not really that big of a deal.  You can still see the detailed information for the program that's currently showing, so it makes use of EPG, just not as much as it could.\n",
      "\n",
      "This television's tuner is also quite phenomenal.  My previous TV required a very carefully-positioned powered antenna which was very sensitive to every little nearby fluctuation, while with this one I only have a piece of wire jammed into the antenna port and I get perfect reception of every local digital station.\n",
      "\n",
      "Another nice improvement over Samsung's older HDTVs is that it has a wide variety of zoom modes which allow you to counteract some of the stupider things that TV stations do (for example, pillboxing a letterboxed 16:9 show, which is very common for widescreen non-HD programming).  Also, analog TV stations and source inputs get their audio signals upconverted to digital, so you only need to run a single optical audio connection to your stereo (while previous Samsungs required running both analog and digital cables and switching between the two inputs based on source material).\n",
      "\n",
      "As a PC monitor this is also quite nice.  I have a Mac mini hooked up via SVGA cable, and even with an analog signal it looks perfectly sharp and crystal-clear, and of course you can hook it up via HDMI (with a DVI to HDMI adaptor) as well.  The only gripe there is that the supported resolutions are a bit quaint - at least on analog SVGA the only 16:9 resolution it supports is 1920x1080, which can be difficult for some older systems to handle.  However, on HDMI it should support all the standard HD resolutions.\n",
      "\n",
      "This television may be more expensive than others in its size class, but it also far outshines every other TV I have seen, aside from the newer LN-T4065, which is nearly identical aside from providing a higher dynamic contrast ratio.  If you want to only buy one TV which will last for a long time, it would be hard to go wrong with this one\n",
      "\n",
      "\n",
      "\\=\\=\\=\\=\\=\\=\\=\\=\\=\\=\\=\\=\\=\\=\\=\\=\\=\\=\\=\\=\\=\\=\\=\\=\\=\\=\\=\\=\\=\\=\\=\\=\\=\\=\\=\\=\\=\\=\\=\\=\n",
      "\n",
      "Прогноз: 0\n",
      "Істина: 1\n",
      "Відгук: \n",
      "I have to say this mouse pad has far exceeded anything I hoped for. When I first opened the box it was shipped in I was very put off. There was a Very, Very strong chemical smell. I chalked it up to something in the packaging material. It turns out that was not where the smell was coming from. It was the mouse pad itself. Having worked in a shoe factory years ago I was able to identify the smell as an industrial glue. The smell hung around for a couple of days. Now, 1 week after having received my purchase if I put my nose close to the pad, it still carries the faint smell of industrial glue. I would caution those with allergies and/or asthma to consider this prior to purchase. As an asthmatic I can say it did affect my breathing some what. That seems to have gotten better as the smelled has lessened. I have finished with my public health warning. On to the mouse pad. \n",
      "     It is simply the best mouse pad I have ever used. I have had wrist problems for over 4 years now. I have had swelling and pain from my right pinkie finger to my elbow as a result of console gaming and lots of keyboarding work. In the past week my swelling has greatly reduced. My pain is almost gone. My wrist sits perfectly on  the wrist rest. The pad actually cradles my wrist. The wrist rest moves with my hand, so well and with so much support, it seems to be an extension of my body. A new improved appendage. I have found myself resting my wrist on the pad even while not computing but just sitting at my desk. It truly is that comfortable. I already have plans to purchase two more for friends as Christmas gifts. Worth Every Cent! Go For It! You Will Not Be Disappointed! \n",
      "\n",
      "\n",
      "\\=\\=\\=\\=\\=\\=\\=\\=\\=\\=\\=\\=\\=\\=\\=\\=\\=\\=\\=\\=\\=\\=\\=\\=\\=\\=\\=\\=\\=\\=\\=\\=\\=\\=\\=\\=\\=\\=\\=\\=\n",
      "\n"
     ]
    }
   ],
   "source": [
    "true_labels, predictions = make_predictions(model, df_test, batch_size=batch_size, threshold=0.5)"
   ]
  },
  {
   "cell_type": "markdown",
   "metadata": {},
   "source": [
    "Матриця якості класифікації на тестових даних:"
   ]
  },
  {
   "cell_type": "code",
   "execution_count": 72,
   "metadata": {
    "scrolled": true
   },
   "outputs": [
    {
     "name": "stdout",
     "output_type": "stream",
     "text": [
      "              precision    recall  f1-score   support\n",
      "\n",
      "           0       0.77      0.85      0.81       100\n",
      "           1       0.83      0.74      0.78       100\n",
      "\n",
      "    accuracy                           0.80       200\n",
      "   macro avg       0.80      0.79      0.79       200\n",
      "weighted avg       0.80      0.80      0.79       200\n",
      "\n",
      "0.795\n"
     ]
    }
   ],
   "source": [
    "print(classification_report(true_labels, predictions))\n",
    "print(accuracy_score(true_labels, predictions))"
   ]
  },
  {
   "cell_type": "code",
   "execution_count": 73,
   "metadata": {
    "scrolled": true
   },
   "outputs": [
    {
     "name": "stdout",
     "output_type": "stream",
     "text": [
      "Прогноз: 1\n",
      "Істина: 1\n",
      "Відгук: \n",
      "Bought these batteries & charger just before going on an overseas trip.  I didn't want to be bothered with frequently changing AA batteries, which seemed to last only a day or so of heavy use.  I was quite pleased with the performance of these rechargeables.  They lasted several days of heavy use before needing to be charged and they re-charged in only a few hours.  A big bonus that I didn't expect:  the recharger is compatible with European 240 voltage so I didn't have to use an electric converter! \n",
      "\n",
      "\n",
      "\\=\\=\\=\\=\\=\\=\\=\\=\\=\\=\\=\\=\\=\\=\\=\\=\\=\\=\\=\\=\\=\\=\\=\\=\\=\\=\\=\\=\\=\\=\\=\\=\\=\\=\\=\\=\\=\\=\\=\\=\n",
      "\n",
      "Прогноз: 1\n",
      "Істина: 1\n",
      "Відгук: \n",
      "This is our first LCD TV.  Our tube TV finally died.  My wife actually picked out this unit and Consumer Reports also recommended this unit.  We purchased it directly from AMAZON on January 23, 2007.  I wanted to wait a couple of months before I write my review to see if anything happens. But to my surprise the TV is still running and there have been no problems.  We have digital HD and the pictures are great.  It took me a couple of weeks to get use to watching tv with such sharp color and contrast.  However, if you are watching normal digital programming you may not be too happy as it is flat.  But overall its a good buy for us\n",
      "\n",
      "\n",
      "\\=\\=\\=\\=\\=\\=\\=\\=\\=\\=\\=\\=\\=\\=\\=\\=\\=\\=\\=\\=\\=\\=\\=\\=\\=\\=\\=\\=\\=\\=\\=\\=\\=\\=\\=\\=\\=\\=\\=\\=\n",
      "\n",
      "Прогноз: 1\n",
      "Істина: 1\n",
      "Відгук: \n",
      "I only have a couple of problems with this remote. You have to keep pressing the buttons for dvd, vcr, audio, sat, etc. to change the setting. That sounds like I'm complaining a lot, and I am. (sue me. ha ha) The other is this. I bought this as a replacement for a remote that quit working. I can't teach it the functions that I need through the \"learn\" command since the orginal remote quit. Which kind of defeats the purpose of having a new remote. I have one of those all in in one home theater units and the remote wouldn't allow me to set the VCR clock and local channels after a power outage. \n",
      "Other than that, I have no problem with it\n",
      "\n",
      "\n",
      "\\=\\=\\=\\=\\=\\=\\=\\=\\=\\=\\=\\=\\=\\=\\=\\=\\=\\=\\=\\=\\=\\=\\=\\=\\=\\=\\=\\=\\=\\=\\=\\=\\=\\=\\=\\=\\=\\=\\=\\=\n",
      "\n",
      "Прогноз: 1\n",
      "Істина: 1\n",
      "Відгук: \n",
      "I purchased the Adorama Slinger Bag after first purchasing the Tamrac Velocity 5.  The Tamrac bag is a nice bag and can be worn as either a shoulder bag or a waist bag. Unfotunately, it lacked sufficient support when worn as waist bag and did not have an attached pouch to carry a water bottle.  The Slinger Bag addressed both of these deficiencies.  When worn as a waist bag, it also uses the shoulder strap to keep the bag firmly in place which also helps to balance the weight of the bag.  There are two water pouches on the Slinger Bag (which is a real requirement as I live in Arizona).\n",
      "\n",
      "The Adorama Slinger Bag is a great travel bag. It is light weight and has great utility.  I highly recommend it.\n",
      "\n",
      "\n",
      "\\=\\=\\=\\=\\=\\=\\=\\=\\=\\=\\=\\=\\=\\=\\=\\=\\=\\=\\=\\=\\=\\=\\=\\=\\=\\=\\=\\=\\=\\=\\=\\=\\=\\=\\=\\=\\=\\=\\=\\=\n",
      "\n",
      "Прогноз: 1\n",
      "Істина: 1\n",
      "Відгук: \n",
      "Great headphones for running! They fit my ears perfectly and I don't have to worry about foam anymore.\n",
      "\n",
      "\n",
      "\\=\\=\\=\\=\\=\\=\\=\\=\\=\\=\\=\\=\\=\\=\\=\\=\\=\\=\\=\\=\\=\\=\\=\\=\\=\\=\\=\\=\\=\\=\\=\\=\\=\\=\\=\\=\\=\\=\\=\\=\n",
      "\n",
      "Прогноз: 1\n",
      "Істина: 1\n",
      "Відгук: \n",
      "The CF card works fine but it's response is kind of slow compaired to the 32MB CF card came with my Canon Powershot A95. I got this card 3 weeks ago and so far their hasn't been any problems.\n",
      "\n",
      "\n",
      "\\=\\=\\=\\=\\=\\=\\=\\=\\=\\=\\=\\=\\=\\=\\=\\=\\=\\=\\=\\=\\=\\=\\=\\=\\=\\=\\=\\=\\=\\=\\=\\=\\=\\=\\=\\=\\=\\=\\=\\=\n",
      "\n",
      "Прогноз: 1\n",
      "Істина: 1\n",
      "Відгук: \n",
      "What an amazing product for such a small price.  It works right out of the box, but to get full functionality you need to install the encolsed drivers.  The option of mouse or pen makes it useful for everyday PC work as well using the pen for graphics.  I use it mainly for teaching via phone and use the whiteboard in messenger to communicate in words and pictures.  It really makes a difference.\n",
      "The unit seems well made and I like the fact you can personalise the tablet to add a picture of your choice.  I opted for the smallest in the range for value, and was not disappointed, but I am sure for more commerical use or for artwork a much bigger screen would be better, but at cost.\n",
      "The software bundle is ok too if you don't already have photoshop tools.\n",
      "The one quibble is that at home when I installed the drivers it continued to crash my PC with my wireless keyboard installed.  Not ideal, but as I dont use it at home any longer it is not a problem for me, but be careful, I am sure there will be a fix somewher\n",
      "\n",
      "\n",
      "\\=\\=\\=\\=\\=\\=\\=\\=\\=\\=\\=\\=\\=\\=\\=\\=\\=\\=\\=\\=\\=\\=\\=\\=\\=\\=\\=\\=\\=\\=\\=\\=\\=\\=\\=\\=\\=\\=\\=\\=\n",
      "\n",
      "Прогноз: 1\n",
      "Істина: 1\n",
      "Відгук: \n",
      "I bought this for my new HDV FX1 Camcorder, and it works great.  Unlike the Century wide-angle lens, this is fully zoom-through.  Lens is .8x, which is less than the Century and others, but just about right for HD--since the FX1 already can do a pretty decent wide shot when the zoom is fully backed out, this just gives it an extra boost, converting the camera view from roughly a 35mm lens on a 35mm camera to about a 28mm.  Also, very little barrel distortion.\n",
      "\n",
      "In all a great lens.  Only drawback is that it's a big (heavy) lens, but then, hey, it's for a serious prosumer camcorder\n",
      "\n",
      "\n",
      "\\=\\=\\=\\=\\=\\=\\=\\=\\=\\=\\=\\=\\=\\=\\=\\=\\=\\=\\=\\=\\=\\=\\=\\=\\=\\=\\=\\=\\=\\=\\=\\=\\=\\=\\=\\=\\=\\=\\=\\=\n",
      "\n",
      "Прогноз: 1\n",
      "Істина: 1\n",
      "Відгук: \n",
      "Basically, This backpack is all that I need in a back pack. Very well padded, very roomy, fits an HP Pavillion dv8000 17\" laptop. Its very attractive and after a month on use shows no signs of ware and tear. Definately worth the $. Unlike my previous packpacks The straps adjust so quickly and easily that I adjust them every time I put the pack on or take it off. Great Product!!!\n",
      "\n",
      "\n",
      "\\=\\=\\=\\=\\=\\=\\=\\=\\=\\=\\=\\=\\=\\=\\=\\=\\=\\=\\=\\=\\=\\=\\=\\=\\=\\=\\=\\=\\=\\=\\=\\=\\=\\=\\=\\=\\=\\=\\=\\=\n",
      "\n",
      "Прогноз: 1\n",
      "Істина: 1\n",
      "Відгук: \n",
      "I needed something to hold my iPod while I skateboard, and this works like a charm. Never moves an inch. Can get a litle uncomfortable if sweating a lot\n",
      "\n",
      "\n",
      "\\=\\=\\=\\=\\=\\=\\=\\=\\=\\=\\=\\=\\=\\=\\=\\=\\=\\=\\=\\=\\=\\=\\=\\=\\=\\=\\=\\=\\=\\=\\=\\=\\=\\=\\=\\=\\=\\=\\=\\=\n",
      "\n"
     ]
    }
   ],
   "source": [
    "true_labels, predictions = make_predictions(model, df_train, batch_size=batch_size, threshold=0.5)"
   ]
  },
  {
   "cell_type": "markdown",
   "metadata": {},
   "source": [
    "Матриця якості класифікації на тренувальних даних:"
   ]
  },
  {
   "cell_type": "code",
   "execution_count": 74,
   "metadata": {
    "scrolled": true
   },
   "outputs": [
    {
     "name": "stdout",
     "output_type": "stream",
     "text": [
      "              precision    recall  f1-score   support\n",
      "\n",
      "           0       1.00      1.00      1.00      1900\n",
      "           1       1.00      1.00      1.00      1900\n",
      "\n",
      "    accuracy                           1.00      3800\n",
      "   macro avg       1.00      1.00      1.00      3800\n",
      "weighted avg       1.00      1.00      1.00      3800\n",
      "\n",
      "1.0\n"
     ]
    }
   ],
   "source": [
    "print(classification_report(true_labels, predictions))\n",
    "print(accuracy_score(true_labels, predictions))"
   ]
  },
  {
   "cell_type": "markdown",
   "metadata": {},
   "source": [
    "Додавання компоненти з довгою пам'яттю покращило результат на тестовій вибірці. Зокрема можна було б тренувати модель трохи менше -- приблизно такі самі результати досягаються на тренованій мережі після двадцяти епох."
   ]
  },
  {
   "cell_type": "code",
   "execution_count": 75,
   "metadata": {},
   "outputs": [
    {
     "data": {
      "text/plain": [
       "(7043, 250)"
      ]
     },
     "execution_count": 75,
     "metadata": {},
     "output_type": "execute_result"
    }
   ],
   "source": [
    "# Розглянемо матрицю вкладень\n",
    "E = model.embedding\n",
    "Em = E.weight\n",
    "Em = Em.cpu().detach().numpy()\n",
    "Em.shape"
   ]
  },
  {
   "cell_type": "code",
   "execution_count": 76,
   "metadata": {},
   "outputs": [
    {
     "data": {
      "text/plain": [
       "207"
      ]
     },
     "execution_count": 76,
     "metadata": {},
     "output_type": "execute_result"
    }
   ],
   "source": [
    "WORD_TO_IDX.get('good', None)"
   ]
  },
  {
   "cell_type": "code",
   "execution_count": 77,
   "metadata": {},
   "outputs": [
    {
     "data": {
      "text/plain": [
       "567"
      ]
     },
     "execution_count": 77,
     "metadata": {},
     "output_type": "execute_result"
    }
   ],
   "source": [
    "WORD_TO_IDX.get('best', None)"
   ]
  },
  {
   "cell_type": "code",
   "execution_count": 78,
   "metadata": {},
   "outputs": [
    {
     "data": {
      "text/plain": [
       "459"
      ]
     },
     "execution_count": 78,
     "metadata": {},
     "output_type": "execute_result"
    }
   ],
   "source": [
    "WORD_TO_IDX.get('bad', None)"
   ]
  },
  {
   "cell_type": "code",
   "execution_count": 79,
   "metadata": {},
   "outputs": [
    {
     "data": {
      "text/plain": [
       "4902"
      ]
     },
     "execution_count": 79,
     "metadata": {},
     "output_type": "execute_result"
    }
   ],
   "source": [
    "WORD_TO_IDX.get('awful', None)"
   ]
  },
  {
   "cell_type": "code",
   "execution_count": 80,
   "metadata": {},
   "outputs": [],
   "source": [
    "from sklearn.manifold import TSNE\n",
    "\n",
    "tsne = TSNE(n_components=2, init='random', learning_rate='auto')\n",
    "tsne_dat = tsne.fit_transform(Em)"
   ]
  },
  {
   "cell_type": "code",
   "execution_count": 81,
   "metadata": {},
   "outputs": [
    {
     "data": {
      "image/png": "[encoded data removed]",
      "text/plain": [
       "<Figure size 640x480 with 1 Axes>"
      ]
     },
     "metadata": {},
     "output_type": "display_data"
    }
   ],
   "source": [
    "X = tsne_dat[[24, 88, 375, 4155],0]\n",
    "Y = tsne_dat[[24, 88, 375, 4155],1]\n",
    "\n",
    "fig, ax = plt.subplots()\n",
    "ax.scatter(X, Y)\n",
    "\n",
    "for i, txt in enumerate(['best', 'good', 'bad', 'awful']):\n",
    "    ax.annotate(txt, (X[i], Y[i]))"
   ]
  },
  {
   "cell_type": "code",
   "execution_count": 82,
   "metadata": {},
   "outputs": [
    {
     "data": {
      "text/plain": [
       "array([[-0.88321173]], dtype=float32)"
      ]
     },
     "execution_count": 82,
     "metadata": {},
     "output_type": "execute_result"
    }
   ],
   "source": [
    "bad = tsne_dat[[375],]\n",
    "good = tsne_dat[[88],]\n",
    "np.dot(bad, good.T) / (np.linalg.norm(bad) * np.linalg.norm(good))"
   ]
  },
  {
   "cell_type": "code",
   "execution_count": 83,
   "metadata": {},
   "outputs": [
    {
     "data": {
      "text/plain": [
       "array([[-0.9051614]], dtype=float32)"
      ]
     },
     "execution_count": 83,
     "metadata": {},
     "output_type": "execute_result"
    }
   ],
   "source": [
    "best = tsne_dat[[24],]\n",
    "awful = tsne_dat[[4155],]\n",
    "np.dot(best, awful.T) / (np.linalg.norm(best) * np.linalg.norm(awful))"
   ]
  },
  {
   "cell_type": "code",
   "execution_count": 84,
   "metadata": {},
   "outputs": [
    {
     "data": {
      "text/plain": [
       "array([[-0.8390957]], dtype=float32)"
      ]
     },
     "execution_count": 84,
     "metadata": {},
     "output_type": "execute_result"
    }
   ],
   "source": [
    "np.dot(best, good.T) / (np.linalg.norm(best) * np.linalg.norm(good))"
   ]
  },
  {
   "cell_type": "markdown",
   "metadata": {},
   "source": [
    "Я думав зробити якісь інтуїтивні припущення щодо інтерпретації матриці вкладення слів у даній моделі, але поки інтуїції тут не бачу. Можливо шляпа у контексті та частоті виникнення слів у реченнях."
   ]
  },
  {
   "cell_type": "markdown",
   "metadata": {},
   "source": [
    "Тепер час скористатися існуючим вкладенням слів. Наприклад, візьмемо до уваги word2vec."
   ]
  },
  {
   "cell_type": "code",
   "execution_count": 85,
   "metadata": {},
   "outputs": [],
   "source": [
    "from gensim.models import Word2Vec, KeyedVectors\n",
    "from ast import literal_eval"
   ]
  },
  {
   "cell_type": "code",
   "execution_count": 86,
   "metadata": {},
   "outputs": [],
   "source": [
    "df_sentences = df_train['filtered'].tolist() + df_test['filtered'].tolist()\n",
    "\n",
    "n_dim = 500\n",
    "\n",
    "lang_model = Word2Vec(sentences=df_sentences,\n",
    "                      vector_size=n_dim,\n",
    "                      min_count=5,\n",
    "                      window=5)"
   ]
  },
  {
   "cell_type": "code",
   "execution_count": 87,
   "metadata": {},
   "outputs": [
    {
     "data": {
      "text/plain": [
       "(5426879, 6210450)"
      ]
     },
     "execution_count": 87,
     "metadata": {},
     "output_type": "execute_result"
    }
   ],
   "source": [
    "lang_model.train(df_sentences, \n",
    "                 total_examples=lang_model.corpus_count,\n",
    "                 epochs=30)"
   ]
  },
  {
   "cell_type": "code",
   "execution_count": 116,
   "metadata": {},
   "outputs": [
    {
     "data": {
      "text/plain": [
       "{'camera': 0,\n",
       " \"n't\": 1,\n",
       " 'one': 2,\n",
       " 'use': 3,\n",
       " 'would': 4,\n",
       " 'picture': 5,\n",
       " 'lens': 6,\n",
       " 'good': 7,\n",
       " 'get': 8,\n",
       " 'great': 9,\n",
       " 'work': 10,\n",
       " 'time': 11,\n",
       " 'battery': 12,\n",
       " 'like': 13,\n",
       " 'product': 14,\n",
       " 'quality': 15,\n",
       " 'doe': 16,\n",
       " 'bought': 17,\n",
       " 'even': 18,\n",
       " 'take': 19,\n",
       " 'problem': 20,\n",
       " 'also': 21,\n",
       " 'well': 22,\n",
       " 'buy': 23,\n",
       " 'card': 24,\n",
       " 'better': 25,\n",
       " 'canon': 26,\n",
       " 'case': 27,\n",
       " 'could': 28,\n",
       " 'really': 29,\n",
       " 'price': 30,\n",
       " 'much': 31,\n",
       " 'digital': 32,\n",
       " 'back': 33,\n",
       " 'still': 34,\n",
       " 'make': 35,\n",
       " 'got': 36,\n",
       " 'need': 37,\n",
       " 'thing': 38,\n",
       " 'unit': 39,\n",
       " 'sound': 40,\n",
       " 'used': 41,\n",
       " 'photo': 42,\n",
       " 'video': 43,\n",
       " 'first': 44,\n",
       " 'using': 45,\n",
       " 'sony': 46,\n",
       " 'image': 47,\n",
       " 'year': 48,\n",
       " 'want': 49,\n",
       " 'easy': 50,\n",
       " 'flash': 51,\n",
       " 'little': 52,\n",
       " 'light': 53,\n",
       " 'new': 54,\n",
       " 'two': 55,\n",
       " 'month': 56,\n",
       " 'way': 57,\n",
       " 'day': 58,\n",
       " 'come': 59,\n",
       " 'small': 60,\n",
       " 'look': 61,\n",
       " 'amazon': 62,\n",
       " 'another': 63,\n",
       " 'review': 64,\n",
       " 'see': 65,\n",
       " 'never': 66,\n",
       " 'feature': 67,\n",
       " 'purchased': 68,\n",
       " 'computer': 69,\n",
       " 'without': 70,\n",
       " 'player': 71,\n",
       " 'cable': 72,\n",
       " 'shot': 73,\n",
       " 'screen': 74,\n",
       " 'lot': 75,\n",
       " 'best': 76,\n",
       " 'money': 77,\n",
       " 'nice': 78,\n",
       " 'however': 79,\n",
       " 'software': 80,\n",
       " 'many': 81,\n",
       " 'set': 82,\n",
       " 'think': 83,\n",
       " 'find': 84,\n",
       " 'fit': 85,\n",
       " 'right': 86,\n",
       " 'say': 87,\n",
       " 'item': 88,\n",
       " 'since': 89,\n",
       " 'love': 90,\n",
       " 'dvd': 91,\n",
       " 'recommend': 92,\n",
       " 'found': 93,\n",
       " 'zoom': 94,\n",
       " 'size': 95,\n",
       " 'know': 96,\n",
       " 'far': 97,\n",
       " 'made': 98,\n",
       " 'bad': 99,\n",
       " 'worked': 100,\n",
       " 'long': 101,\n",
       " 'enough': 102,\n",
       " 'button': 103,\n",
       " 'around': 104,\n",
       " 'phone': 105,\n",
       " 'took': 106,\n",
       " 'purchase': 107,\n",
       " 'put': 108,\n",
       " 'tried': 109,\n",
       " 'fine': 110,\n",
       " 'week': 111,\n",
       " 'going': 112,\n",
       " 'support': 113,\n",
       " 'printer': 114,\n",
       " 'looking': 115,\n",
       " 'system': 116,\n",
       " 'able': 117,\n",
       " 'sure': 118,\n",
       " 'bag': 119,\n",
       " 'service': 120,\n",
       " 'old': 121,\n",
       " 'model': 122,\n",
       " 'device': 123,\n",
       " 'second': 124,\n",
       " 'memory': 125,\n",
       " 'keep': 126,\n",
       " 'setting': 127,\n",
       " 'power': 128,\n",
       " 'low': 129,\n",
       " 'color': 130,\n",
       " 'read': 131,\n",
       " 'something': 132,\n",
       " 'customer': 133,\n",
       " 'came': 134,\n",
       " 'give': 135,\n",
       " 'last': 136,\n",
       " 'different': 137,\n",
       " 'every': 138,\n",
       " 'camcorder': 139,\n",
       " 'buying': 140,\n",
       " 'speaker': 141,\n",
       " 'mode': 142,\n",
       " 'point': 143,\n",
       " 'excellent': 144,\n",
       " 'hold': 145,\n",
       " 'bit': 146,\n",
       " 'big': 147,\n",
       " 'cost': 148,\n",
       " 'though': 149,\n",
       " 'control': 150,\n",
       " 'high': 151,\n",
       " 'may': 152,\n",
       " 'hour': 153,\n",
       " 'radio': 154,\n",
       " 'ipod': 155,\n",
       " 'people': 156,\n",
       " 'usb': 157,\n",
       " 'thought': 158,\n",
       " 'print': 159,\n",
       " 'turn': 160,\n",
       " 'several': 161,\n",
       " 'drive': 162,\n",
       " 'pretty': 163,\n",
       " 'manual': 164,\n",
       " 'worth': 165,\n",
       " 'box': 166,\n",
       " 'filter': 167,\n",
       " 'getting': 168,\n",
       " 'hard': 169,\n",
       " 'nikon': 170,\n",
       " 'working': 171,\n",
       " 'frame': 172,\n",
       " 'extra': 173,\n",
       " 'lcd': 174,\n",
       " 'ever': 175,\n",
       " 'focus': 176,\n",
       " 'almost': 177,\n",
       " 'file': 178,\n",
       " 'always': 179,\n",
       " 'happy': 180,\n",
       " 'end': 181,\n",
       " 'play': 182,\n",
       " 'taking': 183,\n",
       " 'shoot': 184,\n",
       " 'help': 185,\n",
       " 'return': 186,\n",
       " 'star': 187,\n",
       " 'try': 188,\n",
       " 'anything': 189,\n",
       " 'charge': 190,\n",
       " 'home': 191,\n",
       " 'ago': 192,\n",
       " 'actually': 193,\n",
       " 'said': 194,\n",
       " 'hand': 195,\n",
       " 'option': 196,\n",
       " 'issue': 197,\n",
       " 'warranty': 198,\n",
       " 'movie': 199,\n",
       " 'away': 200,\n",
       " 'wanted': 201,\n",
       " 'feel': 202,\n",
       " 'user': 203,\n",
       " 'seems': 204,\n",
       " 'minute': 205,\n",
       " 'music': 206,\n",
       " 'remote': 207,\n",
       " 'quite': 208,\n",
       " 'must': 209,\n",
       " 'everything': 210,\n",
       " 'noise': 211,\n",
       " 'fast': 212,\n",
       " 'life': 213,\n",
       " 'received': 214,\n",
       " 'store': 215,\n",
       " 'brand': 216,\n",
       " 'needed': 217,\n",
       " 'nothing': 218,\n",
       " 'cheap': 219,\n",
       " 'piece': 220,\n",
       " 'range': 221,\n",
       " 'next': 222,\n",
       " 'might': 223,\n",
       " 'perfect': 224,\n",
       " 'overall': 225,\n",
       " 'side': 226,\n",
       " 'result': 227,\n",
       " 'clear': 228,\n",
       " 'yet': 229,\n",
       " 'speed': 230,\n",
       " 'probably': 231,\n",
       " 'charger': 232,\n",
       " 'either': 233,\n",
       " 'poor': 234,\n",
       " 'reason': 235,\n",
       " 'full': 236,\n",
       " 'pay': 237,\n",
       " 'returned': 238,\n",
       " 'went': 239,\n",
       " 'etc': 240,\n",
       " 'finally': 241,\n",
       " 'order': 242,\n",
       " 'function': 243,\n",
       " 'disc': 244,\n",
       " 'panasonic': 245,\n",
       " 'replacement': 246,\n",
       " 'pro': 247,\n",
       " 'three': 248,\n",
       " 'let': 249,\n",
       " 'expensive': 250,\n",
       " 'deal': 251,\n",
       " 'instead': 252,\n",
       " 'disappointed': 253,\n",
       " 'easily': 254,\n",
       " 'trying': 255,\n",
       " 'already': 256,\n",
       " 'anyone': 257,\n",
       " 'mouse': 258,\n",
       " 'place': 259,\n",
       " 'room': 260,\n",
       " 'tripod': 261,\n",
       " 'pocket': 262,\n",
       " 'version': 263,\n",
       " 'open': 264,\n",
       " 'carry': 265,\n",
       " 'plus': 266,\n",
       " 'film': 267,\n",
       " 'shooting': 268,\n",
       " 'especially': 269,\n",
       " 'compact': 270,\n",
       " 'headphone': 271,\n",
       " 'told': 272,\n",
       " 'mine': 273,\n",
       " 'black': 274,\n",
       " 'taken': 275,\n",
       " 'close': 276,\n",
       " 'part': 277,\n",
       " 'window': 278,\n",
       " 'fact': 279,\n",
       " 'design': 280,\n",
       " 'wireless': 281,\n",
       " 'plastic': 282,\n",
       " 'display': 283,\n",
       " 'shipping': 284,\n",
       " 'highly': 285,\n",
       " 'cover': 286,\n",
       " 'line': 287,\n",
       " 'others': 288,\n",
       " 'repair': 289,\n",
       " 'plug': 290,\n",
       " 'maybe': 291,\n",
       " 'started': 292,\n",
       " 'although': 293,\n",
       " 'sharp': 294,\n",
       " 'least': 295,\n",
       " 'called': 296,\n",
       " 'type': 297,\n",
       " 'sometimes': 298,\n",
       " 'kodak': 299,\n",
       " 'experience': 300,\n",
       " 'couple': 301,\n",
       " 'ordered': 302,\n",
       " 'tell': 303,\n",
       " 'laptop': 304,\n",
       " 'audio': 305,\n",
       " 'cord': 306,\n",
       " 'change': 307,\n",
       " 'adapter': 308,\n",
       " 'sent': 309,\n",
       " 'start': 310,\n",
       " 'wrong': 311,\n",
       " 'wish': 312,\n",
       " 'turned': 313,\n",
       " 'company': 314,\n",
       " 'number': 315,\n",
       " 'large': 316,\n",
       " 'making': 317,\n",
       " 'unless': 318,\n",
       " 'tape': 319,\n",
       " 'paper': 320,\n",
       " 'difference': 321,\n",
       " 'medium': 322,\n",
       " 'run': 323,\n",
       " 'owned': 324,\n",
       " 'call': 325,\n",
       " 'save': 326,\n",
       " 'available': 327,\n",
       " 'job': 328,\n",
       " 'router': 329,\n",
       " 'decided': 330,\n",
       " 'top': 331,\n",
       " 'performance': 332,\n",
       " 'car': 333,\n",
       " 'kind': 334,\n",
       " 'inside': 335,\n",
       " 'program': 336,\n",
       " 'else': 337,\n",
       " 'ear': 338,\n",
       " 'later': 339,\n",
       " 'slow': 340,\n",
       " 'kit': 341,\n",
       " 'perfectly': 342,\n",
       " 'wide': 343,\n",
       " 'longer': 344,\n",
       " 'switch': 345,\n",
       " 'fix': 346,\n",
       " 'keyboard': 347,\n",
       " 'mac': 348,\n",
       " 'record': 349,\n",
       " 'left': 350,\n",
       " 'waste': 351,\n",
       " 'port': 352,\n",
       " 'replace': 353,\n",
       " 'show': 354,\n",
       " 'station': 355,\n",
       " 'mount': 356,\n",
       " 'trip': 357,\n",
       " 'connection': 358,\n",
       " 'machine': 359,\n",
       " 'reviewer': 360,\n",
       " 'definitely': 361,\n",
       " 'short': 362,\n",
       " 'antenna': 363,\n",
       " 'someone': 364,\n",
       " 'stick': 365,\n",
       " 'format': 366,\n",
       " 'shutter': 367,\n",
       " 'tech': 368,\n",
       " 'error': 369,\n",
       " 'within': 370,\n",
       " 'bright': 371,\n",
       " 'rather': 372,\n",
       " 'decent': 373,\n",
       " 'volume': 374,\n",
       " 'quick': 375,\n",
       " 'often': 376,\n",
       " 'extremely': 377,\n",
       " 'recording': 378,\n",
       " 'optical': 379,\n",
       " 'expect': 380,\n",
       " 'night': 381,\n",
       " 'useless': 382,\n",
       " 'menu': 383,\n",
       " 'resolution': 384,\n",
       " 'believe': 385,\n",
       " 'send': 386,\n",
       " 'completely': 387,\n",
       " 'signal': 388,\n",
       " 'course': 389,\n",
       " 'built': 390,\n",
       " 'spend': 391,\n",
       " 'pleased': 392,\n",
       " 'amazing': 393,\n",
       " 'simple': 394,\n",
       " 'included': 395,\n",
       " 'seem': 396,\n",
       " 'white': 397,\n",
       " 'half': 398,\n",
       " 'page': 399,\n",
       " 'real': 400,\n",
       " 'simply': 401,\n",
       " 'choice': 402,\n",
       " 'offer': 403,\n",
       " 'looked': 404,\n",
       " 'difficult': 405,\n",
       " 'add': 406,\n",
       " 'slr': 407,\n",
       " 'running': 408,\n",
       " 'photography': 409,\n",
       " 'mean': 410,\n",
       " 'expected': 411,\n",
       " 'front': 412,\n",
       " 'rebel': 413,\n",
       " 'driver': 414,\n",
       " 'compared': 415,\n",
       " 'strap': 416,\n",
       " 'complaint': 417,\n",
       " 'instruction': 418,\n",
       " 'stand': 419,\n",
       " 'market': 420,\n",
       " 'yes': 421,\n",
       " 'given': 422,\n",
       " 'view': 423,\n",
       " 'note': 424,\n",
       " 'quickly': 425,\n",
       " 'reading': 426,\n",
       " 'horrible': 427,\n",
       " 'lost': 428,\n",
       " 'guess': 429,\n",
       " 'wait': 430,\n",
       " 'stopped': 431,\n",
       " 'cartridge': 432,\n",
       " 'center': 433,\n",
       " 'weight': 434,\n",
       " 'gave': 435,\n",
       " 'true': 436,\n",
       " 'original': 437,\n",
       " 'person': 438,\n",
       " 'area': 439,\n",
       " 'head': 440,\n",
       " 'due': 441,\n",
       " 'hope': 442,\n",
       " 'hood': 443,\n",
       " 'wife': 444,\n",
       " 'con': 445,\n",
       " 'previous': 446,\n",
       " 'absolutely': 447,\n",
       " 'stop': 448,\n",
       " 'ink': 449,\n",
       " 'house': 450,\n",
       " 'standard': 451,\n",
       " 'package': 452,\n",
       " 'level': 453,\n",
       " 'christmas': 454,\n",
       " 'stay': 455,\n",
       " 'friend': 456,\n",
       " 'manufacturer': 457,\n",
       " 'done': 458,\n",
       " 'receiver': 459,\n",
       " 'equipment': 460,\n",
       " 'condition': 461,\n",
       " 'foot': 462,\n",
       " 'terrible': 463,\n",
       " 'outside': 464,\n",
       " 'pic': 465,\n",
       " 'spent': 466,\n",
       " 'monitor': 467,\n",
       " 'smaller': 468,\n",
       " 'value': 469,\n",
       " 'angle': 470,\n",
       " 'professional': 471,\n",
       " 'useful': 472,\n",
       " 'transfer': 473,\n",
       " 'website': 474,\n",
       " 'network': 475,\n",
       " 'iso': 476,\n",
       " 'idea': 477,\n",
       " 'onto': 478,\n",
       " 'broke': 479,\n",
       " 'dollar': 480,\n",
       " 'paid': 481,\n",
       " 'installed': 482,\n",
       " 'space': 483,\n",
       " 'worse': 484,\n",
       " 'disk': 485,\n",
       " 'free': 486,\n",
       " 'blurry': 487,\n",
       " 'designed': 488,\n",
       " 'seen': 489,\n",
       " 'data': 490,\n",
       " 'accessory': 491,\n",
       " 'body': 492,\n",
       " 'key': 493,\n",
       " 'fan': 494,\n",
       " 'cool': 495,\n",
       " 'recently': 496,\n",
       " 'hear': 497,\n",
       " 'clip': 498,\n",
       " 'matter': 499,\n",
       " 'main': 500,\n",
       " 'via': 501,\n",
       " 'replaced': 502,\n",
       " 'ability': 503,\n",
       " 'firmware': 504,\n",
       " 'install': 505,\n",
       " 'higher': 506,\n",
       " 'unfortunately': 507,\n",
       " 'properly': 508,\n",
       " 'awesome': 509,\n",
       " 'kid': 510,\n",
       " 'wall': 511,\n",
       " 'dark': 512,\n",
       " 'four': 513,\n",
       " 'move': 514,\n",
       " 'older': 515,\n",
       " 'wonderful': 516,\n",
       " 'upgrade': 517,\n",
       " 'game': 518,\n",
       " 'microphone': 519,\n",
       " 'external': 520,\n",
       " 'lense': 521,\n",
       " 'connect': 522,\n",
       " 'larger': 523,\n",
       " 'stereo': 524,\n",
       " 'entire': 525,\n",
       " 'email': 526,\n",
       " 'similar': 527,\n",
       " 'heavy': 528,\n",
       " 'soon': 529,\n",
       " 'situation': 530,\n",
       " 'research': 531,\n",
       " 'junk': 532,\n",
       " 'lighting': 533,\n",
       " 'cheaper': 534,\n",
       " 'watch': 535,\n",
       " 'playing': 536,\n",
       " 'today': 537,\n",
       " 'site': 538,\n",
       " 'anyway': 539,\n",
       " 'exactly': 540,\n",
       " 'allows': 541,\n",
       " 'name': 542,\n",
       " 'internal': 543,\n",
       " 'thinking': 544,\n",
       " 'pair': 545,\n",
       " 'photographer': 546,\n",
       " 'solid': 547,\n",
       " 'please': 548,\n",
       " 'check': 549,\n",
       " 'gift': 550,\n",
       " 'local': 551,\n",
       " 'comfortable': 552,\n",
       " 'download': 553,\n",
       " 'buck': 554,\n",
       " 'easier': 555,\n",
       " 'daughter': 556,\n",
       " 'remove': 557,\n",
       " 'reception': 558,\n",
       " 'compatible': 559,\n",
       " 'purchasing': 560,\n",
       " 'connected': 561,\n",
       " 'directly': 562,\n",
       " 'opinion': 563,\n",
       " 'interface': 564,\n",
       " 'test': 565,\n",
       " 'gps': 566,\n",
       " 'break': 567,\n",
       " 'worst': 568,\n",
       " 'huge': 569,\n",
       " 'belt': 570,\n",
       " 'setup': 571,\n",
       " 'whole': 572,\n",
       " 'satisfied': 573,\n",
       " 'bottom': 574,\n",
       " 'eye': 575,\n",
       " 'dead': 576,\n",
       " 'copy': 577,\n",
       " 'arrived': 578,\n",
       " 'web': 579,\n",
       " 'jack': 580,\n",
       " 'produce': 581,\n",
       " 'backup': 582,\n",
       " 'happened': 583,\n",
       " 'auto': 584,\n",
       " 'portable': 585,\n",
       " 'nearly': 586,\n",
       " 'defective': 587,\n",
       " 'fully': 588,\n",
       " 'subject': 589,\n",
       " 'stuff': 590,\n",
       " 'recorder': 591,\n",
       " 'access': 592,\n",
       " 'past': 593,\n",
       " 'linksys': 594,\n",
       " 'macro': 595,\n",
       " 'glass': 596,\n",
       " 'solution': 597,\n",
       " 'plugged': 598,\n",
       " 'press': 599,\n",
       " 'reader': 600,\n",
       " 'considering': 601,\n",
       " 'including': 602,\n",
       " 'recommended': 603,\n",
       " 'attached': 604,\n",
       " 'loved': 605,\n",
       " 'capture': 606,\n",
       " 'advertised': 607,\n",
       " 'red': 608,\n",
       " 'exposure': 609,\n",
       " 'field': 610,\n",
       " 'handle': 611,\n",
       " 'viewfinder': 612,\n",
       " 'annoying': 613,\n",
       " 'refund': 614,\n",
       " 'single': 615,\n",
       " 'trouble': 616,\n",
       " 'usually': 617,\n",
       " 'channel': 618,\n",
       " 'printing': 619,\n",
       " 'technology': 620,\n",
       " 'olympus': 621,\n",
       " 'understand': 622,\n",
       " 'except': 623,\n",
       " 'returning': 624,\n",
       " 'negative': 625,\n",
       " 'serious': 626,\n",
       " 'compare': 627,\n",
       " 'family': 628,\n",
       " 'amount': 629,\n",
       " 'online': 630,\n",
       " 'care': 631,\n",
       " 'otherwise': 632,\n",
       " 'song': 633,\n",
       " 'lack': 634,\n",
       " 'update': 635,\n",
       " 'slightly': 636,\n",
       " 'pick': 637,\n",
       " 'asked': 638,\n",
       " 'input': 639,\n",
       " 'broken': 640,\n",
       " 'seemed': 641,\n",
       " 'bass': 642,\n",
       " 'mic': 643,\n",
       " 'pack': 644,\n",
       " 'inch': 645,\n",
       " 'dropped': 646,\n",
       " 'supposed': 647,\n",
       " 'consider': 648,\n",
       " 'reset': 649,\n",
       " 'normal': 650,\n",
       " 'son': 651,\n",
       " 'learn': 652,\n",
       " 'important': 653,\n",
       " 'stabilization': 654,\n",
       " 'ready': 655,\n",
       " 'super': 656,\n",
       " 'live': 657,\n",
       " 'message': 658,\n",
       " 'regular': 659,\n",
       " 'output': 660,\n",
       " 'water': 661,\n",
       " 'saw': 662,\n",
       " 'action': 663,\n",
       " 'none': 664,\n",
       " 'addition': 665,\n",
       " 'luck': 666,\n",
       " 'mind': 667,\n",
       " 'requires': 668,\n",
       " 'protect': 669,\n",
       " 'forget': 670,\n",
       " 'scope': 671,\n",
       " 'mistake': 672,\n",
       " 'everyone': 673,\n",
       " 'suggest': 674,\n",
       " 'write': 675,\n",
       " 'capability': 676,\n",
       " 'faster': 677,\n",
       " 'along': 678,\n",
       " 'touch': 679,\n",
       " 'charged': 680,\n",
       " 'length': 681,\n",
       " 'label': 682,\n",
       " 'liked': 683,\n",
       " 'process': 684,\n",
       " 'gone': 685,\n",
       " 'surprised': 686,\n",
       " 'major': 687,\n",
       " 'strong': 688,\n",
       " 'ended': 689,\n",
       " 'immediately': 690,\n",
       " 'travel': 691,\n",
       " 'together': 692,\n",
       " 'rate': 693,\n",
       " 'fuji': 694,\n",
       " 'binoculars': 695,\n",
       " 'base': 696,\n",
       " 'based': 697,\n",
       " 'per': 698,\n",
       " 'mention': 699,\n",
       " 'detail': 700,\n",
       " 'business': 701,\n",
       " 'sturdy': 702,\n",
       " 'figure': 703,\n",
       " 'apple': 704,\n",
       " 'plan': 705,\n",
       " 'office': 706,\n",
       " 'information': 707,\n",
       " 'five': 708,\n",
       " 'wire': 709,\n",
       " 'flaw': 710,\n",
       " 'dock': 711,\n",
       " 'impressed': 712,\n",
       " 'loud': 713,\n",
       " 'scratch': 714,\n",
       " 'heard': 715,\n",
       " 'fixed': 716,\n",
       " 'dont': 717,\n",
       " 'rating': 718,\n",
       " 'samsung': 719,\n",
       " 'clean': 720,\n",
       " 'mini': 721,\n",
       " 'indoors': 722,\n",
       " 'ease': 723,\n",
       " 'bulky': 724,\n",
       " 'cause': 725,\n",
       " 'died': 726,\n",
       " 'possible': 727,\n",
       " 'friendly': 728,\n",
       " 'lose': 729,\n",
       " 'voice': 730,\n",
       " 'glad': 731,\n",
       " 'careful': 732,\n",
       " 'sensor': 733,\n",
       " 'allow': 734,\n",
       " 'twice': 735,\n",
       " 'minor': 736,\n",
       " 'direction': 737,\n",
       " 'balance': 738,\n",
       " 'background': 739,\n",
       " 'kept': 740,\n",
       " 'soft': 741,\n",
       " 'totally': 742,\n",
       " 'distance': 743,\n",
       " 'anywhere': 744,\n",
       " 'grainy': 745,\n",
       " 'listening': 746,\n",
       " 'present': 747,\n",
       " 'behind': 748,\n",
       " 'limited': 749,\n",
       " 'indoor': 750,\n",
       " 'pixel': 751,\n",
       " 'third': 752,\n",
       " 'fun': 753,\n",
       " 'telescope': 754,\n",
       " 'click': 755,\n",
       " 'multiple': 756,\n",
       " 'opened': 757,\n",
       " 'lower': 758,\n",
       " 'object': 759,\n",
       " 'hdmi': 760,\n",
       " 'fairly': 761,\n",
       " 'firewire': 762,\n",
       " 'fantastic': 763,\n",
       " 'giving': 764,\n",
       " 'apparently': 765,\n",
       " 'bose': 766,\n",
       " 'handy': 767,\n",
       " 'book': 768,\n",
       " 'cut': 769,\n",
       " 'belkin': 770,\n",
       " 'storage': 771,\n",
       " 'load': 772,\n",
       " 'build': 773,\n",
       " 'drop': 774,\n",
       " 'provide': 775,\n",
       " 'waiting': 776,\n",
       " 'child': 777,\n",
       " 'worry': 778,\n",
       " 'sold': 779,\n",
       " 'fall': 780,\n",
       " 'map': 781,\n",
       " 'blue': 782,\n",
       " 'near': 783,\n",
       " 'enjoy': 784,\n",
       " 'leave': 785,\n",
       " 'casio': 786,\n",
       " 'quot': 787,\n",
       " 'listen': 788,\n",
       " 'failed': 789,\n",
       " 'notice': 790,\n",
       " 'provides': 791,\n",
       " 'newer': 792,\n",
       " 'effect': 793,\n",
       " 'road': 794,\n",
       " 'appears': 795,\n",
       " 'husband': 796,\n",
       " 'crisp': 797,\n",
       " 'provided': 798,\n",
       " 'mentioned': 799,\n",
       " 'clearly': 800,\n",
       " 'world': 801,\n",
       " 'certainly': 802,\n",
       " 'lock': 803,\n",
       " 'moving': 804,\n",
       " 'avoid': 805,\n",
       " 'noticed': 806,\n",
       " 'agree': 807,\n",
       " 'monster': 808,\n",
       " 'powershot': 809,\n",
       " 'date': 810,\n",
       " 'experienced': 811,\n",
       " 'nicely': 812,\n",
       " 'source': 813,\n",
       " 'screw': 814,\n",
       " 'coming': 815,\n",
       " 'spending': 816,\n",
       " 'complete': 817,\n",
       " 'various': 818,\n",
       " 'plenty': 819,\n",
       " 'pop': 820,\n",
       " 'moment': 821,\n",
       " 'sandisk': 822,\n",
       " 'word': 823,\n",
       " 'guy': 824,\n",
       " 'search': 825,\n",
       " 'basic': 826,\n",
       " 'track': 827,\n",
       " 'stuck': 828,\n",
       " 'inexpensive': 829,\n",
       " 'tiny': 830,\n",
       " 'eventually': 831,\n",
       " 'sell': 832,\n",
       " 'series': 833,\n",
       " 'ship': 834,\n",
       " 'damage': 835,\n",
       " 'example': 836,\n",
       " 'hoping': 837,\n",
       " 'response': 838,\n",
       " 'hook': 839,\n",
       " 'snap': 840,\n",
       " 'pad': 841,\n",
       " 'sharpness': 842,\n",
       " 'across': 843,\n",
       " 'pain': 844,\n",
       " 'raw': 845,\n",
       " 'comment': 846,\n",
       " 'durable': 847,\n",
       " 'viewing': 848,\n",
       " 'protection': 849,\n",
       " 'putting': 850,\n",
       " 'additional': 851,\n",
       " 'purpose': 852,\n",
       " 'knew': 853,\n",
       " 'correct': 854,\n",
       " 'clarity': 855,\n",
       " 'sale': 856,\n",
       " 'disappointing': 857,\n",
       " 'chance': 858,\n",
       " 'creative': 859,\n",
       " 'clock': 860,\n",
       " 'capacity': 861,\n",
       " 'total': 862,\n",
       " 'perhaps': 863,\n",
       " 'installation': 864,\n",
       " 'edge': 865,\n",
       " 'convenient': 866,\n",
       " 'vacation': 867,\n",
       " 'hit': 868,\n",
       " 'mostly': 869,\n",
       " 'average': 870,\n",
       " 'contact': 871,\n",
       " 'factor': 872,\n",
       " 'state': 873,\n",
       " 'component': 874,\n",
       " 'shipped': 875,\n",
       " 'step': 876,\n",
       " 'reliable': 877,\n",
       " 'anymore': 878,\n",
       " 'green': 879,\n",
       " 'required': 880,\n",
       " 'impossible': 881,\n",
       " 'sort': 882,\n",
       " 'tool': 883,\n",
       " 'okay': 884,\n",
       " 'bother': 885,\n",
       " 'connector': 886,\n",
       " 'carrying': 887,\n",
       " 'playback': 888,\n",
       " 'basically': 889,\n",
       " 'mile': 890,\n",
       " 'suck': 891,\n",
       " 'poorly': 892,\n",
       " 'sport': 893,\n",
       " 'desktop': 894,\n",
       " 'bigger': 895,\n",
       " 'editing': 896,\n",
       " 'spec': 897,\n",
       " 'slide': 898,\n",
       " 'future': 899,\n",
       " 'recorded': 900,\n",
       " 'internet': 901,\n",
       " 'folder': 902,\n",
       " 'happen': 903,\n",
       " 'certain': 904,\n",
       " 'stock': 905,\n",
       " 'happens': 906,\n",
       " 'monopod': 907,\n",
       " 'priced': 908,\n",
       " 'general': 909,\n",
       " 'door': 910,\n",
       " 'consumer': 911,\n",
       " 'focal': 912,\n",
       " 'rest': 913,\n",
       " 'alarm': 914,\n",
       " 'beautiful': 915,\n",
       " 'surface': 916,\n",
       " 'remember': 917,\n",
       " 'grip': 918,\n",
       " 'desk': 919,\n",
       " 'thin': 920,\n",
       " 'whatever': 921,\n",
       " 'ring': 922,\n",
       " 'beat': 923,\n",
       " 'contrast': 924,\n",
       " 'wear': 925,\n",
       " 'comparison': 926,\n",
       " 'ran': 927,\n",
       " 'disappointment': 928,\n",
       " 'telephoto': 929,\n",
       " 'ton': 930,\n",
       " 'fault': 931,\n",
       " 'pull': 932,\n",
       " 'miss': 933,\n",
       " 'alot': 934,\n",
       " 'frustrating': 935,\n",
       " 'description': 936,\n",
       " 'cam': 937,\n",
       " 'question': 938,\n",
       " 'constantly': 939,\n",
       " 'printed': 940,\n",
       " 'despite': 941,\n",
       " 'added': 942,\n",
       " 'period': 943,\n",
       " 'construction': 944,\n",
       " 'burner': 945,\n",
       " 'appear': 946,\n",
       " 'intuitive': 947,\n",
       " 'handset': 948,\n",
       " 'thanks': 949,\n",
       " 'receive': 950,\n",
       " 'barely': 951,\n",
       " 'autofocus': 952,\n",
       " 'selling': 953,\n",
       " 'slot': 954,\n",
       " 'portrait': 955,\n",
       " 'thank': 956,\n",
       " 'landscape': 957,\n",
       " 'turning': 958,\n",
       " 'straight': 959,\n",
       " 'tested': 960,\n",
       " 'operate': 961,\n",
       " 'sky': 962,\n",
       " 'jvc': 963,\n",
       " 'charging': 964,\n",
       " 'policy': 965,\n",
       " 'favorite': 966,\n",
       " 'holding': 967,\n",
       " 'microsoft': 968,\n",
       " 'bluetooth': 969,\n",
       " 'hot': 970,\n",
       " 'aperture': 971,\n",
       " 'somewhat': 972,\n",
       " 'photograph': 973,\n",
       " 'unlike': 974,\n",
       " 'finding': 975,\n",
       " 'material': 976,\n",
       " 'particular': 977,\n",
       " 'saying': 978,\n",
       " 'rebate': 979,\n",
       " 'hundred': 980,\n",
       " 'quiet': 981,\n",
       " 'technical': 982,\n",
       " 'beware': 983,\n",
       " 'distortion': 984,\n",
       " 'known': 985,\n",
       " 'accurate': 986,\n",
       " 'whether': 987,\n",
       " 'sorry': 988,\n",
       " 'push': 989,\n",
       " 'contacted': 990,\n",
       " 'tight': 991,\n",
       " 'arm': 992,\n",
       " 'incredible': 993,\n",
       " 'current': 994,\n",
       " 'played': 995,\n",
       " 'list': 996,\n",
       " 'philip': 997,\n",
       " 'cap': 998,\n",
       " 'aware': 999,\n",
       " ...}"
      ]
     },
     "execution_count": 116,
     "metadata": {},
     "output_type": "execute_result"
    }
   ],
   "source": [
    "W2V_IDX = lang_model.wv.key_to_index\n",
    "W2V_IDX"
   ]
  },
  {
   "cell_type": "code",
   "execution_count": 89,
   "metadata": {},
   "outputs": [
    {
     "data": {
      "text/plain": [
       "[('excellent', 0.5133135318756104),\n",
       " ('decent', 0.49327781796455383),\n",
       " ('great', 0.49313730001449585),\n",
       " ('outstanding', 0.4379054605960846),\n",
       " ('amazed', 0.4255651831626892),\n",
       " ('fantastic', 0.4206225275993347),\n",
       " ('amazing', 0.40894001722335815),\n",
       " ('incredible', 0.40874603390693665),\n",
       " ('bad', 0.400428831577301),\n",
       " ('nice', 0.40040504932403564)]"
      ]
     },
     "execution_count": 89,
     "metadata": {},
     "output_type": "execute_result"
    }
   ],
   "source": [
    "lang_model.wv.most_similar('good')"
   ]
  },
  {
   "cell_type": "code",
   "execution_count": 90,
   "metadata": {},
   "outputs": [
    {
     "data": {
      "text/plain": [
       "[('poor', 0.4046265780925751),\n",
       " ('good', 0.4004288911819458),\n",
       " ('plain', 0.36414873600006104),\n",
       " ('terrible', 0.34657782316207886),\n",
       " ('suffers', 0.3465542197227478),\n",
       " ('glitch', 0.34122517704963684),\n",
       " ('maybe', 0.34035512804985046),\n",
       " ('horrible', 0.3291841447353363),\n",
       " ('dirty', 0.32887011766433716),\n",
       " ('amazed', 0.3264422118663788)]"
      ]
     },
     "execution_count": 90,
     "metadata": {},
     "output_type": "execute_result"
    }
   ],
   "source": [
    "lang_model.wv.most_similar('bad')"
   ]
  },
  {
   "cell_type": "code",
   "execution_count": 91,
   "metadata": {},
   "outputs": [
    {
     "data": {
      "text/plain": [
       "[('buzzing', 0.6027143001556396),\n",
       " ('horrible', 0.5844964981079102),\n",
       " ('ok.', 0.5778323411941528),\n",
       " ('resulting', 0.554177463054657),\n",
       " ('plain', 0.5540546774864197),\n",
       " ('caller', 0.5302073955535889),\n",
       " ('grainy', 0.5215082168579102),\n",
       " ('ambient', 0.518593966960907),\n",
       " ('background', 0.5107190608978271),\n",
       " ('noisy', 0.5095994472503662)]"
      ]
     },
     "execution_count": 91,
     "metadata": {},
     "output_type": "execute_result"
    }
   ],
   "source": [
    "lang_model.wv.most_similar('awful')"
   ]
  },
  {
   "cell_type": "markdown",
   "metadata": {},
   "source": [
    "Ніколи не купляв техніку phillips. Можливо, word2vec мені про щось натякає."
   ]
  },
  {
   "cell_type": "code",
   "execution_count": 92,
   "metadata": {},
   "outputs": [
    {
     "data": {
      "text/plain": [
       "[('worst', 0.5587275624275208),\n",
       " ('largest', 0.42063477635383606),\n",
       " ('spectacular', 0.419813334941864),\n",
       " ('among', 0.3988499343395233),\n",
       " ('better', 0.39399829506874084),\n",
       " ('favorite', 0.38969841599464417),\n",
       " ('easiest', 0.38954418897628784),\n",
       " ('superior', 0.3739423453807831),\n",
       " ('excellent', 0.35081911087036133),\n",
       " ('par', 0.3364107608795166)]"
      ]
     },
     "execution_count": 92,
     "metadata": {},
     "output_type": "execute_result"
    }
   ],
   "source": [
    "lang_model.wv.most_similar('best')"
   ]
  },
  {
   "cell_type": "markdown",
   "metadata": {},
   "source": [
    "Прикольно, нині \"хороше\" є \"поганим\" :)"
   ]
  },
  {
   "cell_type": "code",
   "execution_count": 114,
   "metadata": {},
   "outputs": [
    {
     "name": "stdout",
     "output_type": "stream",
     "text": [
      "KeyedVectors<vector_size=500, 3906 keys>\n"
     ]
    }
   ],
   "source": [
    "w2v_vectors = lang_model.wv\n",
    "print(w2v_vectors)"
   ]
  },
  {
   "cell_type": "markdown",
   "metadata": {},
   "source": [
    "По суті, інтуїції стільки ж, скільки було при дослідженні власного вкладення."
   ]
  },
  {
   "cell_type": "code",
   "execution_count": 100,
   "metadata": {},
   "outputs": [
    {
     "data": {
      "text/plain": [
       "(3906, 500)"
      ]
     },
     "execution_count": 100,
     "metadata": {},
     "output_type": "execute_result"
    }
   ],
   "source": [
    "E_W2V = np.array([w2v_vectors[w] for w in w2v_vectors.key_to_index.keys()])\n",
    "E_W2V.shape"
   ]
  },
  {
   "cell_type": "markdown",
   "metadata": {},
   "source": [
    "Пхати продукти моделі word2vec будемо у попередню LSTM-мережу."
   ]
  },
  {
   "cell_type": "code",
   "execution_count": 109,
   "metadata": {},
   "outputs": [],
   "source": [
    "class Word2VecLSTM(nn.Module):\n",
    "    \n",
    "    def __init__(self, embedding_matrix, hidden_size):\n",
    "        super(self.__class__, self).__init__()\n",
    "        self.vocab_size, self.embedding_size = embedding_matrix.shape\n",
    "        \n",
    "        # Вставляємо готовий шар вкладення слів на основі word2vec, який надалі не буде тренуватися\n",
    "        self.embedding = nn.Embedding(self.vocab_size, self.embedding_size)\n",
    "        self.embedding.weight = torch.nn.Parameter(embedding_matrix)\n",
    "        self.embedding.weight.requires_grad = False\n",
    "        \n",
    "        self.hidden_size = hidden_size\n",
    "        \n",
    "        # Інші компоненти LSTM\n",
    "        self.lstm = nn.LSTM(input_size=self.embedding_size, \n",
    "                            hidden_size=self.hidden_size, \n",
    "                            num_layers=1, \n",
    "                            batch_first=True,\n",
    "                            bidirectional=True)\n",
    "        self.linear = nn.Linear(2 * self.hidden_size, 1)      \n",
    "        self.sigmoid = nn.Sigmoid()\n",
    "        \n",
    "    def forward(self, x, sequences_lengths):\n",
    "        # Вкладаємо текст (-ову послідовність) \n",
    "        embedding = self.embedding(x)\n",
    "\n",
    "        pack = torch.nn.utils.rnn.pack_padded_sequence(\n",
    "            embedding, sequences_lengths, \n",
    "            batch_first=True, enforce_sorted=False\n",
    "        )\n",
    "        # Долучаємо рекурентну компоненту        \n",
    "        packed_out, _ = self.lstm(pack)\n",
    "        out, _ = torch.nn.utils.rnn.pad_packed_sequence(\n",
    "            packed_out, batch_first=True\n",
    "        )\n",
    "        out_fwd = out[range(len(out)), sequences_lengths - 1, :self.hidden_size]\n",
    "        out_rev = out[:, 0, self.hidden_size:]\n",
    "        out_red = torch.cat((out_fwd, out_rev), 1)\n",
    "        # Витягуємо з LSTM-компоненти дані у класичний шар мережі\n",
    "        from_linear = self.linear(out_red)\n",
    "        # Прогнозуємо тональність текстів\n",
    "        output = self.sigmoid(from_linear)\n",
    "        return output"
   ]
  },
  {
   "cell_type": "markdown",
   "metadata": {},
   "source": [
    "Спробуємо натренувати модель класифікації на основі існуючого вкладення."
   ]
  },
  {
   "cell_type": "code",
   "execution_count": 110,
   "metadata": {},
   "outputs": [
    {
     "data": {
      "text/plain": [
       "Word2VecLSTM(\n",
       "  (embedding): Embedding(3906, 500)\n",
       "  (lstm): LSTM(500, 100, batch_first=True, bidirectional=True)\n",
       "  (linear): Linear(in_features=200, out_features=1, bias=True)\n",
       "  (sigmoid): Sigmoid()\n",
       ")"
      ]
     },
     "execution_count": 110,
     "metadata": {},
     "output_type": "execute_result"
    }
   ],
   "source": [
    "# Ініціалізація моделі\n",
    "model = Word2VecLSTM(\n",
    "    embedding_matrix=torch.nn.Parameter(torch.from_numpy(E_W2V)).to(device), hidden_size=100\n",
    ")\n",
    "model.to(device)"
   ]
  },
  {
   "cell_type": "code",
   "execution_count": 111,
   "metadata": {},
   "outputs": [],
   "source": [
    "epoch_loss_values = []\n",
    "step_loss_values = []"
   ]
  },
  {
   "cell_type": "code",
   "execution_count": 112,
   "metadata": {},
   "outputs": [],
   "source": [
    "# Функція вартості -- \"бінарна ентропія\" \n",
    "loss_function = nn.BCELoss()\n",
    "# Використаємо ADAM в якості оптимізатора\n",
    "optimizer = torch.optim.Adam(model.parameters(), lr=0.005)"
   ]
  },
  {
   "cell_type": "code",
   "execution_count": 129,
   "metadata": {},
   "outputs": [
    {
     "name": "stderr",
     "output_type": "stream",
     "text": [
      "/tmp/ipykernel_3938/1214950564.py:2: SettingWithCopyWarning: \n",
      "A value is trying to be set on a copy of a slice from a DataFrame.\n",
      "Try using .loc[row_indexer,col_indexer] = value instead\n",
      "\n",
      "See the caveats in the documentation: https://pandas.pydata.org/pandas-docs/stable/user_guide/indexing.html#returning-a-view-versus-a-copy\n",
      "  df_test['filtered_w2v'] = df_test['cleaned'].apply(lambda u: sequence_cleaner(u, W2V_IDX.keys()))\n"
     ]
    }
   ],
   "source": [
    "df_train['filtered_w2v'] = df_train['cleaned'].apply(lambda u: sequence_cleaner(u, W2V_IDX.keys()))\n",
    "df_test['filtered_w2v'] = df_test['cleaned'].apply(lambda u: sequence_cleaner(u, W2V_IDX.keys()))"
   ]
  },
  {
   "cell_type": "code",
   "execution_count": 130,
   "metadata": {
    "scrolled": true
   },
   "outputs": [
    {
     "name": "stdout",
     "output_type": "stream",
     "text": [
      "Кількість ітерацій за одну епоху: 76\n"
     ]
    },
    {
     "ename": "RuntimeError",
     "evalue": "Length of all samples has to be greater than 0, but found an element in 'lengths' that is <= 0",
     "output_type": "error",
     "traceback": [
      "\u001b[0;31m---------------------------------------------------------------------------\u001b[0m",
      "\u001b[0;31mRuntimeError\u001b[0m                              Traceback (most recent call last)",
      "Cell \u001b[0;32mIn [130], line 36\u001b[0m\n\u001b[1;32m     33\u001b[0m y_true \u001b[38;5;241m=\u001b[39m torch\u001b[38;5;241m.\u001b[39mtensor(y_true, dtype\u001b[38;5;241m=\u001b[39mtorch\u001b[38;5;241m.\u001b[39mfloat)\u001b[38;5;241m.\u001b[39mto(device)\n\u001b[1;32m     35\u001b[0m \u001b[38;5;66;03m# Прогноз\u001b[39;00m\n\u001b[0;32m---> 36\u001b[0m y_pred \u001b[38;5;241m=\u001b[39m \u001b[43mmodel\u001b[49m\u001b[43m(\u001b[49m\u001b[43mbatch_idx\u001b[49m\u001b[43m,\u001b[49m\u001b[43m \u001b[49m\u001b[43mseq_lengths\u001b[49m\u001b[43m)\u001b[49m\n\u001b[1;32m     38\u001b[0m loss \u001b[38;5;241m=\u001b[39m loss_function(y_pred\u001b[38;5;241m.\u001b[39msqueeze(), y_true)\n\u001b[1;32m     40\u001b[0m step_loss_values\u001b[38;5;241m.\u001b[39mappend(loss)\n",
      "File \u001b[0;32m~/anaconda3/envs/pythonProject/lib/python3.10/site-packages/torch/nn/modules/module.py:1190\u001b[0m, in \u001b[0;36mModule._call_impl\u001b[0;34m(self, *input, **kwargs)\u001b[0m\n\u001b[1;32m   1186\u001b[0m \u001b[38;5;66;03m# If we don't have any hooks, we want to skip the rest of the logic in\u001b[39;00m\n\u001b[1;32m   1187\u001b[0m \u001b[38;5;66;03m# this function, and just call forward.\u001b[39;00m\n\u001b[1;32m   1188\u001b[0m \u001b[38;5;28;01mif\u001b[39;00m \u001b[38;5;129;01mnot\u001b[39;00m (\u001b[38;5;28mself\u001b[39m\u001b[38;5;241m.\u001b[39m_backward_hooks \u001b[38;5;129;01mor\u001b[39;00m \u001b[38;5;28mself\u001b[39m\u001b[38;5;241m.\u001b[39m_forward_hooks \u001b[38;5;129;01mor\u001b[39;00m \u001b[38;5;28mself\u001b[39m\u001b[38;5;241m.\u001b[39m_forward_pre_hooks \u001b[38;5;129;01mor\u001b[39;00m _global_backward_hooks\n\u001b[1;32m   1189\u001b[0m         \u001b[38;5;129;01mor\u001b[39;00m _global_forward_hooks \u001b[38;5;129;01mor\u001b[39;00m _global_forward_pre_hooks):\n\u001b[0;32m-> 1190\u001b[0m     \u001b[38;5;28;01mreturn\u001b[39;00m \u001b[43mforward_call\u001b[49m\u001b[43m(\u001b[49m\u001b[38;5;241;43m*\u001b[39;49m\u001b[38;5;28;43minput\u001b[39;49m\u001b[43m,\u001b[49m\u001b[43m \u001b[49m\u001b[38;5;241;43m*\u001b[39;49m\u001b[38;5;241;43m*\u001b[39;49m\u001b[43mkwargs\u001b[49m\u001b[43m)\u001b[49m\n\u001b[1;32m   1191\u001b[0m \u001b[38;5;66;03m# Do not call functions when jit is used\u001b[39;00m\n\u001b[1;32m   1192\u001b[0m full_backward_hooks, non_full_backward_hooks \u001b[38;5;241m=\u001b[39m [], []\n",
      "Cell \u001b[0;32mIn [109], line 27\u001b[0m, in \u001b[0;36mWord2VecLSTM.forward\u001b[0;34m(self, x, sequences_lengths)\u001b[0m\n\u001b[1;32m     23\u001b[0m \u001b[38;5;28;01mdef\u001b[39;00m \u001b[38;5;21mforward\u001b[39m(\u001b[38;5;28mself\u001b[39m, x, sequences_lengths):\n\u001b[1;32m     24\u001b[0m     \u001b[38;5;66;03m# Вкладаємо текст (-ову послідовність) \u001b[39;00m\n\u001b[1;32m     25\u001b[0m     embedding \u001b[38;5;241m=\u001b[39m \u001b[38;5;28mself\u001b[39m\u001b[38;5;241m.\u001b[39membedding(x)\n\u001b[0;32m---> 27\u001b[0m     pack \u001b[38;5;241m=\u001b[39m \u001b[43mtorch\u001b[49m\u001b[38;5;241;43m.\u001b[39;49m\u001b[43mnn\u001b[49m\u001b[38;5;241;43m.\u001b[39;49m\u001b[43mutils\u001b[49m\u001b[38;5;241;43m.\u001b[39;49m\u001b[43mrnn\u001b[49m\u001b[38;5;241;43m.\u001b[39;49m\u001b[43mpack_padded_sequence\u001b[49m\u001b[43m(\u001b[49m\n\u001b[1;32m     28\u001b[0m \u001b[43m        \u001b[49m\u001b[43membedding\u001b[49m\u001b[43m,\u001b[49m\u001b[43m \u001b[49m\u001b[43msequences_lengths\u001b[49m\u001b[43m,\u001b[49m\u001b[43m \u001b[49m\n\u001b[1;32m     29\u001b[0m \u001b[43m        \u001b[49m\u001b[43mbatch_first\u001b[49m\u001b[38;5;241;43m=\u001b[39;49m\u001b[38;5;28;43;01mTrue\u001b[39;49;00m\u001b[43m,\u001b[49m\u001b[43m \u001b[49m\u001b[43menforce_sorted\u001b[49m\u001b[38;5;241;43m=\u001b[39;49m\u001b[38;5;28;43;01mFalse\u001b[39;49;00m\n\u001b[1;32m     30\u001b[0m \u001b[43m    \u001b[49m\u001b[43m)\u001b[49m\n\u001b[1;32m     31\u001b[0m     \u001b[38;5;66;03m# Долучаємо рекурентну компоненту        \u001b[39;00m\n\u001b[1;32m     32\u001b[0m     packed_out, _ \u001b[38;5;241m=\u001b[39m \u001b[38;5;28mself\u001b[39m\u001b[38;5;241m.\u001b[39mlstm(pack)\n",
      "File \u001b[0;32m~/anaconda3/envs/pythonProject/lib/python3.10/site-packages/torch/nn/utils/rnn.py:262\u001b[0m, in \u001b[0;36mpack_padded_sequence\u001b[0;34m(input, lengths, batch_first, enforce_sorted)\u001b[0m\n\u001b[1;32m    258\u001b[0m     batch_dim \u001b[38;5;241m=\u001b[39m \u001b[38;5;241m0\u001b[39m \u001b[38;5;28;01mif\u001b[39;00m batch_first \u001b[38;5;28;01melse\u001b[39;00m \u001b[38;5;241m1\u001b[39m\n\u001b[1;32m    259\u001b[0m     \u001b[38;5;28minput\u001b[39m \u001b[38;5;241m=\u001b[39m \u001b[38;5;28minput\u001b[39m\u001b[38;5;241m.\u001b[39mindex_select(batch_dim, sorted_indices)\n\u001b[1;32m    261\u001b[0m data, batch_sizes \u001b[38;5;241m=\u001b[39m \\\n\u001b[0;32m--> 262\u001b[0m     \u001b[43m_VF\u001b[49m\u001b[38;5;241;43m.\u001b[39;49m\u001b[43m_pack_padded_sequence\u001b[49m\u001b[43m(\u001b[49m\u001b[38;5;28;43minput\u001b[39;49m\u001b[43m,\u001b[49m\u001b[43m \u001b[49m\u001b[43mlengths\u001b[49m\u001b[43m,\u001b[49m\u001b[43m \u001b[49m\u001b[43mbatch_first\u001b[49m\u001b[43m)\u001b[49m\n\u001b[1;32m    263\u001b[0m \u001b[38;5;28;01mreturn\u001b[39;00m _packed_sequence_init(data, batch_sizes, sorted_indices, \u001b[38;5;28;01mNone\u001b[39;00m)\n",
      "\u001b[0;31mRuntimeError\u001b[0m: Length of all samples has to be greater than 0, but found an element in 'lengths' that is <= 0"
     ]
    }
   ],
   "source": [
    "batch_size = 50 # => 3800 / 50 = 76 міні-пакетів\n",
    "n_epochs = 50\n",
    "n_train = df_train.shape[0]\n",
    "n_iters = n_train // batch_size\n",
    "print(\"Кількість ітерацій за одну епоху: {}\".format(n_iters))\n",
    "\n",
    "n_tab = str(len(str(n_epochs)))\n",
    "\n",
    "# Аби не ускладнювати код, припустимо, що n_train ділиться на n_iters * batch_size\n",
    "\n",
    "for epoch in range(n_epochs):\n",
    "    epoch_loss = 0 \n",
    "    \n",
    "    df_train_c = df_train.copy().sample(n_train).reset_index(drop=True)\n",
    "    \n",
    "    for step in range(n_iters):\n",
    "\n",
    "        optimizer.zero_grad()\n",
    "        # Випадкових пакет\n",
    "        #current_batch = df_train.sample(batch_size)\n",
    "        # Детермінований пакет\n",
    "        idx = np.arange(0, batch_size, 1) + batch_size * step\n",
    "        current_batch = df_train_c.iloc[idx]\n",
    "\n",
    "        # Векторизація поточного пакета\n",
    "        batch_idx, seq_lengths = vectorize(current_batch['filtered_w2v'].tolist(), W2V_IDX)\n",
    "        seq_lengths = np.array(seq_lengths)\n",
    "        # Переводимо міні-пакет у тензор\n",
    "        batch_idx = torch.tensor(batch_idx, dtype=torch.int64).to(device)\n",
    "        \n",
    "        # Обираємо справжні рейтинги та переводимо у тензор\n",
    "        y_true = current_batch['rating'].tolist() \n",
    "        y_true = torch.tensor(y_true, dtype=torch.float).to(device)\n",
    "\n",
    "        # Прогноз\n",
    "        y_pred = model(batch_idx, seq_lengths)\n",
    "        \n",
    "        loss = loss_function(y_pred.squeeze(), y_true)\n",
    "        \n",
    "        step_loss_values.append(loss)\n",
    "\n",
    "        epoch_loss += loss.item() / n_iters\n",
    "        loss.backward()\n",
    "        optimizer.step()\n",
    "    \n",
    "    epoch_loss_values.append(epoch_loss)\n",
    "            \n",
    "    print(('Епоха {:' + n_tab + '}: сумарні втрати: {}').format(epoch+1, epoch_loss))    "
   ]
  },
  {
   "cell_type": "code",
   "execution_count": 69,
   "metadata": {},
   "outputs": [
    {
     "data": {
      "image/png": "[encoded data removed]",
      "text/plain": [
       "<Figure size 640x480 with 1 Axes>"
      ]
     },
     "metadata": {},
     "output_type": "display_data"
    }
   ],
   "source": [
    "plt.plot(np.arange(1, n_epochs + 1), epoch_loss_values)\n",
    "plt.show()"
   ]
  },
  {
   "cell_type": "code",
   "execution_count": 70,
   "metadata": {},
   "outputs": [
    {
     "data": {
      "image/png": "[encoded data removed]",
      "text/plain": [
       "<Figure size 640x480 with 1 Axes>"
      ]
     },
     "metadata": {},
     "output_type": "display_data"
    }
   ],
   "source": [
    "plt.plot(\n",
    "    np.arange(1, n_iters * n_epochs + 1), \n",
    "    [v.cpu().detach().numpy() for v in step_loss_values]\n",
    ")\n",
    "plt.show()"
   ]
  },
  {
   "cell_type": "code",
   "execution_count": 71,
   "metadata": {},
   "outputs": [
    {
     "name": "stdout",
     "output_type": "stream",
     "text": [
      "Прогноз: 0\n",
      "Істина: 1\n",
      "Відгук: \n",
      "This is original equipment battery charger manufactered by Canon. The performance of the charger is excellent as are most Canon products. The price paid was comparible to non-sale priced items puchased via internet sites. The item was recieved in original packaging, 3 days after placing the order, was new (not reconditioned with a new appearance). I am extremely pleased with the entire purchase process experienced, from the information given at the site to ease of ordering and fast shipping\n",
      "\n",
      "\n",
      "\\=\\=\\=\\=\\=\\=\\=\\=\\=\\=\\=\\=\\=\\=\\=\\=\\=\\=\\=\\=\\=\\=\\=\\=\\=\\=\\=\\=\\=\\=\\=\\=\\=\\=\\=\\=\\=\\=\\=\\=\n",
      "\n",
      "Прогноз: 1\n",
      "Істина: 1\n",
      "Відгук: \n",
      "With most of the carrying case made of either fake leather or some kind of neoprene material, this one is really different.  The rigid structure also seem to do a great job to protect the camera.  There is also a belt loop and D-ring feature which is great.\n",
      "\n",
      "\n",
      "\n",
      "\\=\\=\\=\\=\\=\\=\\=\\=\\=\\=\\=\\=\\=\\=\\=\\=\\=\\=\\=\\=\\=\\=\\=\\=\\=\\=\\=\\=\\=\\=\\=\\=\\=\\=\\=\\=\\=\\=\\=\\=\n",
      "\n",
      "Прогноз: 1\n",
      "Істина: 1\n",
      "Відгук: \n",
      "This mouse has never let me down. Really works on most of the surfaces\n",
      "\n",
      "\n",
      "\\=\\=\\=\\=\\=\\=\\=\\=\\=\\=\\=\\=\\=\\=\\=\\=\\=\\=\\=\\=\\=\\=\\=\\=\\=\\=\\=\\=\\=\\=\\=\\=\\=\\=\\=\\=\\=\\=\\=\\=\n",
      "\n",
      "Прогноз: 1\n",
      "Істина: 1\n",
      "Відгук: \n",
      "I wanted to buy a compact slim d-camera. Those with larger zoom are quite bulky, you can't carry around all the time. I think a slim camera is a better choice. I slip into my pocket while wondering around and come across something nice and take a picture of it. You can't do it with a huge camera. \n",
      "After I made up mind about a slim camera, my choices were either Casio Exilim or Sony DSCW series. Casio Exilims are very sexy. They have a lot of mode scenes. They also function as voice recorder. You can take pictures of book pages etc. They have anti-shake capability which is said to reduce blurred images. I was almost buying a Casio Exilim. Being a diligent person I wanted to search more and more. \n",
      "I found out that the so-called anti-shake feature is a bogus. Many people found it useless. That was a good reason to choose Casio. Then I found the picture quality of Exilim is not really good.I found some pictures taken with Exilim. They were soft, not crisp colors. Search the web reviews made by photo professionals. Casio Exilim is rated significantly less than Sony in picture quality. With ISO 200 noise was still detectable in most reviews . Those same reviewers however found Sony DSCW doing a better job . There was no noise with ISO 400 which means even in lower light condition Sony did a better job (less granularity in pictures with low light). Big difference!.\n",
      "One feature of Sony that made it very attractive was its strong macro. It is 0.74 inch which means you can bring your camera 0.74 inch (2 mm) close to an object (say a bug) and still take a brilliant picture of it. \n",
      "Now comparison of Exilim and Sony to summarize:\n",
      "Casio Exilim\n",
      "Anti-shake (it's a bogus)\n",
      "Slim   \n",
      "Lower macro (2.5 inches)\n",
      "Lower picture quality (detectable noise at ISO 200)\n",
      "A lot of scene modes\n",
      "Quick shutter\n",
      "Sony DSCW Series\n",
      "Slim (in fact it is slimmer)\n",
      "Higher macro (0.74 inches)\n",
      "Higher picture quality (No noise in ISO 400)\n",
      "Not a lot of scene modes\n",
      "Quick shutter\n",
      "So.....I purchased a Sony DSCW 7 Mp. I took lots of pictures.\n",
      "They are all brilliant, detailed and crisp, true colors.\n",
      "I tried macro and took pictures of bugs. You can see the hairs on the legs of bugs. Absolutely no noise whatsoever, no blurry.\n",
      "It's a marvel of technology. I took pictures of fireworks in July 4th using high ISO setting. They came out brialliantly like professional pictures.\n",
      "It also uses a different kind of battery that you can't buy at your grocery which can leave you vulnerable. So you may wanna buy a spare one (about 40 bucks). But you can always recharge it. And it lasts much much longer than AAA or Nimh batteries. \n",
      "It was a perfect choice. I highly recommend it.\n",
      "\n",
      "\n",
      "\\=\\=\\=\\=\\=\\=\\=\\=\\=\\=\\=\\=\\=\\=\\=\\=\\=\\=\\=\\=\\=\\=\\=\\=\\=\\=\\=\\=\\=\\=\\=\\=\\=\\=\\=\\=\\=\\=\\=\\=\n",
      "\n",
      "Прогноз: 1\n",
      "Істина: 1\n",
      "Відгук: \n",
      "Excellent product - very ergonomic, easy to set up and use! Wireless works great.\n",
      "I would recommend this product\n",
      "\n",
      "\n",
      "\\=\\=\\=\\=\\=\\=\\=\\=\\=\\=\\=\\=\\=\\=\\=\\=\\=\\=\\=\\=\\=\\=\\=\\=\\=\\=\\=\\=\\=\\=\\=\\=\\=\\=\\=\\=\\=\\=\\=\\=\n",
      "\n",
      "Прогноз: 1\n",
      "Істина: 1\n",
      "Відгук: \n",
      "I'm not a serious piano player, just casual.  Don't have room for a piano, so this serves my purposes.  I just want to entertain myself.  If I were a professional who played in public, not sure if this would be the ultimate keyboard, because it doesn't have a fullsize keyboard.  But for practicing and casual playing it's great!  It has more features than I will ever use\n",
      "\n",
      "\n",
      "\\=\\=\\=\\=\\=\\=\\=\\=\\=\\=\\=\\=\\=\\=\\=\\=\\=\\=\\=\\=\\=\\=\\=\\=\\=\\=\\=\\=\\=\\=\\=\\=\\=\\=\\=\\=\\=\\=\\=\\=\n",
      "\n",
      "Прогноз: 1\n",
      "Істина: 1\n",
      "Відгук: \n",
      "This cable came in a cheap packing and it does not have any logo on it so you can't say which company it belongs to. I have used a lot of sony products and I feel it is not up to the standard of sony. \n",
      "It works great had no problems so far. It is flexible kinds so you don't have to worry about positioning your laptop according to your TV.\n",
      "\n",
      "\n",
      "\\=\\=\\=\\=\\=\\=\\=\\=\\=\\=\\=\\=\\=\\=\\=\\=\\=\\=\\=\\=\\=\\=\\=\\=\\=\\=\\=\\=\\=\\=\\=\\=\\=\\=\\=\\=\\=\\=\\=\\=\n",
      "\n",
      "Прогноз: 1\n",
      "Істина: 1\n",
      "Відгук: \n",
      "These fit over everything very well, and they stayed put without stretching out, which is why my original pads fell off.  I guess it's one of those products that you can't do much better than $10 for, but maybe they could give you double the number of pads or something..\n",
      "\n",
      "\n",
      "\\=\\=\\=\\=\\=\\=\\=\\=\\=\\=\\=\\=\\=\\=\\=\\=\\=\\=\\=\\=\\=\\=\\=\\=\\=\\=\\=\\=\\=\\=\\=\\=\\=\\=\\=\\=\\=\\=\\=\\=\n",
      "\n",
      "Прогноз: 1\n",
      "Істина: 1\n",
      "Відгук: \n",
      "I have been putting this television through its paces since I got it a few weeks ago, and it is by far the best TV I have ever owned, and very difficult to beat.  The image quality is really good, with bright, vivid colors and wonderful detail, especially for 1080i/p content, but even lower-resolution 720p content, which is what's more commonly-available on OTA HD broadcast, looks phenomenal.  I also have an Apple TV hooked up to it, and even though most of my content is encoded at either 360p, 480p, or 720p, it still looks quite good.\n",
      "\n",
      "It does take some time to get the image tuned to perfection, and the default settings are way too bright with too much color saturation boost, and the DNIe processing system actually seems to make some motion effects worse.  However, it's very easy to change the settings and see immediately what effect they have.\n",
      "\n",
      "Like all LCDs it does have some slight black point problems; these aren't noticeable for fullscreen 16:9 content, but for older 4:3 content it's pretty obvious that the black isn't pure black.  However, this is again tunable.\n",
      "\n",
      "The only thing I really notice which is pretty annoying is that it doesn't do a very good job of upscaling 480i content, such as the output from most video game systems, and for DVDs to look good you really need an upconverting player since even with a progressive-scan player there is a lot of visible pixelation when the 480p content is scaled up.  It's really more a sad reflection on how the previous \"next-generation\" video looks downright primitive by today's standards.\n",
      "\n",
      "The other noticeable issue is that unlike many televisions with digital tuners, it doesn't have an on-screen program guide.  My previous TV (also a Samsung) had an on-screen program guide, but it was rather cumbersome to use and took several minutes of scanning every channel to see what was on, and most local channels are pretty inconsistent about providing the EPG information anyway, so it's not really that big of a deal.  You can still see the detailed information for the program that's currently showing, so it makes use of EPG, just not as much as it could.\n",
      "\n",
      "This television's tuner is also quite phenomenal.  My previous TV required a very carefully-positioned powered antenna which was very sensitive to every little nearby fluctuation, while with this one I only have a piece of wire jammed into the antenna port and I get perfect reception of every local digital station.\n",
      "\n",
      "Another nice improvement over Samsung's older HDTVs is that it has a wide variety of zoom modes which allow you to counteract some of the stupider things that TV stations do (for example, pillboxing a letterboxed 16:9 show, which is very common for widescreen non-HD programming).  Also, analog TV stations and source inputs get their audio signals upconverted to digital, so you only need to run a single optical audio connection to your stereo (while previous Samsungs required running both analog and digital cables and switching between the two inputs based on source material).\n",
      "\n",
      "As a PC monitor this is also quite nice.  I have a Mac mini hooked up via SVGA cable, and even with an analog signal it looks perfectly sharp and crystal-clear, and of course you can hook it up via HDMI (with a DVI to HDMI adaptor) as well.  The only gripe there is that the supported resolutions are a bit quaint - at least on analog SVGA the only 16:9 resolution it supports is 1920x1080, which can be difficult for some older systems to handle.  However, on HDMI it should support all the standard HD resolutions.\n",
      "\n",
      "This television may be more expensive than others in its size class, but it also far outshines every other TV I have seen, aside from the newer LN-T4065, which is nearly identical aside from providing a higher dynamic contrast ratio.  If you want to only buy one TV which will last for a long time, it would be hard to go wrong with this one\n",
      "\n",
      "\n",
      "\\=\\=\\=\\=\\=\\=\\=\\=\\=\\=\\=\\=\\=\\=\\=\\=\\=\\=\\=\\=\\=\\=\\=\\=\\=\\=\\=\\=\\=\\=\\=\\=\\=\\=\\=\\=\\=\\=\\=\\=\n",
      "\n",
      "Прогноз: 0\n",
      "Істина: 1\n",
      "Відгук: \n",
      "I have to say this mouse pad has far exceeded anything I hoped for. When I first opened the box it was shipped in I was very put off. There was a Very, Very strong chemical smell. I chalked it up to something in the packaging material. It turns out that was not where the smell was coming from. It was the mouse pad itself. Having worked in a shoe factory years ago I was able to identify the smell as an industrial glue. The smell hung around for a couple of days. Now, 1 week after having received my purchase if I put my nose close to the pad, it still carries the faint smell of industrial glue. I would caution those with allergies and/or asthma to consider this prior to purchase. As an asthmatic I can say it did affect my breathing some what. That seems to have gotten better as the smelled has lessened. I have finished with my public health warning. On to the mouse pad. \n",
      "     It is simply the best mouse pad I have ever used. I have had wrist problems for over 4 years now. I have had swelling and pain from my right pinkie finger to my elbow as a result of console gaming and lots of keyboarding work. In the past week my swelling has greatly reduced. My pain is almost gone. My wrist sits perfectly on  the wrist rest. The pad actually cradles my wrist. The wrist rest moves with my hand, so well and with so much support, it seems to be an extension of my body. A new improved appendage. I have found myself resting my wrist on the pad even while not computing but just sitting at my desk. It truly is that comfortable. I already have plans to purchase two more for friends as Christmas gifts. Worth Every Cent! Go For It! You Will Not Be Disappointed! \n",
      "\n",
      "\n",
      "\\=\\=\\=\\=\\=\\=\\=\\=\\=\\=\\=\\=\\=\\=\\=\\=\\=\\=\\=\\=\\=\\=\\=\\=\\=\\=\\=\\=\\=\\=\\=\\=\\=\\=\\=\\=\\=\\=\\=\\=\n",
      "\n"
     ]
    }
   ],
   "source": [
    "true_labels, predictions = make_predictions(model, df_test, batch_size=batch_size, threshold=0.5)"
   ]
  },
  {
   "cell_type": "markdown",
   "metadata": {},
   "source": [
    "Матриця якості класифікації на тестових даних:"
   ]
  },
  {
   "cell_type": "code",
   "execution_count": 72,
   "metadata": {
    "scrolled": true
   },
   "outputs": [
    {
     "name": "stdout",
     "output_type": "stream",
     "text": [
      "              precision    recall  f1-score   support\n",
      "\n",
      "           0       0.77      0.85      0.81       100\n",
      "           1       0.83      0.74      0.78       100\n",
      "\n",
      "    accuracy                           0.80       200\n",
      "   macro avg       0.80      0.79      0.79       200\n",
      "weighted avg       0.80      0.80      0.79       200\n",
      "\n",
      "0.795\n"
     ]
    }
   ],
   "source": [
    "print(classification_report(true_labels, predictions))\n",
    "print(accuracy_score(true_labels, predictions))"
   ]
  },
  {
   "cell_type": "code",
   "execution_count": 73,
   "metadata": {
    "scrolled": true
   },
   "outputs": [
    {
     "name": "stdout",
     "output_type": "stream",
     "text": [
      "Прогноз: 1\n",
      "Істина: 1\n",
      "Відгук: \n",
      "Bought these batteries & charger just before going on an overseas trip.  I didn't want to be bothered with frequently changing AA batteries, which seemed to last only a day or so of heavy use.  I was quite pleased with the performance of these rechargeables.  They lasted several days of heavy use before needing to be charged and they re-charged in only a few hours.  A big bonus that I didn't expect:  the recharger is compatible with European 240 voltage so I didn't have to use an electric converter! \n",
      "\n",
      "\n",
      "\\=\\=\\=\\=\\=\\=\\=\\=\\=\\=\\=\\=\\=\\=\\=\\=\\=\\=\\=\\=\\=\\=\\=\\=\\=\\=\\=\\=\\=\\=\\=\\=\\=\\=\\=\\=\\=\\=\\=\\=\n",
      "\n",
      "Прогноз: 1\n",
      "Істина: 1\n",
      "Відгук: \n",
      "This is our first LCD TV.  Our tube TV finally died.  My wife actually picked out this unit and Consumer Reports also recommended this unit.  We purchased it directly from AMAZON on January 23, 2007.  I wanted to wait a couple of months before I write my review to see if anything happens. But to my surprise the TV is still running and there have been no problems.  We have digital HD and the pictures are great.  It took me a couple of weeks to get use to watching tv with such sharp color and contrast.  However, if you are watching normal digital programming you may not be too happy as it is flat.  But overall its a good buy for us\n",
      "\n",
      "\n",
      "\\=\\=\\=\\=\\=\\=\\=\\=\\=\\=\\=\\=\\=\\=\\=\\=\\=\\=\\=\\=\\=\\=\\=\\=\\=\\=\\=\\=\\=\\=\\=\\=\\=\\=\\=\\=\\=\\=\\=\\=\n",
      "\n",
      "Прогноз: 1\n",
      "Істина: 1\n",
      "Відгук: \n",
      "I only have a couple of problems with this remote. You have to keep pressing the buttons for dvd, vcr, audio, sat, etc. to change the setting. That sounds like I'm complaining a lot, and I am. (sue me. ha ha) The other is this. I bought this as a replacement for a remote that quit working. I can't teach it the functions that I need through the \"learn\" command since the orginal remote quit. Which kind of defeats the purpose of having a new remote. I have one of those all in in one home theater units and the remote wouldn't allow me to set the VCR clock and local channels after a power outage. \n",
      "Other than that, I have no problem with it\n",
      "\n",
      "\n",
      "\\=\\=\\=\\=\\=\\=\\=\\=\\=\\=\\=\\=\\=\\=\\=\\=\\=\\=\\=\\=\\=\\=\\=\\=\\=\\=\\=\\=\\=\\=\\=\\=\\=\\=\\=\\=\\=\\=\\=\\=\n",
      "\n",
      "Прогноз: 1\n",
      "Істина: 1\n",
      "Відгук: \n",
      "I purchased the Adorama Slinger Bag after first purchasing the Tamrac Velocity 5.  The Tamrac bag is a nice bag and can be worn as either a shoulder bag or a waist bag. Unfotunately, it lacked sufficient support when worn as waist bag and did not have an attached pouch to carry a water bottle.  The Slinger Bag addressed both of these deficiencies.  When worn as a waist bag, it also uses the shoulder strap to keep the bag firmly in place which also helps to balance the weight of the bag.  There are two water pouches on the Slinger Bag (which is a real requirement as I live in Arizona).\n",
      "\n",
      "The Adorama Slinger Bag is a great travel bag. It is light weight and has great utility.  I highly recommend it.\n",
      "\n",
      "\n",
      "\\=\\=\\=\\=\\=\\=\\=\\=\\=\\=\\=\\=\\=\\=\\=\\=\\=\\=\\=\\=\\=\\=\\=\\=\\=\\=\\=\\=\\=\\=\\=\\=\\=\\=\\=\\=\\=\\=\\=\\=\n",
      "\n",
      "Прогноз: 1\n",
      "Істина: 1\n",
      "Відгук: \n",
      "Great headphones for running! They fit my ears perfectly and I don't have to worry about foam anymore.\n",
      "\n",
      "\n",
      "\\=\\=\\=\\=\\=\\=\\=\\=\\=\\=\\=\\=\\=\\=\\=\\=\\=\\=\\=\\=\\=\\=\\=\\=\\=\\=\\=\\=\\=\\=\\=\\=\\=\\=\\=\\=\\=\\=\\=\\=\n",
      "\n",
      "Прогноз: 1\n",
      "Істина: 1\n",
      "Відгук: \n",
      "The CF card works fine but it's response is kind of slow compaired to the 32MB CF card came with my Canon Powershot A95. I got this card 3 weeks ago and so far their hasn't been any problems.\n",
      "\n",
      "\n",
      "\\=\\=\\=\\=\\=\\=\\=\\=\\=\\=\\=\\=\\=\\=\\=\\=\\=\\=\\=\\=\\=\\=\\=\\=\\=\\=\\=\\=\\=\\=\\=\\=\\=\\=\\=\\=\\=\\=\\=\\=\n",
      "\n",
      "Прогноз: 1\n",
      "Істина: 1\n",
      "Відгук: \n",
      "What an amazing product for such a small price.  It works right out of the box, but to get full functionality you need to install the encolsed drivers.  The option of mouse or pen makes it useful for everyday PC work as well using the pen for graphics.  I use it mainly for teaching via phone and use the whiteboard in messenger to communicate in words and pictures.  It really makes a difference.\n",
      "The unit seems well made and I like the fact you can personalise the tablet to add a picture of your choice.  I opted for the smallest in the range for value, and was not disappointed, but I am sure for more commerical use or for artwork a much bigger screen would be better, but at cost.\n",
      "The software bundle is ok too if you don't already have photoshop tools.\n",
      "The one quibble is that at home when I installed the drivers it continued to crash my PC with my wireless keyboard installed.  Not ideal, but as I dont use it at home any longer it is not a problem for me, but be careful, I am sure there will be a fix somewher\n",
      "\n",
      "\n",
      "\\=\\=\\=\\=\\=\\=\\=\\=\\=\\=\\=\\=\\=\\=\\=\\=\\=\\=\\=\\=\\=\\=\\=\\=\\=\\=\\=\\=\\=\\=\\=\\=\\=\\=\\=\\=\\=\\=\\=\\=\n",
      "\n",
      "Прогноз: 1\n",
      "Істина: 1\n",
      "Відгук: \n",
      "I bought this for my new HDV FX1 Camcorder, and it works great.  Unlike the Century wide-angle lens, this is fully zoom-through.  Lens is .8x, which is less than the Century and others, but just about right for HD--since the FX1 already can do a pretty decent wide shot when the zoom is fully backed out, this just gives it an extra boost, converting the camera view from roughly a 35mm lens on a 35mm camera to about a 28mm.  Also, very little barrel distortion.\n",
      "\n",
      "In all a great lens.  Only drawback is that it's a big (heavy) lens, but then, hey, it's for a serious prosumer camcorder\n",
      "\n",
      "\n",
      "\\=\\=\\=\\=\\=\\=\\=\\=\\=\\=\\=\\=\\=\\=\\=\\=\\=\\=\\=\\=\\=\\=\\=\\=\\=\\=\\=\\=\\=\\=\\=\\=\\=\\=\\=\\=\\=\\=\\=\\=\n",
      "\n",
      "Прогноз: 1\n",
      "Істина: 1\n",
      "Відгук: \n",
      "Basically, This backpack is all that I need in a back pack. Very well padded, very roomy, fits an HP Pavillion dv8000 17\" laptop. Its very attractive and after a month on use shows no signs of ware and tear. Definately worth the $. Unlike my previous packpacks The straps adjust so quickly and easily that I adjust them every time I put the pack on or take it off. Great Product!!!\n",
      "\n",
      "\n",
      "\\=\\=\\=\\=\\=\\=\\=\\=\\=\\=\\=\\=\\=\\=\\=\\=\\=\\=\\=\\=\\=\\=\\=\\=\\=\\=\\=\\=\\=\\=\\=\\=\\=\\=\\=\\=\\=\\=\\=\\=\n",
      "\n",
      "Прогноз: 1\n",
      "Істина: 1\n",
      "Відгук: \n",
      "I needed something to hold my iPod while I skateboard, and this works like a charm. Never moves an inch. Can get a litle uncomfortable if sweating a lot\n",
      "\n",
      "\n",
      "\\=\\=\\=\\=\\=\\=\\=\\=\\=\\=\\=\\=\\=\\=\\=\\=\\=\\=\\=\\=\\=\\=\\=\\=\\=\\=\\=\\=\\=\\=\\=\\=\\=\\=\\=\\=\\=\\=\\=\\=\n",
      "\n"
     ]
    }
   ],
   "source": [
    "true_labels, predictions = make_predictions(model, df_train, batch_size=batch_size, threshold=0.5)"
   ]
  },
  {
   "cell_type": "markdown",
   "metadata": {},
   "source": [
    "Матриця якості класифікації на тренувальних даних:"
   ]
  },
  {
   "cell_type": "code",
   "execution_count": 74,
   "metadata": {
    "scrolled": true
   },
   "outputs": [
    {
     "name": "stdout",
     "output_type": "stream",
     "text": [
      "              precision    recall  f1-score   support\n",
      "\n",
      "           0       1.00      1.00      1.00      1900\n",
      "           1       1.00      1.00      1.00      1900\n",
      "\n",
      "    accuracy                           1.00      3800\n",
      "   macro avg       1.00      1.00      1.00      3800\n",
      "weighted avg       1.00      1.00      1.00      3800\n",
      "\n",
      "1.0\n"
     ]
    }
   ],
   "source": [
    "print(classification_report(true_labels, predictions))\n",
    "print(accuracy_score(true_labels, predictions))"
   ]
  }
 ],
 "metadata": {
  "kernelspec": {
   "display_name": "Python 3 (ipykernel)",
   "language": "python",
   "name": "python3"
  },
  "language_info": {
   "codemirror_mode": {
    "name": "ipython",
    "version": 3
   },
   "file_extension": ".py",
   "mimetype": "text/x-python",
   "name": "python",
   "nbconvert_exporter": "python",
   "pygments_lexer": "ipython3",
   "version": "3.10.6"
  }
 },
 "nbformat": 4,
 "nbformat_minor": 1
}
