{
 "cells": [
  {
   "cell_type": "markdown",
   "metadata": {},
   "source": [
    "## \"Горбунов Даніел і в'язень embedding'у\" \n",
    "## ... або процес виконання третьої лабораторної з предмету \"Статистичні алгоритми навчання\""
   ]
  },
  {
   "cell_type": "markdown",
   "metadata": {},
   "source": [
    "У рамках цієї роботи будемо працювати з відгуками користувачів на різні товари (книги, електроніка, музичний контент тощо). Датасет можна завантажити звідси: https://www.cs.jhu.edu/~mdredze/datasets/sentiment/. \n",
    "\n",
    "Перші кроки будуть присвячені підготовці даних до того вигляду з яким буде далі легше працювати. Зокрема серед 5 гігабайтів відшматованих, відмічених та несортованих відгуків про товари, вирішив працювати з текстами на користування електронними приладами.\n",
    "\n",
    "Конкретно, оберу два файли з папок electronics, camera & photo архіву з усіма даними (unprocessed.tar.gz): positive.review та negative.review. Ці файли містять по 1000 позитивних та негативних відгуків відповідно. Всередині, як буде ще раз зазначено, дані подано в XML-форматі. Задля уникнення можливих конфліктів, спеціальні символи (на кшталт \"&\") перевів до переварюваного XML-парсером вигляду (наприклад \"&amp;\") та додав кореневий вузол для кожного з \"дерев\". "
   ]
  },
  {
   "cell_type": "code",
   "execution_count": 1,
   "metadata": {},
   "outputs": [],
   "source": [
    "import os\n",
    "import xml.etree.ElementTree as ET"
   ]
  },
  {
   "cell_type": "code",
   "execution_count": 2,
   "metadata": {},
   "outputs": [
    {
     "data": {
      "text/plain": [
       "'/home/goodpenguin/PycharmProjects/pythonProject/univ/lab3'"
      ]
     },
     "execution_count": 2,
     "metadata": {},
     "output_type": "execute_result"
    }
   ],
   "source": [
    "base_dir = os.getcwd()\n",
    "base_dir"
   ]
  },
  {
   "cell_type": "code",
   "execution_count": 3,
   "metadata": {},
   "outputs": [
    {
     "data": {
      "text/plain": [
       "'/home/goodpenguin/PycharmProjects/pythonProject/univ/lab3/data/electronics'"
      ]
     },
     "execution_count": 3,
     "metadata": {},
     "output_type": "execute_result"
    }
   ],
   "source": [
    "data_dir = os.path.join(base_dir, 'data', 'electronics')\n",
    "data_dir"
   ]
  },
  {
   "cell_type": "code",
   "execution_count": 4,
   "metadata": {},
   "outputs": [
    {
     "data": {
      "text/plain": [
       "['texts.csv',\n",
       " '1. read data',\n",
       " 'positive.review',\n",
       " 'negative.review',\n",
       " 'unlabeled.review',\n",
       " 'іі']"
      ]
     },
     "execution_count": 4,
     "metadata": {},
     "output_type": "execute_result"
    }
   ],
   "source": [
    "os.listdir(data_dir)"
   ]
  },
  {
   "cell_type": "markdown",
   "metadata": {},
   "source": [
    "Проклинав я те, що дані збережено в XML-подібному форматі. Втім, не проблема перевести це в інший вигляд, більш зручний для роботи (принаймні мені)."
   ]
  },
  {
   "cell_type": "code",
   "execution_count": 5,
   "metadata": {},
   "outputs": [],
   "source": [
    "positive_reviews_path = os.path.join(data_dir, 'positive.review')\n",
    "negative_reviews_path = os.path.join(data_dir, 'negative.review')"
   ]
  },
  {
   "cell_type": "code",
   "execution_count": 6,
   "metadata": {},
   "outputs": [],
   "source": [
    "positive_tree = ET.parse(positive_reviews_path)"
   ]
  },
  {
   "cell_type": "code",
   "execution_count": 7,
   "metadata": {},
   "outputs": [],
   "source": [
    "negative_tree = ET.parse(negative_reviews_path)"
   ]
  },
  {
   "cell_type": "code",
   "execution_count": 8,
   "metadata": {},
   "outputs": [],
   "source": [
    "positive_tree_root = positive_tree.getroot()\n",
    "negative_tree_root = negative_tree.getroot()"
   ]
  },
  {
   "cell_type": "code",
   "execution_count": 9,
   "metadata": {},
   "outputs": [
    {
     "data": {
      "text/plain": [
       "2000"
      ]
     },
     "execution_count": 9,
     "metadata": {},
     "output_type": "execute_result"
    }
   ],
   "source": [
    "positive_reviews = positive_tree_root.findall('review')\n",
    "len(positive_reviews)"
   ]
  },
  {
   "cell_type": "code",
   "execution_count": 10,
   "metadata": {},
   "outputs": [
    {
     "data": {
      "text/plain": [
       "2000"
      ]
     },
     "execution_count": 10,
     "metadata": {},
     "output_type": "execute_result"
    }
   ],
   "source": [
    "negative_reviews = negative_tree_root.findall('review')\n",
    "len(negative_reviews)"
   ]
  },
  {
   "cell_type": "markdown",
   "metadata": {},
   "source": [
    "Нас цікавлять текстові дані, тому подивимося на перші з кожної підмножини."
   ]
  },
  {
   "cell_type": "code",
   "execution_count": 11,
   "metadata": {},
   "outputs": [
    {
     "data": {
      "text/plain": [
       "\"\\n This is a great back pack! If there is anything I would change it would be the logo on the front. It's brite and shinny, and I'd rather not advertise that I have a camera in there! I colored it in with a felt pen and it works great....... Overall, I love the backpack!!  \\n\""
      ]
     },
     "execution_count": 11,
     "metadata": {},
     "output_type": "execute_result"
    }
   ],
   "source": [
    "current_positive = positive_reviews[0]\n",
    "current_positive_text = current_positive.find('review_text').text\n",
    "current_positive_text"
   ]
  },
  {
   "cell_type": "code",
   "execution_count": 12,
   "metadata": {},
   "outputs": [
    {
     "data": {
      "text/plain": [
       "\"\\nthis backpack was very uncomfortable. the inserts are stiff. it doesn't represent canon quality (I hope)\\n\""
      ]
     },
     "execution_count": 12,
     "metadata": {},
     "output_type": "execute_result"
    }
   ],
   "source": [
    "current_negative = negative_reviews[0]\n",
    "current_negative_text = current_negative.find('review_text').text\n",
    "current_negative_text"
   ]
  },
  {
   "cell_type": "code",
   "execution_count": 13,
   "metadata": {},
   "outputs": [],
   "source": [
    "positive_texts = [\n",
    "    current_review.find('review_text').text \n",
    "    for current_review in positive_reviews\n",
    "]\n",
    "n_pos = len(positive_texts)"
   ]
  },
  {
   "cell_type": "code",
   "execution_count": 14,
   "metadata": {},
   "outputs": [],
   "source": [
    "negative_texts = [\n",
    "    current_review.find('review_text').text \n",
    "    for current_review in negative_reviews\n",
    "]\n",
    "n_neg = len(negative_texts)"
   ]
  },
  {
   "cell_type": "markdown",
   "metadata": {},
   "source": [
    "Тепер сформуємо таблицю з двох колонок: текст та його тональність (хороший чи поганий). Саму ж таблицю надалі збережемо в .csv форматі і збережемо там, де її можна знайти без лупи."
   ]
  },
  {
   "cell_type": "code",
   "execution_count": 15,
   "metadata": {},
   "outputs": [],
   "source": [
    "import pandas as pd\n",
    "pd.set_option('display.max_colwidth', None)"
   ]
  },
  {
   "cell_type": "code",
   "execution_count": 16,
   "metadata": {},
   "outputs": [
    {
     "data": {
      "text/plain": [
       "(2000, 2000)"
      ]
     },
     "execution_count": 16,
     "metadata": {},
     "output_type": "execute_result"
    }
   ],
   "source": [
    "(n_pos, n_neg)"
   ]
  },
  {
   "cell_type": "code",
   "execution_count": 17,
   "metadata": {},
   "outputs": [],
   "source": [
    "df_texts = pd.DataFrame(\n",
    "    data={\n",
    "        \"text\": positive_texts + negative_texts,\n",
    "        \"rating\": ([1] * n_pos) + ([0] * n_neg)\n",
    "    }\n",
    ")"
   ]
  },
  {
   "cell_type": "code",
   "execution_count": 18,
   "metadata": {},
   "outputs": [],
   "source": [
    "df_texts_path = os.path.join(data_dir, \"texts.csv\")"
   ]
  },
  {
   "cell_type": "code",
   "execution_count": 19,
   "metadata": {},
   "outputs": [],
   "source": [
    "df_texts.to_csv(path_or_buf=df_texts_path)"
   ]
  },
  {
   "cell_type": "markdown",
   "metadata": {},
   "source": [
    "Тепер потрібно звести текстові дані до переварюваного моделями вигляду на основі embedding'у."
   ]
  },
  {
   "cell_type": "code",
   "execution_count": 20,
   "metadata": {
    "scrolled": false
   },
   "outputs": [
    {
     "data": {
      "text/html": [
       "<div>\n",
       "<style scoped>\n",
       "    .dataframe tbody tr th:only-of-type {\n",
       "        vertical-align: middle;\n",
       "    }\n",
       "\n",
       "    .dataframe tbody tr th {\n",
       "        vertical-align: top;\n",
       "    }\n",
       "\n",
       "    .dataframe thead th {\n",
       "        text-align: right;\n",
       "    }\n",
       "</style>\n",
       "<table border=\"1\" class=\"dataframe\">\n",
       "  <thead>\n",
       "    <tr style=\"text-align: right;\">\n",
       "      <th></th>\n",
       "      <th>text</th>\n",
       "      <th>rating</th>\n",
       "    </tr>\n",
       "  </thead>\n",
       "  <tbody>\n",
       "    <tr>\n",
       "      <th>0</th>\n",
       "      <td>\\n This is a great back pack! If there is anything I would change it would be the logo on the front. It's brite and shinny, and I'd rather not advertise that I have a camera in there! I colored it in with a felt pen and it works great....... Overall, I love the backpack!!  \\n</td>\n",
       "      <td>1</td>\n",
       "    </tr>\n",
       "    <tr>\n",
       "      <th>1</th>\n",
       "      <td>\\nI love this backpack!  It is just what I needed to safely carry my camera gear and keep it organized\\n</td>\n",
       "      <td>1</td>\n",
       "    </tr>\n",
       "    <tr>\n",
       "      <th>2</th>\n",
       "      <td>\\nThis was the best item I ever bought for my camera. I do a lot of walking with my camera, and thought I would use it as a walking stick, which I do, but the best part of this monopod is what I never thought would happen. My pictures are NEVER fuzzy! I can take low light photos and have they come out clear. I paid very little for this item and would never be caught without it and my camera. The three levers on the bottom allow for quick expansion at all different lengths. The carrying case allows for this item to be packed next to my camera without it getting scratched\\n</td>\n",
       "      <td>1</td>\n",
       "    </tr>\n",
       "    <tr>\n",
       "      <th>3</th>\n",
       "      <td>\\nPrice went up!!! Great value for money spent. Will be buying a \"Ball\" attachment for better adjustability. Got some great steady shots with 48x digital zoom with the Canon S2 I\\n</td>\n",
       "      <td>1</td>\n",
       "    </tr>\n",
       "    <tr>\n",
       "      <th>4</th>\n",
       "      <td>\\nI've had this lens for 2 months now, and love it. It was my first \"L\" lens and I can see the quality difference in this line. First, I tried the 28-135 IS-pretty good. But I wasn't totally happy, so returned it and ordered the 24-105 L. Now I'm happy. Contrast, sharpness, &amp; CA are much better. Build quality &amp; feel are superior as well. Plus the IS really works. I will try &amp; get all IS lens in the future, I believe it is worth the extra cost. Focusing is very quick and zoom action is smooth &amp; steady. If you're on a budget, the 28-135 is real nice. But to go all the way, I recommend this lens. The IS on the 24-105 L is quieter I found. The price is a bit steep, but optical quality is there, resale value will remain good, and weather sealing should hopefully keep dust and junk from getting inside this lens.\\n</td>\n",
       "      <td>1</td>\n",
       "    </tr>\n",
       "    <tr>\n",
       "      <th>...</th>\n",
       "      <td>...</td>\n",
       "      <td>...</td>\n",
       "    </tr>\n",
       "    <tr>\n",
       "      <th>3995</th>\n",
       "      <td>\\nJust a heads-up for people looking to use this scanner to scan slides. You will have to unmount the slides in order to be able to scan them. Given the verbiage on the box, it caught me as enough of a surprise that I returned the scanner. I'm not OK with deception like that\\n</td>\n",
       "      <td>0</td>\n",
       "    </tr>\n",
       "    <tr>\n",
       "      <th>3996</th>\n",
       "      <td>\\nThese blank discs are defective. I was never able to record any pictures or audio data to them.\\n\\nThe Maxell blank discs that I have did the job fine.\\n</td>\n",
       "      <td>0</td>\n",
       "    </tr>\n",
       "    <tr>\n",
       "      <th>3997</th>\n",
       "      <td>\\nI ordered this item thinking that it would be useful when on the road in hotel rooms to light up my work area.  WRONG !!  The light is so DIM, the only thing it might be good for is a night light! This lamp is a good idea, but much too weak to be of any help\\n</td>\n",
       "      <td>0</td>\n",
       "    </tr>\n",
       "    <tr>\n",
       "      <th>3998</th>\n",
       "      <td>\\nI was looking for a small cheap Mp3 player and I didn't care how much memory it had so this seemed perfect for me. I saw that many people had rated this 4 and 5 stars so I decided to buy it. When I got the Creative nano I was really happy with its preformance until I tried to put my subscription music onto it. Thats when I learned that it wouldn't hold any subscription music forcing me to buy my music one by one which is costing a lot of money.\\n\\nAfter that I started realising all of its imperfections. You can't use the FM radio in the car without hearing mostly static. You can't search through songs without actually changing the song you are listening to. Don't get me wrong, there are some good sides to this Mp3 player but I still would definately not recommend it\\n</td>\n",
       "      <td>0</td>\n",
       "    </tr>\n",
       "    <tr>\n",
       "      <th>3999</th>\n",
       "      <td>\\nI AM VERY UNHAPPY WITH THE PRODUCT I RECEIVED FROM TIGER.\\nIT WAS NOT WHAT I WANTED AND TO RETURN IT WOULD COST ME MORE THAN I PAID FOR IT.\\nTHE COMPANY CHARGES TOOOOO MANY FEES.\\nI AM VERY UNHAPPY &amp; NOW I HAVE A PRODUCT THAT I CAN'T USE OR RETURN\\n</td>\n",
       "      <td>0</td>\n",
       "    </tr>\n",
       "  </tbody>\n",
       "</table>\n",
       "<p>4000 rows × 2 columns</p>\n",
       "</div>"
      ],
      "text/plain": [
       "                                                                                                                                                                                                                                                                                                                                                                                                                                                                                                                                                                                                                                                                                                                                                                                                                                                     text  \\\n",
       "0                                                                                                                                                                                                                                                                                                                                                                                                                                                                                                                                                                    \\n This is a great back pack! If there is anything I would change it would be the logo on the front. It's brite and shinny, and I'd rather not advertise that I have a camera in there! I colored it in with a felt pen and it works great....... Overall, I love the backpack!!  \\n   \n",
       "1                                                                                                                                                                                                                                                                                                                                                                                                                                                                                                                                                                                                                                                                                                                                                \\nI love this backpack!  It is just what I needed to safely carry my camera gear and keep it organized\\n   \n",
       "2                                                                                                                                                                                                                                                      \\nThis was the best item I ever bought for my camera. I do a lot of walking with my camera, and thought I would use it as a walking stick, which I do, but the best part of this monopod is what I never thought would happen. My pictures are NEVER fuzzy! I can take low light photos and have they come out clear. I paid very little for this item and would never be caught without it and my camera. The three levers on the bottom allow for quick expansion at all different lengths. The carrying case allows for this item to be packed next to my camera without it getting scratched\\n   \n",
       "3                                                                                                                                                                                                                                                                                                                                                                                                                                                                                                                                                                                                                                                                    \\nPrice went up!!! Great value for money spent. Will be buying a \"Ball\" attachment for better adjustability. Got some great steady shots with 48x digital zoom with the Canon S2 I\\n   \n",
       "4     \\nI've had this lens for 2 months now, and love it. It was my first \"L\" lens and I can see the quality difference in this line. First, I tried the 28-135 IS-pretty good. But I wasn't totally happy, so returned it and ordered the 24-105 L. Now I'm happy. Contrast, sharpness, & CA are much better. Build quality & feel are superior as well. Plus the IS really works. I will try & get all IS lens in the future, I believe it is worth the extra cost. Focusing is very quick and zoom action is smooth & steady. If you're on a budget, the 28-135 is real nice. But to go all the way, I recommend this lens. The IS on the 24-105 L is quieter I found. The price is a bit steep, but optical quality is there, resale value will remain good, and weather sealing should hopefully keep dust and junk from getting inside this lens.\\n   \n",
       "...                                                                                                                                                                                                                                                                                                                                                                                                                                                                                                                                                                                                                                                                                                                                                                                                                                                   ...   \n",
       "3995                                                                                                                                                                                                                                                                                                                                                                                                                                                                                                                                                                \\nJust a heads-up for people looking to use this scanner to scan slides. You will have to unmount the slides in order to be able to scan them. Given the verbiage on the box, it caught me as enough of a surprise that I returned the scanner. I'm not OK with deception like that\\n   \n",
       "3996                                                                                                                                                                                                                                                                                                                                                                                                                                                                                                                                                                                                                                                                                          \\nThese blank discs are defective. I was never able to record any pictures or audio data to them.\\n\\nThe Maxell blank discs that I have did the job fine.\\n   \n",
       "3997                                                                                                                                                                                                                                                                                                                                                                                                                                                                                                                                                                               \\nI ordered this item thinking that it would be useful when on the road in hotel rooms to light up my work area.  WRONG !!  The light is so DIM, the only thing it might be good for is a night light! This lamp is a good idea, but much too weak to be of any help\\n   \n",
       "3998                                         \\nI was looking for a small cheap Mp3 player and I didn't care how much memory it had so this seemed perfect for me. I saw that many people had rated this 4 and 5 stars so I decided to buy it. When I got the Creative nano I was really happy with its preformance until I tried to put my subscription music onto it. Thats when I learned that it wouldn't hold any subscription music forcing me to buy my music one by one which is costing a lot of money.\\n\\nAfter that I started realising all of its imperfections. You can't use the FM radio in the car without hearing mostly static. You can't search through songs without actually changing the song you are listening to. Don't get me wrong, there are some good sides to this Mp3 player but I still would definately not recommend it\\n   \n",
       "3999                                                                                                                                                                                                                                                                                                                                                                                                                                                                                                                                                                                          \\nI AM VERY UNHAPPY WITH THE PRODUCT I RECEIVED FROM TIGER.\\nIT WAS NOT WHAT I WANTED AND TO RETURN IT WOULD COST ME MORE THAN I PAID FOR IT.\\nTHE COMPANY CHARGES TOOOOO MANY FEES.\\nI AM VERY UNHAPPY & NOW I HAVE A PRODUCT THAT I CAN'T USE OR RETURN\\n   \n",
       "\n",
       "      rating  \n",
       "0          1  \n",
       "1          1  \n",
       "2          1  \n",
       "3          1  \n",
       "4          1  \n",
       "...      ...  \n",
       "3995       0  \n",
       "3996       0  \n",
       "3997       0  \n",
       "3998       0  \n",
       "3999       0  \n",
       "\n",
       "[4000 rows x 2 columns]"
      ]
     },
     "execution_count": 20,
     "metadata": {},
     "output_type": "execute_result"
    }
   ],
   "source": [
    "df_texts"
   ]
  },
  {
   "cell_type": "markdown",
   "metadata": {},
   "source": [
    "Зведемо кожен з текстів до масивів зі слів, порядок яких узгоджений з порядком у віпдовідному тексті. Спробуємо вилучити \"невпливові\" слова, позбудемося пунткації."
   ]
  },
  {
   "cell_type": "code",
   "execution_count": 21,
   "metadata": {},
   "outputs": [
    {
     "name": "stderr",
     "output_type": "stream",
     "text": [
      "[nltk_data] Downloading package omw-1.4 to\n",
      "[nltk_data]     /home/goodpenguin/nltk_data...\n",
      "[nltk_data]   Package omw-1.4 is already up-to-date!\n",
      "[nltk_data] Downloading package punkt to\n",
      "[nltk_data]     /home/goodpenguin/nltk_data...\n",
      "[nltk_data]   Package punkt is already up-to-date!\n",
      "[nltk_data] Downloading package stopwords to\n",
      "[nltk_data]     /home/goodpenguin/nltk_data...\n",
      "[nltk_data]   Package stopwords is already up-to-date!\n",
      "[nltk_data] Downloading package wordnet to\n",
      "[nltk_data]     /home/goodpenguin/nltk_data...\n",
      "[nltk_data]   Package wordnet is already up-to-date!\n"
     ]
    }
   ],
   "source": [
    "from nltk import download\n",
    "\n",
    "for pkg in ['omw-1.4', 'punkt', 'stopwords', 'wordnet']:\n",
    "    download(pkg)"
   ]
  },
  {
   "cell_type": "code",
   "execution_count": 22,
   "metadata": {},
   "outputs": [],
   "source": [
    "from string import punctuation\n",
    "\n",
    "from nltk.tokenize import word_tokenize\n",
    "from nltk.corpus import stopwords\n",
    "from nltk.stem import WordNetLemmatizer \n",
    "\n",
    "lemmatizer = WordNetLemmatizer() \n",
    "stop_words = set(stopwords.words('english'))"
   ]
  },
  {
   "cell_type": "code",
   "execution_count": 23,
   "metadata": {},
   "outputs": [],
   "source": [
    "def preprocess_text(tokenizer, lemmatizer, stop_words, punctuation, text): \n",
    "    tokens = tokenizer(text.lower())\n",
    "    lemmas = [lemmatizer.lemmatize(token) for token in tokens]\n",
    "    return [token for token in lemmas if token not in stop_words and token not in punctuation]\n",
    "\n",
    "df_texts['cleaned'] = df_texts['text'].apply(\n",
    "    lambda x: preprocess_text(word_tokenize, lemmatizer, stop_words, punctuation, x)\n",
    ")"
   ]
  },
  {
   "cell_type": "code",
   "execution_count": 24,
   "metadata": {},
   "outputs": [
    {
     "data": {
      "text/html": [
       "<div>\n",
       "<style scoped>\n",
       "    .dataframe tbody tr th:only-of-type {\n",
       "        vertical-align: middle;\n",
       "    }\n",
       "\n",
       "    .dataframe tbody tr th {\n",
       "        vertical-align: top;\n",
       "    }\n",
       "\n",
       "    .dataframe thead th {\n",
       "        text-align: right;\n",
       "    }\n",
       "</style>\n",
       "<table border=\"1\" class=\"dataframe\">\n",
       "  <thead>\n",
       "    <tr style=\"text-align: right;\">\n",
       "      <th></th>\n",
       "      <th>text</th>\n",
       "      <th>rating</th>\n",
       "      <th>cleaned</th>\n",
       "    </tr>\n",
       "  </thead>\n",
       "  <tbody>\n",
       "    <tr>\n",
       "      <th>0</th>\n",
       "      <td>\\n This is a great back pack! If there is anything I would change it would be the logo on the front. It's brite and shinny, and I'd rather not advertise that I have a camera in there! I colored it in with a felt pen and it works great....... Overall, I love the backpack!!  \\n</td>\n",
       "      <td>1</td>\n",
       "      <td>[great, back, pack, anything, would, change, would, logo, front, 's, brite, shinny, 'd, rather, advertise, camera, colored, felt, pen, work, great, ......., overall, love, backpack]</td>\n",
       "    </tr>\n",
       "    <tr>\n",
       "      <th>1</th>\n",
       "      <td>\\nI love this backpack!  It is just what I needed to safely carry my camera gear and keep it organized\\n</td>\n",
       "      <td>1</td>\n",
       "      <td>[love, backpack, needed, safely, carry, camera, gear, keep, organized]</td>\n",
       "    </tr>\n",
       "    <tr>\n",
       "      <th>2</th>\n",
       "      <td>\\nThis was the best item I ever bought for my camera. I do a lot of walking with my camera, and thought I would use it as a walking stick, which I do, but the best part of this monopod is what I never thought would happen. My pictures are NEVER fuzzy! I can take low light photos and have they come out clear. I paid very little for this item and would never be caught without it and my camera. The three levers on the bottom allow for quick expansion at all different lengths. The carrying case allows for this item to be packed next to my camera without it getting scratched\\n</td>\n",
       "      <td>1</td>\n",
       "      <td>[wa, best, item, ever, bought, camera, lot, walking, camera, thought, would, use, walking, stick, best, part, monopod, never, thought, would, happen, picture, never, fuzzy, take, low, light, photo, come, clear, paid, little, item, would, never, caught, without, camera, three, lever, bottom, allow, quick, expansion, different, length, carrying, case, allows, item, packed, next, camera, without, getting, scratched]</td>\n",
       "    </tr>\n",
       "    <tr>\n",
       "      <th>3</th>\n",
       "      <td>\\nPrice went up!!! Great value for money spent. Will be buying a \"Ball\" attachment for better adjustability. Got some great steady shots with 48x digital zoom with the Canon S2 I\\n</td>\n",
       "      <td>1</td>\n",
       "      <td>[price, went, great, value, money, spent, buying, ``, ball, '', attachment, better, adjustability, got, great, steady, shot, 48x, digital, zoom, canon, s2]</td>\n",
       "    </tr>\n",
       "    <tr>\n",
       "      <th>4</th>\n",
       "      <td>\\nI've had this lens for 2 months now, and love it. It was my first \"L\" lens and I can see the quality difference in this line. First, I tried the 28-135 IS-pretty good. But I wasn't totally happy, so returned it and ordered the 24-105 L. Now I'm happy. Contrast, sharpness, &amp; CA are much better. Build quality &amp; feel are superior as well. Plus the IS really works. I will try &amp; get all IS lens in the future, I believe it is worth the extra cost. Focusing is very quick and zoom action is smooth &amp; steady. If you're on a budget, the 28-135 is real nice. But to go all the way, I recommend this lens. The IS on the 24-105 L is quieter I found. The price is a bit steep, but optical quality is there, resale value will remain good, and weather sealing should hopefully keep dust and junk from getting inside this lens.\\n</td>\n",
       "      <td>1</td>\n",
       "      <td>['ve, lens, 2, month, love, wa, first, ``, l, '', lens, see, quality, difference, line, first, tried, 28-135, is-pretty, good, wa, n't, totally, happy, returned, ordered, 24-105, l., 'm, happy, contrast, sharpness, ca, much, better, build, quality, feel, superior, well, plus, really, work, try, get, lens, future, believe, worth, extra, cost, focusing, quick, zoom, action, smooth, steady, 're, budget, 28-135, real, nice, go, way, recommend, lens, 24-105, l, quieter, found, price, bit, steep, optical, quality, resale, value, remain, good, weather, sealing, hopefully, keep, dust, junk, getting, inside, lens]</td>\n",
       "    </tr>\n",
       "    <tr>\n",
       "      <th>...</th>\n",
       "      <td>...</td>\n",
       "      <td>...</td>\n",
       "      <td>...</td>\n",
       "    </tr>\n",
       "    <tr>\n",
       "      <th>3995</th>\n",
       "      <td>\\nJust a heads-up for people looking to use this scanner to scan slides. You will have to unmount the slides in order to be able to scan them. Given the verbiage on the box, it caught me as enough of a surprise that I returned the scanner. I'm not OK with deception like that\\n</td>\n",
       "      <td>0</td>\n",
       "      <td>[heads-up, people, looking, use, scanner, scan, slide, unmount, slide, order, able, scan, given, verbiage, box, caught, enough, surprise, returned, scanner, 'm, ok, deception, like]</td>\n",
       "    </tr>\n",
       "    <tr>\n",
       "      <th>3996</th>\n",
       "      <td>\\nThese blank discs are defective. I was never able to record any pictures or audio data to them.\\n\\nThe Maxell blank discs that I have did the job fine.\\n</td>\n",
       "      <td>0</td>\n",
       "      <td>[blank, disc, defective, wa, never, able, record, picture, audio, data, maxell, blank, disc, job, fine]</td>\n",
       "    </tr>\n",
       "    <tr>\n",
       "      <th>3997</th>\n",
       "      <td>\\nI ordered this item thinking that it would be useful when on the road in hotel rooms to light up my work area.  WRONG !!  The light is so DIM, the only thing it might be good for is a night light! This lamp is a good idea, but much too weak to be of any help\\n</td>\n",
       "      <td>0</td>\n",
       "      <td>[ordered, item, thinking, would, useful, road, hotel, room, light, work, area, wrong, light, dim, thing, might, good, night, light, lamp, good, idea, much, weak, help]</td>\n",
       "    </tr>\n",
       "    <tr>\n",
       "      <th>3998</th>\n",
       "      <td>\\nI was looking for a small cheap Mp3 player and I didn't care how much memory it had so this seemed perfect for me. I saw that many people had rated this 4 and 5 stars so I decided to buy it. When I got the Creative nano I was really happy with its preformance until I tried to put my subscription music onto it. Thats when I learned that it wouldn't hold any subscription music forcing me to buy my music one by one which is costing a lot of money.\\n\\nAfter that I started realising all of its imperfections. You can't use the FM radio in the car without hearing mostly static. You can't search through songs without actually changing the song you are listening to. Don't get me wrong, there are some good sides to this Mp3 player but I still would definately not recommend it\\n</td>\n",
       "      <td>0</td>\n",
       "      <td>[wa, looking, small, cheap, mp3, player, n't, care, much, memory, seemed, perfect, saw, many, people, rated, 4, 5, star, decided, buy, got, creative, nano, wa, really, happy, preformance, tried, put, subscription, music, onto, thats, learned, would, n't, hold, subscription, music, forcing, buy, music, one, one, costing, lot, money, started, realising, imperfection, ca, n't, use, fm, radio, car, without, hearing, mostly, static, ca, n't, search, song, without, actually, changing, song, listening, n't, get, wrong, good, side, mp3, player, still, would, definately, recommend]</td>\n",
       "    </tr>\n",
       "    <tr>\n",
       "      <th>3999</th>\n",
       "      <td>\\nI AM VERY UNHAPPY WITH THE PRODUCT I RECEIVED FROM TIGER.\\nIT WAS NOT WHAT I WANTED AND TO RETURN IT WOULD COST ME MORE THAN I PAID FOR IT.\\nTHE COMPANY CHARGES TOOOOO MANY FEES.\\nI AM VERY UNHAPPY &amp; NOW I HAVE A PRODUCT THAT I CAN'T USE OR RETURN\\n</td>\n",
       "      <td>0</td>\n",
       "      <td>[unhappy, product, received, tiger, wa, wanted, return, would, cost, paid, company, charge, tooooo, many, fee, unhappy, product, ca, n't, use, return]</td>\n",
       "    </tr>\n",
       "  </tbody>\n",
       "</table>\n",
       "<p>4000 rows × 3 columns</p>\n",
       "</div>"
      ],
      "text/plain": [
       "                                                                                                                                                                                                                                                                                                                                                                                                                                                                                                                                                                                                                                                                                                                                                                                                                                                     text  \\\n",
       "0                                                                                                                                                                                                                                                                                                                                                                                                                                                                                                                                                                    \\n This is a great back pack! If there is anything I would change it would be the logo on the front. It's brite and shinny, and I'd rather not advertise that I have a camera in there! I colored it in with a felt pen and it works great....... Overall, I love the backpack!!  \\n   \n",
       "1                                                                                                                                                                                                                                                                                                                                                                                                                                                                                                                                                                                                                                                                                                                                                \\nI love this backpack!  It is just what I needed to safely carry my camera gear and keep it organized\\n   \n",
       "2                                                                                                                                                                                                                                                      \\nThis was the best item I ever bought for my camera. I do a lot of walking with my camera, and thought I would use it as a walking stick, which I do, but the best part of this monopod is what I never thought would happen. My pictures are NEVER fuzzy! I can take low light photos and have they come out clear. I paid very little for this item and would never be caught without it and my camera. The three levers on the bottom allow for quick expansion at all different lengths. The carrying case allows for this item to be packed next to my camera without it getting scratched\\n   \n",
       "3                                                                                                                                                                                                                                                                                                                                                                                                                                                                                                                                                                                                                                                                    \\nPrice went up!!! Great value for money spent. Will be buying a \"Ball\" attachment for better adjustability. Got some great steady shots with 48x digital zoom with the Canon S2 I\\n   \n",
       "4     \\nI've had this lens for 2 months now, and love it. It was my first \"L\" lens and I can see the quality difference in this line. First, I tried the 28-135 IS-pretty good. But I wasn't totally happy, so returned it and ordered the 24-105 L. Now I'm happy. Contrast, sharpness, & CA are much better. Build quality & feel are superior as well. Plus the IS really works. I will try & get all IS lens in the future, I believe it is worth the extra cost. Focusing is very quick and zoom action is smooth & steady. If you're on a budget, the 28-135 is real nice. But to go all the way, I recommend this lens. The IS on the 24-105 L is quieter I found. The price is a bit steep, but optical quality is there, resale value will remain good, and weather sealing should hopefully keep dust and junk from getting inside this lens.\\n   \n",
       "...                                                                                                                                                                                                                                                                                                                                                                                                                                                                                                                                                                                                                                                                                                                                                                                                                                                   ...   \n",
       "3995                                                                                                                                                                                                                                                                                                                                                                                                                                                                                                                                                                \\nJust a heads-up for people looking to use this scanner to scan slides. You will have to unmount the slides in order to be able to scan them. Given the verbiage on the box, it caught me as enough of a surprise that I returned the scanner. I'm not OK with deception like that\\n   \n",
       "3996                                                                                                                                                                                                                                                                                                                                                                                                                                                                                                                                                                                                                                                                                          \\nThese blank discs are defective. I was never able to record any pictures or audio data to them.\\n\\nThe Maxell blank discs that I have did the job fine.\\n   \n",
       "3997                                                                                                                                                                                                                                                                                                                                                                                                                                                                                                                                                                               \\nI ordered this item thinking that it would be useful when on the road in hotel rooms to light up my work area.  WRONG !!  The light is so DIM, the only thing it might be good for is a night light! This lamp is a good idea, but much too weak to be of any help\\n   \n",
       "3998                                         \\nI was looking for a small cheap Mp3 player and I didn't care how much memory it had so this seemed perfect for me. I saw that many people had rated this 4 and 5 stars so I decided to buy it. When I got the Creative nano I was really happy with its preformance until I tried to put my subscription music onto it. Thats when I learned that it wouldn't hold any subscription music forcing me to buy my music one by one which is costing a lot of money.\\n\\nAfter that I started realising all of its imperfections. You can't use the FM radio in the car without hearing mostly static. You can't search through songs without actually changing the song you are listening to. Don't get me wrong, there are some good sides to this Mp3 player but I still would definately not recommend it\\n   \n",
       "3999                                                                                                                                                                                                                                                                                                                                                                                                                                                                                                                                                                                          \\nI AM VERY UNHAPPY WITH THE PRODUCT I RECEIVED FROM TIGER.\\nIT WAS NOT WHAT I WANTED AND TO RETURN IT WOULD COST ME MORE THAN I PAID FOR IT.\\nTHE COMPANY CHARGES TOOOOO MANY FEES.\\nI AM VERY UNHAPPY & NOW I HAVE A PRODUCT THAT I CAN'T USE OR RETURN\\n   \n",
       "\n",
       "      rating  \\\n",
       "0          1   \n",
       "1          1   \n",
       "2          1   \n",
       "3          1   \n",
       "4          1   \n",
       "...      ...   \n",
       "3995       0   \n",
       "3996       0   \n",
       "3997       0   \n",
       "3998       0   \n",
       "3999       0   \n",
       "\n",
       "                                                                                                                                                                                                                                                                                                                                                                                                                                                                                                                                                                                                                                   cleaned  \n",
       "0                                                                                                                                                                                                                                                                                                                                                                                                                                                    [great, back, pack, anything, would, change, would, logo, front, 's, brite, shinny, 'd, rather, advertise, camera, colored, felt, pen, work, great, ......., overall, love, backpack]  \n",
       "1                                                                                                                                                                                                                                                                                                                                                                                                                                                                                                                                                                   [love, backpack, needed, safely, carry, camera, gear, keep, organized]  \n",
       "2                                                                                                                                                                                                         [wa, best, item, ever, bought, camera, lot, walking, camera, thought, would, use, walking, stick, best, part, monopod, never, thought, would, happen, picture, never, fuzzy, take, low, light, photo, come, clear, paid, little, item, would, never, caught, without, camera, three, lever, bottom, allow, quick, expansion, different, length, carrying, case, allows, item, packed, next, camera, without, getting, scratched]  \n",
       "3                                                                                                                                                                                                                                                                                                                                                                                                                                                                              [price, went, great, value, money, spent, buying, ``, ball, '', attachment, better, adjustability, got, great, steady, shot, 48x, digital, zoom, canon, s2]  \n",
       "4     ['ve, lens, 2, month, love, wa, first, ``, l, '', lens, see, quality, difference, line, first, tried, 28-135, is-pretty, good, wa, n't, totally, happy, returned, ordered, 24-105, l., 'm, happy, contrast, sharpness, ca, much, better, build, quality, feel, superior, well, plus, really, work, try, get, lens, future, believe, worth, extra, cost, focusing, quick, zoom, action, smooth, steady, 're, budget, 28-135, real, nice, go, way, recommend, lens, 24-105, l, quieter, found, price, bit, steep, optical, quality, resale, value, remain, good, weather, sealing, hopefully, keep, dust, junk, getting, inside, lens]  \n",
       "...                                                                                                                                                                                                                                                                                                                                                                                                                                                                                                                                                                                                                                    ...  \n",
       "3995                                                                                                                                                                                                                                                                                                                                                                                                                                                 [heads-up, people, looking, use, scanner, scan, slide, unmount, slide, order, able, scan, given, verbiage, box, caught, enough, surprise, returned, scanner, 'm, ok, deception, like]  \n",
       "3996                                                                                                                                                                                                                                                                                                                                                                                                                                                                                                                               [blank, disc, defective, wa, never, able, record, picture, audio, data, maxell, blank, disc, job, fine]  \n",
       "3997                                                                                                                                                                                                                                                                                                                                                                                                                                                               [ordered, item, thinking, would, useful, road, hotel, room, light, work, area, wrong, light, dim, thing, might, good, night, light, lamp, good, idea, much, weak, help]  \n",
       "3998                                   [wa, looking, small, cheap, mp3, player, n't, care, much, memory, seemed, perfect, saw, many, people, rated, 4, 5, star, decided, buy, got, creative, nano, wa, really, happy, preformance, tried, put, subscription, music, onto, thats, learned, would, n't, hold, subscription, music, forcing, buy, music, one, one, costing, lot, money, started, realising, imperfection, ca, n't, use, fm, radio, car, without, hearing, mostly, static, ca, n't, search, song, without, actually, changing, song, listening, n't, get, wrong, good, side, mp3, player, still, would, definately, recommend]  \n",
       "3999                                                                                                                                                                                                                                                                                                                                                                                                                                                                                [unhappy, product, received, tiger, wa, wanted, return, would, cost, paid, company, charge, tooooo, many, fee, unhappy, product, ca, n't, use, return]  \n",
       "\n",
       "[4000 rows x 3 columns]"
      ]
     },
     "execution_count": 24,
     "metadata": {},
     "output_type": "execute_result"
    }
   ],
   "source": [
    "df_texts"
   ]
  },
  {
   "cell_type": "markdown",
   "metadata": {},
   "source": [
    "До речі, час зробити тренувальну та тестову вибірки. Проведемо стратифікований відбір, тобто кількість об'єктів не залежатиме від вибору класу (чи то хороший кометар, чи ні)."
   ]
  },
  {
   "cell_type": "code",
   "execution_count": 25,
   "metadata": {},
   "outputs": [
    {
     "data": {
      "text/plain": [
       "200"
      ]
     },
     "execution_count": 25,
     "metadata": {},
     "output_type": "execute_result"
    }
   ],
   "source": [
    "import numpy as np\n",
    "np.random.seed(0)\n",
    "\n",
    "n = n_pos\n",
    "n_test = n // 10\n",
    "n_test"
   ]
  },
  {
   "cell_type": "code",
   "execution_count": 26,
   "metadata": {},
   "outputs": [],
   "source": [
    "idx_test_pos = np.random.choice(\n",
    "    np.arange(0, n_pos), size=(n_test // 2), replace=False\n",
    ")\n",
    "idx_test_neg = np.random.choice(\n",
    "    n_pos + np.arange(0, n_neg), size=(n_test // 2), replace=False\n",
    ")"
   ]
  },
  {
   "cell_type": "code",
   "execution_count": 27,
   "metadata": {},
   "outputs": [
    {
     "data": {
      "text/html": [
       "<div>\n",
       "<style scoped>\n",
       "    .dataframe tbody tr th:only-of-type {\n",
       "        vertical-align: middle;\n",
       "    }\n",
       "\n",
       "    .dataframe tbody tr th {\n",
       "        vertical-align: top;\n",
       "    }\n",
       "\n",
       "    .dataframe thead th {\n",
       "        text-align: right;\n",
       "    }\n",
       "</style>\n",
       "<table border=\"1\" class=\"dataframe\">\n",
       "  <thead>\n",
       "    <tr style=\"text-align: right;\">\n",
       "      <th></th>\n",
       "      <th>cleaned</th>\n",
       "      <th>rating</th>\n",
       "    </tr>\n",
       "  </thead>\n",
       "  <tbody>\n",
       "    <tr>\n",
       "      <th>405</th>\n",
       "      <td>[canoe/kayak, various, river, creek, wanted, way, take, 1500, camera, water, without, fear, damaging, sport, pack, completely, water, proof, 7m, 've, submersed, case, test, real-life, situation, camera, stayed, dry, case, doe, cause, noticeable, reduction, picture, quality, relatively, simple, operate, assemble, basic, function, camera, case, need, change, setting, camera, putting, case, advanced, camera, feature, able, used, concern, scratch, resistance, plastic, lens, area, far, n't, problem, 've, taken, river, 30, hr, told, 'm, pleased, plan, filming, near, water, would, recommend, case]</td>\n",
       "      <td>1</td>\n",
       "    </tr>\n",
       "    <tr>\n",
       "      <th>1190</th>\n",
       "      <td>['m, using, monster, cable, connect, ipod, receiver, via, ipod, dock, work, flawlessly, sound, crisp, clear, plus, 's, lot, cheaper, getting, actual, monster, ipod, av, cable, length, cable, make, convenient, cumbersome, 's, great, way, increase, functionality, ipod]</td>\n",
       "      <td>1</td>\n",
       "    </tr>\n",
       "    <tr>\n",
       "      <th>1132</th>\n",
       "      <td>[wanted, non-ipod, digital, music, player, found, terrific, option, play, number, different, format, includes, lanyard, nice, commuting, train, plane, travel, used, alkaline, battery, far, excellent, battery, life, menu, take, hour, 2, playing, learn, get, familiar, button, menu, 's, pretty, easy, also, enjoyed, built, fm, tuner, trouble, reception, even, moving, commuter, train, sound, quality, good, 've, using, 128, bitrate, mp3, song, far, software, transferring, music, pretty, easy, use, although, little, trouble, getting, player, recognized, connected, seemed, kind, order, connection, issue, included, earbuds, n't, comfortable, especially, since, already, lost, foam, padding, probably, get, better, pair, anyway, sound, good, though, also, included, case, pretty, ...]</td>\n",
       "      <td>1</td>\n",
       "    </tr>\n",
       "    <tr>\n",
       "      <th>731</th>\n",
       "      <td>[white, one, black, wa, unavailable, time, purchase, 1., camera, slide, even, though, clasp, magnet, made, snug, enough, felt, hold, case, even, shake, jostle, 2., durable, scrape, scratch, 7, month, 3., n't, missed, belt, clip, option, small, enough, fit, pocket, 4., well, constructed/durable, people, think, sort, ipod, case/holder]</td>\n",
       "      <td>1</td>\n",
       "    </tr>\n",
       "    <tr>\n",
       "      <th>1754</th>\n",
       "      <td>[wall, mount, work, hold, 's, great, used, olevia, 542i, lcd, flat, panel, problem, instruction, clear, hard, figure, instal]</td>\n",
       "      <td>1</td>\n",
       "    </tr>\n",
       "    <tr>\n",
       "      <th>...</th>\n",
       "      <td>...</td>\n",
       "      <td>...</td>\n",
       "    </tr>\n",
       "    <tr>\n",
       "      <th>1999</th>\n",
       "      <td>[mouse, ha, never, let, really, work, surface]</td>\n",
       "      <td>1</td>\n",
       "    </tr>\n",
       "    <tr>\n",
       "      <th>1927</th>\n",
       "      <td>[map, good, enough, navigation, street, outdoor, adventure, allows, downloading, track, waypoints, gps, editing, saving, file, gps, annoying, put, last, cd, drive, use, program]</td>\n",
       "      <td>1</td>\n",
       "    </tr>\n",
       "    <tr>\n",
       "      <th>80</th>\n",
       "      <td>[great, camera, take, place, earlier, canon, digital, elph, lost, several, year, ago, 7.1, megapixels, ensures, great, quality, 3x, zoom, provides, crisp, clear, picture, fact, digital, zoom, also, work, great, make, sure, camera, steady, purchased, nice, compact, monopod, result, awesome, although, image, stabilization, feature, newer, model, would, great, ca, n't, beat, price, overall, quality, camera, picture, take, canon, sd500, great, little, camera]</td>\n",
       "      <td>1</td>\n",
       "    </tr>\n",
       "    <tr>\n",
       "      <th>1854</th>\n",
       "      <td>[elegant, design, sturdy, construction, support, yamaha, sy35, securely, reading, forbidding, review, decided, assemble, without, first, reading, direction, took, 10, min]</td>\n",
       "      <td>1</td>\n",
       "    </tr>\n",
       "    <tr>\n",
       "      <th>264</th>\n",
       "      <td>[bought, remote, month, ago, doe, say, even, use, behind, great, little, device, price]</td>\n",
       "      <td>1</td>\n",
       "    </tr>\n",
       "  </tbody>\n",
       "</table>\n",
       "<p>100 rows × 2 columns</p>\n",
       "</div>"
      ],
      "text/plain": [
       "                                                                                                                                                                                                                                                                                                                                                                                                                                                                                                                                                                                                                                                                                                                                                                                                             cleaned  \\\n",
       "405                                                                                                                                                                                            [canoe/kayak, various, river, creek, wanted, way, take, 1500, camera, water, without, fear, damaging, sport, pack, completely, water, proof, 7m, 've, submersed, case, test, real-life, situation, camera, stayed, dry, case, doe, cause, noticeable, reduction, picture, quality, relatively, simple, operate, assemble, basic, function, camera, case, need, change, setting, camera, putting, case, advanced, camera, feature, able, used, concern, scratch, resistance, plastic, lens, area, far, n't, problem, 've, taken, river, 30, hr, told, 'm, pleased, plan, filming, near, water, would, recommend, case]   \n",
       "1190                                                                                                                                                                                                                                                                                                                                                                                                                                                                                                                                     ['m, using, monster, cable, connect, ipod, receiver, via, ipod, dock, work, flawlessly, sound, crisp, clear, plus, 's, lot, cheaper, getting, actual, monster, ipod, av, cable, length, cable, make, convenient, cumbersome, 's, great, way, increase, functionality, ipod]   \n",
       "1132  [wanted, non-ipod, digital, music, player, found, terrific, option, play, number, different, format, includes, lanyard, nice, commuting, train, plane, travel, used, alkaline, battery, far, excellent, battery, life, menu, take, hour, 2, playing, learn, get, familiar, button, menu, 's, pretty, easy, also, enjoyed, built, fm, tuner, trouble, reception, even, moving, commuter, train, sound, quality, good, 've, using, 128, bitrate, mp3, song, far, software, transferring, music, pretty, easy, use, although, little, trouble, getting, player, recognized, connected, seemed, kind, order, connection, issue, included, earbuds, n't, comfortable, especially, since, already, lost, foam, padding, probably, get, better, pair, anyway, sound, good, though, also, included, case, pretty, ...]   \n",
       "731                                                                                                                                                                                                                                                                                                                                                                                                                                                                  [white, one, black, wa, unavailable, time, purchase, 1., camera, slide, even, though, clasp, magnet, made, snug, enough, felt, hold, case, even, shake, jostle, 2., durable, scrape, scratch, 7, month, 3., n't, missed, belt, clip, option, small, enough, fit, pocket, 4., well, constructed/durable, people, think, sort, ipod, case/holder]   \n",
       "1754                                                                                                                                                                                                                                                                                                                                                                                                                                                                                                                                                                                                                                                                                   [wall, mount, work, hold, 's, great, used, olevia, 542i, lcd, flat, panel, problem, instruction, clear, hard, figure, instal]   \n",
       "...                                                                                                                                                                                                                                                                                                                                                                                                                                                                                                                                                                                                                                                                                                                                                                                                              ...   \n",
       "1999                                                                                                                                                                                                                                                                                                                                                                                                                                                                                                                                                                                                                                                                                                                                                                  [mouse, ha, never, let, really, work, surface]   \n",
       "1927                                                                                                                                                                                                                                                                                                                                                                                                                                                                                                                                                                                                                               [map, good, enough, navigation, street, outdoor, adventure, allows, downloading, track, waypoints, gps, editing, saving, file, gps, annoying, put, last, cd, drive, use, program]   \n",
       "80                                                                                                                                                                                                                                                                                                                                       [great, camera, take, place, earlier, canon, digital, elph, lost, several, year, ago, 7.1, megapixels, ensures, great, quality, 3x, zoom, provides, crisp, clear, picture, fact, digital, zoom, also, work, great, make, sure, camera, steady, purchased, nice, compact, monopod, result, awesome, although, image, stabilization, feature, newer, model, would, great, ca, n't, beat, price, overall, quality, camera, picture, take, canon, sd500, great, little, camera]   \n",
       "1854                                                                                                                                                                                                                                                                                                                                                                                                                                                                                                                                                                                                                                     [elegant, design, sturdy, construction, support, yamaha, sy35, securely, reading, forbidding, review, decided, assemble, without, first, reading, direction, took, 10, min]   \n",
       "264                                                                                                                                                                                                                                                                                                                                                                                                                                                                                                                                                                                                                                                                                                                          [bought, remote, month, ago, doe, say, even, use, behind, great, little, device, price]   \n",
       "\n",
       "      rating  \n",
       "405        1  \n",
       "1190       1  \n",
       "1132       1  \n",
       "731        1  \n",
       "1754       1  \n",
       "...      ...  \n",
       "1999       1  \n",
       "1927       1  \n",
       "80         1  \n",
       "1854       1  \n",
       "264        1  \n",
       "\n",
       "[100 rows x 2 columns]"
      ]
     },
     "execution_count": 27,
     "metadata": {},
     "output_type": "execute_result"
    }
   ],
   "source": [
    "df_texts.iloc[idx_test_pos][['cleaned', 'rating']]"
   ]
  },
  {
   "cell_type": "code",
   "execution_count": 28,
   "metadata": {},
   "outputs": [
    {
     "data": {
      "text/html": [
       "<div>\n",
       "<style scoped>\n",
       "    .dataframe tbody tr th:only-of-type {\n",
       "        vertical-align: middle;\n",
       "    }\n",
       "\n",
       "    .dataframe tbody tr th {\n",
       "        vertical-align: top;\n",
       "    }\n",
       "\n",
       "    .dataframe thead th {\n",
       "        text-align: right;\n",
       "    }\n",
       "</style>\n",
       "<table border=\"1\" class=\"dataframe\">\n",
       "  <thead>\n",
       "    <tr style=\"text-align: right;\">\n",
       "      <th></th>\n",
       "      <th>cleaned</th>\n",
       "      <th>rating</th>\n",
       "    </tr>\n",
       "  </thead>\n",
       "  <tbody>\n",
       "    <tr>\n",
       "      <th>3162</th>\n",
       "      <td>[sound, wa, great, dvd, would, lag, every, 10-15, second, movie, drove, nut, return]</td>\n",
       "      <td>0</td>\n",
       "    </tr>\n",
       "    <tr>\n",
       "      <th>2142</th>\n",
       "      <td>[bag, small, canon, 20d, fit, nicely, small, lens, fit, one, lens, camera, body, kept, bag, informal, use, need, body, one, lens, avoid, always, carry, bulky, bag]</td>\n",
       "      <td>0</td>\n",
       "    </tr>\n",
       "    <tr>\n",
       "      <th>3848</th>\n",
       "      <td>[agree, poster, complained, driver, available, download, day, age, excuse, company, making, thing, available, customer, voice, recorder, tool, go, carry, cd, u, well, case, want, plug, recorder, different, machine, case, wanton, disrespect, customer, big, company]</td>\n",
       "      <td>0</td>\n",
       "    </tr>\n",
       "    <tr>\n",
       "      <th>3189</th>\n",
       "      <td>[drive, fail, one, year, half, ..., company, really, suck, big, time, ...., lost, data, ..., ..., third, one, fail, four, purchased, last, year, total, junk, ..., never, buy, lacie, sure, ...., maxtor, external, best]</td>\n",
       "      <td>0</td>\n",
       "    </tr>\n",
       "    <tr>\n",
       "      <th>3561</th>\n",
       "      <td>[piece, junk, radio, reception, terrible, fm, marginal, almost, nonexistent]</td>\n",
       "      <td>0</td>\n",
       "    </tr>\n",
       "    <tr>\n",
       "      <th>...</th>\n",
       "      <td>...</td>\n",
       "      <td>...</td>\n",
       "    </tr>\n",
       "    <tr>\n",
       "      <th>2499</th>\n",
       "      <td>[paid, 99.00, little, camcorder, thought, would, ideal, action, sport, hero, house, could, n't, get, video, transfer, pc, menu, button, would, bring, anything, overall, could, n't, get, thing, work, bummer, christmas, present]</td>\n",
       "      <td>0</td>\n",
       "    </tr>\n",
       "    <tr>\n",
       "      <th>3044</th>\n",
       "      <td>[problem, burning, disc, went, back, month, later, disc, found, none, work, anymore, research, found, memorex, us, cheapest, dye, available, thus, dvd, absolutelly, life, disc, started, dying, month, addition, physically, hold, disc, hand, feel, warped, physically, ha, become, true, disc, 150, recommend, product, stronly, enough]</td>\n",
       "      <td>0</td>\n",
       "    </tr>\n",
       "    <tr>\n",
       "      <th>3750</th>\n",
       "      <td>[work, palm, t|c, right, away, 've, used, purpose, expect, either, palm, sd, release, proper, software, work, palm, t|c]</td>\n",
       "      <td>0</td>\n",
       "    </tr>\n",
       "    <tr>\n",
       "      <th>3672</th>\n",
       "      <td>[battery, pack, walkie, talkie, last, hour, only-, disappointed, quality, need, emergency, throughout, day-, farmed, animal, sanctuary-, non-profit, afford, purchase, new, battery, paying, already, willing, change, review, get, new, battery, came, time-, good, quality-, batterie]</td>\n",
       "      <td>0</td>\n",
       "    </tr>\n",
       "    <tr>\n",
       "      <th>3671</th>\n",
       "      <td>[n't, want, rate, product, since, n't, used, though, ..., wanted, share, everybody, product, still, doe, come, charger, received, left, unopened, upon, seeing, charger, called, customer, service, n't, anything, posting, sent, back, waste, time, effort, extra, hassle, waiting, get, money, back, get, mislead, picture, description]</td>\n",
       "      <td>0</td>\n",
       "    </tr>\n",
       "  </tbody>\n",
       "</table>\n",
       "<p>100 rows × 2 columns</p>\n",
       "</div>"
      ],
      "text/plain": [
       "                                                                                                                                                                                                                                                                                                                                          cleaned  \\\n",
       "3162                                                                                                                                                                                                                                                         [sound, wa, great, dvd, would, lag, every, 10-15, second, movie, drove, nut, return]   \n",
       "2142                                                                                                                                                                          [bag, small, canon, 20d, fit, nicely, small, lens, fit, one, lens, camera, body, kept, bag, informal, use, need, body, one, lens, avoid, always, carry, bulky, bag]   \n",
       "3848                                                                     [agree, poster, complained, driver, available, download, day, age, excuse, company, making, thing, available, customer, voice, recorder, tool, go, carry, cd, u, well, case, want, plug, recorder, different, machine, case, wanton, disrespect, customer, big, company]   \n",
       "3189                                                                                                                    [drive, fail, one, year, half, ..., company, really, suck, big, time, ...., lost, data, ..., ..., third, one, fail, four, purchased, last, year, total, junk, ..., never, buy, lacie, sure, ...., maxtor, external, best]   \n",
       "3561                                                                                                                                                                                                                                                                 [piece, junk, radio, reception, terrible, fm, marginal, almost, nonexistent]   \n",
       "...                                                                                                                                                                                                                                                                                                                                           ...   \n",
       "2499                                                                                                           [paid, 99.00, little, camcorder, thought, would, ideal, action, sport, hero, house, could, n't, get, video, transfer, pc, menu, button, would, bring, anything, overall, could, n't, get, thing, work, bummer, christmas, present]   \n",
       "3044  [problem, burning, disc, went, back, month, later, disc, found, none, work, anymore, research, found, memorex, us, cheapest, dye, available, thus, dvd, absolutelly, life, disc, started, dying, month, addition, physically, hold, disc, hand, feel, warped, physically, ha, become, true, disc, 150, recommend, product, stronly, enough]   \n",
       "3750                                                                                                                                                                                                                     [work, palm, t|c, right, away, 've, used, purpose, expect, either, palm, sd, release, proper, software, work, palm, t|c]   \n",
       "3672                                                     [battery, pack, walkie, talkie, last, hour, only-, disappointed, quality, need, emergency, throughout, day-, farmed, animal, sanctuary-, non-profit, afford, purchase, new, battery, paying, already, willing, change, review, get, new, battery, came, time-, good, quality-, batterie]   \n",
       "3671   [n't, want, rate, product, since, n't, used, though, ..., wanted, share, everybody, product, still, doe, come, charger, received, left, unopened, upon, seeing, charger, called, customer, service, n't, anything, posting, sent, back, waste, time, effort, extra, hassle, waiting, get, money, back, get, mislead, picture, description]   \n",
       "\n",
       "      rating  \n",
       "3162       0  \n",
       "2142       0  \n",
       "3848       0  \n",
       "3189       0  \n",
       "3561       0  \n",
       "...      ...  \n",
       "2499       0  \n",
       "3044       0  \n",
       "3750       0  \n",
       "3672       0  \n",
       "3671       0  \n",
       "\n",
       "[100 rows x 2 columns]"
      ]
     },
     "execution_count": 28,
     "metadata": {},
     "output_type": "execute_result"
    }
   ],
   "source": [
    "df_texts.iloc[idx_test_neg][['cleaned', 'rating']]"
   ]
  },
  {
   "cell_type": "code",
   "execution_count": 29,
   "metadata": {},
   "outputs": [],
   "source": [
    "# Для відтворення результатів\n",
    "np.random.seed(12345)\n",
    "\n",
    "idx_test = np.append(idx_test_pos, idx_test_neg)\n",
    "np.random.shuffle(idx_test)\n",
    "# idx_test"
   ]
  },
  {
   "cell_type": "code",
   "execution_count": 30,
   "metadata": {},
   "outputs": [],
   "source": [
    "df_train = df_texts.drop(index=idx_test, axis=0).sample(frac=1)\n",
    "df_test = df_texts.iloc[idx_test]"
   ]
  },
  {
   "cell_type": "code",
   "execution_count": 31,
   "metadata": {},
   "outputs": [
    {
     "data": {
      "text/html": [
       "<div>\n",
       "<style scoped>\n",
       "    .dataframe tbody tr th:only-of-type {\n",
       "        vertical-align: middle;\n",
       "    }\n",
       "\n",
       "    .dataframe tbody tr th {\n",
       "        vertical-align: top;\n",
       "    }\n",
       "\n",
       "    .dataframe thead th {\n",
       "        text-align: right;\n",
       "    }\n",
       "</style>\n",
       "<table border=\"1\" class=\"dataframe\">\n",
       "  <thead>\n",
       "    <tr style=\"text-align: right;\">\n",
       "      <th></th>\n",
       "      <th>cleaned</th>\n",
       "      <th>rating</th>\n",
       "    </tr>\n",
       "  </thead>\n",
       "  <tbody>\n",
       "    <tr>\n",
       "      <th>3720</th>\n",
       "      <td>[software, terrible, slow, glitchy, start, close, multiple, time, get, find, player, operator, manual, 100, page, fun, learning, intricacy, control, granted, hardware, cute, variety, function, impressive, --, assuming, sufficient, spare, time, study, manual]</td>\n",
       "      <td>0</td>\n",
       "    </tr>\n",
       "    <tr>\n",
       "      <th>3310</th>\n",
       "      <td>[1gb, titanium, sandisk, cruzer, work, fail, tried, several, time, contact, sandisk, including, selling, vendor, absolutely, response, wife, 's, cruzer, failed, well, power, light, come, recognized, xp, light, go, system, ca, n't, id, device, 's, useless, doe, thing, xp, system, house, 've, tried, front, side, usb, connection, rear, connection, hub, connection, dice, 'll, never, buy, another, sandisk, cruzer, wa, going, order, another, 100, office, loss]</td>\n",
       "      <td>0</td>\n",
       "    </tr>\n",
       "    <tr>\n",
       "      <th>3219</th>\n",
       "      <td>[ordered, product, june, 21st, told, receive, oct, 28th, would, n't, waste, time, ordering, product, amazon]</td>\n",
       "      <td>0</td>\n",
       "    </tr>\n",
       "    <tr>\n",
       "      <th>528</th>\n",
       "      <td>[bought, battery, charger, going, overseas, trip, n't, want, bothered, frequently, changing, aa, battery, seemed, last, day, heavy, use, wa, quite, pleased, performance, rechargeables, lasted, several, day, heavy, use, needing, charged, re-charged, hour, big, bonus, n't, expect, recharger, compatible, european, 240, voltage, n't, use, electric, converter]</td>\n",
       "      <td>1</td>\n",
       "    </tr>\n",
       "    <tr>\n",
       "      <th>3809</th>\n",
       "      <td>[terrible, user, interface, must, page, ton, cryptic, menu, set, basic, feature, pull, multiple, paper, must, start, g3, would, think, would, compatible, earlier, non-g3, fax, machine, wrong, ca, n't, fax, 75, community, ha, non, g3, unit, thought, wa, buying, quality, canon, paid, 250, hunk, junk, cheap, brother, hp, 's, work, never, problem, easier, use, much, le, expensive, save, money, save, headache, sorry, canon, product, wa, disaster]</td>\n",
       "      <td>0</td>\n",
       "    </tr>\n",
       "  </tbody>\n",
       "</table>\n",
       "</div>"
      ],
      "text/plain": [
       "                                                                                                                                                                                                                                                                                                                                                                                                                                                                         cleaned  \\\n",
       "3720                                                                                                                                                                                                          [software, terrible, slow, glitchy, start, close, multiple, time, get, find, player, operator, manual, 100, page, fun, learning, intricacy, control, granted, hardware, cute, variety, function, impressive, --, assuming, sufficient, spare, time, study, manual]   \n",
       "3310  [1gb, titanium, sandisk, cruzer, work, fail, tried, several, time, contact, sandisk, including, selling, vendor, absolutely, response, wife, 's, cruzer, failed, well, power, light, come, recognized, xp, light, go, system, ca, n't, id, device, 's, useless, doe, thing, xp, system, house, 've, tried, front, side, usb, connection, rear, connection, hub, connection, dice, 'll, never, buy, another, sandisk, cruzer, wa, going, order, another, 100, office, loss]   \n",
       "3219                                                                                                                                                                                                                                                                                                                                                                [ordered, product, june, 21st, told, receive, oct, 28th, would, n't, waste, time, ordering, product, amazon]   \n",
       "528                                                                                                        [bought, battery, charger, going, overseas, trip, n't, want, bothered, frequently, changing, aa, battery, seemed, last, day, heavy, use, wa, quite, pleased, performance, rechargeables, lasted, several, day, heavy, use, needing, charged, re-charged, hour, big, bonus, n't, expect, recharger, compatible, european, 240, voltage, n't, use, electric, converter]   \n",
       "3809               [terrible, user, interface, must, page, ton, cryptic, menu, set, basic, feature, pull, multiple, paper, must, start, g3, would, think, would, compatible, earlier, non-g3, fax, machine, wrong, ca, n't, fax, 75, community, ha, non, g3, unit, thought, wa, buying, quality, canon, paid, 250, hunk, junk, cheap, brother, hp, 's, work, never, problem, easier, use, much, le, expensive, save, money, save, headache, sorry, canon, product, wa, disaster]   \n",
       "\n",
       "      rating  \n",
       "3720       0  \n",
       "3310       0  \n",
       "3219       0  \n",
       "528        1  \n",
       "3809       0  "
      ]
     },
     "execution_count": 31,
     "metadata": {},
     "output_type": "execute_result"
    }
   ],
   "source": [
    "df_train[['cleaned', 'rating']].head()"
   ]
  },
  {
   "cell_type": "code",
   "execution_count": 32,
   "metadata": {},
   "outputs": [
    {
     "data": {
      "text/plain": [
       "(3800, 3)"
      ]
     },
     "execution_count": 32,
     "metadata": {},
     "output_type": "execute_result"
    }
   ],
   "source": [
    "df_train.shape"
   ]
  },
  {
   "cell_type": "code",
   "execution_count": 33,
   "metadata": {},
   "outputs": [
    {
     "data": {
      "text/html": [
       "<div>\n",
       "<style scoped>\n",
       "    .dataframe tbody tr th:only-of-type {\n",
       "        vertical-align: middle;\n",
       "    }\n",
       "\n",
       "    .dataframe tbody tr th {\n",
       "        vertical-align: top;\n",
       "    }\n",
       "\n",
       "    .dataframe thead th {\n",
       "        text-align: right;\n",
       "    }\n",
       "</style>\n",
       "<table border=\"1\" class=\"dataframe\">\n",
       "  <thead>\n",
       "    <tr style=\"text-align: right;\">\n",
       "      <th></th>\n",
       "      <th>cleaned</th>\n",
       "      <th>rating</th>\n",
       "    </tr>\n",
       "  </thead>\n",
       "  <tbody>\n",
       "    <tr>\n",
       "      <th>76</th>\n",
       "      <td>[original, equipment, battery, charger, manufactered, canon, performance, charger, excellent, canon, product, price, paid, wa, comparible, non-sale, priced, item, puchased, via, internet, site, item, wa, recieved, original, packaging, 3, day, placing, order, wa, new, reconditioned, new, appearance, extremely, pleased, entire, purchase, process, experienced, information, given, site, ease, ordering, fast, shipping]</td>\n",
       "      <td>1</td>\n",
       "    </tr>\n",
       "    <tr>\n",
       "      <th>3273</th>\n",
       "      <td>[using, radio, two, month, say, battery, life, poor.a, full, charge, doe, n't, hold, three, hours.perhaps, battery, n't, come, good, condition, n't, use, aaa, yet, ..., 10, mile, range, true, normal, environment, open, sea, desert, perhaps.product, work, fine, battery, la]</td>\n",
       "      <td>0</td>\n",
       "    </tr>\n",
       "    <tr>\n",
       "      <th>2460</th>\n",
       "      <td>[bought, year, ago, ha, lens, cap, error, appears, like, shutter, never, open, record, video, spoke, jvc, seemed, know, problem, send, update, rating, see, wrong, fix, stand, behind, product, watch, detail, failed, complaint, wa, wa, little, flakey, lighting, otherwise, worked, okay, price]</td>\n",
       "      <td>0</td>\n",
       "    </tr>\n",
       "    <tr>\n",
       "      <th>3935</th>\n",
       "      <td>[bought, c., crane, fm, transmitter, expecting, broadcast, computer, listen, fm, tuner, headset, worked, around, house, yard, broadcast, 5, 6, foot, max, box, performed, power, boosting, ``, fix, '', broadcast, 10-20, foot, 'm, lucky, static, overpowers, signal, wa, disappointing, purchase, directly, c., crane, way, met, expectation, requires, setting, transmitter, grounded, metal, plate, lengthening, antenna, order, bring, transmission, whole, house, yard, capability, build, way, get-go, state, limitation, transmitter, forthrightly, kept, transmitter, wanted, one, car, 's, physically, well, built, work, fine, also, use, play, ipod, radio, ..., understand, radio, sitting, right, next, transmitter, want, transmit, throughout, house, yard, look, elsewhere]</td>\n",
       "      <td>0</td>\n",
       "    </tr>\n",
       "    <tr>\n",
       "      <th>475</th>\n",
       "      <td>[carrying, case, made, either, fake, leather, kind, neoprene, material, one, really, different, rigid, structure, also, seem, great, job, protect, camera, also, belt, loop, d-ring, feature, great]</td>\n",
       "      <td>1</td>\n",
       "    </tr>\n",
       "  </tbody>\n",
       "</table>\n",
       "</div>"
      ],
      "text/plain": [
       "                                                                                                                                                                                                                                                                                                                                                                                                                                                                                                                                                                                                                                                                                                                                                                                           cleaned  \\\n",
       "76                                                                                                                                                                                                                                                                                                                                                               [original, equipment, battery, charger, manufactered, canon, performance, charger, excellent, canon, product, price, paid, wa, comparible, non-sale, priced, item, puchased, via, internet, site, item, wa, recieved, original, packaging, 3, day, placing, order, wa, new, reconditioned, new, appearance, extremely, pleased, entire, purchase, process, experienced, information, given, site, ease, ordering, fast, shipping]   \n",
       "3273                                                                                                                                                                                                                                                                                                                                                                                                                                                                                                             [using, radio, two, month, say, battery, life, poor.a, full, charge, doe, n't, hold, three, hours.perhaps, battery, n't, come, good, condition, n't, use, aaa, yet, ..., 10, mile, range, true, normal, environment, open, sea, desert, perhaps.product, work, fine, battery, la]   \n",
       "2460                                                                                                                                                                                                                                                                                                                                                                                                                                                                                           [bought, year, ago, ha, lens, cap, error, appears, like, shutter, never, open, record, video, spoke, jvc, seemed, know, problem, send, update, rating, see, wrong, fix, stand, behind, product, watch, detail, failed, complaint, wa, wa, little, flakey, lighting, otherwise, worked, okay, price]   \n",
       "3935  [bought, c., crane, fm, transmitter, expecting, broadcast, computer, listen, fm, tuner, headset, worked, around, house, yard, broadcast, 5, 6, foot, max, box, performed, power, boosting, ``, fix, '', broadcast, 10-20, foot, 'm, lucky, static, overpowers, signal, wa, disappointing, purchase, directly, c., crane, way, met, expectation, requires, setting, transmitter, grounded, metal, plate, lengthening, antenna, order, bring, transmission, whole, house, yard, capability, build, way, get-go, state, limitation, transmitter, forthrightly, kept, transmitter, wanted, one, car, 's, physically, well, built, work, fine, also, use, play, ipod, radio, ..., understand, radio, sitting, right, next, transmitter, want, transmit, throughout, house, yard, look, elsewhere]   \n",
       "475                                                                                                                                                                                                                                                                                                                                                                                                                                                                                                                                                                                           [carrying, case, made, either, fake, leather, kind, neoprene, material, one, really, different, rigid, structure, also, seem, great, job, protect, camera, also, belt, loop, d-ring, feature, great]   \n",
       "\n",
       "      rating  \n",
       "76         1  \n",
       "3273       0  \n",
       "2460       0  \n",
       "3935       0  \n",
       "475        1  "
      ]
     },
     "execution_count": 33,
     "metadata": {},
     "output_type": "execute_result"
    }
   ],
   "source": [
    "df_test[['cleaned', 'rating']].head()"
   ]
  },
  {
   "cell_type": "code",
   "execution_count": 34,
   "metadata": {},
   "outputs": [
    {
     "data": {
      "text/plain": [
       "(200, 3)"
      ]
     },
     "execution_count": 34,
     "metadata": {},
     "output_type": "execute_result"
    }
   ],
   "source": [
    "df_test.shape"
   ]
  },
  {
   "cell_type": "markdown",
   "metadata": {},
   "source": [
    "Створення словника на основі трансформацій:"
   ]
  },
  {
   "cell_type": "code",
   "execution_count": 35,
   "metadata": {},
   "outputs": [],
   "source": [
    "def flat_nested(nested):\n",
    "    flatten = []\n",
    "    for item in nested:\n",
    "        if isinstance(item, list):\n",
    "            flatten.extend(item)\n",
    "        else:\n",
    "            flatten.append(item)\n",
    "    return flatten"
   ]
  },
  {
   "cell_type": "markdown",
   "metadata": {},
   "source": [
    "Чому словник на основі тренувальної вибірки? Бо наперед ми не знаємо що ж то за відгуки ще будуть з \"розподілу\" відгуків про електроніку."
   ]
  },
  {
   "cell_type": "code",
   "execution_count": 36,
   "metadata": {},
   "outputs": [],
   "source": [
    "vocab = set(flat_nested(df_train['cleaned'].tolist()))"
   ]
  },
  {
   "cell_type": "code",
   "execution_count": 37,
   "metadata": {},
   "outputs": [
    {
     "data": {
      "text/plain": [
       "15958"
      ]
     },
     "execution_count": 37,
     "metadata": {},
     "output_type": "execute_result"
    }
   ],
   "source": [
    "len(vocab)"
   ]
  },
  {
   "cell_type": "markdown",
   "metadata": {},
   "source": [
    "А шо в тому словнику то коїться? Давайте подивимося на найбільш розповсюджені вирази."
   ]
  },
  {
   "cell_type": "code",
   "execution_count": 38,
   "metadata": {},
   "outputs": [],
   "source": [
    "from collections import Counter, defaultdict \n",
    "\n",
    "cnt_vocab = Counter(flat_nested(df_train['cleaned'].tolist()))"
   ]
  },
  {
   "cell_type": "code",
   "execution_count": 39,
   "metadata": {},
   "outputs": [
    {
     "data": {
      "text/plain": [
       "[('camera', 3668),\n",
       " ('wa', 3022),\n",
       " (\"n't\", 2654),\n",
       " (\"'s\", 2128),\n",
       " ('one', 1877),\n",
       " ('use', 1469),\n",
       " ('would', 1459),\n",
       " ('picture', 1412),\n",
       " ('lens', 1329),\n",
       " ('good', 1325),\n",
       " ('get', 1250),\n",
       " ('great', 1250),\n",
       " ('ha', 1207),\n",
       " ('work', 1194),\n",
       " ('time', 1182),\n",
       " (\"''\", 1121),\n",
       " ('battery', 1087),\n",
       " ('like', 1040),\n",
       " ('product', 1016),\n",
       " ('quality', 1012)]"
      ]
     },
     "execution_count": 39,
     "metadata": {},
     "output_type": "execute_result"
    }
   ],
   "source": [
    "cnt_vocab.most_common(20)"
   ]
  },
  {
   "cell_type": "markdown",
   "metadata": {},
   "source": [
    "Загалом трапляються на очі нормальні слова, але видно що в словнику є частки до займенників, лапки від назв та інше, які не були оброблені текстовим процесором."
   ]
  },
  {
   "cell_type": "code",
   "execution_count": 40,
   "metadata": {},
   "outputs": [
    {
     "data": {
      "text/plain": [
       "[('weakly', 1),\n",
       " ('selectivity', 1),\n",
       " ('broadcaster', 1),\n",
       " ('enormously', 1),\n",
       " ('defying', 1),\n",
       " ('consigned', 1),\n",
       " ('province', 1),\n",
       " ('ascertaining', 1),\n",
       " ('dalai', 1),\n",
       " ('lama', 1),\n",
       " ('5,000', 1),\n",
       " ('150,000', 1),\n",
       " ('conventiona', 1),\n",
       " ('australian', 1),\n",
       " ('havana', 1),\n",
       " ('serbia', 1),\n",
       " ('croatia', 1),\n",
       " ('netherlands', 1),\n",
       " ('israel', 1),\n",
       " ('seaboard', 1),\n",
       " ('easy-to-read', 1),\n",
       " ('knowlege', 1),\n",
       " ('equipped', 1),\n",
       " ('investigator', 1),\n",
       " ('ir-sensitive', 1),\n",
       " ('cheeseygreen', 1),\n",
       " ('time/date', 1),\n",
       " ('xfer', 1),\n",
       " ('sleepmode', 1),\n",
       " ('alloy', 1),\n",
       " ('close-proximity', 1),\n",
       " ('print/siloutte', 1),\n",
       " ('97.00', 1),\n",
       " ('impacted', 1),\n",
       " ('100.00/yr', 1),\n",
       " ('maintaining', 1),\n",
       " ('hallmark', 1),\n",
       " ('6db', 1),\n",
       " ('2db', 1),\n",
       " ('cd543rm', 1),\n",
       " ('543', 1),\n",
       " ('543.', 1),\n",
       " ('clicky', 1),\n",
       " ('ihome', 1),\n",
       " ('caselogic', 1),\n",
       " ('discontinuing', 1),\n",
       " ('lowdown', 1),\n",
       " ('16x20', 1),\n",
       " ('chorus', 1)]"
      ]
     },
     "execution_count": 40,
     "metadata": {},
     "output_type": "execute_result"
    }
   ],
   "source": [
    "cnt_vocab.most_common()[-50:-1]"
   ]
  },
  {
   "cell_type": "markdown",
   "metadata": {},
   "source": [
    "Серед найменш застосовних слів використовуються наче нормальні слова, більша частка яких може бути синонімами більш розповсюджених слів. Поки побудуємо словник без слів-часток та подібного."
   ]
  },
  {
   "cell_type": "code",
   "execution_count": 41,
   "metadata": {},
   "outputs": [],
   "source": [
    "threshold_count = 1\n",
    "threshold_len = 2\n",
    "cleaned_vocab = list()\n",
    "for token, count in cnt_vocab.items():\n",
    "    if count > threshold_count and len(token) > threshold_len:\n",
    "        cond_digit = not any(c.isdigit() for c in token)\n",
    "        cond_punct = token[0] not in punctuation\n",
    "        \n",
    "        if cond_digit and cond_punct:\n",
    "            cleaned_vocab.append(token)"
   ]
  },
  {
   "cell_type": "code",
   "execution_count": 42,
   "metadata": {},
   "outputs": [
    {
     "data": {
      "text/plain": [
       "7042"
      ]
     },
     "execution_count": 42,
     "metadata": {},
     "output_type": "execute_result"
    }
   ],
   "source": [
    "len(cleaned_vocab)"
   ]
  },
  {
   "cell_type": "code",
   "execution_count": 43,
   "metadata": {},
   "outputs": [
    {
     "name": "stderr",
     "output_type": "stream",
     "text": [
      "/tmp/ipykernel_3747/3297121535.py:7: SettingWithCopyWarning: \n",
      "A value is trying to be set on a copy of a slice from a DataFrame.\n",
      "Try using .loc[row_indexer,col_indexer] = value instead\n",
      "\n",
      "See the caveats in the documentation: https://pandas.pydata.org/pandas-docs/stable/user_guide/indexing.html#returning-a-view-versus-a-copy\n",
      "  df_test['filtered'] = df_test['cleaned'].apply(lambda u: sequence_cleaner(u, cleaned_vocab))\n"
     ]
    }
   ],
   "source": [
    "# Фільтрування на основі нового словника\n",
    "def sequence_cleaner(s, voc):\n",
    "    res = [sj for sj in s if sj in voc]\n",
    "    return res\n",
    "\n",
    "df_train['filtered'] = df_train['cleaned'].apply(lambda u: sequence_cleaner(u, cleaned_vocab))\n",
    "df_test['filtered'] = df_test['cleaned'].apply(lambda u: sequence_cleaner(u, cleaned_vocab))"
   ]
  },
  {
   "cell_type": "code",
   "execution_count": 44,
   "metadata": {},
   "outputs": [
    {
     "data": {
      "text/html": [
       "<div>\n",
       "<style scoped>\n",
       "    .dataframe tbody tr th:only-of-type {\n",
       "        vertical-align: middle;\n",
       "    }\n",
       "\n",
       "    .dataframe tbody tr th {\n",
       "        vertical-align: top;\n",
       "    }\n",
       "\n",
       "    .dataframe thead th {\n",
       "        text-align: right;\n",
       "    }\n",
       "</style>\n",
       "<table border=\"1\" class=\"dataframe\">\n",
       "  <thead>\n",
       "    <tr style=\"text-align: right;\">\n",
       "      <th></th>\n",
       "      <th>cleaned</th>\n",
       "      <th>filtered</th>\n",
       "      <th>rating</th>\n",
       "    </tr>\n",
       "  </thead>\n",
       "  <tbody>\n",
       "    <tr>\n",
       "      <th>3720</th>\n",
       "      <td>[software, terrible, slow, glitchy, start, close, multiple, time, get, find, player, operator, manual, 100, page, fun, learning, intricacy, control, granted, hardware, cute, variety, function, impressive, --, assuming, sufficient, spare, time, study, manual]</td>\n",
       "      <td>[software, terrible, slow, glitchy, start, close, multiple, time, get, find, player, operator, manual, page, fun, learning, control, granted, hardware, cute, variety, function, impressive, assuming, sufficient, spare, time, study, manual]</td>\n",
       "      <td>0</td>\n",
       "    </tr>\n",
       "    <tr>\n",
       "      <th>3310</th>\n",
       "      <td>[1gb, titanium, sandisk, cruzer, work, fail, tried, several, time, contact, sandisk, including, selling, vendor, absolutely, response, wife, 's, cruzer, failed, well, power, light, come, recognized, xp, light, go, system, ca, n't, id, device, 's, useless, doe, thing, xp, system, house, 've, tried, front, side, usb, connection, rear, connection, hub, connection, dice, 'll, never, buy, another, sandisk, cruzer, wa, going, order, another, 100, office, loss]</td>\n",
       "      <td>[titanium, sandisk, cruzer, work, fail, tried, several, time, contact, sandisk, including, selling, vendor, absolutely, response, wife, cruzer, failed, well, power, light, come, recognized, light, system, n't, device, useless, doe, thing, system, house, tried, front, side, usb, connection, rear, connection, hub, connection, dice, never, buy, another, sandisk, cruzer, going, order, another, office, loss]</td>\n",
       "      <td>0</td>\n",
       "    </tr>\n",
       "    <tr>\n",
       "      <th>3219</th>\n",
       "      <td>[ordered, product, june, 21st, told, receive, oct, 28th, would, n't, waste, time, ordering, product, amazon]</td>\n",
       "      <td>[ordered, product, june, told, receive, oct, would, n't, waste, time, ordering, product, amazon]</td>\n",
       "      <td>0</td>\n",
       "    </tr>\n",
       "    <tr>\n",
       "      <th>528</th>\n",
       "      <td>[bought, battery, charger, going, overseas, trip, n't, want, bothered, frequently, changing, aa, battery, seemed, last, day, heavy, use, wa, quite, pleased, performance, rechargeables, lasted, several, day, heavy, use, needing, charged, re-charged, hour, big, bonus, n't, expect, recharger, compatible, european, 240, voltage, n't, use, electric, converter]</td>\n",
       "      <td>[bought, battery, charger, going, overseas, trip, n't, want, bothered, frequently, changing, battery, seemed, last, day, heavy, use, quite, pleased, performance, rechargeables, lasted, several, day, heavy, use, needing, charged, re-charged, hour, big, bonus, n't, expect, recharger, compatible, european, voltage, n't, use, electric, converter]</td>\n",
       "      <td>1</td>\n",
       "    </tr>\n",
       "    <tr>\n",
       "      <th>3809</th>\n",
       "      <td>[terrible, user, interface, must, page, ton, cryptic, menu, set, basic, feature, pull, multiple, paper, must, start, g3, would, think, would, compatible, earlier, non-g3, fax, machine, wrong, ca, n't, fax, 75, community, ha, non, g3, unit, thought, wa, buying, quality, canon, paid, 250, hunk, junk, cheap, brother, hp, 's, work, never, problem, easier, use, much, le, expensive, save, money, save, headache, sorry, canon, product, wa, disaster]</td>\n",
       "      <td>[terrible, user, interface, must, page, ton, menu, set, basic, feature, pull, multiple, paper, must, start, would, think, would, compatible, earlier, fax, machine, wrong, n't, fax, non, unit, thought, buying, quality, canon, paid, hunk, junk, cheap, brother, work, never, problem, easier, use, much, expensive, save, money, save, headache, sorry, canon, product, disaster]</td>\n",
       "      <td>0</td>\n",
       "    </tr>\n",
       "  </tbody>\n",
       "</table>\n",
       "</div>"
      ],
      "text/plain": [
       "                                                                                                                                                                                                                                                                                                                                                                                                                                                                         cleaned  \\\n",
       "3720                                                                                                                                                                                                          [software, terrible, slow, glitchy, start, close, multiple, time, get, find, player, operator, manual, 100, page, fun, learning, intricacy, control, granted, hardware, cute, variety, function, impressive, --, assuming, sufficient, spare, time, study, manual]   \n",
       "3310  [1gb, titanium, sandisk, cruzer, work, fail, tried, several, time, contact, sandisk, including, selling, vendor, absolutely, response, wife, 's, cruzer, failed, well, power, light, come, recognized, xp, light, go, system, ca, n't, id, device, 's, useless, doe, thing, xp, system, house, 've, tried, front, side, usb, connection, rear, connection, hub, connection, dice, 'll, never, buy, another, sandisk, cruzer, wa, going, order, another, 100, office, loss]   \n",
       "3219                                                                                                                                                                                                                                                                                                                                                                [ordered, product, june, 21st, told, receive, oct, 28th, would, n't, waste, time, ordering, product, amazon]   \n",
       "528                                                                                                        [bought, battery, charger, going, overseas, trip, n't, want, bothered, frequently, changing, aa, battery, seemed, last, day, heavy, use, wa, quite, pleased, performance, rechargeables, lasted, several, day, heavy, use, needing, charged, re-charged, hour, big, bonus, n't, expect, recharger, compatible, european, 240, voltage, n't, use, electric, converter]   \n",
       "3809               [terrible, user, interface, must, page, ton, cryptic, menu, set, basic, feature, pull, multiple, paper, must, start, g3, would, think, would, compatible, earlier, non-g3, fax, machine, wrong, ca, n't, fax, 75, community, ha, non, g3, unit, thought, wa, buying, quality, canon, paid, 250, hunk, junk, cheap, brother, hp, 's, work, never, problem, easier, use, much, le, expensive, save, money, save, headache, sorry, canon, product, wa, disaster]   \n",
       "\n",
       "                                                                                                                                                                                                                                                                                                                                                                                                                    filtered  \\\n",
       "3720                                                                                                                                                                          [software, terrible, slow, glitchy, start, close, multiple, time, get, find, player, operator, manual, page, fun, learning, control, granted, hardware, cute, variety, function, impressive, assuming, sufficient, spare, time, study, manual]   \n",
       "3310  [titanium, sandisk, cruzer, work, fail, tried, several, time, contact, sandisk, including, selling, vendor, absolutely, response, wife, cruzer, failed, well, power, light, come, recognized, light, system, n't, device, useless, doe, thing, system, house, tried, front, side, usb, connection, rear, connection, hub, connection, dice, never, buy, another, sandisk, cruzer, going, order, another, office, loss]   \n",
       "3219                                                                                                                                                                                                                                                                                                                        [ordered, product, june, told, receive, oct, would, n't, waste, time, ordering, product, amazon]   \n",
       "528                                                                 [bought, battery, charger, going, overseas, trip, n't, want, bothered, frequently, changing, battery, seemed, last, day, heavy, use, quite, pleased, performance, rechargeables, lasted, several, day, heavy, use, needing, charged, re-charged, hour, big, bonus, n't, expect, recharger, compatible, european, voltage, n't, use, electric, converter]   \n",
       "3809                                    [terrible, user, interface, must, page, ton, menu, set, basic, feature, pull, multiple, paper, must, start, would, think, would, compatible, earlier, fax, machine, wrong, n't, fax, non, unit, thought, buying, quality, canon, paid, hunk, junk, cheap, brother, work, never, problem, easier, use, much, expensive, save, money, save, headache, sorry, canon, product, disaster]   \n",
       "\n",
       "      rating  \n",
       "3720       0  \n",
       "3310       0  \n",
       "3219       0  \n",
       "528        1  \n",
       "3809       0  "
      ]
     },
     "execution_count": 44,
     "metadata": {},
     "output_type": "execute_result"
    }
   ],
   "source": [
    "df_train[['cleaned', 'filtered', 'rating']].head()"
   ]
  },
  {
   "cell_type": "code",
   "execution_count": 45,
   "metadata": {},
   "outputs": [
    {
     "data": {
      "text/html": [
       "<div>\n",
       "<style scoped>\n",
       "    .dataframe tbody tr th:only-of-type {\n",
       "        vertical-align: middle;\n",
       "    }\n",
       "\n",
       "    .dataframe tbody tr th {\n",
       "        vertical-align: top;\n",
       "    }\n",
       "\n",
       "    .dataframe thead th {\n",
       "        text-align: right;\n",
       "    }\n",
       "</style>\n",
       "<table border=\"1\" class=\"dataframe\">\n",
       "  <thead>\n",
       "    <tr style=\"text-align: right;\">\n",
       "      <th></th>\n",
       "      <th>cleaned</th>\n",
       "      <th>filtered</th>\n",
       "      <th>rating</th>\n",
       "    </tr>\n",
       "  </thead>\n",
       "  <tbody>\n",
       "    <tr>\n",
       "      <th>76</th>\n",
       "      <td>[original, equipment, battery, charger, manufactered, canon, performance, charger, excellent, canon, product, price, paid, wa, comparible, non-sale, priced, item, puchased, via, internet, site, item, wa, recieved, original, packaging, 3, day, placing, order, wa, new, reconditioned, new, appearance, extremely, pleased, entire, purchase, process, experienced, information, given, site, ease, ordering, fast, shipping]</td>\n",
       "      <td>[original, equipment, battery, charger, canon, performance, charger, excellent, canon, product, price, paid, priced, item, puchased, via, internet, site, item, recieved, original, packaging, day, placing, order, new, reconditioned, new, appearance, extremely, pleased, entire, purchase, process, experienced, information, given, site, ease, ordering, fast, shipping]</td>\n",
       "      <td>1</td>\n",
       "    </tr>\n",
       "    <tr>\n",
       "      <th>3273</th>\n",
       "      <td>[using, radio, two, month, say, battery, life, poor.a, full, charge, doe, n't, hold, three, hours.perhaps, battery, n't, come, good, condition, n't, use, aaa, yet, ..., 10, mile, range, true, normal, environment, open, sea, desert, perhaps.product, work, fine, battery, la]</td>\n",
       "      <td>[using, radio, two, month, say, battery, life, full, charge, doe, n't, hold, three, battery, n't, come, good, condition, n't, use, aaa, yet, mile, range, true, normal, environment, open, sea, work, fine, battery]</td>\n",
       "      <td>0</td>\n",
       "    </tr>\n",
       "    <tr>\n",
       "      <th>2460</th>\n",
       "      <td>[bought, year, ago, ha, lens, cap, error, appears, like, shutter, never, open, record, video, spoke, jvc, seemed, know, problem, send, update, rating, see, wrong, fix, stand, behind, product, watch, detail, failed, complaint, wa, wa, little, flakey, lighting, otherwise, worked, okay, price]</td>\n",
       "      <td>[bought, year, ago, lens, cap, error, appears, like, shutter, never, open, record, video, spoke, jvc, seemed, know, problem, send, update, rating, see, wrong, fix, stand, behind, product, watch, detail, failed, complaint, little, lighting, otherwise, worked, okay, price]</td>\n",
       "      <td>0</td>\n",
       "    </tr>\n",
       "    <tr>\n",
       "      <th>3935</th>\n",
       "      <td>[bought, c., crane, fm, transmitter, expecting, broadcast, computer, listen, fm, tuner, headset, worked, around, house, yard, broadcast, 5, 6, foot, max, box, performed, power, boosting, ``, fix, '', broadcast, 10-20, foot, 'm, lucky, static, overpowers, signal, wa, disappointing, purchase, directly, c., crane, way, met, expectation, requires, setting, transmitter, grounded, metal, plate, lengthening, antenna, order, bring, transmission, whole, house, yard, capability, build, way, get-go, state, limitation, transmitter, forthrightly, kept, transmitter, wanted, one, car, 's, physically, well, built, work, fine, also, use, play, ipod, radio, ..., understand, radio, sitting, right, next, transmitter, want, transmit, throughout, house, yard, look, elsewhere]</td>\n",
       "      <td>[bought, transmitter, expecting, broadcast, computer, listen, tuner, headset, worked, around, house, yard, broadcast, foot, max, box, performed, power, fix, broadcast, foot, lucky, static, signal, disappointing, purchase, directly, way, met, expectation, requires, setting, transmitter, metal, plate, antenna, order, bring, whole, house, yard, capability, build, way, state, limitation, transmitter, kept, transmitter, wanted, one, car, physically, well, built, work, fine, also, use, play, ipod, radio, understand, radio, sitting, right, next, transmitter, want, transmit, throughout, house, yard, look, elsewhere]</td>\n",
       "      <td>0</td>\n",
       "    </tr>\n",
       "    <tr>\n",
       "      <th>475</th>\n",
       "      <td>[carrying, case, made, either, fake, leather, kind, neoprene, material, one, really, different, rigid, structure, also, seem, great, job, protect, camera, also, belt, loop, d-ring, feature, great]</td>\n",
       "      <td>[carrying, case, made, either, fake, leather, kind, neoprene, material, one, really, different, rigid, also, seem, great, job, protect, camera, also, belt, loop, feature, great]</td>\n",
       "      <td>1</td>\n",
       "    </tr>\n",
       "  </tbody>\n",
       "</table>\n",
       "</div>"
      ],
      "text/plain": [
       "                                                                                                                                                                                                                                                                                                                                                                                                                                                                                                                                                                                                                                                                                                                                                                                           cleaned  \\\n",
       "76                                                                                                                                                                                                                                                                                                                                                               [original, equipment, battery, charger, manufactered, canon, performance, charger, excellent, canon, product, price, paid, wa, comparible, non-sale, priced, item, puchased, via, internet, site, item, wa, recieved, original, packaging, 3, day, placing, order, wa, new, reconditioned, new, appearance, extremely, pleased, entire, purchase, process, experienced, information, given, site, ease, ordering, fast, shipping]   \n",
       "3273                                                                                                                                                                                                                                                                                                                                                                                                                                                                                                             [using, radio, two, month, say, battery, life, poor.a, full, charge, doe, n't, hold, three, hours.perhaps, battery, n't, come, good, condition, n't, use, aaa, yet, ..., 10, mile, range, true, normal, environment, open, sea, desert, perhaps.product, work, fine, battery, la]   \n",
       "2460                                                                                                                                                                                                                                                                                                                                                                                                                                                                                           [bought, year, ago, ha, lens, cap, error, appears, like, shutter, never, open, record, video, spoke, jvc, seemed, know, problem, send, update, rating, see, wrong, fix, stand, behind, product, watch, detail, failed, complaint, wa, wa, little, flakey, lighting, otherwise, worked, okay, price]   \n",
       "3935  [bought, c., crane, fm, transmitter, expecting, broadcast, computer, listen, fm, tuner, headset, worked, around, house, yard, broadcast, 5, 6, foot, max, box, performed, power, boosting, ``, fix, '', broadcast, 10-20, foot, 'm, lucky, static, overpowers, signal, wa, disappointing, purchase, directly, c., crane, way, met, expectation, requires, setting, transmitter, grounded, metal, plate, lengthening, antenna, order, bring, transmission, whole, house, yard, capability, build, way, get-go, state, limitation, transmitter, forthrightly, kept, transmitter, wanted, one, car, 's, physically, well, built, work, fine, also, use, play, ipod, radio, ..., understand, radio, sitting, right, next, transmitter, want, transmit, throughout, house, yard, look, elsewhere]   \n",
       "475                                                                                                                                                                                                                                                                                                                                                                                                                                                                                                                                                                                           [carrying, case, made, either, fake, leather, kind, neoprene, material, one, really, different, rigid, structure, also, seem, great, job, protect, camera, also, belt, loop, d-ring, feature, great]   \n",
       "\n",
       "                                                                                                                                                                                                                                                                                                                                                                                                                                                                                                                                                                                                                                     filtered  \\\n",
       "76                                                                                                                                                                                                                                                             [original, equipment, battery, charger, canon, performance, charger, excellent, canon, product, price, paid, priced, item, puchased, via, internet, site, item, recieved, original, packaging, day, placing, order, new, reconditioned, new, appearance, extremely, pleased, entire, purchase, process, experienced, information, given, site, ease, ordering, fast, shipping]   \n",
       "3273                                                                                                                                                                                                                                                                                                                                                                                                                     [using, radio, two, month, say, battery, life, full, charge, doe, n't, hold, three, battery, n't, come, good, condition, n't, use, aaa, yet, mile, range, true, normal, environment, open, sea, work, fine, battery]   \n",
       "2460                                                                                                                                                                                                                                                                                                                                                          [bought, year, ago, lens, cap, error, appears, like, shutter, never, open, record, video, spoke, jvc, seemed, know, problem, send, update, rating, see, wrong, fix, stand, behind, product, watch, detail, failed, complaint, little, lighting, otherwise, worked, okay, price]   \n",
       "3935  [bought, transmitter, expecting, broadcast, computer, listen, tuner, headset, worked, around, house, yard, broadcast, foot, max, box, performed, power, fix, broadcast, foot, lucky, static, signal, disappointing, purchase, directly, way, met, expectation, requires, setting, transmitter, metal, plate, antenna, order, bring, whole, house, yard, capability, build, way, state, limitation, transmitter, kept, transmitter, wanted, one, car, physically, well, built, work, fine, also, use, play, ipod, radio, understand, radio, sitting, right, next, transmitter, want, transmit, throughout, house, yard, look, elsewhere]   \n",
       "475                                                                                                                                                                                                                                                                                                                                                                                                                                                         [carrying, case, made, either, fake, leather, kind, neoprene, material, one, really, different, rigid, also, seem, great, job, protect, camera, also, belt, loop, feature, great]   \n",
       "\n",
       "      rating  \n",
       "76         1  \n",
       "3273       0  \n",
       "2460       0  \n",
       "3935       0  \n",
       "475        1  "
      ]
     },
     "execution_count": 45,
     "metadata": {},
     "output_type": "execute_result"
    }
   ],
   "source": [
    "df_test[['cleaned', 'filtered', 'rating']].head()"
   ]
  },
  {
   "cell_type": "markdown",
   "metadata": {},
   "source": [
    "Як то кажуть, ''much better''. Хоча наврядчи вибування деяких часток типу was, does, ... було розумною ідеєю. Маю на увазі, що запропонований підхід до перетворення речення на токени є дещо грубим, бо ріже зв'язки, які частково базуються на тих самих частках."
   ]
  },
  {
   "cell_type": "markdown",
   "metadata": {},
   "source": [
    "Тепер будую рекурентну нейронну мережу з власним шаром вкладення слів."
   ]
  },
  {
   "cell_type": "code",
   "execution_count": 46,
   "metadata": {},
   "outputs": [
    {
     "data": {
      "text/plain": [
       "<torch._C.Generator at 0x7f1de14de890>"
      ]
     },
     "execution_count": 46,
     "metadata": {},
     "output_type": "execute_result"
    }
   ],
   "source": [
    "import torch\n",
    "import torch.nn as nn\n",
    "import torch.nn.functional as F\n",
    "import torch.optim as optim\n",
    "\n",
    "# Для відтворення результатів\n",
    "torch.manual_seed(12345)"
   ]
  },
  {
   "cell_type": "code",
   "execution_count": 47,
   "metadata": {},
   "outputs": [
    {
     "data": {
      "text/plain": [
       "device(type='cuda')"
      ]
     },
     "execution_count": 47,
     "metadata": {},
     "output_type": "execute_result"
    }
   ],
   "source": [
    "device = torch.device('cuda' if torch.cuda.is_available() else 'cpu')\n",
    "device"
   ]
  },
  {
   "cell_type": "code",
   "execution_count": 48,
   "metadata": {},
   "outputs": [],
   "source": [
    "# Аби не плутатися в позначеннях\n",
    "VOCAB = cleaned_vocab.copy()\n",
    "VOCAB.append(' ')\n",
    "\n",
    "WORD_TO_IDX = {WORD: IDX for IDX, WORD in enumerate(VOCAB)}\n",
    "\n",
    "def vectorize(s, word_map):\n",
    "    sequence_lengths = list(map(len, s))\n",
    "    max_length = max(sequence_lengths)\n",
    "    \n",
    "    s_idx = np.zeros([len(s), max_length]) + word_map.get('', 0)\n",
    "\n",
    "    for j in range(len(s)):\n",
    "        line_idx = [word_map[w] for w in s[j] if w in word_map]\n",
    "        s_idx[j, :len(line_idx)] = line_idx\n",
    "\n",
    "    return s_idx, sequence_lengths"
   ]
  },
  {
   "cell_type": "code",
   "execution_count": 49,
   "metadata": {},
   "outputs": [],
   "source": [
    "class BaseRNN(nn.Module):\n",
    "    \n",
    "    def __init__(self, vocab_size, embedding_size, hidden_size):\n",
    "        super(self.__class__, self).__init__()\n",
    "        # Тренуємо власний шар вкладення слів\n",
    "        self.embedding = nn.Embedding(vocab_size, embedding_size)\n",
    "        # Інші компоненти RNN\n",
    "        self.rnn = nn.RNN(embedding_size, hidden_size, batch_first=True)\n",
    "        self.linear = nn.Linear(hidden_size, 1)      \n",
    "        self.sigmoid = nn.Sigmoid()\n",
    "        \n",
    "    def forward(self, x, sequences_lengths):\n",
    "        # Вкладаємо текст (-ову послідовність) \n",
    "        embedding = self.embedding(x)\n",
    "        pack = torch.nn.utils.rnn.pack_padded_sequence(\n",
    "            embedding, sequences_lengths, \n",
    "            batch_first=True, enforce_sorted=False\n",
    "        )\n",
    "        # Долучаємо рекурентну компоненту\n",
    "        all_hidden_states, hidden = self.rnn(pack)\n",
    "        # Витягуємо з RNN-компоненти дані у класичний шар мережі\n",
    "        from_linear = self.linear(hidden)\n",
    "        # Прогнозуємо тональність текстів\n",
    "        output = self.sigmoid(from_linear)\n",
    "        return output"
   ]
  },
  {
   "cell_type": "code",
   "execution_count": 50,
   "metadata": {},
   "outputs": [
    {
     "data": {
      "text/plain": [
       "BaseRNN(\n",
       "  (embedding): Embedding(7043, 500)\n",
       "  (rnn): RNN(500, 200, batch_first=True)\n",
       "  (linear): Linear(in_features=200, out_features=1, bias=True)\n",
       "  (sigmoid): Sigmoid()\n",
       ")"
      ]
     },
     "execution_count": 50,
     "metadata": {},
     "output_type": "execute_result"
    }
   ],
   "source": [
    "# Ініціалізація моделі\n",
    "model = BaseRNN(\n",
    "    vocab_size=len(VOCAB), embedding_size=500, hidden_size=200\n",
    ")\n",
    "model.to(device)"
   ]
  },
  {
   "cell_type": "code",
   "execution_count": 51,
   "metadata": {},
   "outputs": [],
   "source": [
    "epoch_loss_values = []\n",
    "step_loss_values = []"
   ]
  },
  {
   "cell_type": "code",
   "execution_count": 52,
   "metadata": {},
   "outputs": [],
   "source": [
    "# Функція вартості -- \"бінарна ентропія\" \n",
    "loss_function = nn.BCELoss()\n",
    "# Використаємо ADAM в якості оптимізатора\n",
    "optimizer = torch.optim.Adam(model.parameters(), lr=0.005)"
   ]
  },
  {
   "cell_type": "code",
   "execution_count": 53,
   "metadata": {
    "scrolled": true
   },
   "outputs": [
    {
     "name": "stdout",
     "output_type": "stream",
     "text": [
      "Кількість ітерацій за одну епоху: 76\n",
      "Епоха  1: сумарні втрати: 0.6137966846949177\n",
      "Епоха  2: сумарні втрати: 0.4399265233231217\n",
      "Епоха  3: сумарні втрати: 0.28222264927860935\n",
      "Епоха  4: сумарні втрати: 0.17020917419148116\n",
      "Епоха  5: сумарні втрати: 0.0940285447837883\n",
      "Епоха  6: сумарні втрати: 0.0882777004674273\n",
      "Епоха  7: сумарні втрати: 0.09895339843473937\n",
      "Епоха  8: сумарні втрати: 0.048322547429339266\n",
      "Епоха  9: сумарні втрати: 0.026284195225391733\n",
      "Епоха 10: сумарні втрати: 0.015118752863552227\n",
      "Епоха 11: сумарні втрати: 0.025661350404047163\n",
      "Епоха 12: сумарні втрати: 0.01319908095970995\n",
      "Епоха 13: сумарні втрати: 0.0046874285395269435\n",
      "Епоха 14: сумарні втрати: 0.0020829193212863945\n",
      "Епоха 15: сумарні втрати: 0.0015524970918991848\n",
      "Епоха 16: сумарні втрати: 0.0013848867303367068\n",
      "Епоха 17: сумарні втрати: 0.0012354692599298065\n",
      "Епоха 18: сумарні втрати: 0.0011649362237030319\n",
      "Епоха 19: сумарні втрати: 0.0010869406438647087\n",
      "Епоха 20: сумарні втрати: 0.001045372933348469\n"
     ]
    }
   ],
   "source": [
    "batch_size = 50 # => 3800 / 50 = 76 міні-пакетів\n",
    "n_epochs = 20\n",
    "n_train = df_train.shape[0]\n",
    "n_iters = n_train // batch_size\n",
    "print(\"Кількість ітерацій за одну епоху: {}\".format(n_iters))\n",
    "\n",
    "n_tab = str(len(str(n_epochs)))\n",
    "\n",
    "# Аби не ускладнювати код, припустимо, що n_train ділиться на n_iters * batch_size\n",
    "\n",
    "for epoch in range(n_epochs):\n",
    "    epoch_loss = 0 \n",
    "    \n",
    "    df_train_c = df_train.copy().sample(n_train).reset_index(drop=True)\n",
    "    \n",
    "    for step in range(n_iters):\n",
    "\n",
    "        optimizer.zero_grad()\n",
    "        # Випадковий міні-пакет\n",
    "        #current_batch = df_train.sample(batch_size)\n",
    "        # Детермінований міні-пакет\n",
    "        idx = np.arange(0, batch_size, 1) + batch_size * step\n",
    "        current_batch = df_train_c.iloc[idx]\n",
    "\n",
    "        # Векторизація поточного міні-пакета\n",
    "        batch_idx, seq_lengths = vectorize(current_batch['filtered'].tolist(), WORD_TO_IDX)\n",
    "        seq_lengths = np.array(seq_lengths)\n",
    "        # Перетворення векторизованого міні-пакета у тензор\n",
    "        batch_idx = torch.tensor(batch_idx, dtype=torch.int64).to(device)\n",
    "\n",
    "        # Обираємо справжні рейтинги та переводимо у тензор\n",
    "        y_true = current_batch['rating'].tolist() \n",
    "        y_true = torch.tensor(y_true, dtype=torch.float).to(device)\n",
    "\n",
    "        # Прогнозування\n",
    "        y_pred = model(batch_idx, seq_lengths)\n",
    "\n",
    "        loss = loss_function(y_pred.squeeze(), y_true)\n",
    "        \n",
    "        step_loss_values.append(loss)\n",
    "\n",
    "        epoch_loss += loss.item() / n_iters\n",
    "        loss.backward()\n",
    "        optimizer.step()\n",
    "    \n",
    "    epoch_loss_values.append(epoch_loss)\n",
    "            \n",
    "    print(('Епоха {:' + n_tab + '}: сумарні втрати: {}').format(epoch+1, epoch_loss))    "
   ]
  },
  {
   "cell_type": "code",
   "execution_count": 54,
   "metadata": {},
   "outputs": [],
   "source": [
    "import matplotlib.pyplot as plt\n",
    "%matplotlib inline"
   ]
  },
  {
   "cell_type": "code",
   "execution_count": 55,
   "metadata": {},
   "outputs": [
    {
     "data": {
      "image/png": "[encoded data removed]",
      "text/plain": [
       "<Figure size 640x480 with 1 Axes>"
      ]
     },
     "metadata": {},
     "output_type": "display_data"
    }
   ],
   "source": [
    "plt.plot(np.arange(1, n_epochs + 1), epoch_loss_values)\n",
    "plt.show()"
   ]
  },
  {
   "cell_type": "code",
   "execution_count": 56,
   "metadata": {},
   "outputs": [
    {
     "data": {
      "image/png": "[encoded data removed]",
      "text/plain": [
       "<Figure size 640x480 with 1 Axes>"
      ]
     },
     "metadata": {},
     "output_type": "display_data"
    }
   ],
   "source": [
    "plt.plot(\n",
    "    np.arange(1, n_iters * n_epochs + 1), \n",
    "    [v.cpu().detach().numpy() for v in step_loss_values]\n",
    ")\n",
    "plt.show()"
   ]
  },
  {
   "cell_type": "code",
   "execution_count": 57,
   "metadata": {},
   "outputs": [],
   "source": [
    "# Декілька функцій для прогнозування на тестових даних\n",
    "\n",
    "def index_marks(nrows, chunk_size):\n",
    "    return range(1 * chunk_size, (nrows // chunk_size + 1) * chunk_size, chunk_size)\n",
    "\n",
    "def split(df, chunk_size):\n",
    "    indices = index_marks(df.shape[0], chunk_size)\n",
    "    s = np.split(df, indices)\n",
    "    if s[-1].empty:\n",
    "        return s[:-1]\n",
    "    return s"
   ]
  },
  {
   "cell_type": "code",
   "execution_count": 58,
   "metadata": {},
   "outputs": [],
   "source": [
    "def make_predictions(model, df_test, batch_size, threshold, prints_b = True): \n",
    "    n_prints = 0\n",
    "    predictions = []\n",
    "    true_labels = []\n",
    "    # Розбиття даних на міні-пакети\n",
    "    test_batches = split(df_test, batch_size)\n",
    "    \n",
    "    for batch in test_batches:\n",
    "        # Векторизація міні-пакетів\n",
    "        batch_ix, seq_lengths = vectorize(batch['filtered'].tolist(), WORD_TO_IDX)\n",
    "        seq_lengths = np.array(seq_lengths)\n",
    "        # Перетворення міні-пакетів у тензор \n",
    "        batch_ix = torch.tensor(batch_ix, dtype=torch.int64).to(device)\n",
    "\n",
    "        # Обираємо справжні рейтинги\n",
    "        y_true = batch['rating'].tolist()\n",
    "\n",
    "        # Прогнозування\n",
    "        y_pred = model(batch_ix, seq_lengths).cpu().detach().squeeze().numpy()\n",
    "        # Переводимо \"ймовірності\" у прогнози рейтингів\n",
    "        y_pred = [int(pred.item() > threshold) for pred in y_pred]\n",
    "        \n",
    "        # Додаємо до векторів справжніх значень та прогнозів відповідно\n",
    "        predictions.extend(y_pred)\n",
    "        true_labels.extend(y_true)\n",
    "        \n",
    "        # Щось час від часу виводимо: як вдалий, так і невдалий прогноз \n",
    "        if prints_b:\n",
    "            for true, pred, document in zip(y_true, y_pred, batch['text']):\n",
    "                if true == 1.0 and n_prints < 10:\n",
    "                    print(\"Прогноз: {}\".format(pred))\n",
    "                    print(\"Істина: {}\".format(true))\n",
    "                    print(\"Відгук: {}\".format(document))\n",
    "                    print(\"\\n\" + \"\\=\\=\"*20 + \"\\n\")\n",
    "                    n_prints += 1\n",
    "        \n",
    "    return true_labels, predictions"
   ]
  },
  {
   "cell_type": "code",
   "execution_count": 59,
   "metadata": {},
   "outputs": [
    {
     "name": "stdout",
     "output_type": "stream",
     "text": [
      "Прогноз: 1\n",
      "Істина: 1\n",
      "Відгук: \n",
      "This is original equipment battery charger manufactered by Canon. The performance of the charger is excellent as are most Canon products. The price paid was comparible to non-sale priced items puchased via internet sites. The item was recieved in original packaging, 3 days after placing the order, was new (not reconditioned with a new appearance). I am extremely pleased with the entire purchase process experienced, from the information given at the site to ease of ordering and fast shipping\n",
      "\n",
      "\n",
      "\\=\\=\\=\\=\\=\\=\\=\\=\\=\\=\\=\\=\\=\\=\\=\\=\\=\\=\\=\\=\\=\\=\\=\\=\\=\\=\\=\\=\\=\\=\\=\\=\\=\\=\\=\\=\\=\\=\\=\\=\n",
      "\n",
      "Прогноз: 1\n",
      "Істина: 1\n",
      "Відгук: \n",
      "With most of the carrying case made of either fake leather or some kind of neoprene material, this one is really different.  The rigid structure also seem to do a great job to protect the camera.  There is also a belt loop and D-ring feature which is great.\n",
      "\n",
      "\n",
      "\n",
      "\\=\\=\\=\\=\\=\\=\\=\\=\\=\\=\\=\\=\\=\\=\\=\\=\\=\\=\\=\\=\\=\\=\\=\\=\\=\\=\\=\\=\\=\\=\\=\\=\\=\\=\\=\\=\\=\\=\\=\\=\n",
      "\n",
      "Прогноз: 0\n",
      "Істина: 1\n",
      "Відгук: \n",
      "This mouse has never let me down. Really works on most of the surfaces\n",
      "\n",
      "\n",
      "\\=\\=\\=\\=\\=\\=\\=\\=\\=\\=\\=\\=\\=\\=\\=\\=\\=\\=\\=\\=\\=\\=\\=\\=\\=\\=\\=\\=\\=\\=\\=\\=\\=\\=\\=\\=\\=\\=\\=\\=\n",
      "\n",
      "Прогноз: 1\n",
      "Істина: 1\n",
      "Відгук: \n",
      "I wanted to buy a compact slim d-camera. Those with larger zoom are quite bulky, you can't carry around all the time. I think a slim camera is a better choice. I slip into my pocket while wondering around and come across something nice and take a picture of it. You can't do it with a huge camera. \n",
      "After I made up mind about a slim camera, my choices were either Casio Exilim or Sony DSCW series. Casio Exilims are very sexy. They have a lot of mode scenes. They also function as voice recorder. You can take pictures of book pages etc. They have anti-shake capability which is said to reduce blurred images. I was almost buying a Casio Exilim. Being a diligent person I wanted to search more and more. \n",
      "I found out that the so-called anti-shake feature is a bogus. Many people found it useless. That was a good reason to choose Casio. Then I found the picture quality of Exilim is not really good.I found some pictures taken with Exilim. They were soft, not crisp colors. Search the web reviews made by photo professionals. Casio Exilim is rated significantly less than Sony in picture quality. With ISO 200 noise was still detectable in most reviews . Those same reviewers however found Sony DSCW doing a better job . There was no noise with ISO 400 which means even in lower light condition Sony did a better job (less granularity in pictures with low light). Big difference!.\n",
      "One feature of Sony that made it very attractive was its strong macro. It is 0.74 inch which means you can bring your camera 0.74 inch (2 mm) close to an object (say a bug) and still take a brilliant picture of it. \n",
      "Now comparison of Exilim and Sony to summarize:\n",
      "Casio Exilim\n",
      "Anti-shake (it's a bogus)\n",
      "Slim   \n",
      "Lower macro (2.5 inches)\n",
      "Lower picture quality (detectable noise at ISO 200)\n",
      "A lot of scene modes\n",
      "Quick shutter\n",
      "Sony DSCW Series\n",
      "Slim (in fact it is slimmer)\n",
      "Higher macro (0.74 inches)\n",
      "Higher picture quality (No noise in ISO 400)\n",
      "Not a lot of scene modes\n",
      "Quick shutter\n",
      "So.....I purchased a Sony DSCW 7 Mp. I took lots of pictures.\n",
      "They are all brilliant, detailed and crisp, true colors.\n",
      "I tried macro and took pictures of bugs. You can see the hairs on the legs of bugs. Absolutely no noise whatsoever, no blurry.\n",
      "It's a marvel of technology. I took pictures of fireworks in July 4th using high ISO setting. They came out brialliantly like professional pictures.\n",
      "It also uses a different kind of battery that you can't buy at your grocery which can leave you vulnerable. So you may wanna buy a spare one (about 40 bucks). But you can always recharge it. And it lasts much much longer than AAA or Nimh batteries. \n",
      "It was a perfect choice. I highly recommend it.\n",
      "\n",
      "\n",
      "\\=\\=\\=\\=\\=\\=\\=\\=\\=\\=\\=\\=\\=\\=\\=\\=\\=\\=\\=\\=\\=\\=\\=\\=\\=\\=\\=\\=\\=\\=\\=\\=\\=\\=\\=\\=\\=\\=\\=\\=\n",
      "\n",
      "Прогноз: 1\n",
      "Істина: 1\n",
      "Відгук: \n",
      "Excellent product - very ergonomic, easy to set up and use! Wireless works great.\n",
      "I would recommend this product\n",
      "\n",
      "\n",
      "\\=\\=\\=\\=\\=\\=\\=\\=\\=\\=\\=\\=\\=\\=\\=\\=\\=\\=\\=\\=\\=\\=\\=\\=\\=\\=\\=\\=\\=\\=\\=\\=\\=\\=\\=\\=\\=\\=\\=\\=\n",
      "\n",
      "Прогноз: 1\n",
      "Істина: 1\n",
      "Відгук: \n",
      "I'm not a serious piano player, just casual.  Don't have room for a piano, so this serves my purposes.  I just want to entertain myself.  If I were a professional who played in public, not sure if this would be the ultimate keyboard, because it doesn't have a fullsize keyboard.  But for practicing and casual playing it's great!  It has more features than I will ever use\n",
      "\n",
      "\n",
      "\\=\\=\\=\\=\\=\\=\\=\\=\\=\\=\\=\\=\\=\\=\\=\\=\\=\\=\\=\\=\\=\\=\\=\\=\\=\\=\\=\\=\\=\\=\\=\\=\\=\\=\\=\\=\\=\\=\\=\\=\n",
      "\n",
      "Прогноз: 1\n",
      "Істина: 1\n",
      "Відгук: \n",
      "This cable came in a cheap packing and it does not have any logo on it so you can't say which company it belongs to. I have used a lot of sony products and I feel it is not up to the standard of sony. \n",
      "It works great had no problems so far. It is flexible kinds so you don't have to worry about positioning your laptop according to your TV.\n",
      "\n",
      "\n",
      "\\=\\=\\=\\=\\=\\=\\=\\=\\=\\=\\=\\=\\=\\=\\=\\=\\=\\=\\=\\=\\=\\=\\=\\=\\=\\=\\=\\=\\=\\=\\=\\=\\=\\=\\=\\=\\=\\=\\=\\=\n",
      "\n",
      "Прогноз: 0\n",
      "Істина: 1\n",
      "Відгук: \n",
      "These fit over everything very well, and they stayed put without stretching out, which is why my original pads fell off.  I guess it's one of those products that you can't do much better than $10 for, but maybe they could give you double the number of pads or something..\n",
      "\n",
      "\n",
      "\\=\\=\\=\\=\\=\\=\\=\\=\\=\\=\\=\\=\\=\\=\\=\\=\\=\\=\\=\\=\\=\\=\\=\\=\\=\\=\\=\\=\\=\\=\\=\\=\\=\\=\\=\\=\\=\\=\\=\\=\n",
      "\n",
      "Прогноз: 1\n",
      "Істина: 1\n",
      "Відгук: \n",
      "I have been putting this television through its paces since I got it a few weeks ago, and it is by far the best TV I have ever owned, and very difficult to beat.  The image quality is really good, with bright, vivid colors and wonderful detail, especially for 1080i/p content, but even lower-resolution 720p content, which is what's more commonly-available on OTA HD broadcast, looks phenomenal.  I also have an Apple TV hooked up to it, and even though most of my content is encoded at either 360p, 480p, or 720p, it still looks quite good.\n",
      "\n",
      "It does take some time to get the image tuned to perfection, and the default settings are way too bright with too much color saturation boost, and the DNIe processing system actually seems to make some motion effects worse.  However, it's very easy to change the settings and see immediately what effect they have.\n",
      "\n",
      "Like all LCDs it does have some slight black point problems; these aren't noticeable for fullscreen 16:9 content, but for older 4:3 content it's pretty obvious that the black isn't pure black.  However, this is again tunable.\n",
      "\n",
      "The only thing I really notice which is pretty annoying is that it doesn't do a very good job of upscaling 480i content, such as the output from most video game systems, and for DVDs to look good you really need an upconverting player since even with a progressive-scan player there is a lot of visible pixelation when the 480p content is scaled up.  It's really more a sad reflection on how the previous \"next-generation\" video looks downright primitive by today's standards.\n",
      "\n",
      "The other noticeable issue is that unlike many televisions with digital tuners, it doesn't have an on-screen program guide.  My previous TV (also a Samsung) had an on-screen program guide, but it was rather cumbersome to use and took several minutes of scanning every channel to see what was on, and most local channels are pretty inconsistent about providing the EPG information anyway, so it's not really that big of a deal.  You can still see the detailed information for the program that's currently showing, so it makes use of EPG, just not as much as it could.\n",
      "\n",
      "This television's tuner is also quite phenomenal.  My previous TV required a very carefully-positioned powered antenna which was very sensitive to every little nearby fluctuation, while with this one I only have a piece of wire jammed into the antenna port and I get perfect reception of every local digital station.\n",
      "\n",
      "Another nice improvement over Samsung's older HDTVs is that it has a wide variety of zoom modes which allow you to counteract some of the stupider things that TV stations do (for example, pillboxing a letterboxed 16:9 show, which is very common for widescreen non-HD programming).  Also, analog TV stations and source inputs get their audio signals upconverted to digital, so you only need to run a single optical audio connection to your stereo (while previous Samsungs required running both analog and digital cables and switching between the two inputs based on source material).\n",
      "\n",
      "As a PC monitor this is also quite nice.  I have a Mac mini hooked up via SVGA cable, and even with an analog signal it looks perfectly sharp and crystal-clear, and of course you can hook it up via HDMI (with a DVI to HDMI adaptor) as well.  The only gripe there is that the supported resolutions are a bit quaint - at least on analog SVGA the only 16:9 resolution it supports is 1920x1080, which can be difficult for some older systems to handle.  However, on HDMI it should support all the standard HD resolutions.\n",
      "\n",
      "This television may be more expensive than others in its size class, but it also far outshines every other TV I have seen, aside from the newer LN-T4065, which is nearly identical aside from providing a higher dynamic contrast ratio.  If you want to only buy one TV which will last for a long time, it would be hard to go wrong with this one\n",
      "\n",
      "\n",
      "\\=\\=\\=\\=\\=\\=\\=\\=\\=\\=\\=\\=\\=\\=\\=\\=\\=\\=\\=\\=\\=\\=\\=\\=\\=\\=\\=\\=\\=\\=\\=\\=\\=\\=\\=\\=\\=\\=\\=\\=\n",
      "\n",
      "Прогноз: 1\n",
      "Істина: 1\n",
      "Відгук: \n",
      "I have to say this mouse pad has far exceeded anything I hoped for. When I first opened the box it was shipped in I was very put off. There was a Very, Very strong chemical smell. I chalked it up to something in the packaging material. It turns out that was not where the smell was coming from. It was the mouse pad itself. Having worked in a shoe factory years ago I was able to identify the smell as an industrial glue. The smell hung around for a couple of days. Now, 1 week after having received my purchase if I put my nose close to the pad, it still carries the faint smell of industrial glue. I would caution those with allergies and/or asthma to consider this prior to purchase. As an asthmatic I can say it did affect my breathing some what. That seems to have gotten better as the smelled has lessened. I have finished with my public health warning. On to the mouse pad. \n",
      "     It is simply the best mouse pad I have ever used. I have had wrist problems for over 4 years now. I have had swelling and pain from my right pinkie finger to my elbow as a result of console gaming and lots of keyboarding work. In the past week my swelling has greatly reduced. My pain is almost gone. My wrist sits perfectly on  the wrist rest. The pad actually cradles my wrist. The wrist rest moves with my hand, so well and with so much support, it seems to be an extension of my body. A new improved appendage. I have found myself resting my wrist on the pad even while not computing but just sitting at my desk. It truly is that comfortable. I already have plans to purchase two more for friends as Christmas gifts. Worth Every Cent! Go For It! You Will Not Be Disappointed! \n",
      "\n",
      "\n",
      "\\=\\=\\=\\=\\=\\=\\=\\=\\=\\=\\=\\=\\=\\=\\=\\=\\=\\=\\=\\=\\=\\=\\=\\=\\=\\=\\=\\=\\=\\=\\=\\=\\=\\=\\=\\=\\=\\=\\=\\=\n",
      "\n"
     ]
    }
   ],
   "source": [
    "true_labels, predictions = make_predictions(model, df_test, batch_size=batch_size, threshold=0.5)"
   ]
  },
  {
   "cell_type": "code",
   "execution_count": 60,
   "metadata": {},
   "outputs": [],
   "source": [
    "from sklearn.metrics import classification_report\n",
    "from sklearn.metrics import accuracy_score"
   ]
  },
  {
   "cell_type": "markdown",
   "metadata": {},
   "source": [
    "Матриця якості класифікації на тестових даних:"
   ]
  },
  {
   "cell_type": "code",
   "execution_count": 61,
   "metadata": {
    "scrolled": true
   },
   "outputs": [
    {
     "name": "stdout",
     "output_type": "stream",
     "text": [
      "              precision    recall  f1-score   support\n",
      "\n",
      "           0       0.74      0.84      0.79       100\n",
      "           1       0.82      0.71      0.76       100\n",
      "\n",
      "    accuracy                           0.78       200\n",
      "   macro avg       0.78      0.77      0.77       200\n",
      "weighted avg       0.78      0.78      0.77       200\n",
      "\n",
      "0.775\n"
     ]
    }
   ],
   "source": [
    "print(classification_report(true_labels, predictions))\n",
    "print(accuracy_score(true_labels, predictions))"
   ]
  },
  {
   "cell_type": "code",
   "execution_count": 62,
   "metadata": {
    "scrolled": true
   },
   "outputs": [
    {
     "name": "stdout",
     "output_type": "stream",
     "text": [
      "Прогноз: 1\n",
      "Істина: 1\n",
      "Відгук: \n",
      "Bought these batteries & charger just before going on an overseas trip.  I didn't want to be bothered with frequently changing AA batteries, which seemed to last only a day or so of heavy use.  I was quite pleased with the performance of these rechargeables.  They lasted several days of heavy use before needing to be charged and they re-charged in only a few hours.  A big bonus that I didn't expect:  the recharger is compatible with European 240 voltage so I didn't have to use an electric converter! \n",
      "\n",
      "\n",
      "\\=\\=\\=\\=\\=\\=\\=\\=\\=\\=\\=\\=\\=\\=\\=\\=\\=\\=\\=\\=\\=\\=\\=\\=\\=\\=\\=\\=\\=\\=\\=\\=\\=\\=\\=\\=\\=\\=\\=\\=\n",
      "\n",
      "Прогноз: 1\n",
      "Істина: 1\n",
      "Відгук: \n",
      "This is our first LCD TV.  Our tube TV finally died.  My wife actually picked out this unit and Consumer Reports also recommended this unit.  We purchased it directly from AMAZON on January 23, 2007.  I wanted to wait a couple of months before I write my review to see if anything happens. But to my surprise the TV is still running and there have been no problems.  We have digital HD and the pictures are great.  It took me a couple of weeks to get use to watching tv with such sharp color and contrast.  However, if you are watching normal digital programming you may not be too happy as it is flat.  But overall its a good buy for us\n",
      "\n",
      "\n",
      "\\=\\=\\=\\=\\=\\=\\=\\=\\=\\=\\=\\=\\=\\=\\=\\=\\=\\=\\=\\=\\=\\=\\=\\=\\=\\=\\=\\=\\=\\=\\=\\=\\=\\=\\=\\=\\=\\=\\=\\=\n",
      "\n",
      "Прогноз: 1\n",
      "Істина: 1\n",
      "Відгук: \n",
      "I only have a couple of problems with this remote. You have to keep pressing the buttons for dvd, vcr, audio, sat, etc. to change the setting. That sounds like I'm complaining a lot, and I am. (sue me. ha ha) The other is this. I bought this as a replacement for a remote that quit working. I can't teach it the functions that I need through the \"learn\" command since the orginal remote quit. Which kind of defeats the purpose of having a new remote. I have one of those all in in one home theater units and the remote wouldn't allow me to set the VCR clock and local channels after a power outage. \n",
      "Other than that, I have no problem with it\n",
      "\n",
      "\n",
      "\\=\\=\\=\\=\\=\\=\\=\\=\\=\\=\\=\\=\\=\\=\\=\\=\\=\\=\\=\\=\\=\\=\\=\\=\\=\\=\\=\\=\\=\\=\\=\\=\\=\\=\\=\\=\\=\\=\\=\\=\n",
      "\n",
      "Прогноз: 1\n",
      "Істина: 1\n",
      "Відгук: \n",
      "I purchased the Adorama Slinger Bag after first purchasing the Tamrac Velocity 5.  The Tamrac bag is a nice bag and can be worn as either a shoulder bag or a waist bag. Unfotunately, it lacked sufficient support when worn as waist bag and did not have an attached pouch to carry a water bottle.  The Slinger Bag addressed both of these deficiencies.  When worn as a waist bag, it also uses the shoulder strap to keep the bag firmly in place which also helps to balance the weight of the bag.  There are two water pouches on the Slinger Bag (which is a real requirement as I live in Arizona).\n",
      "\n",
      "The Adorama Slinger Bag is a great travel bag. It is light weight and has great utility.  I highly recommend it.\n",
      "\n",
      "\n",
      "\\=\\=\\=\\=\\=\\=\\=\\=\\=\\=\\=\\=\\=\\=\\=\\=\\=\\=\\=\\=\\=\\=\\=\\=\\=\\=\\=\\=\\=\\=\\=\\=\\=\\=\\=\\=\\=\\=\\=\\=\n",
      "\n",
      "Прогноз: 1\n",
      "Істина: 1\n",
      "Відгук: \n",
      "Great headphones for running! They fit my ears perfectly and I don't have to worry about foam anymore.\n",
      "\n",
      "\n",
      "\\=\\=\\=\\=\\=\\=\\=\\=\\=\\=\\=\\=\\=\\=\\=\\=\\=\\=\\=\\=\\=\\=\\=\\=\\=\\=\\=\\=\\=\\=\\=\\=\\=\\=\\=\\=\\=\\=\\=\\=\n",
      "\n",
      "Прогноз: 1\n",
      "Істина: 1\n",
      "Відгук: \n",
      "The CF card works fine but it's response is kind of slow compaired to the 32MB CF card came with my Canon Powershot A95. I got this card 3 weeks ago and so far their hasn't been any problems.\n",
      "\n",
      "\n",
      "\\=\\=\\=\\=\\=\\=\\=\\=\\=\\=\\=\\=\\=\\=\\=\\=\\=\\=\\=\\=\\=\\=\\=\\=\\=\\=\\=\\=\\=\\=\\=\\=\\=\\=\\=\\=\\=\\=\\=\\=\n",
      "\n",
      "Прогноз: 1\n",
      "Істина: 1\n",
      "Відгук: \n",
      "What an amazing product for such a small price.  It works right out of the box, but to get full functionality you need to install the encolsed drivers.  The option of mouse or pen makes it useful for everyday PC work as well using the pen for graphics.  I use it mainly for teaching via phone and use the whiteboard in messenger to communicate in words and pictures.  It really makes a difference.\n",
      "The unit seems well made and I like the fact you can personalise the tablet to add a picture of your choice.  I opted for the smallest in the range for value, and was not disappointed, but I am sure for more commerical use or for artwork a much bigger screen would be better, but at cost.\n",
      "The software bundle is ok too if you don't already have photoshop tools.\n",
      "The one quibble is that at home when I installed the drivers it continued to crash my PC with my wireless keyboard installed.  Not ideal, but as I dont use it at home any longer it is not a problem for me, but be careful, I am sure there will be a fix somewher\n",
      "\n",
      "\n",
      "\\=\\=\\=\\=\\=\\=\\=\\=\\=\\=\\=\\=\\=\\=\\=\\=\\=\\=\\=\\=\\=\\=\\=\\=\\=\\=\\=\\=\\=\\=\\=\\=\\=\\=\\=\\=\\=\\=\\=\\=\n",
      "\n",
      "Прогноз: 1\n",
      "Істина: 1\n",
      "Відгук: \n",
      "I bought this for my new HDV FX1 Camcorder, and it works great.  Unlike the Century wide-angle lens, this is fully zoom-through.  Lens is .8x, which is less than the Century and others, but just about right for HD--since the FX1 already can do a pretty decent wide shot when the zoom is fully backed out, this just gives it an extra boost, converting the camera view from roughly a 35mm lens on a 35mm camera to about a 28mm.  Also, very little barrel distortion.\n",
      "\n",
      "In all a great lens.  Only drawback is that it's a big (heavy) lens, but then, hey, it's for a serious prosumer camcorder\n",
      "\n",
      "\n",
      "\\=\\=\\=\\=\\=\\=\\=\\=\\=\\=\\=\\=\\=\\=\\=\\=\\=\\=\\=\\=\\=\\=\\=\\=\\=\\=\\=\\=\\=\\=\\=\\=\\=\\=\\=\\=\\=\\=\\=\\=\n",
      "\n",
      "Прогноз: 1\n",
      "Істина: 1\n",
      "Відгук: \n",
      "Basically, This backpack is all that I need in a back pack. Very well padded, very roomy, fits an HP Pavillion dv8000 17\" laptop. Its very attractive and after a month on use shows no signs of ware and tear. Definately worth the $. Unlike my previous packpacks The straps adjust so quickly and easily that I adjust them every time I put the pack on or take it off. Great Product!!!\n",
      "\n",
      "\n",
      "\\=\\=\\=\\=\\=\\=\\=\\=\\=\\=\\=\\=\\=\\=\\=\\=\\=\\=\\=\\=\\=\\=\\=\\=\\=\\=\\=\\=\\=\\=\\=\\=\\=\\=\\=\\=\\=\\=\\=\\=\n",
      "\n",
      "Прогноз: 1\n",
      "Істина: 1\n",
      "Відгук: \n",
      "I needed something to hold my iPod while I skateboard, and this works like a charm. Never moves an inch. Can get a litle uncomfortable if sweating a lot\n",
      "\n",
      "\n",
      "\\=\\=\\=\\=\\=\\=\\=\\=\\=\\=\\=\\=\\=\\=\\=\\=\\=\\=\\=\\=\\=\\=\\=\\=\\=\\=\\=\\=\\=\\=\\=\\=\\=\\=\\=\\=\\=\\=\\=\\=\n",
      "\n"
     ]
    }
   ],
   "source": [
    "true_labels, predictions = make_predictions(model, df_train, batch_size=batch_size, threshold=0.5)"
   ]
  },
  {
   "cell_type": "markdown",
   "metadata": {},
   "source": [
    "Матриця якості класифікації на тренувальних даних:"
   ]
  },
  {
   "cell_type": "code",
   "execution_count": 63,
   "metadata": {
    "scrolled": true
   },
   "outputs": [
    {
     "name": "stdout",
     "output_type": "stream",
     "text": [
      "              precision    recall  f1-score   support\n",
      "\n",
      "           0       1.00      1.00      1.00      1900\n",
      "           1       1.00      1.00      1.00      1900\n",
      "\n",
      "    accuracy                           1.00      3800\n",
      "   macro avg       1.00      1.00      1.00      3800\n",
      "weighted avg       1.00      1.00      1.00      3800\n",
      "\n",
      "0.9997368421052631\n"
     ]
    }
   ],
   "source": [
    "print(classification_report(true_labels, predictions))\n",
    "print(accuracy_score(true_labels, predictions))"
   ]
  },
  {
   "cell_type": "markdown",
   "metadata": {},
   "source": [
    "Паршиво. Зауважимо, що в нас довгасті такі собі послідовності, тому, можливо, варто додати у модель компоненту довготривалої пам'яті. Наприклад, LSTM-компоненту."
   ]
  },
  {
   "cell_type": "code",
   "execution_count": 64,
   "metadata": {},
   "outputs": [],
   "source": [
    "class BaseLSTM(nn.Module):\n",
    "    \n",
    "    def __init__(self, vocab_size, embedding_size, hidden_size):\n",
    "        super(self.__class__, self).__init__()\n",
    "        # Тренуємо власний шар вкладення слів\n",
    "        self.embedding = nn.Embedding(vocab_size, embedding_size)\n",
    "        # Інші компоненти LSTM\n",
    "        self.lstm = nn.LSTM(input_size=embedding_size, \n",
    "                            hidden_size=hidden_size, \n",
    "                            num_layers=1, \n",
    "                            batch_first=True,\n",
    "                            bidirectional=True)\n",
    "        self.linear = nn.Linear(2 * hidden_size, 1)      \n",
    "        self.sigmoid = nn.Sigmoid()\n",
    "        \n",
    "        self.hidden_size = hidden_size\n",
    "        \n",
    "    def forward(self, x, sequences_lengths):\n",
    "        # Вкладаємо текст (-ову послідовність) \n",
    "        embedding = self.embedding(x)\n",
    "\n",
    "        pack = torch.nn.utils.rnn.pack_padded_sequence(\n",
    "            embedding, sequences_lengths, \n",
    "            batch_first=True, enforce_sorted=False\n",
    "        )\n",
    "        # Долучаємо рекурентну компоненту        \n",
    "        packed_out, _ = self.lstm(pack)\n",
    "        out, _ = torch.nn.utils.rnn.pad_packed_sequence(\n",
    "            packed_out, batch_first=True\n",
    "        )\n",
    "        out_fwd = out[range(len(out)), sequences_lengths - 1, :self.hidden_size]\n",
    "        out_rev = out[:, 0, self.hidden_size:]\n",
    "        out_red = torch.cat((out_fwd, out_rev), 1)\n",
    "        # Витягуємо з LSTM-компоненти дані у класичний шар мережі\n",
    "        from_linear = self.linear(out_red)\n",
    "        # Прогнозуємо тональність текстів\n",
    "        output = self.sigmoid(from_linear)\n",
    "        return output"
   ]
  },
  {
   "cell_type": "code",
   "execution_count": 65,
   "metadata": {},
   "outputs": [
    {
     "data": {
      "text/plain": [
       "BaseLSTM(\n",
       "  (embedding): Embedding(7043, 250)\n",
       "  (lstm): LSTM(250, 100, batch_first=True, bidirectional=True)\n",
       "  (linear): Linear(in_features=200, out_features=1, bias=True)\n",
       "  (sigmoid): Sigmoid()\n",
       ")"
      ]
     },
     "execution_count": 65,
     "metadata": {},
     "output_type": "execute_result"
    }
   ],
   "source": [
    "# Ініціалізація моделі\n",
    "model = BaseLSTM(\n",
    "    vocab_size=len(VOCAB), embedding_size=250, hidden_size=100\n",
    ")\n",
    "model.to(device)"
   ]
  },
  {
   "cell_type": "code",
   "execution_count": 66,
   "metadata": {},
   "outputs": [],
   "source": [
    "epoch_loss_values = []\n",
    "step_loss_values = []"
   ]
  },
  {
   "cell_type": "code",
   "execution_count": 67,
   "metadata": {},
   "outputs": [],
   "source": [
    "# Функція вартості -- \"бінарна ентропія\" \n",
    "loss_function = nn.BCELoss()\n",
    "# Використаємо ADAM в якості оптимізатора\n",
    "optimizer = torch.optim.Adam(model.parameters(), lr=0.005)"
   ]
  },
  {
   "cell_type": "code",
   "execution_count": 68,
   "metadata": {
    "scrolled": true
   },
   "outputs": [
    {
     "name": "stdout",
     "output_type": "stream",
     "text": [
      "Кількість ітерацій за одну епоху: 76\n",
      "Епоха  1: сумарні втрати: 0.5210387626368749\n",
      "Епоха  2: сумарні втрати: 0.19881385633427853\n",
      "Епоха  3: сумарні втрати: 0.05302940112979787\n",
      "Епоха  4: сумарні втрати: 0.008912297843428526\n",
      "Епоха  5: сумарні втрати: 0.0030590105284078926\n",
      "Епоха  6: сумарні втрати: 0.000695227986541699\n",
      "Епоха  7: сумарні втрати: 0.0004130241762284545\n",
      "Епоха  8: сумарні втрати: 0.0002917973950771787\n",
      "Епоха  9: сумарні втрати: 0.00022159704368325618\n",
      "Епоха 10: сумарні втрати: 0.0001752332556000176\n",
      "Епоха 11: сумарні втрати: 0.00014235896517340353\n",
      "Епоха 12: сумарні втрати: 0.00011822676644537989\n",
      "Епоха 13: сумарні втрати: 9.976028908759438e-05\n",
      "Епоха 14: сумарні втрати: 8.517465175827965e-05\n",
      "Епоха 15: сумарні втрати: 7.374458858210253e-05\n",
      "Епоха 16: сумарні втрати: 6.437463215852884e-05\n",
      "Епоха 17: сумарні втрати: 5.67266055153787e-05\n",
      "Епоха 18: сумарні втрати: 5.0222795093041436e-05\n",
      "Епоха 19: сумарні втрати: 4.4796282449361144e-05\n",
      "Епоха 20: сумарні втрати: 4.0134508445158926e-05\n",
      "Епоха 21: сумарні втрати: 3.615674713249688e-05\n",
      "Епоха 22: сумарні втрати: 3.270368060719576e-05\n",
      "Епоха 23: сумарні втрати: 2.9677776829454452e-05\n",
      "Епоха 24: сумарні втрати: 2.7039334548518167e-05\n",
      "Епоха 25: сумарні втрати: 2.4700751357374288e-05\n",
      "Епоха 26: сумарні втрати: 2.2636122073555794e-05\n",
      "Епоха 27: сумарні втрати: 2.0799663921503737e-05\n",
      "Епоха 28: сумарні втрати: 1.9164485186258007e-05\n",
      "Епоха 29: сумарні втрати: 1.769037644288275e-05\n",
      "Епоха 30: сумарні втрати: 1.6357942124494385e-05\n",
      "Епоха 31: сумарні втрати: 1.5170873864103907e-05\n",
      "Епоха 32: сумарні втрати: 1.4073669334672891e-05\n",
      "Епоха 33: сумарні втрати: 1.3084738791229413e-05\n",
      "Епоха 34: сумарні втрати: 1.2192913970920932e-05\n",
      "Епоха 35: сумарні втрати: 1.135822846639425e-05\n",
      "Епоха 36: сумарні втрати: 1.0619780852787123e-05\n",
      "Епоха 37: сумарні втрати: 9.92745935347653e-06\n",
      "Епоха 38: сумарні втрати: 9.292636646980673e-06\n",
      "Епоха 39: сумарні втрати: 8.711958900532503e-06\n",
      "Епоха 40: сумарні втрати: 8.172322826507489e-06\n",
      "Епоха 41: сумарні втрати: 7.667075112151096e-06\n",
      "Епоха 42: сумарні втрати: 7.205000509944319e-06\n",
      "Епоха 43: сумарні втрати: 6.775323554034245e-06\n",
      "Епоха 44: сумарні втрати: 6.381210602356941e-06\n",
      "Епоха 45: сумарні втрати: 6.013342212291286e-06\n",
      "Епоха 46: сумарні втрати: 5.665160585976992e-06\n",
      "Епоха 47: сумарні втрати: 5.345672780035066e-06\n",
      "Епоха 48: сумарні втрати: 5.04979458594933e-06\n",
      "Епоха 49: сумарні втрати: 4.775736701539675e-06\n",
      "Епоха 50: сумарні втрати: 4.510746275119156e-06\n"
     ]
    }
   ],
   "source": [
    "batch_size = 50 # => 3800 / 50 = 76 міні-пакетів\n",
    "n_epochs = 50\n",
    "n_train = df_train.shape[0]\n",
    "n_iters = n_train // batch_size\n",
    "print(\"Кількість ітерацій за одну епоху: {}\".format(n_iters))\n",
    "\n",
    "n_tab = str(len(str(n_epochs)))\n",
    "\n",
    "# Аби не ускладнювати код, припустимо, що n_train ділиться на n_iters * batch_size\n",
    "\n",
    "for epoch in range(n_epochs):\n",
    "    epoch_loss = 0 \n",
    "    \n",
    "    df_train_c = df_train.copy().sample(n_train).reset_index(drop=True)\n",
    "    \n",
    "    for step in range(n_iters):\n",
    "\n",
    "        optimizer.zero_grad()\n",
    "        # Випадкових пакет\n",
    "        #current_batch = df_train.sample(batch_size)\n",
    "        # Детермінований пакет\n",
    "        idx = np.arange(0, batch_size, 1) + batch_size * step\n",
    "        current_batch = df_train_c.iloc[idx]\n",
    "\n",
    "        # Векторизація поточного пакета\n",
    "        batch_idx, seq_lengths = vectorize(current_batch['filtered'].tolist(), WORD_TO_IDX)\n",
    "        seq_lengths = np.array(seq_lengths)\n",
    "        # Переводимо міні-пакет у тензор\n",
    "        batch_idx = torch.tensor(batch_idx, dtype=torch.int64).to(device)\n",
    "        \n",
    "        # Обираємо справжні рейтинги та переводимо у тензор\n",
    "        y_true = current_batch['rating'].tolist() \n",
    "        y_true = torch.tensor(y_true, dtype=torch.float).to(device)\n",
    "\n",
    "        # Прогноз\n",
    "        y_pred = model(batch_idx, seq_lengths)\n",
    "        \n",
    "        loss = loss_function(y_pred.squeeze(), y_true)\n",
    "        \n",
    "        step_loss_values.append(loss)\n",
    "\n",
    "        epoch_loss += loss.item() / n_iters\n",
    "        loss.backward()\n",
    "        optimizer.step()\n",
    "    \n",
    "    epoch_loss_values.append(epoch_loss)\n",
    "            \n",
    "    print(('Епоха {:' + n_tab + '}: сумарні втрати: {}').format(epoch+1, epoch_loss))    "
   ]
  },
  {
   "cell_type": "code",
   "execution_count": 69,
   "metadata": {},
   "outputs": [
    {
     "data": {
      "image/png": "[encoded data removed]",
      "text/plain": [
       "<Figure size 640x480 with 1 Axes>"
      ]
     },
     "metadata": {},
     "output_type": "display_data"
    }
   ],
   "source": [
    "plt.plot(np.arange(1, n_epochs + 1), epoch_loss_values)\n",
    "plt.show()"
   ]
  },
  {
   "cell_type": "code",
   "execution_count": 70,
   "metadata": {},
   "outputs": [
    {
     "data": {
      "image/png": "[encoded data removed]",
      "text/plain": [
       "<Figure size 640x480 with 1 Axes>"
      ]
     },
     "metadata": {},
     "output_type": "display_data"
    }
   ],
   "source": [
    "plt.plot(\n",
    "    np.arange(1, n_iters * n_epochs + 1), \n",
    "    [v.cpu().detach().numpy() for v in step_loss_values]\n",
    ")\n",
    "plt.show()"
   ]
  },
  {
   "cell_type": "code",
   "execution_count": 71,
   "metadata": {},
   "outputs": [
    {
     "name": "stdout",
     "output_type": "stream",
     "text": [
      "Прогноз: 1\n",
      "Істина: 1\n",
      "Відгук: \n",
      "This is original equipment battery charger manufactered by Canon. The performance of the charger is excellent as are most Canon products. The price paid was comparible to non-sale priced items puchased via internet sites. The item was recieved in original packaging, 3 days after placing the order, was new (not reconditioned with a new appearance). I am extremely pleased with the entire purchase process experienced, from the information given at the site to ease of ordering and fast shipping\n",
      "\n",
      "\n",
      "\\=\\=\\=\\=\\=\\=\\=\\=\\=\\=\\=\\=\\=\\=\\=\\=\\=\\=\\=\\=\\=\\=\\=\\=\\=\\=\\=\\=\\=\\=\\=\\=\\=\\=\\=\\=\\=\\=\\=\\=\n",
      "\n",
      "Прогноз: 1\n",
      "Істина: 1\n",
      "Відгук: \n",
      "With most of the carrying case made of either fake leather or some kind of neoprene material, this one is really different.  The rigid structure also seem to do a great job to protect the camera.  There is also a belt loop and D-ring feature which is great.\n",
      "\n",
      "\n",
      "\n",
      "\\=\\=\\=\\=\\=\\=\\=\\=\\=\\=\\=\\=\\=\\=\\=\\=\\=\\=\\=\\=\\=\\=\\=\\=\\=\\=\\=\\=\\=\\=\\=\\=\\=\\=\\=\\=\\=\\=\\=\\=\n",
      "\n",
      "Прогноз: 1\n",
      "Істина: 1\n",
      "Відгук: \n",
      "This mouse has never let me down. Really works on most of the surfaces\n",
      "\n",
      "\n",
      "\\=\\=\\=\\=\\=\\=\\=\\=\\=\\=\\=\\=\\=\\=\\=\\=\\=\\=\\=\\=\\=\\=\\=\\=\\=\\=\\=\\=\\=\\=\\=\\=\\=\\=\\=\\=\\=\\=\\=\\=\n",
      "\n",
      "Прогноз: 1\n",
      "Істина: 1\n",
      "Відгук: \n",
      "I wanted to buy a compact slim d-camera. Those with larger zoom are quite bulky, you can't carry around all the time. I think a slim camera is a better choice. I slip into my pocket while wondering around and come across something nice and take a picture of it. You can't do it with a huge camera. \n",
      "After I made up mind about a slim camera, my choices were either Casio Exilim or Sony DSCW series. Casio Exilims are very sexy. They have a lot of mode scenes. They also function as voice recorder. You can take pictures of book pages etc. They have anti-shake capability which is said to reduce blurred images. I was almost buying a Casio Exilim. Being a diligent person I wanted to search more and more. \n",
      "I found out that the so-called anti-shake feature is a bogus. Many people found it useless. That was a good reason to choose Casio. Then I found the picture quality of Exilim is not really good.I found some pictures taken with Exilim. They were soft, not crisp colors. Search the web reviews made by photo professionals. Casio Exilim is rated significantly less than Sony in picture quality. With ISO 200 noise was still detectable in most reviews . Those same reviewers however found Sony DSCW doing a better job . There was no noise with ISO 400 which means even in lower light condition Sony did a better job (less granularity in pictures with low light). Big difference!.\n",
      "One feature of Sony that made it very attractive was its strong macro. It is 0.74 inch which means you can bring your camera 0.74 inch (2 mm) close to an object (say a bug) and still take a brilliant picture of it. \n",
      "Now comparison of Exilim and Sony to summarize:\n",
      "Casio Exilim\n",
      "Anti-shake (it's a bogus)\n",
      "Slim   \n",
      "Lower macro (2.5 inches)\n",
      "Lower picture quality (detectable noise at ISO 200)\n",
      "A lot of scene modes\n",
      "Quick shutter\n",
      "Sony DSCW Series\n",
      "Slim (in fact it is slimmer)\n",
      "Higher macro (0.74 inches)\n",
      "Higher picture quality (No noise in ISO 400)\n",
      "Not a lot of scene modes\n",
      "Quick shutter\n",
      "So.....I purchased a Sony DSCW 7 Mp. I took lots of pictures.\n",
      "They are all brilliant, detailed and crisp, true colors.\n",
      "I tried macro and took pictures of bugs. You can see the hairs on the legs of bugs. Absolutely no noise whatsoever, no blurry.\n",
      "It's a marvel of technology. I took pictures of fireworks in July 4th using high ISO setting. They came out brialliantly like professional pictures.\n",
      "It also uses a different kind of battery that you can't buy at your grocery which can leave you vulnerable. So you may wanna buy a spare one (about 40 bucks). But you can always recharge it. And it lasts much much longer than AAA or Nimh batteries. \n",
      "It was a perfect choice. I highly recommend it.\n",
      "\n",
      "\n",
      "\\=\\=\\=\\=\\=\\=\\=\\=\\=\\=\\=\\=\\=\\=\\=\\=\\=\\=\\=\\=\\=\\=\\=\\=\\=\\=\\=\\=\\=\\=\\=\\=\\=\\=\\=\\=\\=\\=\\=\\=\n",
      "\n",
      "Прогноз: 1\n",
      "Істина: 1\n",
      "Відгук: \n",
      "Excellent product - very ergonomic, easy to set up and use! Wireless works great.\n",
      "I would recommend this product\n",
      "\n",
      "\n",
      "\\=\\=\\=\\=\\=\\=\\=\\=\\=\\=\\=\\=\\=\\=\\=\\=\\=\\=\\=\\=\\=\\=\\=\\=\\=\\=\\=\\=\\=\\=\\=\\=\\=\\=\\=\\=\\=\\=\\=\\=\n",
      "\n",
      "Прогноз: 1\n",
      "Істина: 1\n",
      "Відгук: \n",
      "I'm not a serious piano player, just casual.  Don't have room for a piano, so this serves my purposes.  I just want to entertain myself.  If I were a professional who played in public, not sure if this would be the ultimate keyboard, because it doesn't have a fullsize keyboard.  But for practicing and casual playing it's great!  It has more features than I will ever use\n",
      "\n",
      "\n",
      "\\=\\=\\=\\=\\=\\=\\=\\=\\=\\=\\=\\=\\=\\=\\=\\=\\=\\=\\=\\=\\=\\=\\=\\=\\=\\=\\=\\=\\=\\=\\=\\=\\=\\=\\=\\=\\=\\=\\=\\=\n",
      "\n",
      "Прогноз: 1\n",
      "Істина: 1\n",
      "Відгук: \n",
      "This cable came in a cheap packing and it does not have any logo on it so you can't say which company it belongs to. I have used a lot of sony products and I feel it is not up to the standard of sony. \n",
      "It works great had no problems so far. It is flexible kinds so you don't have to worry about positioning your laptop according to your TV.\n",
      "\n",
      "\n",
      "\\=\\=\\=\\=\\=\\=\\=\\=\\=\\=\\=\\=\\=\\=\\=\\=\\=\\=\\=\\=\\=\\=\\=\\=\\=\\=\\=\\=\\=\\=\\=\\=\\=\\=\\=\\=\\=\\=\\=\\=\n",
      "\n",
      "Прогноз: 0\n",
      "Істина: 1\n",
      "Відгук: \n",
      "These fit over everything very well, and they stayed put without stretching out, which is why my original pads fell off.  I guess it's one of those products that you can't do much better than $10 for, but maybe they could give you double the number of pads or something..\n",
      "\n",
      "\n",
      "\\=\\=\\=\\=\\=\\=\\=\\=\\=\\=\\=\\=\\=\\=\\=\\=\\=\\=\\=\\=\\=\\=\\=\\=\\=\\=\\=\\=\\=\\=\\=\\=\\=\\=\\=\\=\\=\\=\\=\\=\n",
      "\n",
      "Прогноз: 1\n",
      "Істина: 1\n",
      "Відгук: \n",
      "I have been putting this television through its paces since I got it a few weeks ago, and it is by far the best TV I have ever owned, and very difficult to beat.  The image quality is really good, with bright, vivid colors and wonderful detail, especially for 1080i/p content, but even lower-resolution 720p content, which is what's more commonly-available on OTA HD broadcast, looks phenomenal.  I also have an Apple TV hooked up to it, and even though most of my content is encoded at either 360p, 480p, or 720p, it still looks quite good.\n",
      "\n",
      "It does take some time to get the image tuned to perfection, and the default settings are way too bright with too much color saturation boost, and the DNIe processing system actually seems to make some motion effects worse.  However, it's very easy to change the settings and see immediately what effect they have.\n",
      "\n",
      "Like all LCDs it does have some slight black point problems; these aren't noticeable for fullscreen 16:9 content, but for older 4:3 content it's pretty obvious that the black isn't pure black.  However, this is again tunable.\n",
      "\n",
      "The only thing I really notice which is pretty annoying is that it doesn't do a very good job of upscaling 480i content, such as the output from most video game systems, and for DVDs to look good you really need an upconverting player since even with a progressive-scan player there is a lot of visible pixelation when the 480p content is scaled up.  It's really more a sad reflection on how the previous \"next-generation\" video looks downright primitive by today's standards.\n",
      "\n",
      "The other noticeable issue is that unlike many televisions with digital tuners, it doesn't have an on-screen program guide.  My previous TV (also a Samsung) had an on-screen program guide, but it was rather cumbersome to use and took several minutes of scanning every channel to see what was on, and most local channels are pretty inconsistent about providing the EPG information anyway, so it's not really that big of a deal.  You can still see the detailed information for the program that's currently showing, so it makes use of EPG, just not as much as it could.\n",
      "\n",
      "This television's tuner is also quite phenomenal.  My previous TV required a very carefully-positioned powered antenna which was very sensitive to every little nearby fluctuation, while with this one I only have a piece of wire jammed into the antenna port and I get perfect reception of every local digital station.\n",
      "\n",
      "Another nice improvement over Samsung's older HDTVs is that it has a wide variety of zoom modes which allow you to counteract some of the stupider things that TV stations do (for example, pillboxing a letterboxed 16:9 show, which is very common for widescreen non-HD programming).  Also, analog TV stations and source inputs get their audio signals upconverted to digital, so you only need to run a single optical audio connection to your stereo (while previous Samsungs required running both analog and digital cables and switching between the two inputs based on source material).\n",
      "\n",
      "As a PC monitor this is also quite nice.  I have a Mac mini hooked up via SVGA cable, and even with an analog signal it looks perfectly sharp and crystal-clear, and of course you can hook it up via HDMI (with a DVI to HDMI adaptor) as well.  The only gripe there is that the supported resolutions are a bit quaint - at least on analog SVGA the only 16:9 resolution it supports is 1920x1080, which can be difficult for some older systems to handle.  However, on HDMI it should support all the standard HD resolutions.\n",
      "\n",
      "This television may be more expensive than others in its size class, but it also far outshines every other TV I have seen, aside from the newer LN-T4065, which is nearly identical aside from providing a higher dynamic contrast ratio.  If you want to only buy one TV which will last for a long time, it would be hard to go wrong with this one\n",
      "\n",
      "\n",
      "\\=\\=\\=\\=\\=\\=\\=\\=\\=\\=\\=\\=\\=\\=\\=\\=\\=\\=\\=\\=\\=\\=\\=\\=\\=\\=\\=\\=\\=\\=\\=\\=\\=\\=\\=\\=\\=\\=\\=\\=\n",
      "\n",
      "Прогноз: 0\n",
      "Істина: 1\n",
      "Відгук: \n",
      "I have to say this mouse pad has far exceeded anything I hoped for. When I first opened the box it was shipped in I was very put off. There was a Very, Very strong chemical smell. I chalked it up to something in the packaging material. It turns out that was not where the smell was coming from. It was the mouse pad itself. Having worked in a shoe factory years ago I was able to identify the smell as an industrial glue. The smell hung around for a couple of days. Now, 1 week after having received my purchase if I put my nose close to the pad, it still carries the faint smell of industrial glue. I would caution those with allergies and/or asthma to consider this prior to purchase. As an asthmatic I can say it did affect my breathing some what. That seems to have gotten better as the smelled has lessened. I have finished with my public health warning. On to the mouse pad. \n",
      "     It is simply the best mouse pad I have ever used. I have had wrist problems for over 4 years now. I have had swelling and pain from my right pinkie finger to my elbow as a result of console gaming and lots of keyboarding work. In the past week my swelling has greatly reduced. My pain is almost gone. My wrist sits perfectly on  the wrist rest. The pad actually cradles my wrist. The wrist rest moves with my hand, so well and with so much support, it seems to be an extension of my body. A new improved appendage. I have found myself resting my wrist on the pad even while not computing but just sitting at my desk. It truly is that comfortable. I already have plans to purchase two more for friends as Christmas gifts. Worth Every Cent! Go For It! You Will Not Be Disappointed! \n",
      "\n",
      "\n",
      "\\=\\=\\=\\=\\=\\=\\=\\=\\=\\=\\=\\=\\=\\=\\=\\=\\=\\=\\=\\=\\=\\=\\=\\=\\=\\=\\=\\=\\=\\=\\=\\=\\=\\=\\=\\=\\=\\=\\=\\=\n",
      "\n"
     ]
    }
   ],
   "source": [
    "true_labels, predictions = make_predictions(model, df_test, batch_size=batch_size, threshold=0.5)"
   ]
  },
  {
   "cell_type": "markdown",
   "metadata": {},
   "source": [
    "Матриця якості класифікації на тестових даних:"
   ]
  },
  {
   "cell_type": "code",
   "execution_count": 72,
   "metadata": {
    "scrolled": true
   },
   "outputs": [
    {
     "name": "stdout",
     "output_type": "stream",
     "text": [
      "              precision    recall  f1-score   support\n",
      "\n",
      "           0       0.81      0.87      0.84       100\n",
      "           1       0.86      0.79      0.82       100\n",
      "\n",
      "    accuracy                           0.83       200\n",
      "   macro avg       0.83      0.83      0.83       200\n",
      "weighted avg       0.83      0.83      0.83       200\n",
      "\n",
      "0.83\n"
     ]
    }
   ],
   "source": [
    "print(classification_report(true_labels, predictions))\n",
    "print(accuracy_score(true_labels, predictions))"
   ]
  },
  {
   "cell_type": "code",
   "execution_count": 73,
   "metadata": {
    "scrolled": true
   },
   "outputs": [
    {
     "name": "stdout",
     "output_type": "stream",
     "text": [
      "Прогноз: 1\n",
      "Істина: 1\n",
      "Відгук: \n",
      "Bought these batteries & charger just before going on an overseas trip.  I didn't want to be bothered with frequently changing AA batteries, which seemed to last only a day or so of heavy use.  I was quite pleased with the performance of these rechargeables.  They lasted several days of heavy use before needing to be charged and they re-charged in only a few hours.  A big bonus that I didn't expect:  the recharger is compatible with European 240 voltage so I didn't have to use an electric converter! \n",
      "\n",
      "\n",
      "\\=\\=\\=\\=\\=\\=\\=\\=\\=\\=\\=\\=\\=\\=\\=\\=\\=\\=\\=\\=\\=\\=\\=\\=\\=\\=\\=\\=\\=\\=\\=\\=\\=\\=\\=\\=\\=\\=\\=\\=\n",
      "\n",
      "Прогноз: 1\n",
      "Істина: 1\n",
      "Відгук: \n",
      "This is our first LCD TV.  Our tube TV finally died.  My wife actually picked out this unit and Consumer Reports also recommended this unit.  We purchased it directly from AMAZON on January 23, 2007.  I wanted to wait a couple of months before I write my review to see if anything happens. But to my surprise the TV is still running and there have been no problems.  We have digital HD and the pictures are great.  It took me a couple of weeks to get use to watching tv with such sharp color and contrast.  However, if you are watching normal digital programming you may not be too happy as it is flat.  But overall its a good buy for us\n",
      "\n",
      "\n",
      "\\=\\=\\=\\=\\=\\=\\=\\=\\=\\=\\=\\=\\=\\=\\=\\=\\=\\=\\=\\=\\=\\=\\=\\=\\=\\=\\=\\=\\=\\=\\=\\=\\=\\=\\=\\=\\=\\=\\=\\=\n",
      "\n",
      "Прогноз: 1\n",
      "Істина: 1\n",
      "Відгук: \n",
      "I only have a couple of problems with this remote. You have to keep pressing the buttons for dvd, vcr, audio, sat, etc. to change the setting. That sounds like I'm complaining a lot, and I am. (sue me. ha ha) The other is this. I bought this as a replacement for a remote that quit working. I can't teach it the functions that I need through the \"learn\" command since the orginal remote quit. Which kind of defeats the purpose of having a new remote. I have one of those all in in one home theater units and the remote wouldn't allow me to set the VCR clock and local channels after a power outage. \n",
      "Other than that, I have no problem with it\n",
      "\n",
      "\n",
      "\\=\\=\\=\\=\\=\\=\\=\\=\\=\\=\\=\\=\\=\\=\\=\\=\\=\\=\\=\\=\\=\\=\\=\\=\\=\\=\\=\\=\\=\\=\\=\\=\\=\\=\\=\\=\\=\\=\\=\\=\n",
      "\n",
      "Прогноз: 1\n",
      "Істина: 1\n",
      "Відгук: \n",
      "I purchased the Adorama Slinger Bag after first purchasing the Tamrac Velocity 5.  The Tamrac bag is a nice bag and can be worn as either a shoulder bag or a waist bag. Unfotunately, it lacked sufficient support when worn as waist bag and did not have an attached pouch to carry a water bottle.  The Slinger Bag addressed both of these deficiencies.  When worn as a waist bag, it also uses the shoulder strap to keep the bag firmly in place which also helps to balance the weight of the bag.  There are two water pouches on the Slinger Bag (which is a real requirement as I live in Arizona).\n",
      "\n",
      "The Adorama Slinger Bag is a great travel bag. It is light weight and has great utility.  I highly recommend it.\n",
      "\n",
      "\n",
      "\\=\\=\\=\\=\\=\\=\\=\\=\\=\\=\\=\\=\\=\\=\\=\\=\\=\\=\\=\\=\\=\\=\\=\\=\\=\\=\\=\\=\\=\\=\\=\\=\\=\\=\\=\\=\\=\\=\\=\\=\n",
      "\n",
      "Прогноз: 1\n",
      "Істина: 1\n",
      "Відгук: \n",
      "Great headphones for running! They fit my ears perfectly and I don't have to worry about foam anymore.\n",
      "\n",
      "\n",
      "\\=\\=\\=\\=\\=\\=\\=\\=\\=\\=\\=\\=\\=\\=\\=\\=\\=\\=\\=\\=\\=\\=\\=\\=\\=\\=\\=\\=\\=\\=\\=\\=\\=\\=\\=\\=\\=\\=\\=\\=\n",
      "\n",
      "Прогноз: 1\n",
      "Істина: 1\n",
      "Відгук: \n",
      "The CF card works fine but it's response is kind of slow compaired to the 32MB CF card came with my Canon Powershot A95. I got this card 3 weeks ago and so far their hasn't been any problems.\n",
      "\n",
      "\n",
      "\\=\\=\\=\\=\\=\\=\\=\\=\\=\\=\\=\\=\\=\\=\\=\\=\\=\\=\\=\\=\\=\\=\\=\\=\\=\\=\\=\\=\\=\\=\\=\\=\\=\\=\\=\\=\\=\\=\\=\\=\n",
      "\n",
      "Прогноз: 1\n",
      "Істина: 1\n",
      "Відгук: \n",
      "What an amazing product for such a small price.  It works right out of the box, but to get full functionality you need to install the encolsed drivers.  The option of mouse or pen makes it useful for everyday PC work as well using the pen for graphics.  I use it mainly for teaching via phone and use the whiteboard in messenger to communicate in words and pictures.  It really makes a difference.\n",
      "The unit seems well made and I like the fact you can personalise the tablet to add a picture of your choice.  I opted for the smallest in the range for value, and was not disappointed, but I am sure for more commerical use or for artwork a much bigger screen would be better, but at cost.\n",
      "The software bundle is ok too if you don't already have photoshop tools.\n",
      "The one quibble is that at home when I installed the drivers it continued to crash my PC with my wireless keyboard installed.  Not ideal, but as I dont use it at home any longer it is not a problem for me, but be careful, I am sure there will be a fix somewher\n",
      "\n",
      "\n",
      "\\=\\=\\=\\=\\=\\=\\=\\=\\=\\=\\=\\=\\=\\=\\=\\=\\=\\=\\=\\=\\=\\=\\=\\=\\=\\=\\=\\=\\=\\=\\=\\=\\=\\=\\=\\=\\=\\=\\=\\=\n",
      "\n",
      "Прогноз: 1\n",
      "Істина: 1\n",
      "Відгук: \n",
      "I bought this for my new HDV FX1 Camcorder, and it works great.  Unlike the Century wide-angle lens, this is fully zoom-through.  Lens is .8x, which is less than the Century and others, but just about right for HD--since the FX1 already can do a pretty decent wide shot when the zoom is fully backed out, this just gives it an extra boost, converting the camera view from roughly a 35mm lens on a 35mm camera to about a 28mm.  Also, very little barrel distortion.\n",
      "\n",
      "In all a great lens.  Only drawback is that it's a big (heavy) lens, but then, hey, it's for a serious prosumer camcorder\n",
      "\n",
      "\n",
      "\\=\\=\\=\\=\\=\\=\\=\\=\\=\\=\\=\\=\\=\\=\\=\\=\\=\\=\\=\\=\\=\\=\\=\\=\\=\\=\\=\\=\\=\\=\\=\\=\\=\\=\\=\\=\\=\\=\\=\\=\n",
      "\n",
      "Прогноз: 1\n",
      "Істина: 1\n",
      "Відгук: \n",
      "Basically, This backpack is all that I need in a back pack. Very well padded, very roomy, fits an HP Pavillion dv8000 17\" laptop. Its very attractive and after a month on use shows no signs of ware and tear. Definately worth the $. Unlike my previous packpacks The straps adjust so quickly and easily that I adjust them every time I put the pack on or take it off. Great Product!!!\n",
      "\n",
      "\n",
      "\\=\\=\\=\\=\\=\\=\\=\\=\\=\\=\\=\\=\\=\\=\\=\\=\\=\\=\\=\\=\\=\\=\\=\\=\\=\\=\\=\\=\\=\\=\\=\\=\\=\\=\\=\\=\\=\\=\\=\\=\n",
      "\n",
      "Прогноз: 1\n",
      "Істина: 1\n",
      "Відгук: \n",
      "I needed something to hold my iPod while I skateboard, and this works like a charm. Never moves an inch. Can get a litle uncomfortable if sweating a lot\n",
      "\n",
      "\n",
      "\\=\\=\\=\\=\\=\\=\\=\\=\\=\\=\\=\\=\\=\\=\\=\\=\\=\\=\\=\\=\\=\\=\\=\\=\\=\\=\\=\\=\\=\\=\\=\\=\\=\\=\\=\\=\\=\\=\\=\\=\n",
      "\n"
     ]
    }
   ],
   "source": [
    "true_labels, predictions = make_predictions(model, df_train, batch_size=batch_size, threshold=0.5)"
   ]
  },
  {
   "cell_type": "markdown",
   "metadata": {},
   "source": [
    "Матриця якості класифікації на тренувальних даних:"
   ]
  },
  {
   "cell_type": "code",
   "execution_count": 74,
   "metadata": {
    "scrolled": true
   },
   "outputs": [
    {
     "name": "stdout",
     "output_type": "stream",
     "text": [
      "              precision    recall  f1-score   support\n",
      "\n",
      "           0       1.00      1.00      1.00      1900\n",
      "           1       1.00      1.00      1.00      1900\n",
      "\n",
      "    accuracy                           1.00      3800\n",
      "   macro avg       1.00      1.00      1.00      3800\n",
      "weighted avg       1.00      1.00      1.00      3800\n",
      "\n",
      "1.0\n"
     ]
    }
   ],
   "source": [
    "print(classification_report(true_labels, predictions))\n",
    "print(accuracy_score(true_labels, predictions))"
   ]
  },
  {
   "cell_type": "markdown",
   "metadata": {},
   "source": [
    "Додавання компоненти з довгою пам'яттю покращило результат на тестовій вибірці. Зокрема можна було б тренувати модель трохи менше -- приблизно такі самі результати досягаються на тренованій мережі після двадцяти епох."
   ]
  },
  {
   "cell_type": "code",
   "execution_count": 75,
   "metadata": {},
   "outputs": [
    {
     "data": {
      "text/plain": [
       "(7043, 250)"
      ]
     },
     "execution_count": 75,
     "metadata": {},
     "output_type": "execute_result"
    }
   ],
   "source": [
    "# Розглянемо матрицю вкладень\n",
    "E = model.embedding\n",
    "Em = E.weight\n",
    "Em = Em.cpu().detach().numpy()\n",
    "Em.shape"
   ]
  },
  {
   "cell_type": "code",
   "execution_count": 76,
   "metadata": {},
   "outputs": [
    {
     "data": {
      "text/plain": [
       "207"
      ]
     },
     "execution_count": 76,
     "metadata": {},
     "output_type": "execute_result"
    }
   ],
   "source": [
    "WORD_TO_IDX.get('good', None)"
   ]
  },
  {
   "cell_type": "code",
   "execution_count": 77,
   "metadata": {},
   "outputs": [
    {
     "data": {
      "text/plain": [
       "567"
      ]
     },
     "execution_count": 77,
     "metadata": {},
     "output_type": "execute_result"
    }
   ],
   "source": [
    "WORD_TO_IDX.get('best', None)"
   ]
  },
  {
   "cell_type": "code",
   "execution_count": 78,
   "metadata": {},
   "outputs": [
    {
     "data": {
      "text/plain": [
       "459"
      ]
     },
     "execution_count": 78,
     "metadata": {},
     "output_type": "execute_result"
    }
   ],
   "source": [
    "WORD_TO_IDX.get('bad', None)"
   ]
  },
  {
   "cell_type": "code",
   "execution_count": 79,
   "metadata": {},
   "outputs": [
    {
     "data": {
      "text/plain": [
       "4902"
      ]
     },
     "execution_count": 79,
     "metadata": {},
     "output_type": "execute_result"
    }
   ],
   "source": [
    "WORD_TO_IDX.get('awful', None)"
   ]
  },
  {
   "cell_type": "code",
   "execution_count": 80,
   "metadata": {},
   "outputs": [],
   "source": [
    "from sklearn.manifold import TSNE\n",
    "\n",
    "tsne = TSNE(n_components=2, init='random', learning_rate='auto')\n",
    "tsne_dat = tsne.fit_transform(Em)"
   ]
  },
  {
   "cell_type": "code",
   "execution_count": 81,
   "metadata": {},
   "outputs": [
    {
     "data": {
      "image/png": "[encoded data removed]",
      "text/plain": [
       "<Figure size 640x480 with 1 Axes>"
      ]
     },
     "metadata": {},
     "output_type": "display_data"
    }
   ],
   "source": [
    "X = tsne_dat[[24, 88, 375, 4155],0]\n",
    "Y = tsne_dat[[24, 88, 375, 4155],1]\n",
    "\n",
    "fig, ax = plt.subplots()\n",
    "ax.scatter(X, Y)\n",
    "\n",
    "for i, txt in enumerate(['best', 'good', 'bad', 'awful']):\n",
    "    ax.annotate(txt, (X[i], Y[i]))"
   ]
  },
  {
   "cell_type": "code",
   "execution_count": 82,
   "metadata": {},
   "outputs": [
    {
     "data": {
      "text/plain": [
       "array([[0.96369445]], dtype=float32)"
      ]
     },
     "execution_count": 82,
     "metadata": {},
     "output_type": "execute_result"
    }
   ],
   "source": [
    "bad = tsne_dat[[375],]\n",
    "good = tsne_dat[[88],]\n",
    "np.dot(bad, good.T) / (np.linalg.norm(bad) * np.linalg.norm(good))"
   ]
  },
  {
   "cell_type": "code",
   "execution_count": 83,
   "metadata": {},
   "outputs": [
    {
     "data": {
      "text/plain": [
       "array([[0.8556826]], dtype=float32)"
      ]
     },
     "execution_count": 83,
     "metadata": {},
     "output_type": "execute_result"
    }
   ],
   "source": [
    "best = tsne_dat[[24],]\n",
    "awful = tsne_dat[[4155],]\n",
    "np.dot(best, awful.T) / (np.linalg.norm(best) * np.linalg.norm(awful))"
   ]
  },
  {
   "cell_type": "code",
   "execution_count": 84,
   "metadata": {},
   "outputs": [
    {
     "data": {
      "text/plain": [
       "array([[-0.06844955]], dtype=float32)"
      ]
     },
     "execution_count": 84,
     "metadata": {},
     "output_type": "execute_result"
    }
   ],
   "source": [
    "np.dot(best, good.T) / (np.linalg.norm(best) * np.linalg.norm(good))"
   ]
  },
  {
   "cell_type": "markdown",
   "metadata": {},
   "source": [
    "Я думав зробити якісь інтуїтивні припущення щодо інтерпретації матриці вкладення слів у даній моделі, але поки інтуїції тут не бачу. Можливо шляпа у контексті та частоті виникнення слів у реченнях."
   ]
  },
  {
   "cell_type": "markdown",
   "metadata": {},
   "source": [
    "Тепер час скористатися існуючим вкладенням слів. Наприклад, візьмемо до уваги word2vec."
   ]
  },
  {
   "cell_type": "code",
   "execution_count": 85,
   "metadata": {},
   "outputs": [],
   "source": [
    "from gensim.models import Word2Vec, KeyedVectors\n",
    "from ast import literal_eval"
   ]
  },
  {
   "cell_type": "code",
   "execution_count": 86,
   "metadata": {},
   "outputs": [],
   "source": [
    "df_sentences = df_train['filtered'].tolist() + df_test['filtered'].tolist()\n",
    "\n",
    "n_dim = 500\n",
    "\n",
    "lang_model = Word2Vec(sentences=df_sentences,\n",
    "                      vector_size=n_dim,\n",
    "                      min_count=5,\n",
    "                      window=5)"
   ]
  },
  {
   "cell_type": "code",
   "execution_count": 87,
   "metadata": {},
   "outputs": [
    {
     "data": {
      "text/plain": [
       "(5427487, 6210450)"
      ]
     },
     "execution_count": 87,
     "metadata": {},
     "output_type": "execute_result"
    }
   ],
   "source": [
    "lang_model.train(df_sentences, \n",
    "                 total_examples=lang_model.corpus_count,\n",
    "                 epochs=30)"
   ]
  },
  {
   "cell_type": "code",
   "execution_count": 88,
   "metadata": {},
   "outputs": [],
   "source": [
    "W2V_IDX = lang_model.wv.key_to_index.copy()\n",
    "#W2V_IDX"
   ]
  },
  {
   "cell_type": "code",
   "execution_count": 89,
   "metadata": {},
   "outputs": [
    {
     "data": {
      "text/plain": [
       "[('excellent', 0.5140680074691772),\n",
       " ('great', 0.5062516927719116),\n",
       " ('decent', 0.4454328417778015),\n",
       " ('nice', 0.4177585542201996),\n",
       " ('amazed', 0.4162523150444031),\n",
       " ('impressive', 0.4120185077190399),\n",
       " ('outstanding', 0.4116992950439453),\n",
       " ('fantastic', 0.407986581325531),\n",
       " ('slick', 0.39789918065071106),\n",
       " ('high-quality', 0.3970792591571808)]"
      ]
     },
     "execution_count": 89,
     "metadata": {},
     "output_type": "execute_result"
    }
   ],
   "source": [
    "lang_model.wv.most_similar('good')"
   ]
  },
  {
   "cell_type": "code",
   "execution_count": 90,
   "metadata": {},
   "outputs": [
    {
     "data": {
      "text/plain": [
       "[('good', 0.39269542694091797),\n",
       " ('plain', 0.3631345331668854),\n",
       " ('terrible', 0.3619552552700043),\n",
       " ('poor', 0.3558204472064972),\n",
       " ('phillips', 0.35506078600883484),\n",
       " ('amazed', 0.3479156196117401),\n",
       " ('surprisingly', 0.3396844267845154),\n",
       " ('glitch', 0.32196179032325745),\n",
       " ('maybe', 0.31957942247390747),\n",
       " ('horrible', 0.3180975019931793)]"
      ]
     },
     "execution_count": 90,
     "metadata": {},
     "output_type": "execute_result"
    }
   ],
   "source": [
    "lang_model.wv.most_similar('bad')"
   ]
  },
  {
   "cell_type": "code",
   "execution_count": 91,
   "metadata": {},
   "outputs": [
    {
     "data": {
      "text/plain": [
       "[('buzzing', 0.6211816072463989),\n",
       " ('horrible', 0.601510226726532),\n",
       " ('caller', 0.5615156888961792),\n",
       " ('resulting', 0.559525728225708),\n",
       " ('sounded', 0.5492215156555176),\n",
       " ('plain', 0.5483198761940002),\n",
       " ('phillips', 0.5340328216552734),\n",
       " ('ok.', 0.5246902704238892),\n",
       " ('noisy', 0.5226194262504578),\n",
       " ('crisp', 0.5161285400390625)]"
      ]
     },
     "execution_count": 91,
     "metadata": {},
     "output_type": "execute_result"
    }
   ],
   "source": [
    "lang_model.wv.most_similar('awful')"
   ]
  },
  {
   "cell_type": "markdown",
   "metadata": {},
   "source": [
    "Ніколи не купляв техніку phillips. Можливо, word2vec мені про щось натякає."
   ]
  },
  {
   "cell_type": "code",
   "execution_count": 92,
   "metadata": {},
   "outputs": [
    {
     "data": {
      "text/plain": [
       "[('worst', 0.5483927726745605),\n",
       " ('largest', 0.40753480792045593),\n",
       " ('spectacular', 0.38999995589256287),\n",
       " ('better', 0.38420429825782776),\n",
       " ('excellent', 0.3716984987258911),\n",
       " ('easiest', 0.36569610238075256),\n",
       " ('superior', 0.3645923435688019),\n",
       " ('among', 0.3588825762271881),\n",
       " ('impressed', 0.3556548058986664),\n",
       " ('exceeded', 0.35126423835754395)]"
      ]
     },
     "execution_count": 92,
     "metadata": {},
     "output_type": "execute_result"
    }
   ],
   "source": [
    "lang_model.wv.most_similar('best')"
   ]
  },
  {
   "cell_type": "markdown",
   "metadata": {},
   "source": [
    "Прикольно, нині \"хороше\" є \"поганим\" :)"
   ]
  },
  {
   "cell_type": "code",
   "execution_count": 93,
   "metadata": {},
   "outputs": [
    {
     "name": "stdout",
     "output_type": "stream",
     "text": [
      "KeyedVectors<vector_size=500, 3906 keys>\n"
     ]
    }
   ],
   "source": [
    "w2v_vectors = lang_model.wv\n",
    "print(w2v_vectors)"
   ]
  },
  {
   "cell_type": "markdown",
   "metadata": {},
   "source": [
    "По суті, інтуїції стільки ж, скільки було при дослідженні власного вкладення."
   ]
  },
  {
   "cell_type": "code",
   "execution_count": 94,
   "metadata": {},
   "outputs": [
    {
     "data": {
      "text/plain": [
       "(3906, 500)"
      ]
     },
     "execution_count": 94,
     "metadata": {},
     "output_type": "execute_result"
    }
   ],
   "source": [
    "E_W2V = np.array([w2v_vectors[w] for w in w2v_vectors.key_to_index.keys()])\n",
    "E_W2V.shape"
   ]
  },
  {
   "cell_type": "markdown",
   "metadata": {},
   "source": [
    "Пхати продукти моделі word2vec будемо у попередню LSTM-мережу."
   ]
  },
  {
   "cell_type": "code",
   "execution_count": 95,
   "metadata": {},
   "outputs": [],
   "source": [
    "class Word2VecLSTM(nn.Module):\n",
    "    \n",
    "    def __init__(self, embedding_matrix, hidden_size):\n",
    "        super(self.__class__, self).__init__()\n",
    "        self.vocab_size, self.embedding_size = embedding_matrix.shape\n",
    "        \n",
    "        # Вставляємо готовий шар вкладення слів на основі word2vec, який надалі не буде тренуватися\n",
    "        self.embedding = nn.Embedding(self.vocab_size, self.embedding_size)\n",
    "        self.embedding.weight = torch.nn.Parameter(embedding_matrix)\n",
    "        self.embedding.weight.requires_grad = False\n",
    "        \n",
    "        self.hidden_size = hidden_size\n",
    "        \n",
    "        # Інші компоненти LSTM\n",
    "        self.lstm = nn.LSTM(input_size=self.embedding_size, \n",
    "                            hidden_size=self.hidden_size, \n",
    "                            num_layers=1, \n",
    "                            batch_first=True,\n",
    "                            bidirectional=True)\n",
    "        self.linear = nn.Linear(2 * self.hidden_size, 1)      \n",
    "        self.sigmoid = nn.Sigmoid()\n",
    "        \n",
    "    def forward(self, x, sequences_lengths):\n",
    "        # Вкладаємо текст (-ову послідовність) \n",
    "        embedding = self.embedding(x)\n",
    "\n",
    "        pack = torch.nn.utils.rnn.pack_padded_sequence(\n",
    "            embedding, sequences_lengths, \n",
    "            batch_first=True, enforce_sorted=False\n",
    "        )\n",
    "        # Долучаємо рекурентну компоненту        \n",
    "        packed_out, _ = self.lstm(pack)\n",
    "        out, _ = torch.nn.utils.rnn.pad_packed_sequence(\n",
    "            packed_out, batch_first=True\n",
    "        )\n",
    "        out_fwd = out[range(len(out)), sequences_lengths - 1, :self.hidden_size]\n",
    "        out_rev = out[:, 0, self.hidden_size:]\n",
    "        out_red = torch.cat((out_fwd, out_rev), 1)\n",
    "        # Витягуємо з LSTM-компоненти дані у класичний шар мережі\n",
    "        from_linear = self.linear(out_red)\n",
    "        # Прогнозуємо тональність текстів\n",
    "        output = self.sigmoid(from_linear)\n",
    "        return output"
   ]
  },
  {
   "cell_type": "markdown",
   "metadata": {},
   "source": [
    "Спробуємо натренувати модель класифікації на основі існуючого вкладення."
   ]
  },
  {
   "cell_type": "code",
   "execution_count": 96,
   "metadata": {},
   "outputs": [
    {
     "data": {
      "text/plain": [
       "Word2VecLSTM(\n",
       "  (embedding): Embedding(3906, 500)\n",
       "  (lstm): LSTM(500, 100, batch_first=True, bidirectional=True)\n",
       "  (linear): Linear(in_features=200, out_features=1, bias=True)\n",
       "  (sigmoid): Sigmoid()\n",
       ")"
      ]
     },
     "execution_count": 96,
     "metadata": {},
     "output_type": "execute_result"
    }
   ],
   "source": [
    "# Ініціалізація моделі\n",
    "model = Word2VecLSTM(\n",
    "    embedding_matrix=torch.nn.Parameter(torch.from_numpy(E_W2V).float()).to(device), hidden_size=100\n",
    ")\n",
    "model.to(device)"
   ]
  },
  {
   "cell_type": "code",
   "execution_count": 97,
   "metadata": {},
   "outputs": [],
   "source": [
    "epoch_loss_values = []\n",
    "step_loss_values = []"
   ]
  },
  {
   "cell_type": "code",
   "execution_count": 98,
   "metadata": {},
   "outputs": [],
   "source": [
    "# Функція вартості -- \"бінарна ентропія\" \n",
    "loss_function = nn.BCELoss()\n",
    "# Використаємо ADAM в якості оптимізатора\n",
    "optimizer = torch.optim.Adam(model.parameters(), lr=0.005)"
   ]
  },
  {
   "cell_type": "code",
   "execution_count": 99,
   "metadata": {},
   "outputs": [
    {
     "name": "stderr",
     "output_type": "stream",
     "text": [
      "/tmp/ipykernel_3747/1214950564.py:2: SettingWithCopyWarning: \n",
      "A value is trying to be set on a copy of a slice from a DataFrame.\n",
      "Try using .loc[row_indexer,col_indexer] = value instead\n",
      "\n",
      "See the caveats in the documentation: https://pandas.pydata.org/pandas-docs/stable/user_guide/indexing.html#returning-a-view-versus-a-copy\n",
      "  df_test['filtered_w2v'] = df_test['cleaned'].apply(lambda u: sequence_cleaner(u, W2V_IDX.keys()))\n"
     ]
    }
   ],
   "source": [
    "df_train['filtered_w2v'] = df_train['cleaned'].apply(lambda u: sequence_cleaner(u, W2V_IDX.keys()))\n",
    "df_test['filtered_w2v'] = df_test['cleaned'].apply(lambda u: sequence_cleaner(u, W2V_IDX.keys()))"
   ]
  },
  {
   "cell_type": "markdown",
   "metadata": {},
   "source": [
    "Є проблема: деякі речення, на основі словника word2vec, перетворилися на порожні масиви."
   ]
  },
  {
   "cell_type": "code",
   "execution_count": 100,
   "metadata": {},
   "outputs": [
    {
     "data": {
      "text/plain": [
       "594    []\n",
       "903    []\n",
       "Name: filtered_w2v, dtype: object"
      ]
     },
     "execution_count": 100,
     "metadata": {},
     "output_type": "execute_result"
    }
   ],
   "source": [
    "df_train['filtered_w2v'][df_train['filtered_w2v'].apply(lambda u: len(u)) == 0]"
   ]
  },
  {
   "cell_type": "markdown",
   "metadata": {},
   "source": [
    "Тому є сенс вилучити ці два записи."
   ]
  },
  {
   "cell_type": "code",
   "execution_count": 101,
   "metadata": {},
   "outputs": [
    {
     "data": {
      "text/html": [
       "<div>\n",
       "<style scoped>\n",
       "    .dataframe tbody tr th:only-of-type {\n",
       "        vertical-align: middle;\n",
       "    }\n",
       "\n",
       "    .dataframe tbody tr th {\n",
       "        vertical-align: top;\n",
       "    }\n",
       "\n",
       "    .dataframe thead th {\n",
       "        text-align: right;\n",
       "    }\n",
       "</style>\n",
       "<table border=\"1\" class=\"dataframe\">\n",
       "  <thead>\n",
       "    <tr style=\"text-align: right;\">\n",
       "      <th></th>\n",
       "      <th>text</th>\n",
       "      <th>rating</th>\n",
       "      <th>cleaned</th>\n",
       "      <th>filtered</th>\n",
       "      <th>filtered_w2v</th>\n",
       "    </tr>\n",
       "  </thead>\n",
       "  <tbody>\n",
       "    <tr>\n",
       "      <th>0</th>\n",
       "      <td>\\nThe software is terrible, slow and glitchy. I have to start and close it multiple times to get it to find the player. The operators manual is just under 100 pages, so have fun learning the intricacies of the controls. Granted, the hardware is cute and the variety of functions is impressive--assuming you have sufficient spare time to study the manual.\\n</td>\n",
       "      <td>0</td>\n",
       "      <td>[software, terrible, slow, glitchy, start, close, multiple, time, get, find, player, operator, manual, 100, page, fun, learning, intricacy, control, granted, hardware, cute, variety, function, impressive, --, assuming, sufficient, spare, time, study, manual]</td>\n",
       "      <td>[software, terrible, slow, glitchy, start, close, multiple, time, get, find, player, operator, manual, page, fun, learning, control, granted, hardware, cute, variety, function, impressive, assuming, sufficient, spare, time, study, manual]</td>\n",
       "      <td>[software, terrible, slow, start, close, multiple, time, get, find, player, operator, manual, page, fun, learning, control, granted, hardware, cute, variety, function, impressive, assuming, sufficient, spare, time, study, manual]</td>\n",
       "    </tr>\n",
       "    <tr>\n",
       "      <th>1</th>\n",
       "      <td>\\nI had a 1GB Titanium Sandisk Cruzer at work fail.  I tried several times to contact Sandisk, including through the selling vendor with absolutely no response.\\n\\nMy wife's Cruzer just failed as well (the power light comes on, it is recognized by XP, and the light goes out, the system can't ID the device, so it's useless.  It does the same thing on all of the XP systems in our house).  I've tried front side USB connections, rear connections and hub connections.  No dice.  \\n\\nI'll never buy another Sandisk Cruzer.  And I was going to order another 100 for the office.  Their loss\\n</td>\n",
       "      <td>0</td>\n",
       "      <td>[1gb, titanium, sandisk, cruzer, work, fail, tried, several, time, contact, sandisk, including, selling, vendor, absolutely, response, wife, 's, cruzer, failed, well, power, light, come, recognized, xp, light, go, system, ca, n't, id, device, 's, useless, doe, thing, xp, system, house, 've, tried, front, side, usb, connection, rear, connection, hub, connection, dice, 'll, never, buy, another, sandisk, cruzer, wa, going, order, another, 100, office, loss]</td>\n",
       "      <td>[titanium, sandisk, cruzer, work, fail, tried, several, time, contact, sandisk, including, selling, vendor, absolutely, response, wife, cruzer, failed, well, power, light, come, recognized, light, system, n't, device, useless, doe, thing, system, house, tried, front, side, usb, connection, rear, connection, hub, connection, dice, never, buy, another, sandisk, cruzer, going, order, another, office, loss]</td>\n",
       "      <td>[sandisk, work, fail, tried, several, time, contact, sandisk, including, selling, vendor, absolutely, response, wife, failed, well, power, light, come, recognized, light, system, n't, device, useless, doe, thing, system, house, tried, front, side, usb, connection, rear, connection, hub, connection, never, buy, another, sandisk, going, order, another, office, loss]</td>\n",
       "    </tr>\n",
       "    <tr>\n",
       "      <th>2</th>\n",
       "      <td>\\nI ordered this product June 21st and am now told i should receive it by Oct 28th.   I wouldn't waste my time ordering this product from Amazon\\n</td>\n",
       "      <td>0</td>\n",
       "      <td>[ordered, product, june, 21st, told, receive, oct, 28th, would, n't, waste, time, ordering, product, amazon]</td>\n",
       "      <td>[ordered, product, june, told, receive, oct, would, n't, waste, time, ordering, product, amazon]</td>\n",
       "      <td>[ordered, product, june, told, receive, would, n't, waste, time, ordering, product, amazon]</td>\n",
       "    </tr>\n",
       "    <tr>\n",
       "      <th>3</th>\n",
       "      <td>\\nBought these batteries &amp; charger just before going on an overseas trip.  I didn't want to be bothered with frequently changing AA batteries, which seemed to last only a day or so of heavy use.  I was quite pleased with the performance of these rechargeables.  They lasted several days of heavy use before needing to be charged and they re-charged in only a few hours.  A big bonus that I didn't expect:  the recharger is compatible with European 240 voltage so I didn't have to use an electric converter! \\n</td>\n",
       "      <td>1</td>\n",
       "      <td>[bought, battery, charger, going, overseas, trip, n't, want, bothered, frequently, changing, aa, battery, seemed, last, day, heavy, use, wa, quite, pleased, performance, rechargeables, lasted, several, day, heavy, use, needing, charged, re-charged, hour, big, bonus, n't, expect, recharger, compatible, european, 240, voltage, n't, use, electric, converter]</td>\n",
       "      <td>[bought, battery, charger, going, overseas, trip, n't, want, bothered, frequently, changing, battery, seemed, last, day, heavy, use, quite, pleased, performance, rechargeables, lasted, several, day, heavy, use, needing, charged, re-charged, hour, big, bonus, n't, expect, recharger, compatible, european, voltage, n't, use, electric, converter]</td>\n",
       "      <td>[bought, battery, charger, going, overseas, trip, n't, want, bothered, frequently, changing, battery, seemed, last, day, heavy, use, quite, pleased, performance, lasted, several, day, heavy, use, needing, charged, hour, big, bonus, n't, expect, recharger, compatible, voltage, n't, use, converter]</td>\n",
       "    </tr>\n",
       "    <tr>\n",
       "      <th>4</th>\n",
       "      <td>\\nTerrible user interface - you must page through tons of cryptic menus to set basic features.  Pulls multiple papers through, so you must start again.  Is a G3, which you would think would be compatible with earlier non-G3 fax machines - WRONG - so you can't fax to 75% of the community that has a non G3 unit!  I thought I was buying quality from Canon when I paid $250 for this hunk of junk!  The cheap Brother and HP's at my work never have these problems and are easier to use, and much less expensive.  Save your money and save the headaches!  Sorry Canon, this product was a disaster\\n</td>\n",
       "      <td>0</td>\n",
       "      <td>[terrible, user, interface, must, page, ton, cryptic, menu, set, basic, feature, pull, multiple, paper, must, start, g3, would, think, would, compatible, earlier, non-g3, fax, machine, wrong, ca, n't, fax, 75, community, ha, non, g3, unit, thought, wa, buying, quality, canon, paid, 250, hunk, junk, cheap, brother, hp, 's, work, never, problem, easier, use, much, le, expensive, save, money, save, headache, sorry, canon, product, wa, disaster]</td>\n",
       "      <td>[terrible, user, interface, must, page, ton, menu, set, basic, feature, pull, multiple, paper, must, start, would, think, would, compatible, earlier, fax, machine, wrong, n't, fax, non, unit, thought, buying, quality, canon, paid, hunk, junk, cheap, brother, work, never, problem, easier, use, much, expensive, save, money, save, headache, sorry, canon, product, disaster]</td>\n",
       "      <td>[terrible, user, interface, must, page, ton, menu, set, basic, feature, pull, multiple, paper, must, start, would, think, would, compatible, earlier, fax, machine, wrong, n't, fax, non, unit, thought, buying, quality, canon, paid, junk, cheap, brother, work, never, problem, easier, use, much, expensive, save, money, save, headache, sorry, canon, product, disaster]</td>\n",
       "    </tr>\n",
       "    <tr>\n",
       "      <th>...</th>\n",
       "      <td>...</td>\n",
       "      <td>...</td>\n",
       "      <td>...</td>\n",
       "      <td>...</td>\n",
       "      <td>...</td>\n",
       "    </tr>\n",
       "    <tr>\n",
       "      <th>3793</th>\n",
       "      <td>\\nI use only the best products, not refills or other manufactures as I have had problems with print cartridges that have ruined my printers. The HP ink jet cartridges are the best. I will always buy them\\n</td>\n",
       "      <td>1</td>\n",
       "      <td>[use, best, product, refill, manufacture, problem, print, cartridge, ruined, printer, hp, ink, jet, cartridge, best, always, buy]</td>\n",
       "      <td>[use, best, product, refill, manufacture, problem, print, cartridge, ruined, printer, ink, jet, cartridge, best, always, buy]</td>\n",
       "      <td>[use, best, product, manufacture, problem, print, cartridge, ruined, printer, ink, jet, cartridge, best, always, buy]</td>\n",
       "    </tr>\n",
       "    <tr>\n",
       "      <th>3794</th>\n",
       "      <td>\\nDid not do what it says it does.  Only thing this does is remove large scratches.  No matter how many times you put this stuff on the small scratches are still.  Plus it leaves crusty white stuff on the disc and smears.  Not sure if discs are better before or after the application of this stuff.  I guess you get what you pay for.  Wait no you don't.  All I got was a jewel case, two pads, and two tiny packets of solution.  What a rip off.  Didn't even get a manual.  What kind of advertisement is this?  I know, the black market kind\\n</td>\n",
       "      <td>0</td>\n",
       "      <td>[say, doe, thing, doe, remove, large, scratch, matter, many, time, put, stuff, small, scratch, still, plus, leaf, crusty, white, stuff, disc, smear, sure, disc, better, application, stuff, guess, get, pay, wait, n't, got, wa, jewel, case, two, pad, two, tiny, packet, solution, rip, n't, even, get, manual, kind, advertisement, know, black, market, kind]</td>\n",
       "      <td>[say, doe, thing, doe, remove, large, scratch, matter, many, time, put, stuff, small, scratch, still, plus, leaf, white, stuff, disc, smear, sure, disc, better, application, stuff, guess, get, pay, wait, n't, got, jewel, case, two, pad, two, tiny, packet, solution, rip, n't, even, get, manual, kind, advertisement, know, black, market, kind]</td>\n",
       "      <td>[say, doe, thing, doe, remove, large, scratch, matter, many, time, put, stuff, small, scratch, still, plus, leaf, white, stuff, disc, sure, disc, better, application, stuff, guess, get, pay, wait, n't, got, case, two, pad, two, tiny, solution, rip, n't, even, get, manual, kind, advertisement, know, black, market, kind]</td>\n",
       "    </tr>\n",
       "    <tr>\n",
       "      <th>3795</th>\n",
       "      <td>\\nDoesnt work even though the LENMAR website says it does. I thought it was a pretty good deal for $26. I wouldnt even give it one star coz it plain doesnt work\\n</td>\n",
       "      <td>0</td>\n",
       "      <td>[doesnt, work, even, though, lenmar, website, say, doe, thought, wa, pretty, good, deal, 26, wouldnt, even, give, one, star, coz, plain, doesnt, work]</td>\n",
       "      <td>[doesnt, work, even, though, lenmar, website, say, doe, thought, pretty, good, deal, wouldnt, even, give, one, star, coz, plain, doesnt, work]</td>\n",
       "      <td>[doesnt, work, even, though, lenmar, website, say, doe, thought, pretty, good, deal, wouldnt, even, give, one, star, plain, doesnt, work]</td>\n",
       "    </tr>\n",
       "    <tr>\n",
       "      <th>3796</th>\n",
       "      <td>\\nThis is the Worst camera I've ever owned. I'm not exaggerating. I'm so upset for wasting money on it. The only pictures that turn out, are outside in bright daylight. It takes horrible pictures in low light, there's a high level of noise in the photos. The video mode moves in and out on its own, ruining the video. I sometimes get colored lines down the right side of the videos. My friend's $88 dollar digital camera takes way better pictures than this thing. It just plain sucks.\\n</td>\n",
       "      <td>0</td>\n",
       "      <td>[worst, camera, 've, ever, owned, 'm, exaggerating, 'm, upset, wasting, money, picture, turn, outside, bright, daylight, take, horrible, picture, low, light, 's, high, level, noise, photo, video, mode, move, ruining, video, sometimes, get, colored, line, right, side, video, friend, 's, 88, dollar, digital, camera, take, way, better, picture, thing, plain, suck]</td>\n",
       "      <td>[worst, camera, ever, owned, exaggerating, upset, wasting, money, picture, turn, outside, bright, daylight, take, horrible, picture, low, light, high, level, noise, photo, video, mode, move, ruining, video, sometimes, get, colored, line, right, side, video, friend, dollar, digital, camera, take, way, better, picture, thing, plain, suck]</td>\n",
       "      <td>[worst, camera, ever, owned, upset, wasting, money, picture, turn, outside, bright, daylight, take, horrible, picture, low, light, high, level, noise, photo, video, mode, move, ruining, video, sometimes, get, colored, line, right, side, video, friend, dollar, digital, camera, take, way, better, picture, thing, plain, suck]</td>\n",
       "    </tr>\n",
       "    <tr>\n",
       "      <th>3797</th>\n",
       "      <td>\\nDon't order this battery unless you have money to throw away!  I ordered one that would not hold a charge, called the company and they told me it was defective and to send it back.  Did that and got a replacement that proved to be just as bad.  Now after 3 months, it isn't even holding a charge for more that 15 minutes of usage time!!!  This is unacceptable, and again the company is still trying to stand behind their bogus product!  AVOID AT ALL COST, EVEN IF THAT MEANS PAYING THE EXTRA $10 BUCKS FOR AN ORIGINAL KODAK BRANDED BATTERY\\n</td>\n",
       "      <td>0</td>\n",
       "      <td>[n't, order, battery, unless, money, throw, away, ordered, one, would, hold, charge, called, company, told, wa, defective, send, back, got, replacement, proved, bad, 3, month, n't, even, holding, charge, 15, minute, usage, time, unacceptable, company, still, trying, stand, behind, bogus, product, avoid, cost, even, mean, paying, extra, 10, buck, original, kodak, branded, battery]</td>\n",
       "      <td>[n't, order, battery, unless, money, throw, away, ordered, one, would, hold, charge, called, company, told, defective, send, back, got, replacement, proved, bad, month, n't, even, holding, charge, minute, usage, time, unacceptable, company, still, trying, stand, behind, bogus, product, avoid, cost, even, mean, paying, extra, buck, original, kodak, branded, battery]</td>\n",
       "      <td>[n't, order, battery, unless, money, throw, away, ordered, one, would, hold, charge, called, company, told, defective, send, back, got, replacement, proved, bad, month, n't, even, holding, charge, minute, usage, time, unacceptable, company, still, trying, stand, behind, bogus, product, avoid, cost, even, mean, paying, extra, buck, original, kodak, branded, battery]</td>\n",
       "    </tr>\n",
       "  </tbody>\n",
       "</table>\n",
       "<p>3798 rows × 5 columns</p>\n",
       "</div>"
      ],
      "text/plain": [
       "                                                                                                                                                                                                                                                                                                                                                                                                                                                                                                                                                                                                                  text  \\\n",
       "0                                                                                                                                                                                                                                                 \\nThe software is terrible, slow and glitchy. I have to start and close it multiple times to get it to find the player. The operators manual is just under 100 pages, so have fun learning the intricacies of the controls. Granted, the hardware is cute and the variety of functions is impressive--assuming you have sufficient spare time to study the manual.\\n   \n",
       "1         \\nI had a 1GB Titanium Sandisk Cruzer at work fail.  I tried several times to contact Sandisk, including through the selling vendor with absolutely no response.\\n\\nMy wife's Cruzer just failed as well (the power light comes on, it is recognized by XP, and the light goes out, the system can't ID the device, so it's useless.  It does the same thing on all of the XP systems in our house).  I've tried front side USB connections, rear connections and hub connections.  No dice.  \\n\\nI'll never buy another Sandisk Cruzer.  And I was going to order another 100 for the office.  Their loss\\n   \n",
       "2                                                                                                                                                                                                                                                                                                                                                                                                                                                                   \\nI ordered this product June 21st and am now told i should receive it by Oct 28th.   I wouldn't waste my time ordering this product from Amazon\\n   \n",
       "3                                                                                        \\nBought these batteries & charger just before going on an overseas trip.  I didn't want to be bothered with frequently changing AA batteries, which seemed to last only a day or so of heavy use.  I was quite pleased with the performance of these rechargeables.  They lasted several days of heavy use before needing to be charged and they re-charged in only a few hours.  A big bonus that I didn't expect:  the recharger is compatible with European 240 voltage so I didn't have to use an electric converter! \\n   \n",
       "4     \\nTerrible user interface - you must page through tons of cryptic menus to set basic features.  Pulls multiple papers through, so you must start again.  Is a G3, which you would think would be compatible with earlier non-G3 fax machines - WRONG - so you can't fax to 75% of the community that has a non G3 unit!  I thought I was buying quality from Canon when I paid $250 for this hunk of junk!  The cheap Brother and HP's at my work never have these problems and are easier to use, and much less expensive.  Save your money and save the headaches!  Sorry Canon, this product was a disaster\\n   \n",
       "...                                                                                                                                                                                                                                                                                                                                                                                                                                                                                                                                                                                                                ...   \n",
       "3793                                                                                                                                                                                                                                                                                                                                                                                                     \\nI use only the best products, not refills or other manufactures as I have had problems with print cartridges that have ruined my printers. The HP ink jet cartridges are the best. I will always buy them\\n   \n",
       "3794                                                      \\nDid not do what it says it does.  Only thing this does is remove large scratches.  No matter how many times you put this stuff on the small scratches are still.  Plus it leaves crusty white stuff on the disc and smears.  Not sure if discs are better before or after the application of this stuff.  I guess you get what you pay for.  Wait no you don't.  All I got was a jewel case, two pads, and two tiny packets of solution.  What a rip off.  Didn't even get a manual.  What kind of advertisement is this?  I know, the black market kind\\n   \n",
       "3795                                                                                                                                                                                                                                                                                                                                                                                                                                                \\nDoesnt work even though the LENMAR website says it does. I thought it was a pretty good deal for $26. I wouldnt even give it one star coz it plain doesnt work\\n   \n",
       "3796                                                                                                            \\nThis is the Worst camera I've ever owned. I'm not exaggerating. I'm so upset for wasting money on it. The only pictures that turn out, are outside in bright daylight. It takes horrible pictures in low light, there's a high level of noise in the photos. The video mode moves in and out on its own, ruining the video. I sometimes get colored lines down the right side of the videos. My friend's $88 dollar digital camera takes way better pictures than this thing. It just plain sucks.\\n   \n",
       "3797                                                   \\nDon't order this battery unless you have money to throw away!  I ordered one that would not hold a charge, called the company and they told me it was defective and to send it back.  Did that and got a replacement that proved to be just as bad.  Now after 3 months, it isn't even holding a charge for more that 15 minutes of usage time!!!  This is unacceptable, and again the company is still trying to stand behind their bogus product!  AVOID AT ALL COST, EVEN IF THAT MEANS PAYING THE EXTRA $10 BUCKS FOR AN ORIGINAL KODAK BRANDED BATTERY\\n   \n",
       "\n",
       "      rating  \\\n",
       "0          0   \n",
       "1          0   \n",
       "2          0   \n",
       "3          1   \n",
       "4          0   \n",
       "...      ...   \n",
       "3793       1   \n",
       "3794       0   \n",
       "3795       0   \n",
       "3796       0   \n",
       "3797       0   \n",
       "\n",
       "                                                                                                                                                                                                                                                                                                                                                                                                                                                                         cleaned  \\\n",
       "0                                                                                                                                                                                                             [software, terrible, slow, glitchy, start, close, multiple, time, get, find, player, operator, manual, 100, page, fun, learning, intricacy, control, granted, hardware, cute, variety, function, impressive, --, assuming, sufficient, spare, time, study, manual]   \n",
       "1     [1gb, titanium, sandisk, cruzer, work, fail, tried, several, time, contact, sandisk, including, selling, vendor, absolutely, response, wife, 's, cruzer, failed, well, power, light, come, recognized, xp, light, go, system, ca, n't, id, device, 's, useless, doe, thing, xp, system, house, 've, tried, front, side, usb, connection, rear, connection, hub, connection, dice, 'll, never, buy, another, sandisk, cruzer, wa, going, order, another, 100, office, loss]   \n",
       "2                                                                                                                                                                                                                                                                                                                                                                   [ordered, product, june, 21st, told, receive, oct, 28th, would, n't, waste, time, ordering, product, amazon]   \n",
       "3                                                                                                          [bought, battery, charger, going, overseas, trip, n't, want, bothered, frequently, changing, aa, battery, seemed, last, day, heavy, use, wa, quite, pleased, performance, rechargeables, lasted, several, day, heavy, use, needing, charged, re-charged, hour, big, bonus, n't, expect, recharger, compatible, european, 240, voltage, n't, use, electric, converter]   \n",
       "4                  [terrible, user, interface, must, page, ton, cryptic, menu, set, basic, feature, pull, multiple, paper, must, start, g3, would, think, would, compatible, earlier, non-g3, fax, machine, wrong, ca, n't, fax, 75, community, ha, non, g3, unit, thought, wa, buying, quality, canon, paid, 250, hunk, junk, cheap, brother, hp, 's, work, never, problem, easier, use, much, le, expensive, save, money, save, headache, sorry, canon, product, wa, disaster]   \n",
       "...                                                                                                                                                                                                                                                                                                                                                                                                                                                                          ...   \n",
       "3793                                                                                                                                                                                                                                                                                                                                           [use, best, product, refill, manufacture, problem, print, cartridge, ruined, printer, hp, ink, jet, cartridge, best, always, buy]   \n",
       "3794                                                                                                          [say, doe, thing, doe, remove, large, scratch, matter, many, time, put, stuff, small, scratch, still, plus, leaf, crusty, white, stuff, disc, smear, sure, disc, better, application, stuff, guess, get, pay, wait, n't, got, wa, jewel, case, two, pad, two, tiny, packet, solution, rip, n't, even, get, manual, kind, advertisement, know, black, market, kind]   \n",
       "3795                                                                                                                                                                                                                                                                                                                      [doesnt, work, even, though, lenmar, website, say, doe, thought, wa, pretty, good, deal, 26, wouldnt, even, give, one, star, coz, plain, doesnt, work]   \n",
       "3796                                                                                                 [worst, camera, 've, ever, owned, 'm, exaggerating, 'm, upset, wasting, money, picture, turn, outside, bright, daylight, take, horrible, picture, low, light, 's, high, level, noise, photo, video, mode, move, ruining, video, sometimes, get, colored, line, right, side, video, friend, 's, 88, dollar, digital, camera, take, way, better, picture, thing, plain, suck]   \n",
       "3797                                                                              [n't, order, battery, unless, money, throw, away, ordered, one, would, hold, charge, called, company, told, wa, defective, send, back, got, replacement, proved, bad, 3, month, n't, even, holding, charge, 15, minute, usage, time, unacceptable, company, still, trying, stand, behind, bogus, product, avoid, cost, even, mean, paying, extra, 10, buck, original, kodak, branded, battery]   \n",
       "\n",
       "                                                                                                                                                                                                                                                                                                                                                                                                                    filtered  \\\n",
       "0                                                                                                                                                                             [software, terrible, slow, glitchy, start, close, multiple, time, get, find, player, operator, manual, page, fun, learning, control, granted, hardware, cute, variety, function, impressive, assuming, sufficient, spare, time, study, manual]   \n",
       "1     [titanium, sandisk, cruzer, work, fail, tried, several, time, contact, sandisk, including, selling, vendor, absolutely, response, wife, cruzer, failed, well, power, light, come, recognized, light, system, n't, device, useless, doe, thing, system, house, tried, front, side, usb, connection, rear, connection, hub, connection, dice, never, buy, another, sandisk, cruzer, going, order, another, office, loss]   \n",
       "2                                                                                                                                                                                                                                                                                                                           [ordered, product, june, told, receive, oct, would, n't, waste, time, ordering, product, amazon]   \n",
       "3                                                                   [bought, battery, charger, going, overseas, trip, n't, want, bothered, frequently, changing, battery, seemed, last, day, heavy, use, quite, pleased, performance, rechargeables, lasted, several, day, heavy, use, needing, charged, re-charged, hour, big, bonus, n't, expect, recharger, compatible, european, voltage, n't, use, electric, converter]   \n",
       "4                                       [terrible, user, interface, must, page, ton, menu, set, basic, feature, pull, multiple, paper, must, start, would, think, would, compatible, earlier, fax, machine, wrong, n't, fax, non, unit, thought, buying, quality, canon, paid, hunk, junk, cheap, brother, work, never, problem, easier, use, much, expensive, save, money, save, headache, sorry, canon, product, disaster]   \n",
       "...                                                                                                                                                                                                                                                                                                                                                                                                                      ...   \n",
       "3793                                                                                                                                                                                                                                                                                           [use, best, product, refill, manufacture, problem, print, cartridge, ruined, printer, ink, jet, cartridge, best, always, buy]   \n",
       "3794                                                                  [say, doe, thing, doe, remove, large, scratch, matter, many, time, put, stuff, small, scratch, still, plus, leaf, white, stuff, disc, smear, sure, disc, better, application, stuff, guess, get, pay, wait, n't, got, jewel, case, two, pad, two, tiny, packet, solution, rip, n't, even, get, manual, kind, advertisement, know, black, market, kind]   \n",
       "3795                                                                                                                                                                                                                                                                          [doesnt, work, even, though, lenmar, website, say, doe, thought, pretty, good, deal, wouldnt, even, give, one, star, coz, plain, doesnt, work]   \n",
       "3796                                                                      [worst, camera, ever, owned, exaggerating, upset, wasting, money, picture, turn, outside, bright, daylight, take, horrible, picture, low, light, high, level, noise, photo, video, mode, move, ruining, video, sometimes, get, colored, line, right, side, video, friend, dollar, digital, camera, take, way, better, picture, thing, plain, suck]   \n",
       "3797                                         [n't, order, battery, unless, money, throw, away, ordered, one, would, hold, charge, called, company, told, defective, send, back, got, replacement, proved, bad, month, n't, even, holding, charge, minute, usage, time, unacceptable, company, still, trying, stand, behind, bogus, product, avoid, cost, even, mean, paying, extra, buck, original, kodak, branded, battery]   \n",
       "\n",
       "                                                                                                                                                                                                                                                                                                                                                                         filtered_w2v  \n",
       "0                                                                                                                                               [software, terrible, slow, start, close, multiple, time, get, find, player, operator, manual, page, fun, learning, control, granted, hardware, cute, variety, function, impressive, assuming, sufficient, spare, time, study, manual]  \n",
       "1      [sandisk, work, fail, tried, several, time, contact, sandisk, including, selling, vendor, absolutely, response, wife, failed, well, power, light, come, recognized, light, system, n't, device, useless, doe, thing, system, house, tried, front, side, usb, connection, rear, connection, hub, connection, never, buy, another, sandisk, going, order, another, office, loss]  \n",
       "2                                                                                                                                                                                                                                                                                         [ordered, product, june, told, receive, would, n't, waste, time, ordering, product, amazon]  \n",
       "3                                                                           [bought, battery, charger, going, overseas, trip, n't, want, bothered, frequently, changing, battery, seemed, last, day, heavy, use, quite, pleased, performance, lasted, several, day, heavy, use, needing, charged, hour, big, bonus, n't, expect, recharger, compatible, voltage, n't, use, converter]  \n",
       "4      [terrible, user, interface, must, page, ton, menu, set, basic, feature, pull, multiple, paper, must, start, would, think, would, compatible, earlier, fax, machine, wrong, n't, fax, non, unit, thought, buying, quality, canon, paid, junk, cheap, brother, work, never, problem, easier, use, much, expensive, save, money, save, headache, sorry, canon, product, disaster]  \n",
       "...                                                                                                                                                                                                                                                                                                                                                                               ...  \n",
       "3793                                                                                                                                                                                                                                                            [use, best, product, manufacture, problem, print, cartridge, ruined, printer, ink, jet, cartridge, best, always, buy]  \n",
       "3794                                                 [say, doe, thing, doe, remove, large, scratch, matter, many, time, put, stuff, small, scratch, still, plus, leaf, white, stuff, disc, sure, disc, better, application, stuff, guess, get, pay, wait, n't, got, case, two, pad, two, tiny, solution, rip, n't, even, get, manual, kind, advertisement, know, black, market, kind]  \n",
       "3795                                                                                                                                                                                                                                        [doesnt, work, even, though, lenmar, website, say, doe, thought, pretty, good, deal, wouldnt, even, give, one, star, plain, doesnt, work]  \n",
       "3796                                             [worst, camera, ever, owned, upset, wasting, money, picture, turn, outside, bright, daylight, take, horrible, picture, low, light, high, level, noise, photo, video, mode, move, ruining, video, sometimes, get, colored, line, right, side, video, friend, dollar, digital, camera, take, way, better, picture, thing, plain, suck]  \n",
       "3797  [n't, order, battery, unless, money, throw, away, ordered, one, would, hold, charge, called, company, told, defective, send, back, got, replacement, proved, bad, month, n't, even, holding, charge, minute, usage, time, unacceptable, company, still, trying, stand, behind, bogus, product, avoid, cost, even, mean, paying, extra, buck, original, kodak, branded, battery]  \n",
       "\n",
       "[3798 rows x 5 columns]"
      ]
     },
     "execution_count": 101,
     "metadata": {},
     "output_type": "execute_result"
    }
   ],
   "source": [
    "df_train = df_train[df_train['filtered_w2v'].apply(lambda u: len(u)) != 0].reset_index(drop=True)\n",
    "df_train"
   ]
  },
  {
   "cell_type": "code",
   "execution_count": 102,
   "metadata": {},
   "outputs": [
    {
     "data": {
      "text/plain": [
       "Series([], Name: filtered_w2v, dtype: object)"
      ]
     },
     "execution_count": 102,
     "metadata": {},
     "output_type": "execute_result"
    }
   ],
   "source": [
    "df_test['filtered_w2v'][df_test['filtered_w2v'].apply(lambda u: len(u)) == 0]"
   ]
  },
  {
   "cell_type": "code",
   "execution_count": 103,
   "metadata": {
    "scrolled": true
   },
   "outputs": [
    {
     "name": "stdout",
     "output_type": "stream",
     "text": [
      "Кількість ітерацій за одну епоху: 75\n",
      "Епоха  1: сумарні втрати: 0.4859519198929008\n",
      "Епоха  2: сумарні втрати: 0.32407652488664573\n",
      "Епоха  3: сумарні втрати: 0.18914841331149404\n",
      "Епоха  4: сумарні втрати: 0.08672817649417804\n",
      "Епоха  5: сумарні втрати: 0.026132376000628267\n",
      "Епоха  6: сумарні втрати: 0.008433064559204997\n",
      "Епоха  7: сумарні втрати: 0.002279346328577957\n",
      "Епоха  8: сумарні втрати: 0.0011218837228769095\n",
      "Епоха  9: сумарні втрати: 0.0007694643082734395\n",
      "Епоха 10: сумарні втрати: 0.0005768176630035191\n",
      "Епоха 11: сумарні втрати: 0.0004528921522969061\n",
      "Епоха 12: сумарні втрати: 0.0003669640837439435\n",
      "Епоха 13: сумарні втрати: 0.00030365721173247463\n",
      "Епоха 14: сумарні втрати: 0.00025722738562188556\n",
      "Епоха 15: сумарні втрати: 0.00021995157035953052\n",
      "Епоха 16: сумарні втрати: 0.00019082031385072413\n",
      "Епоха 17: сумарні втрати: 0.00016622935685231107\n",
      "Епоха 18: сумарні втрати: 0.00014545686080007155\n",
      "Епоха 19: сумарні втрати: 0.00012869695456174668\n",
      "Епоха 20: сумарні втрати: 0.00011528315663829407\n",
      "Епоха 21: сумарні втрати: 0.00010320890042318128\n",
      "Епоха 22: сумарні втрати: 9.270961288022684e-05\n",
      "Епоха 23: сумарні втрати: 8.371601001942364e-05\n",
      "Епоха 24: сумарні втрати: 7.61436304664561e-05\n",
      "Епоха 25: сумарні втрати: 6.932647949341979e-05\n",
      "Епоха 26: сумарні втрати: 6.334699774494145e-05\n",
      "Епоха 27: сумарні втрати: 5.781995768254428e-05\n",
      "Епоха 28: сумарні втрати: 5.3048618203894506e-05\n",
      "Епоха 29: сумарні втрати: 4.9050382250769814e-05\n",
      "Епоха 30: сумарні втрати: 4.5071388548852776e-05\n",
      "Епоха 31: сумарні втрати: 4.1624192387021854e-05\n",
      "Епоха 32: сумарні втрати: 3.843530765535482e-05\n",
      "Епоха 33: сумарні втрати: 3.5719275741173894e-05\n",
      "Епоха 34: сумарні втрати: 3.323956929977468e-05\n",
      "Епоха 35: сумарні втрати: 3.083025120232426e-05\n",
      "Епоха 36: сумарні втрати: 2.878942752048668e-05\n",
      "Епоха 37: сумарні втрати: 2.6788952194884147e-05\n",
      "Епоха 38: сумарні втрати: 2.510761537690231e-05\n",
      "Епоха 39: сумарні втрати: 2.3381673228964494e-05\n",
      "Епоха 40: сумарні втрати: 2.1999682835963815e-05\n",
      "Епоха 41: сумарні втрати: 2.0686611833298223e-05\n",
      "Епоха 42: сумарні втрати: 1.9286146515409388e-05\n",
      "Епоха 43: сумарні втрати: 1.809131140362297e-05\n",
      "Епоха 44: сумарні втрати: 1.7019423317402752e-05\n",
      "Епоха 45: сумарні втрати: 1.5968248069504246e-05\n",
      "Епоха 46: сумарні втрати: 1.5122848720382441e-05\n",
      "Епоха 47: сумарні втрати: 1.4175081254937768e-05\n",
      "Епоха 48: сумарні втрати: 1.3315818232752609e-05\n",
      "Епоха 49: сумарні втрати: 1.2609958509146007e-05\n",
      "Епоха 50: сумарні втрати: 1.1936244917658197e-05\n"
     ]
    }
   ],
   "source": [
    "batch_size = 50 # => 3800 / 50 = 76 міні-пакетів\n",
    "n_epochs = 50\n",
    "n_train = df_train.shape[0]\n",
    "n_iters = n_train // batch_size\n",
    "print(\"Кількість ітерацій за одну епоху: {}\".format(n_iters))\n",
    "\n",
    "n_tab = str(len(str(n_epochs)))\n",
    "\n",
    "# Аби не ускладнювати код, припустимо, що n_train ділиться на n_iters * batch_size\n",
    "\n",
    "residue = n_train - n_iters * batch_size\n",
    "\n",
    "for epoch in range(n_epochs):\n",
    "    epoch_loss = 0 \n",
    "    \n",
    "    df_train_c = df_train.copy().sample(n_train).reset_index(drop=True)\n",
    "    \n",
    "    for step in range(n_iters):\n",
    "\n",
    "        optimizer.zero_grad()\n",
    "        # Випадковий пакет\n",
    "        #current_batch = df_train.sample(batch_size)\n",
    "        # Детермінований пакет\n",
    "        idx = np.arange(0, batch_size, 1) + batch_size * step\n",
    "        current_batch = df_train_c.iloc[idx]\n",
    "\n",
    "        # Векторизація поточного пакета\n",
    "        batch_idx, seq_lengths = vectorize(current_batch['filtered_w2v'].tolist(), W2V_IDX)\n",
    "        seq_lengths = np.array(seq_lengths)\n",
    "        # Переводимо міні-пакет у тензор\n",
    "        batch_idx = torch.tensor(batch_idx, dtype=torch.int64).to(device)\n",
    "        \n",
    "        # Обираємо справжні рейтинги та переводимо у тензор\n",
    "        y_true = current_batch['rating'].tolist() \n",
    "        y_true = torch.tensor(y_true, dtype=torch.float).to(device)\n",
    "\n",
    "        # Прогноз\n",
    "        y_pred = model(batch_idx, seq_lengths)\n",
    "        \n",
    "        loss = loss_function(y_pred.squeeze(), y_true)\n",
    "        \n",
    "        step_loss_values.append(loss)\n",
    "\n",
    "        epoch_loss += loss.item() / (n_iters + 1)\n",
    "        loss.backward()\n",
    "        optimizer.step()\n",
    "        \n",
    "    if residue > 0:\n",
    "        \n",
    "        optimizer.zero_grad()\n",
    "        \n",
    "        idx = np.arange(batch_size * step, n_train, 1)\n",
    "        current_batch = df_train_c.iloc[idx]\n",
    "\n",
    "        # Векторизація поточного пакета\n",
    "        batch_idx, seq_lengths = vectorize(current_batch['filtered_w2v'].tolist(), W2V_IDX)\n",
    "        seq_lengths = np.array(seq_lengths)\n",
    "        # Переводимо міні-пакет у тензор\n",
    "        batch_idx = torch.tensor(batch_idx, dtype=torch.int64).to(device)\n",
    "        \n",
    "        # Обираємо справжні рейтинги та переводимо у тензор\n",
    "        y_true = current_batch['rating'].tolist() \n",
    "        y_true = torch.tensor(y_true, dtype=torch.float).to(device)\n",
    "\n",
    "        # Прогноз\n",
    "        y_pred = model(batch_idx, seq_lengths)\n",
    "        \n",
    "        loss = loss_function(y_pred.squeeze(), y_true)\n",
    "        \n",
    "        step_loss_values.append(loss)\n",
    "\n",
    "        epoch_loss += loss.item() / (n_iters + 1)\n",
    "        loss.backward()\n",
    "        optimizer.step()        \n",
    "    \n",
    "    epoch_loss_values.append(epoch_loss)\n",
    "            \n",
    "    print(('Епоха {:' + n_tab + '}: сумарні втрати: {}').format(epoch+1, epoch_loss))    "
   ]
  },
  {
   "cell_type": "code",
   "execution_count": 104,
   "metadata": {},
   "outputs": [
    {
     "data": {
      "image/png": "[encoded data removed]",
      "text/plain": [
       "<Figure size 640x480 with 1 Axes>"
      ]
     },
     "metadata": {},
     "output_type": "display_data"
    }
   ],
   "source": [
    "plt.plot(np.arange(1, n_epochs + 1), epoch_loss_values)\n",
    "plt.show()"
   ]
  },
  {
   "cell_type": "code",
   "execution_count": 107,
   "metadata": {},
   "outputs": [
    {
     "data": {
      "image/png": "[encoded data removed]",
      "text/plain": [
       "<Figure size 640x480 with 1 Axes>"
      ]
     },
     "metadata": {},
     "output_type": "display_data"
    }
   ],
   "source": [
    "plt.plot(\n",
    "    np.arange(1, n_epochs * (n_iters + 1) + 1), # TODO: прибрати це позорисько\n",
    "    [v.cpu().detach().numpy() for v in step_loss_values]\n",
    ")\n",
    "plt.show()"
   ]
  },
  {
   "cell_type": "code",
   "execution_count": 108,
   "metadata": {},
   "outputs": [],
   "source": [
    "def make_predictions_w2v(model, df_test, batch_size, threshold, prints_b = True): \n",
    "    global W2V_IDX\n",
    "    \n",
    "    n_prints = 0\n",
    "    predictions = []\n",
    "    true_labels = []\n",
    "    # Розбиття даних на міні-пакети\n",
    "    test_batches = split(df_test, batch_size)\n",
    "    \n",
    "    for batch in test_batches:\n",
    "        # Векторизація міні-пакетів\n",
    "        batch_ix, seq_lengths = vectorize(batch['filtered'].tolist(), W2V_IDX)\n",
    "        seq_lengths = np.array(seq_lengths)\n",
    "        # Перетворення міні-пакетів у тензор \n",
    "        batch_ix = torch.tensor(batch_ix, dtype=torch.int64).to(device)\n",
    "\n",
    "        # Обираємо справжні рейтинги\n",
    "        y_true = batch['rating'].tolist()\n",
    "\n",
    "        # Прогнозування\n",
    "        y_pred = model(batch_ix, seq_lengths).cpu().detach().squeeze().numpy()\n",
    "        # Переводимо \"ймовірності\" у прогнози рейтингів\n",
    "        y_pred = [int(pred.item() > threshold) for pred in y_pred]\n",
    "        \n",
    "        # Додаємо до векторів справжніх значень та прогнозів відповідно\n",
    "        predictions.extend(y_pred)\n",
    "        true_labels.extend(y_true)\n",
    "        \n",
    "        # Щось час від часу виводимо: як вдалий, так і невдалий прогноз \n",
    "        if prints_b:\n",
    "            for true, pred, document in zip(y_true, y_pred, batch['text']):\n",
    "                if true == 1.0 and n_prints < 10:\n",
    "                    print(\"Прогноз: {}\".format(pred))\n",
    "                    print(\"Істина: {}\".format(true))\n",
    "                    print(\"Відгук: {}\".format(document))\n",
    "                    print(\"\\n\" + \"\\=\\=\"*20 + \"\\n\")\n",
    "                    n_prints += 1\n",
    "        \n",
    "    return true_labels, predictions"
   ]
  },
  {
   "cell_type": "code",
   "execution_count": 109,
   "metadata": {},
   "outputs": [
    {
     "name": "stdout",
     "output_type": "stream",
     "text": [
      "Прогноз: 1\n",
      "Істина: 1\n",
      "Відгук: \n",
      "This is original equipment battery charger manufactered by Canon. The performance of the charger is excellent as are most Canon products. The price paid was comparible to non-sale priced items puchased via internet sites. The item was recieved in original packaging, 3 days after placing the order, was new (not reconditioned with a new appearance). I am extremely pleased with the entire purchase process experienced, from the information given at the site to ease of ordering and fast shipping\n",
      "\n",
      "\n",
      "\\=\\=\\=\\=\\=\\=\\=\\=\\=\\=\\=\\=\\=\\=\\=\\=\\=\\=\\=\\=\\=\\=\\=\\=\\=\\=\\=\\=\\=\\=\\=\\=\\=\\=\\=\\=\\=\\=\\=\\=\n",
      "\n",
      "Прогноз: 1\n",
      "Істина: 1\n",
      "Відгук: \n",
      "With most of the carrying case made of either fake leather or some kind of neoprene material, this one is really different.  The rigid structure also seem to do a great job to protect the camera.  There is also a belt loop and D-ring feature which is great.\n",
      "\n",
      "\n",
      "\n",
      "\\=\\=\\=\\=\\=\\=\\=\\=\\=\\=\\=\\=\\=\\=\\=\\=\\=\\=\\=\\=\\=\\=\\=\\=\\=\\=\\=\\=\\=\\=\\=\\=\\=\\=\\=\\=\\=\\=\\=\\=\n",
      "\n",
      "Прогноз: 0\n",
      "Істина: 1\n",
      "Відгук: \n",
      "This mouse has never let me down. Really works on most of the surfaces\n",
      "\n",
      "\n",
      "\\=\\=\\=\\=\\=\\=\\=\\=\\=\\=\\=\\=\\=\\=\\=\\=\\=\\=\\=\\=\\=\\=\\=\\=\\=\\=\\=\\=\\=\\=\\=\\=\\=\\=\\=\\=\\=\\=\\=\\=\n",
      "\n",
      "Прогноз: 1\n",
      "Істина: 1\n",
      "Відгук: \n",
      "I wanted to buy a compact slim d-camera. Those with larger zoom are quite bulky, you can't carry around all the time. I think a slim camera is a better choice. I slip into my pocket while wondering around and come across something nice and take a picture of it. You can't do it with a huge camera. \n",
      "After I made up mind about a slim camera, my choices were either Casio Exilim or Sony DSCW series. Casio Exilims are very sexy. They have a lot of mode scenes. They also function as voice recorder. You can take pictures of book pages etc. They have anti-shake capability which is said to reduce blurred images. I was almost buying a Casio Exilim. Being a diligent person I wanted to search more and more. \n",
      "I found out that the so-called anti-shake feature is a bogus. Many people found it useless. That was a good reason to choose Casio. Then I found the picture quality of Exilim is not really good.I found some pictures taken with Exilim. They were soft, not crisp colors. Search the web reviews made by photo professionals. Casio Exilim is rated significantly less than Sony in picture quality. With ISO 200 noise was still detectable in most reviews . Those same reviewers however found Sony DSCW doing a better job . There was no noise with ISO 400 which means even in lower light condition Sony did a better job (less granularity in pictures with low light). Big difference!.\n",
      "One feature of Sony that made it very attractive was its strong macro. It is 0.74 inch which means you can bring your camera 0.74 inch (2 mm) close to an object (say a bug) and still take a brilliant picture of it. \n",
      "Now comparison of Exilim and Sony to summarize:\n",
      "Casio Exilim\n",
      "Anti-shake (it's a bogus)\n",
      "Slim   \n",
      "Lower macro (2.5 inches)\n",
      "Lower picture quality (detectable noise at ISO 200)\n",
      "A lot of scene modes\n",
      "Quick shutter\n",
      "Sony DSCW Series\n",
      "Slim (in fact it is slimmer)\n",
      "Higher macro (0.74 inches)\n",
      "Higher picture quality (No noise in ISO 400)\n",
      "Not a lot of scene modes\n",
      "Quick shutter\n",
      "So.....I purchased a Sony DSCW 7 Mp. I took lots of pictures.\n",
      "They are all brilliant, detailed and crisp, true colors.\n",
      "I tried macro and took pictures of bugs. You can see the hairs on the legs of bugs. Absolutely no noise whatsoever, no blurry.\n",
      "It's a marvel of technology. I took pictures of fireworks in July 4th using high ISO setting. They came out brialliantly like professional pictures.\n",
      "It also uses a different kind of battery that you can't buy at your grocery which can leave you vulnerable. So you may wanna buy a spare one (about 40 bucks). But you can always recharge it. And it lasts much much longer than AAA or Nimh batteries. \n",
      "It was a perfect choice. I highly recommend it.\n",
      "\n",
      "\n",
      "\\=\\=\\=\\=\\=\\=\\=\\=\\=\\=\\=\\=\\=\\=\\=\\=\\=\\=\\=\\=\\=\\=\\=\\=\\=\\=\\=\\=\\=\\=\\=\\=\\=\\=\\=\\=\\=\\=\\=\\=\n",
      "\n",
      "Прогноз: 1\n",
      "Істина: 1\n",
      "Відгук: \n",
      "Excellent product - very ergonomic, easy to set up and use! Wireless works great.\n",
      "I would recommend this product\n",
      "\n",
      "\n",
      "\\=\\=\\=\\=\\=\\=\\=\\=\\=\\=\\=\\=\\=\\=\\=\\=\\=\\=\\=\\=\\=\\=\\=\\=\\=\\=\\=\\=\\=\\=\\=\\=\\=\\=\\=\\=\\=\\=\\=\\=\n",
      "\n",
      "Прогноз: 1\n",
      "Істина: 1\n",
      "Відгук: \n",
      "I'm not a serious piano player, just casual.  Don't have room for a piano, so this serves my purposes.  I just want to entertain myself.  If I were a professional who played in public, not sure if this would be the ultimate keyboard, because it doesn't have a fullsize keyboard.  But for practicing and casual playing it's great!  It has more features than I will ever use\n",
      "\n",
      "\n",
      "\\=\\=\\=\\=\\=\\=\\=\\=\\=\\=\\=\\=\\=\\=\\=\\=\\=\\=\\=\\=\\=\\=\\=\\=\\=\\=\\=\\=\\=\\=\\=\\=\\=\\=\\=\\=\\=\\=\\=\\=\n",
      "\n",
      "Прогноз: 0\n",
      "Істина: 1\n",
      "Відгук: \n",
      "This cable came in a cheap packing and it does not have any logo on it so you can't say which company it belongs to. I have used a lot of sony products and I feel it is not up to the standard of sony. \n",
      "It works great had no problems so far. It is flexible kinds so you don't have to worry about positioning your laptop according to your TV.\n",
      "\n",
      "\n",
      "\\=\\=\\=\\=\\=\\=\\=\\=\\=\\=\\=\\=\\=\\=\\=\\=\\=\\=\\=\\=\\=\\=\\=\\=\\=\\=\\=\\=\\=\\=\\=\\=\\=\\=\\=\\=\\=\\=\\=\\=\n",
      "\n",
      "Прогноз: 1\n",
      "Істина: 1\n",
      "Відгук: \n",
      "These fit over everything very well, and they stayed put without stretching out, which is why my original pads fell off.  I guess it's one of those products that you can't do much better than $10 for, but maybe they could give you double the number of pads or something..\n",
      "\n",
      "\n",
      "\\=\\=\\=\\=\\=\\=\\=\\=\\=\\=\\=\\=\\=\\=\\=\\=\\=\\=\\=\\=\\=\\=\\=\\=\\=\\=\\=\\=\\=\\=\\=\\=\\=\\=\\=\\=\\=\\=\\=\\=\n",
      "\n",
      "Прогноз: 1\n",
      "Істина: 1\n",
      "Відгук: \n",
      "I have been putting this television through its paces since I got it a few weeks ago, and it is by far the best TV I have ever owned, and very difficult to beat.  The image quality is really good, with bright, vivid colors and wonderful detail, especially for 1080i/p content, but even lower-resolution 720p content, which is what's more commonly-available on OTA HD broadcast, looks phenomenal.  I also have an Apple TV hooked up to it, and even though most of my content is encoded at either 360p, 480p, or 720p, it still looks quite good.\n",
      "\n",
      "It does take some time to get the image tuned to perfection, and the default settings are way too bright with too much color saturation boost, and the DNIe processing system actually seems to make some motion effects worse.  However, it's very easy to change the settings and see immediately what effect they have.\n",
      "\n",
      "Like all LCDs it does have some slight black point problems; these aren't noticeable for fullscreen 16:9 content, but for older 4:3 content it's pretty obvious that the black isn't pure black.  However, this is again tunable.\n",
      "\n",
      "The only thing I really notice which is pretty annoying is that it doesn't do a very good job of upscaling 480i content, such as the output from most video game systems, and for DVDs to look good you really need an upconverting player since even with a progressive-scan player there is a lot of visible pixelation when the 480p content is scaled up.  It's really more a sad reflection on how the previous \"next-generation\" video looks downright primitive by today's standards.\n",
      "\n",
      "The other noticeable issue is that unlike many televisions with digital tuners, it doesn't have an on-screen program guide.  My previous TV (also a Samsung) had an on-screen program guide, but it was rather cumbersome to use and took several minutes of scanning every channel to see what was on, and most local channels are pretty inconsistent about providing the EPG information anyway, so it's not really that big of a deal.  You can still see the detailed information for the program that's currently showing, so it makes use of EPG, just not as much as it could.\n",
      "\n",
      "This television's tuner is also quite phenomenal.  My previous TV required a very carefully-positioned powered antenna which was very sensitive to every little nearby fluctuation, while with this one I only have a piece of wire jammed into the antenna port and I get perfect reception of every local digital station.\n",
      "\n",
      "Another nice improvement over Samsung's older HDTVs is that it has a wide variety of zoom modes which allow you to counteract some of the stupider things that TV stations do (for example, pillboxing a letterboxed 16:9 show, which is very common for widescreen non-HD programming).  Also, analog TV stations and source inputs get their audio signals upconverted to digital, so you only need to run a single optical audio connection to your stereo (while previous Samsungs required running both analog and digital cables and switching between the two inputs based on source material).\n",
      "\n",
      "As a PC monitor this is also quite nice.  I have a Mac mini hooked up via SVGA cable, and even with an analog signal it looks perfectly sharp and crystal-clear, and of course you can hook it up via HDMI (with a DVI to HDMI adaptor) as well.  The only gripe there is that the supported resolutions are a bit quaint - at least on analog SVGA the only 16:9 resolution it supports is 1920x1080, which can be difficult for some older systems to handle.  However, on HDMI it should support all the standard HD resolutions.\n",
      "\n",
      "This television may be more expensive than others in its size class, but it also far outshines every other TV I have seen, aside from the newer LN-T4065, which is nearly identical aside from providing a higher dynamic contrast ratio.  If you want to only buy one TV which will last for a long time, it would be hard to go wrong with this one\n",
      "\n",
      "\n",
      "\\=\\=\\=\\=\\=\\=\\=\\=\\=\\=\\=\\=\\=\\=\\=\\=\\=\\=\\=\\=\\=\\=\\=\\=\\=\\=\\=\\=\\=\\=\\=\\=\\=\\=\\=\\=\\=\\=\\=\\=\n",
      "\n",
      "Прогноз: 0\n",
      "Істина: 1\n",
      "Відгук: \n",
      "I have to say this mouse pad has far exceeded anything I hoped for. When I first opened the box it was shipped in I was very put off. There was a Very, Very strong chemical smell. I chalked it up to something in the packaging material. It turns out that was not where the smell was coming from. It was the mouse pad itself. Having worked in a shoe factory years ago I was able to identify the smell as an industrial glue. The smell hung around for a couple of days. Now, 1 week after having received my purchase if I put my nose close to the pad, it still carries the faint smell of industrial glue. I would caution those with allergies and/or asthma to consider this prior to purchase. As an asthmatic I can say it did affect my breathing some what. That seems to have gotten better as the smelled has lessened. I have finished with my public health warning. On to the mouse pad. \n",
      "     It is simply the best mouse pad I have ever used. I have had wrist problems for over 4 years now. I have had swelling and pain from my right pinkie finger to my elbow as a result of console gaming and lots of keyboarding work. In the past week my swelling has greatly reduced. My pain is almost gone. My wrist sits perfectly on  the wrist rest. The pad actually cradles my wrist. The wrist rest moves with my hand, so well and with so much support, it seems to be an extension of my body. A new improved appendage. I have found myself resting my wrist on the pad even while not computing but just sitting at my desk. It truly is that comfortable. I already have plans to purchase two more for friends as Christmas gifts. Worth Every Cent! Go For It! You Will Not Be Disappointed! \n",
      "\n",
      "\n",
      "\\=\\=\\=\\=\\=\\=\\=\\=\\=\\=\\=\\=\\=\\=\\=\\=\\=\\=\\=\\=\\=\\=\\=\\=\\=\\=\\=\\=\\=\\=\\=\\=\\=\\=\\=\\=\\=\\=\\=\\=\n",
      "\n"
     ]
    }
   ],
   "source": [
    "true_labels, predictions = make_predictions_w2v(model, df_test, batch_size=batch_size, threshold=0.5)"
   ]
  },
  {
   "cell_type": "markdown",
   "metadata": {},
   "source": [
    "Матриця якості класифікації на тестових даних:"
   ]
  },
  {
   "cell_type": "code",
   "execution_count": 110,
   "metadata": {
    "scrolled": true
   },
   "outputs": [
    {
     "name": "stdout",
     "output_type": "stream",
     "text": [
      "              precision    recall  f1-score   support\n",
      "\n",
      "           0       0.82      0.87      0.84       100\n",
      "           1       0.86      0.81      0.84       100\n",
      "\n",
      "    accuracy                           0.84       200\n",
      "   macro avg       0.84      0.84      0.84       200\n",
      "weighted avg       0.84      0.84      0.84       200\n",
      "\n",
      "0.84\n"
     ]
    }
   ],
   "source": [
    "print(classification_report(true_labels, predictions))\n",
    "print(accuracy_score(true_labels, predictions))"
   ]
  },
  {
   "cell_type": "markdown",
   "metadata": {},
   "source": [
    "Результат майже такий самий, який змогли би отримати за допомогою власного вкладення. Хоча можна побачити на покращення деяких з метрик (наприклад, recall-міра)."
   ]
  }
 ],
 "metadata": {
  "kernelspec": {
   "display_name": "Python 3 (ipykernel)",
   "language": "python",
   "name": "python3"
  },
  "language_info": {
   "codemirror_mode": {
    "name": "ipython",
    "version": 3
   },
   "file_extension": ".py",
   "mimetype": "text/x-python",
   "name": "python",
   "nbconvert_exporter": "python",
   "pygments_lexer": "ipython3",
   "version": "3.10.6"
  }
 },
 "nbformat": 4,
 "nbformat_minor": 1
}
